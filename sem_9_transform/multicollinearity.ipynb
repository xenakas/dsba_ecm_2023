{
 "cells": [
  {
   "cell_type": "markdown",
   "id": "f0bbe616-f694-44b3-bbc4-e75d5986285f",
   "metadata": {},
   "source": [
    "## Multicollinearity"
   ]
  },
  {
   "cell_type": "code",
   "execution_count": null,
   "id": "6b410ab6-6d56-4e97-95a7-6798ca560b1e",
   "metadata": {
    "ExecuteTime": {
     "end_time": "2020-10-12T06:44:34.659785Z",
     "start_time": "2020-10-12T06:44:34.643Z"
    }
   },
   "outputs": [],
   "source": [
    "library(tidyverse)\n",
    "library(caret)"
   ]
  },
  {
   "cell_type": "code",
   "execution_count": null,
   "id": "ed44aeff-0477-4994-8838-a1b5cc12d738",
   "metadata": {
    "ExecuteTime": {
     "end_time": "2020-10-12T06:40:09.931908Z",
     "start_time": "2020-10-12T06:40:09.914Z"
    }
   },
   "outputs": [],
   "source": [
    "data(\"Boston\", package = \"MASS\")"
   ]
  },
  {
   "cell_type": "code",
   "execution_count": null,
   "id": "be8eaf93-ac57-4c04-bfe8-0724eac23b4d",
   "metadata": {
    "ExecuteTime": {
     "end_time": "2020-10-12T06:40:32.729514Z",
     "start_time": "2020-10-12T06:40:32.711Z"
    }
   },
   "outputs": [],
   "source": [
    "model1 <- lm(medv ~., data = Boston)"
   ]
  },
  {
   "cell_type": "code",
   "execution_count": null,
   "id": "7f53479f-5a0d-4216-8eb5-58255ef0b361",
   "metadata": {
    "ExecuteTime": {
     "end_time": "2020-10-12T06:42:04.853184Z",
     "start_time": "2020-10-12T06:42:04.791Z"
    }
   },
   "outputs": [],
   "source": [
    "?MASS::Boston"
   ]
  },
  {
   "cell_type": "code",
   "execution_count": null,
   "id": "58c34a3f-4925-4ff4-b6f9-9347196c2a00",
   "metadata": {
    "ExecuteTime": {
     "end_time": "2020-10-12T06:40:46.892683Z",
     "start_time": "2020-10-12T06:40:46.864Z"
    }
   },
   "outputs": [],
   "source": [
    "summary(model1)"
   ]
  },
  {
   "cell_type": "code",
   "execution_count": null,
   "id": "bbd0377a-a07a-44cd-a9ff-df943273afea",
   "metadata": {
    "ExecuteTime": {
     "end_time": "2020-10-12T06:43:25.466967Z",
     "start_time": "2020-10-12T06:43:25.288Z"
    },
    "scrolled": true
   },
   "outputs": [],
   "source": [
    "car::vif(model1)"
   ]
  },
  {
   "cell_type": "code",
   "execution_count": null,
   "id": "f15e9d6d-e82c-4b7b-97eb-b5e3fbf73718",
   "metadata": {
    "ExecuteTime": {
     "end_time": "2020-10-12T06:43:50.584106Z",
     "start_time": "2020-10-12T06:43:50.515Z"
    }
   },
   "outputs": [],
   "source": [
    "model2 <- lm(medv ~. -tax, data = Boston)"
   ]
  },
  {
   "cell_type": "code",
   "execution_count": null,
   "id": "217da619-9137-4a93-9ed5-196ec3155f0e",
   "metadata": {
    "ExecuteTime": {
     "end_time": "2020-10-12T06:44:06.547957Z",
     "start_time": "2020-10-12T06:44:06.504Z"
    }
   },
   "outputs": [],
   "source": [
    "summary(model2)"
   ]
  },
  {
   "cell_type": "markdown",
   "id": "86c00527-bbbb-4ab6-a1e5-24c585e587d2",
   "metadata": {},
   "source": [
    "## Multicollinearity 2"
   ]
  },
  {
   "cell_type": "code",
   "execution_count": null,
   "id": "3081cb18-01bc-4e3b-9077-0bfd0d32cef4",
   "metadata": {
    "ExecuteTime": {
     "end_time": "2020-10-12T06:54:54.345267Z",
     "start_time": "2020-10-12T06:54:38.811Z"
    }
   },
   "outputs": [],
   "source": [
    "# load packages\n",
    "library(MASS)\n",
    "library(mvtnorm)\n",
    "\n",
    "# set number of observations\n",
    "n <- 50\n",
    "\n",
    "# initialize vectors of coefficients\n",
    "coefs1 <- cbind(\"hat_beta_1\" = numeric(10000), \"hat_beta_2\" = numeric(10000))\n",
    "coefs2 <- coefs1\n",
    "\n",
    "# set seed\n",
    "set.seed(1)\n",
    "\n",
    "# loop sampling and estimation\n",
    "for (i in 1:10000) {\n",
    "  \n",
    "  # for cov(X_1,X_2) = 0.25\n",
    "  X <- rmvnorm(n, c(50, 100), sigma = cbind(c(10, 2.5), c(2.5, 10)))\n",
    "  u <- rnorm(n, sd = 5)\n",
    "  Y <- 5 + 2.5 * X[, 1] + 3 * X[, 2] + u\n",
    "  coefs1[i, ] <- lm(Y ~ X[, 1] + X[, 2])$coefficients[-1]\n",
    "  \n",
    "  # for cov(X_1,X_2) = 0.85\n",
    "  X <- rmvnorm(n, c(50, 100), sigma = cbind(c(10, 8.5), c(8.5, 10)))\n",
    "  Y <- 5 + 2.5 * X[, 1] + 3 * X[, 2] + u\n",
    "  coefs2[i, ] <- lm(Y ~ X[, 1] + X[, 2])$coefficients[-1]\n",
    "  \n",
    "}\n",
    "\n",
    "# obtain variance estimates\n",
    "diag(var(coefs1))\n",
    "#> hat_beta_1 hat_beta_2 \n",
    "#> 0.05674375 0.05712459\n",
    "diag(var(coefs2))\n",
    "#> hat_beta_1 hat_beta_2 \n",
    "#>  0.1904949  0.1909056"
   ]
  },
  {
   "cell_type": "code",
   "execution_count": null,
   "id": "1e6fbfd8-94db-462d-8f6f-f707a63e558b",
   "metadata": {},
   "outputs": [],
   "source": []
  }
 ],
 "metadata": {
  "kernelspec": {
   "display_name": "R 4.2",
   "language": "R",
   "name": "ir42"
  },
  "language_info": {
   "codemirror_mode": "r",
   "file_extension": ".r",
   "mimetype": "text/x-r-source",
   "name": "R",
   "pygments_lexer": "r",
   "version": "4.2.2"
  }
 },
 "nbformat": 4,
 "nbformat_minor": 5
}
