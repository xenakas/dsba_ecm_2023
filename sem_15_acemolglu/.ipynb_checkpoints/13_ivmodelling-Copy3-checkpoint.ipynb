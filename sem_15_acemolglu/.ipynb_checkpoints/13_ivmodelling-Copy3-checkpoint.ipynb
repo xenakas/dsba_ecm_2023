{
 "cells": [
  {
   "cell_type": "markdown",
   "metadata": {},
   "source": [
    "### The Colonial Origins of Comparative Development: An Empirical Investigation\n",
    "\n",
    "This problem is based on article by Acemoglu, Daron, Simon Johnson and James\n",
    "A. Robinson. Colonial Origins of Comparative Development: An Empirical Analysis\n",
    "Research, American Economic Review, 2001, vol. 91 (5). At the moment \n",
    "the article has about two thousand citations and\n",
    "ranks 8th in the list of the most cited articles from the top 5 scientific economic journals in the world.\n",
    "\n",
    "The authors test the hypothesis that the quality of institutions is important for ensuring high rates of economic growth. More precisely, countries where property rights are better protected have an advantage in capital accumulation, which ultimately leads to higher long-term GDP per capita.\n",
    "\n",
    "Source data file: ``Acemoglu``.\n",
    "\n",
    "The file contains information about the following variables:\n",
    "\n",
    "``countryn`` - country name, ``shortnam`` - short country code,\n",
    "\n",
    "``lgdp`` - logarithm of GDP per capita in 1995,\n",
    "\n",
    "``logmort`` - logarithm of the mortality rate of colonists (see details in the text of the article)\n",
    "\n",
    "``latitude`` - the latitude at which the capital of a given country is located (measured as a distance from the equator and normalized so as to vary from zero to one)\n",
    "\n",
    "``prot`` - an index of protection of property rights in a given country (the measure is arranged so that higher values correspond to better protection of property rights)\n",
    "\n",
    "``euro`` is the proportion of the population of European descent in a given country as of 1975.\n"
   ]
  },
  {
   "cell_type": "markdown",
   "metadata": {
    "ExecuteTime": {
     "end_time": "2021-01-30T14:11:16.740023Z",
     "start_time": "2021-01-30T14:11:16.704Z"
    }
   },
   "source": [
    "In the task, you are invited to reproduce the main results of the authors of the article, following their logic. \n",
    "\n",
    "(a) Construct a scatter diagram characterizing the dependence of the ``lgdp`` variable on the ``prot`` variable. Estimate the parameters of the corresponding pairwise regression using ordinary OLS. \n",
    "Why the resulting dependence cannot be interpreted as a cause-and-effect relationship? "
   ]
  },
  {
   "cell_type": "markdown",
   "metadata": {},
   "source": [
    "(b) Estimate the new regression including ``latitude`` in the original equation. Based on the authors' logic, explain why latitude might be an important control variable in this case. Interpret your results. Do they confirm that latitude is really an important variable? "
   ]
  },
  {
   "cell_type": "markdown",
   "metadata": {},
   "source": [
    "(c) Before proceeding with 2SLS, estimate the equation of the reduced form: the regression of the ``lgdp`` on the mortality of settlers ``logmort``. Make a scatterplot characterizing this relationship. How can you explain the results obtained? "
   ]
  },
  {
   "cell_type": "markdown",
   "metadata": {},
   "source": [
    "(d) We now turn to assessing the impact of the quality of institutions on the logarithm of GDP using 2SLS. Use the ``logmort`` variable as an instrument. Explain meaningfully why the authors consider this tool valid, and why such an empirical strategy makes it possible to correctly test the presence of a causal relationship between the quality of institutions and GDP. "
   ]
  },
  {
   "cell_type": "markdown",
   "metadata": {},
   "source": [
    "(e) Estimate the regression of the first step of 2SLS. Illustrate the result with a scatter plot. After calculating the appropriate F-statistic, explain whether the instrument used is strong (relevant). "
   ]
  },
  {
   "cell_type": "markdown",
   "metadata": {},
   "source": [
    "(f) Estimate the second step regression. Interpret the results obtained. How has the estimate of the impact of the quality of institutions on GDP changed compared to the estimate obtained with OLS? What does this change say about the cause of the endogeneity of the regressor (which of the causes of endogeneity prevailed in the original model)? "
   ]
  },
  {
   "cell_type": "markdown",
   "metadata": {},
   "source": [
    "(g) Evaluate the alternative specification of 2SLS regression  adding a control variable.  Is the conclusion about the positive impact of the quality of institutions on GDP sustainable? "
   ]
  },
  {
   "cell_type": "markdown",
   "metadata": {},
   "source": [
    "(h) Another way to test the robustness of the results is by analyzing individual subsamples. Construct the regressions from the two previous paragraphs using only data for all countries except African. Then build two similar models using a subsample of African countries only.\n",
    "Compare estimates of the impact of institutional quality on GDP in \n",
    "this subsample with those in the base sample. Is the analyzed effect heterogeneous? What problems with the quality of the models do you see?"
   ]
  },
  {
   "cell_type": "markdown",
   "metadata": {},
   "source": [
    "(i) Suppose a critic asserts the following: “Settler mortality is correlated not only with the quality of institutions, but also with the proportion of the population of European origin in a given country (variable euro). Due to the peculiarities of the colonization process in some countries, the proportion of the European population is much higher than that of the indigenous population and sometimes approaches 100 percent. Moreover, this share itself affects the value of GDP: the more people with European origin in the country, the more GDP, even with the same quality of institutions.\"\n",
    "\n",
    "In other words, the critic argues that the high per capita GDP in former colonies such as the United States, Canada and Australia is primarily due not to the quality of institutions, but to the high proportion of the population of European descent in the total population of these countries.\n",
    "\n",
    "If the critic is right, how does this affect the consistency of the 2SLS  estimates in the regressions constructed above? Explain your answer in detail on an intuitive level.\n",
    "\n",
    "Check the hypothesis formulated by the critic. If the hypothesis is confirmed, suggest an empirical approach that allows you to fix the problem. Implement it and interpret the results. "
   ]
  }
 ],
 "metadata": {
  "hide_input": false,
  "kernelspec": {
   "display_name": "R 4.0.2",
   "language": "R",
   "name": "ir"
  },
  "language_info": {
   "codemirror_mode": "r",
   "file_extension": ".r",
   "mimetype": "text/x-r-source",
   "name": "R",
   "pygments_lexer": "r",
   "version": "4.0.4"
  },
  "latex_envs": {
   "LaTeX_envs_menu_present": true,
   "autoclose": true,
   "autocomplete": true,
   "bibliofile": "biblio.bib",
   "cite_by": "apalike",
   "current_citInitial": 1,
   "eqLabelWithNumbers": true,
   "eqNumInitial": 1,
   "hotkeys": {
    "equation": "Ctrl-E",
    "itemize": "Ctrl-I"
   },
   "labels_anchors": false,
   "latex_user_defs": false,
   "report_style_numbering": false,
   "user_envs_cfg": false
  },
  "toc": {
   "base_numbering": 1,
   "nav_menu": {},
   "number_sections": true,
   "sideBar": true,
   "skip_h1_title": false,
   "title_cell": "Table of Contents",
   "title_sidebar": "Contents",
   "toc_cell": false,
   "toc_position": {},
   "toc_section_display": true,
   "toc_window_display": false
  },
  "varInspector": {
   "cols": {
    "lenName": 16,
    "lenType": 16,
    "lenVar": 40
   },
   "kernels_config": {
    "python": {
     "delete_cmd_postfix": "",
     "delete_cmd_prefix": "del ",
     "library": "var_list.py",
     "varRefreshCmd": "print(var_dic_list())"
    },
    "r": {
     "delete_cmd_postfix": ") ",
     "delete_cmd_prefix": "rm(",
     "library": "var_list.r",
     "varRefreshCmd": "cat(var_dic_list()) "
    }
   },
   "types_to_exclude": [
    "module",
    "function",
    "builtin_function_or_method",
    "instance",
    "_Feature"
   ],
   "window_display": false
  }
 },
 "nbformat": 4,
 "nbformat_minor": 4
}
