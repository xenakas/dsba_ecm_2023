{
 "cells": [
  {
   "cell_type": "markdown",
   "metadata": {},
   "source": [
    "### Task 1"
   ]
  },
  {
   "cell_type": "code",
   "execution_count": 9,
   "metadata": {
    "ExecuteTime": {
     "end_time": "2021-02-01T08:50:27.902039Z",
     "start_time": "2021-02-01T08:50:27.887Z"
    }
   },
   "outputs": [],
   "source": [
    "e <- rnorm(2000,0,1)\n",
    "u <- rnorm(2000,0,1)\n",
    "v <- rnorm(2000,0,1)"
   ]
  },
  {
   "cell_type": "code",
   "execution_count": 8,
   "metadata": {
    "ExecuteTime": {
     "end_time": "2021-02-01T08:49:54.233425Z",
     "start_time": "2021-02-01T08:49:54.095Z"
    }
   },
   "outputs": [
    {
     "data": {
      "image/png": "[encoded data removed]",
      "text/plain": [
       "Plot with title “density.default(x = e)”"
      ]
     },
     "metadata": {
      "image/png": {
       "height": 420,
       "width": 420
      }
     },
     "output_type": "display_data"
    }
   ],
   "source": [
    "plot(density(e))"
   ]
  },
  {
   "cell_type": "markdown",
   "metadata": {},
   "source": [
    "$ x_i = \\epsilon_i + u_i$"
   ]
  },
  {
   "cell_type": "code",
   "execution_count": 15,
   "metadata": {
    "ExecuteTime": {
     "end_time": "2021-02-01T08:52:59.021341Z",
     "start_time": "2021-02-01T08:52:59.007Z"
    }
   },
   "outputs": [],
   "source": [
    "x = e+u"
   ]
  },
  {
   "cell_type": "markdown",
   "metadata": {},
   "source": [
    "$z_i = v_i + u_i$"
   ]
  },
  {
   "cell_type": "code",
   "execution_count": 16,
   "metadata": {
    "ExecuteTime": {
     "end_time": "2021-02-01T08:53:00.420493Z",
     "start_time": "2021-02-01T08:53:00.410Z"
    }
   },
   "outputs": [],
   "source": [
    "z = v+u"
   ]
  },
  {
   "cell_type": "markdown",
   "metadata": {},
   "source": [
    "$y_i = 2+0.4*x_i+\\epsilon_i$"
   ]
  },
  {
   "cell_type": "code",
   "execution_count": 17,
   "metadata": {
    "ExecuteTime": {
     "end_time": "2021-02-01T08:53:00.951883Z",
     "start_time": "2021-02-01T08:53:00.940Z"
    }
   },
   "outputs": [],
   "source": [
    "y = 2+0.4*x+e"
   ]
  },
  {
   "cell_type": "code",
   "execution_count": 18,
   "metadata": {
    "ExecuteTime": {
     "end_time": "2021-02-01T08:53:41.159405Z",
     "start_time": "2021-02-01T08:53:41.140Z"
    }
   },
   "outputs": [
    {
     "data": {
      "text/plain": [
       "\n",
       "Call:\n",
       "lm(formula = y ~ x)\n",
       "\n",
       "Residuals:\n",
       "     Min       1Q   Median       3Q      Max \n",
       "-2.36265 -0.46951  0.00693  0.45128  2.34085 \n",
       "\n",
       "Coefficients:\n",
       "            Estimate Std. Error t value Pr(>|t|)    \n",
       "(Intercept)  1.99238    0.01543  129.12   <2e-16 ***\n",
       "x            0.89696    0.01093   82.08   <2e-16 ***\n",
       "---\n",
       "Signif. codes:  0 ‘***’ 0.001 ‘**’ 0.01 ‘*’ 0.05 ‘.’ 0.1 ‘ ’ 1\n",
       "\n",
       "Residual standard error: 0.6901 on 1998 degrees of freedom\n",
       "Multiple R-squared:  0.7713,\tAdjusted R-squared:  0.7712 \n",
       "F-statistic:  6737 on 1 and 1998 DF,  p-value: < 2.2e-16\n"
      ]
     },
     "metadata": {},
     "output_type": "display_data"
    }
   ],
   "source": [
    "mod0 = lm(y~x)\n",
    "summary(mod0)"
   ]
  },
  {
   "cell_type": "markdown",
   "metadata": {},
   "source": [
    "$H_0: \\hat{b}=0.4$"
   ]
  },
  {
   "cell_type": "code",
   "execution_count": 19,
   "metadata": {
    "ExecuteTime": {
     "end_time": "2021-02-01T08:56:53.554023Z",
     "start_time": "2021-02-01T08:56:53.543Z"
    }
   },
   "outputs": [
    {
     "data": {
      "text/html": [
       "45.4675205855444"
      ],
      "text/latex": [
       "45.4675205855444"
      ],
      "text/markdown": [
       "45.4675205855444"
      ],
      "text/plain": [
       "[1] 45.46752"
      ]
     },
     "metadata": {},
     "output_type": "display_data"
    }
   ],
   "source": [
    "(0.89696-0.4)/0.01093"
   ]
  },
  {
   "cell_type": "code",
   "execution_count": 2,
   "metadata": {
    "ExecuteTime": {
     "end_time": "2021-02-22T15:23:20.341410Z",
     "start_time": "2021-02-22T15:23:20.310Z"
    }
   },
   "outputs": [],
   "source": [
    "library(AER) # ivreg\n",
    "#tsls          "
   ]
  },
  {
   "cell_type": "code",
   "execution_count": 26,
   "metadata": {
    "ExecuteTime": {
     "end_time": "2021-02-01T09:08:53.566552Z",
     "start_time": "2021-02-01T09:08:53.550Z"
    }
   },
   "outputs": [
    {
     "data": {
      "text/plain": [
       "\n",
       "Call:\n",
       "lm(formula = x ~ z)\n",
       "\n",
       "Residuals:\n",
       "    Min      1Q  Median      3Q     Max \n",
       "-4.5802 -0.8146  0.0160  0.8604  4.0445 \n",
       "\n",
       "Coefficients:\n",
       "            Estimate Std. Error t value Pr(>|t|)    \n",
       "(Intercept) 0.001942   0.027509   0.071    0.944    \n",
       "z           0.484063   0.019179  25.239   <2e-16 ***\n",
       "---\n",
       "Signif. codes:  0 ‘***’ 0.001 ‘**’ 0.01 ‘*’ 0.05 ‘.’ 0.1 ‘ ’ 1\n",
       "\n",
       "Residual standard error: 1.23 on 1998 degrees of freedom\n",
       "Multiple R-squared:  0.2418,\tAdjusted R-squared:  0.2414 \n",
       "F-statistic:   637 on 1 and 1998 DF,  p-value: < 2.2e-16\n"
      ]
     },
     "metadata": {},
     "output_type": "display_data"
    }
   ],
   "source": [
    "mod_1step = lm(x~z)\n",
    "summary(mod_1step)"
   ]
  },
  {
   "cell_type": "code",
   "execution_count": 27,
   "metadata": {
    "ExecuteTime": {
     "end_time": "2021-02-01T09:09:39.760570Z",
     "start_time": "2021-02-01T09:09:39.747Z"
    }
   },
   "outputs": [],
   "source": [
    "est_x <- mod_1step$fitted.values"
   ]
  },
  {
   "cell_type": "code",
   "execution_count": 28,
   "metadata": {
    "ExecuteTime": {
     "end_time": "2021-02-01T09:10:13.848360Z",
     "start_time": "2021-02-01T09:10:13.826Z"
    }
   },
   "outputs": [
    {
     "data": {
      "text/plain": [
       "\n",
       "Call:\n",
       "lm(formula = y ~ est_x)\n",
       "\n",
       "Residuals:\n",
       "    Min      1Q  Median      3Q     Max \n",
       "-5.6695 -0.9507 -0.0043  0.9325  5.0132 \n",
       "\n",
       "Coefficients:\n",
       "            Estimate Std. Error t value Pr(>|t|)    \n",
       "(Intercept)  1.99209    0.03170  62.834   <2e-16 ***\n",
       "est_x        0.38557    0.04566   8.444   <2e-16 ***\n",
       "---\n",
       "Signif. codes:  0 ‘***’ 0.001 ‘**’ 0.01 ‘*’ 0.05 ‘.’ 0.1 ‘ ’ 1\n",
       "\n",
       "Residual standard error: 1.418 on 1998 degrees of freedom\n",
       "Multiple R-squared:  0.03445,\tAdjusted R-squared:  0.03397 \n",
       "F-statistic:  71.3 on 1 and 1998 DF,  p-value: < 2.2e-16\n"
      ]
     },
     "metadata": {},
     "output_type": "display_data"
    }
   ],
   "source": [
    "mod_2step = lm(y~est_x)\n",
    "summary(mod_2step)"
   ]
  },
  {
   "cell_type": "code",
   "execution_count": 25,
   "metadata": {
    "ExecuteTime": {
     "end_time": "2021-02-01T09:07:25.822490Z",
     "start_time": "2021-02-01T09:07:25.785Z"
    },
    "scrolled": true
   },
   "outputs": [
    {
     "data": {
      "text/plain": [
       "\n",
       "Call:\n",
       "ivreg(formula = y ~ x | z)\n",
       "\n",
       "Residuals:\n",
       "      Min        1Q    Median        3Q       Max \n",
       "-3.903497 -0.675856  0.007675  0.677265  3.591768 \n",
       "\n",
       "Coefficients:\n",
       "            Estimate Std. Error t value Pr(>|t|)    \n",
       "(Intercept)  1.99209    0.02234   89.17   <2e-16 ***\n",
       "x            0.38557    0.03218   11.98   <2e-16 ***\n",
       "\n",
       "Diagnostic tests:\n",
       "                  df1  df2 statistic p-value    \n",
       "Weak instruments    1 1998       637  <2e-16 ***\n",
       "Wu-Hausman          1 1997      1073  <2e-16 ***\n",
       "Sargan              0   NA        NA      NA    \n",
       "---\n",
       "Signif. codes:  0 ‘***’ 0.001 ‘**’ 0.01 ‘*’ 0.05 ‘.’ 0.1 ‘ ’ 1\n",
       "\n",
       "Residual standard error: 0.9991 on 1998 degrees of freedom\n",
       "Multiple R-Squared: 0.5206,\tAdjusted R-squared: 0.5203 \n",
       "Wald test: 143.6 on 1 and 1998 DF,  p-value: < 2.2e-16 \n"
      ]
     },
     "metadata": {},
     "output_type": "display_data"
    }
   ],
   "source": [
    "mod_iv = ivreg(y~x|z)\n",
    "summary(mod_iv, diagnostics=TRUE)"
   ]
  },
  {
   "cell_type": "markdown",
   "metadata": {},
   "source": [
    "### End\n"
   ]
  },
  {
   "cell_type": "markdown",
   "metadata": {},
   "source": [
    "$y_i = \\alpha + \\beta*x_i + e_i  = 10 + 2*x_i + e_i  $\n",
    "\n",
    "$x_i = e_i - 0.9 * e_{i-1}$"
   ]
  },
  {
   "cell_type": "code",
   "execution_count": 2,
   "metadata": {
    "ExecuteTime": {
     "end_time": "2021-02-22T15:25:31.290146Z",
     "start_time": "2021-02-22T15:25:31.252Z"
    }
   },
   "outputs": [],
   "source": [
    "e_2 = rnorm(n = 101, 0,1)\n",
    "e = e_2[2:101]\n",
    "x = e - 0.9*e_2[1:100] \n",
    "y = 10 + 2 * x + e "
   ]
  },
  {
   "cell_type": "code",
   "execution_count": 3,
   "metadata": {
    "ExecuteTime": {
     "end_time": "2021-02-22T15:25:36.843033Z",
     "start_time": "2021-02-22T15:25:36.822Z"
    }
   },
   "outputs": [
    {
     "data": {
      "text/html": [
       "2.55881249496961"
      ],
      "text/latex": [
       "2.55881249496961"
      ],
      "text/markdown": [
       "2.55881249496961"
      ],
      "text/plain": [
       "[1] 2.558812"
      ]
     },
     "metadata": {},
     "output_type": "display_data"
    }
   ],
   "source": [
    "mod<-lm(y~x)\n",
    "summary(mod)[[4]][2,1]"
   ]
  },
  {
   "cell_type": "code",
   "execution_count": 4,
   "metadata": {
    "ExecuteTime": {
     "end_time": "2021-02-22T15:25:38.793479Z",
     "start_time": "2021-02-22T15:25:38.481Z"
    }
   },
   "outputs": [],
   "source": [
    "betas_1 <- c()\n",
    "for (i in 1:500){\n",
    "    e = rnorm(n = 100, 0,1)\n",
    "    y = 10 + 2 * x + e \n",
    "    mod<-lm(y~x) \n",
    "    betas_1 <- c(betas_1, summary(mod)[[4]][2,1])\n",
    "}"
   ]
  },
  {
   "cell_type": "code",
   "execution_count": 5,
   "metadata": {
    "ExecuteTime": {
     "end_time": "2021-02-22T15:25:40.187929Z",
     "start_time": "2021-02-22T15:25:40.034Z"
    }
   },
   "outputs": [
    {
     "data": {
      "text/html": [
       "1.99792511617338"
      ],
      "text/latex": [
       "1.99792511617338"
      ],
      "text/markdown": [
       "1.99792511617338"
      ],
      "text/plain": [
       "[1] 1.997925"
      ]
     },
     "metadata": {},
     "output_type": "display_data"
    },
    {
     "data": {
      "image/png": "[encoded data removed]",
      "text/plain": [
       "Plot with title “Histogram of betas_1”"
      ]
     },
     "metadata": {
      "image/png": {
       "height": 420,
       "width": 420
      }
     },
     "output_type": "display_data"
    }
   ],
   "source": [
    "hist(betas_1)\n",
    "mean(betas_1)"
   ]
  },
  {
   "cell_type": "code",
   "execution_count": 34,
   "metadata": {
    "ExecuteTime": {
     "end_time": "2021-02-08T14:22:46.560294Z",
     "start_time": "2021-02-08T14:22:46.139Z"
    }
   },
   "outputs": [
    {
     "data": {
      "text/html": [
       "2.55275374070491"
      ],
      "text/latex": [
       "2.55275374070491"
      ],
      "text/markdown": [
       "2.55275374070491"
      ],
      "text/plain": [
       "[1] 2.552754"
      ]
     },
     "metadata": {},
     "output_type": "display_data"
    },
    {
     "data": {
      "image/png": "[encoded data removed]",
      "text/plain": [
       "Plot with title “Histogram of betas_1”"
      ]
     },
     "metadata": {
      "image/png": {
       "height": 420,
       "width": 420
      }
     },
     "output_type": "display_data"
    }
   ],
   "source": [
    "betas_1 <- c()\n",
    "for (i in 1:500){\n",
    "    e_2 = rnorm(n = 101, 0,1)\n",
    "    e = e_2[2:101]\n",
    "    x = e - 0.9*e_2[1:100]\n",
    "    y = 10 + 2 * x + e \n",
    "    mod<-lm(y~x) \n",
    "    betas_1 <- c(betas_1, summary(mod)[[4]][2,1])\n",
    "}\n",
    "\n",
    "hist(betas_1)\n",
    "mean(betas_1)"
   ]
  },
  {
   "cell_type": "code",
   "execution_count": 6,
   "metadata": {
    "ExecuteTime": {
     "end_time": "2021-02-22T15:25:43.972920Z",
     "start_time": "2021-02-22T15:25:43.946Z"
    }
   },
   "outputs": [],
   "source": [
    "mod <- lm(y~x) "
   ]
  },
  {
   "cell_type": "code",
   "execution_count": 20,
   "metadata": {
    "ExecuteTime": {
     "end_time": "2021-02-22T15:28:41.889940Z",
     "start_time": "2021-02-22T15:28:41.849Z"
    }
   },
   "outputs": [],
   "source": [
    "x_plot = seq(min(x),max(x), by =  0.01)\n",
    "y_plot = summary(mod)[[4]][1,1] +  summary(mod)[[4]][2,1] * x_plot"
   ]
  },
  {
   "cell_type": "code",
   "execution_count": 21,
   "metadata": {
    "ExecuteTime": {
     "end_time": "2021-02-22T15:28:43.045084Z",
     "start_time": "2021-02-22T15:28:42.975Z"
    }
   },
   "outputs": [
    {
     "data": {
      "image/png": "[encoded data removed]",
      "text/plain": [
       "plot without title"
      ]
     },
     "metadata": {
      "image/png": {
       "height": 420,
       "width": 420
      }
     },
     "output_type": "display_data"
    }
   ],
   "source": [
    "plot(x,y)\n",
    "lines(x_plot, y_plot, type = 'l')"
   ]
  },
  {
   "cell_type": "markdown",
   "metadata": {},
   "source": [
    "### The Colonial Origins of Comparative Development: An Empirical Investigation\n",
    "\n",
    "This problem is based on article by Acemoglu, Daron, Simon Johnson and James\n",
    "A. Robinson. Colonial Origins of Comparative Development: An Empirical Analysis\n",
    "Research, American Economic Review, 2001, vol. 91 (5). At the moment \n",
    "the article has about two thousand citations and\n",
    "ranks 8th in the list of the most cited articles from the top 5 scientific economic journals in the world.\n",
    "\n",
    "The authors test the hypothesis that the quality of institutions is important for ensuring high rates of economic growth. More precisely, countries where property rights are better protected have an advantage in capital accumulation, which ultimately leads to higher long-term GDP per capita.\n",
    "\n",
    "Source data file: ``Acemoglu``.\n",
    "\n",
    "The file contains information about the following variables:\n",
    "\n",
    "``countryn`` - country name, ``shortnam`` - short country code,\n",
    "\n",
    "``lgdp`` - logarithm of GDP per capita in 1995,\n",
    "\n",
    "``logmort`` - logarithm of the mortality rate of colonists (see details in the text of the article)\n",
    "\n",
    "``latitude`` - the latitude at which the capital of a given country is located (measured as a distance from the equator and normalized so as to vary from zero to one)\n",
    "\n",
    "``prot`` - an index of protection of property rights in a given country (the measure is arranged so that higher values correspond to better protection of property rights)\n",
    "\n",
    "``euro`` is the proportion of the population of European descent in a given country as of 1975.\n"
   ]
  },
  {
   "cell_type": "markdown",
   "metadata": {
    "ExecuteTime": {
     "end_time": "2021-01-30T14:11:16.740023Z",
     "start_time": "2021-01-30T14:11:16.704Z"
    }
   },
   "source": [
    "In the task, you are invited to reproduce the main results of the authors of the article, following their logic. \n",
    "\n",
    "(a) Construct a scatter diagram characterizing the dependence of the ``lgdp`` variable on the ``prot`` variable. Estimate the parameters of the corresponding pairwise regression using ordinary OLS. \n",
    "Why the resulting dependence cannot be interpreted as a cause-and-effect relationship? "
   ]
  },
  {
   "cell_type": "code",
   "execution_count": 1,
   "metadata": {
    "ExecuteTime": {
     "end_time": "2021-02-22T11:55:46.636811Z",
     "start_time": "2021-02-22T11:55:46.618Z"
    }
   },
   "outputs": [],
   "source": [
    "library(foreign)\n",
    "data <- read.dta(\"Acemoglu.dta\")"
   ]
  },
  {
   "cell_type": "code",
   "execution_count": 36,
   "metadata": {
    "ExecuteTime": {
     "end_time": "2021-02-22T15:11:13.606211Z",
     "start_time": "2021-02-22T15:11:13.591Z"
    }
   },
   "outputs": [],
   "source": [
    "# data"
   ]
  },
  {
   "cell_type": "code",
   "execution_count": 5,
   "metadata": {
    "ExecuteTime": {
     "end_time": "2021-02-22T11:57:21.693601Z",
     "start_time": "2021-02-22T11:57:21.678Z"
    }
   },
   "outputs": [],
   "source": [
    "library(ggplot2)"
   ]
  },
  {
   "cell_type": "code",
   "execution_count": 37,
   "metadata": {
    "ExecuteTime": {
     "end_time": "2021-02-22T15:14:28.152515Z",
     "start_time": "2021-02-22T15:14:27.998Z"
    }
   },
   "outputs": [
    {
     "data": {
      "image/png": "[encoded data removed]",
      "text/plain": [
       "plot without title"
      ]
     },
     "metadata": {
      "image/png": {
       "height": 420,
       "width": 420
      }
     },
     "output_type": "display_data"
    }
   ],
   "source": [
    "ggplot(data, aes(x=prot, y=lgdp)) + geom_point() + geom_smooth(method='lm',formula=y~x) + \n",
    "  xlab(\"Index of protection of property rights\") +\n",
    "  ylab(\"Logarithm of GDP\")"
   ]
  },
  {
   "cell_type": "code",
   "execution_count": 10,
   "metadata": {
    "ExecuteTime": {
     "end_time": "2021-02-22T11:59:13.837198Z",
     "start_time": "2021-02-22T11:59:13.807Z"
    }
   },
   "outputs": [
    {
     "data": {
      "text/plain": [
       "\n",
       "Call:\n",
       "lm(formula = lgdp ~ prot, data = data)\n",
       "\n",
       "Residuals:\n",
       "    Min      1Q  Median      3Q     Max \n",
       "-1.8715 -0.4644  0.1683  0.4610  1.1413 \n",
       "\n",
       "Coefficients:\n",
       "            Estimate Std. Error t value Pr(>|t|)    \n",
       "(Intercept)  4.66038    0.40851  11.408  < 2e-16 ***\n",
       "prot         0.52211    0.06119   8.533 4.72e-12 ***\n",
       "---\n",
       "Signif. codes:  0 ‘***’ 0.001 ‘**’ 0.01 ‘*’ 0.05 ‘.’ 0.1 ‘ ’ 1\n",
       "\n",
       "Residual standard error: 0.7132 on 62 degrees of freedom\n",
       "Multiple R-squared:  0.5401,\tAdjusted R-squared:  0.5327 \n",
       "F-statistic: 72.82 on 1 and 62 DF,  p-value: 4.724e-12\n"
      ]
     },
     "metadata": {},
     "output_type": "display_data"
    }
   ],
   "source": [
    "model_a <- lm(data = data, lgdp~prot)\n",
    "summary(model_a)"
   ]
  },
  {
   "cell_type": "markdown",
   "metadata": {},
   "source": [
    "(b) Estimate the new regression including ``latitude`` in the original equation. Based on the authors' logic, explain why latitude might be an important control variable in this case. Interpret your results. Do they confirm that latitude is really an important variable? "
   ]
  },
  {
   "cell_type": "code",
   "execution_count": 23,
   "metadata": {
    "ExecuteTime": {
     "end_time": "2021-02-22T12:16:02.059896Z",
     "start_time": "2021-02-22T12:16:02.037Z"
    }
   },
   "outputs": [
    {
     "data": {
      "text/plain": [
       "\n",
       "Call:\n",
       "lm(formula = lgdp ~ prot + latitude, data = data)\n",
       "\n",
       "Residuals:\n",
       "    Min      1Q  Median      3Q     Max \n",
       "-1.6845 -0.4233  0.1408  0.4584  1.1858 \n",
       "\n",
       "Coefficients:\n",
       "            Estimate Std. Error t value Pr(>|t|)    \n",
       "(Intercept)  4.72808    0.39732  11.900  < 2e-16 ***\n",
       "prot         0.46789    0.06416   7.292 7.29e-10 ***\n",
       "latitude     1.57688    0.71031   2.220   0.0301 *  \n",
       "---\n",
       "Signif. codes:  0 ‘***’ 0.001 ‘**’ 0.01 ‘*’ 0.05 ‘.’ 0.1 ‘ ’ 1\n",
       "\n",
       "Residual standard error: 0.6917 on 61 degrees of freedom\n",
       "Multiple R-squared:  0.5745,\tAdjusted R-squared:  0.5605 \n",
       "F-statistic: 41.18 on 2 and 61 DF,  p-value: 4.805e-12\n"
      ]
     },
     "metadata": {},
     "output_type": "display_data"
    }
   ],
   "source": [
    "model_a <- lm(data = data, lgdp~prot+latitude)\n",
    "summary(model_a)"
   ]
  },
  {
   "cell_type": "markdown",
   "metadata": {},
   "source": [
    "(c) Before proceeding with 2SLS, estimate the equation of the reduced form: the regression of the ``lgdp`` on the mortality of settlers ``logmort``. Make a scatterplot characterizing this relationship. How can you explain the results obtained? "
   ]
  },
  {
   "cell_type": "code",
   "execution_count": 39,
   "metadata": {
    "ExecuteTime": {
     "end_time": "2021-02-22T15:15:52.704983Z",
     "start_time": "2021-02-22T15:15:52.677Z"
    }
   },
   "outputs": [
    {
     "data": {
      "text/plain": [
       "\n",
       "Call:\n",
       "lm(formula = lgdp ~ logmort, data = data)\n",
       "\n",
       "Residuals:\n",
       "    Min      1Q  Median      3Q     Max \n",
       "-2.7419 -0.5325  0.1507  0.4693  1.4110 \n",
       "\n",
       "Coefficients:\n",
       "            Estimate Std. Error t value Pr(>|t|)    \n",
       "(Intercept) 10.70759    0.37481  28.568  < 2e-16 ***\n",
       "logmort     -0.56980    0.07802  -7.304  6.4e-10 ***\n",
       "---\n",
       "Signif. codes:  0 ‘***’ 0.001 ‘**’ 0.01 ‘*’ 0.05 ‘.’ 0.1 ‘ ’ 1\n",
       "\n",
       "Residual standard error: 0.7711 on 62 degrees of freedom\n",
       "Multiple R-squared:  0.4625,\tAdjusted R-squared:  0.4538 \n",
       "F-statistic: 53.34 on 1 and 62 DF,  p-value: 6.403e-10\n"
      ]
     },
     "metadata": {},
     "output_type": "display_data"
    }
   ],
   "source": [
    "model_c <- lm(data=data, lgdp ~ logmort)  \n",
    "summary(model_c) "
   ]
  },
  {
   "cell_type": "code",
   "execution_count": 40,
   "metadata": {
    "ExecuteTime": {
     "end_time": "2021-02-22T15:15:54.277788Z",
     "start_time": "2021-02-22T15:15:54.127Z"
    }
   },
   "outputs": [
    {
     "data": {
      "image/png": "[encoded data removed]",
      "text/plain": [
       "plot without title"
      ]
     },
     "metadata": {
      "image/png": {
       "height": 420,
       "width": 420
      }
     },
     "output_type": "display_data"
    }
   ],
   "source": [
    "ggplot(data, aes(x =logmort, y=lgdp)) + geom_point() + geom_smooth(method='lm',formula=y~x) + xlab(\"Logarithm of mortality\") +\n",
    "  ylab(\"Logarithm of GDP\")"
   ]
  },
  {
   "cell_type": "markdown",
   "metadata": {},
   "source": [
    "(d) We now turn to assessing the impact of the quality of institutions on the logarithm of GDP using 2SLS. Use the ``logmort`` variable as an instrument. Explain meaningfully why the authors consider this tool valid, and why such an empirical strategy makes it possible to correctly test the presence of a causal relationship between the quality of institutions and GDP. "
   ]
  },
  {
   "cell_type": "code",
   "execution_count": 14,
   "metadata": {
    "ExecuteTime": {
     "end_time": "2021-02-22T12:03:36.876576Z",
     "start_time": "2021-02-22T12:03:36.869Z"
    }
   },
   "outputs": [],
   "source": [
    "library(AER)"
   ]
  },
  {
   "cell_type": "code",
   "execution_count": 15,
   "metadata": {
    "ExecuteTime": {
     "end_time": "2021-02-22T12:04:31.418289Z",
     "start_time": "2021-02-22T12:04:31.404Z"
    }
   },
   "outputs": [],
   "source": [
    "tsls_d <- ivreg(lgdp ~ prot|logmort, data=data )"
   ]
  },
  {
   "cell_type": "code",
   "execution_count": 17,
   "metadata": {
    "ExecuteTime": {
     "end_time": "2021-02-22T12:05:04.057262Z",
     "start_time": "2021-02-22T12:05:04.030Z"
    }
   },
   "outputs": [
    {
     "data": {
      "text/plain": [
       "\n",
       "Call:\n",
       "ivreg(formula = lgdp ~ prot | logmort, data = data)\n",
       "\n",
       "Residuals:\n",
       "     Min       1Q   Median       3Q      Max \n",
       "-2.40124 -0.55430  0.07021  0.66539  1.64168 \n",
       "\n",
       "Coefficients:\n",
       "            Estimate Std. Error t value Pr(>|t|)    \n",
       "(Intercept)   2.0869     0.9853   2.118   0.0382 *  \n",
       "prot          0.9171     0.1502   6.106 7.35e-08 ***\n",
       "\n",
       "Diagnostic tests:\n",
       "                 df1 df2 statistic  p-value    \n",
       "Weak instruments   1  62     23.82 7.76e-06 ***\n",
       "Wu-Hausman         1  61     21.23 2.13e-05 ***\n",
       "Sargan             0  NA        NA       NA    \n",
       "---\n",
       "Signif. codes:  0 ‘***’ 0.001 ‘**’ 0.01 ‘*’ 0.05 ‘.’ 0.1 ‘ ’ 1\n",
       "\n",
       "Residual standard error: 0.9223 on 62 degrees of freedom\n",
       "Multiple R-Squared: 0.231,\tAdjusted R-squared: 0.2186 \n",
       "Wald test: 37.29 on 1 and 62 DF,  p-value: 7.354e-08 \n"
      ]
     },
     "metadata": {},
     "output_type": "display_data"
    }
   ],
   "source": [
    "summary(tsls_d, diagnostics=T)"
   ]
  },
  {
   "cell_type": "markdown",
   "metadata": {},
   "source": [
    "(e) Estimate the regression of the first step of 2SLS. Illustrate the result with a scatter plot. After calculating the appropriate F-statistic, explain whether the instrument used is strong (relevant). "
   ]
  },
  {
   "cell_type": "code",
   "execution_count": 18,
   "metadata": {
    "ExecuteTime": {
     "end_time": "2021-02-22T12:09:51.393269Z",
     "start_time": "2021-02-22T12:09:51.384Z"
    }
   },
   "outputs": [],
   "source": [
    "first_step <- lm(prot~logmort, data)"
   ]
  },
  {
   "cell_type": "code",
   "execution_count": 19,
   "metadata": {
    "ExecuteTime": {
     "end_time": "2021-02-22T12:10:04.851340Z",
     "start_time": "2021-02-22T12:10:04.838Z"
    }
   },
   "outputs": [
    {
     "data": {
      "text/plain": [
       "\n",
       "Call:\n",
       "lm(formula = prot ~ logmort, data = data)\n",
       "\n",
       "Residuals:\n",
       "    Min      1Q  Median      3Q     Max \n",
       "-2.6486 -0.9859  0.0358  0.8624  3.4038 \n",
       "\n",
       "Coefficients:\n",
       "            Estimate Std. Error t value Pr(>|t|)    \n",
       "(Intercept)   9.4002     0.6116   15.37  < 2e-16 ***\n",
       "logmort      -0.6213     0.1273   -4.88 7.76e-06 ***\n",
       "---\n",
       "Signif. codes:  0 ‘***’ 0.001 ‘**’ 0.01 ‘*’ 0.05 ‘.’ 0.1 ‘ ’ 1\n",
       "\n",
       "Residual standard error: 1.258 on 62 degrees of freedom\n",
       "Multiple R-squared:  0.2775,\tAdjusted R-squared:  0.2659 \n",
       "F-statistic: 23.82 on 1 and 62 DF,  p-value: 7.756e-06\n"
      ]
     },
     "metadata": {},
     "output_type": "display_data"
    }
   ],
   "source": [
    "summary(first_step)"
   ]
  },
  {
   "cell_type": "code",
   "execution_count": 41,
   "metadata": {
    "ExecuteTime": {
     "end_time": "2021-02-22T15:17:24.479048Z",
     "start_time": "2021-02-22T15:17:24.341Z"
    }
   },
   "outputs": [
    {
     "data": {
      "image/png": "[encoded data removed]",
      "text/plain": [
       "plot without title"
      ]
     },
     "metadata": {
      "image/png": {
       "height": 420,
       "width": 420
      }
     },
     "output_type": "display_data"
    }
   ],
   "source": [
    "ggplot(data, aes(x=logmort, y=prot)) + geom_point() + geom_smooth(method='lm',formula=y~x)  + xlab(\"Logarithm of mortaility\") +\n",
    "  ylab(\"Index of protection of property rights\")"
   ]
  },
  {
   "cell_type": "markdown",
   "metadata": {},
   "source": [
    "(f) Estimate the second step regression. Interpret the results obtained. How has the estimate of the impact of the quality of institutions on GDP changed compared to the estimate obtained with OLS? What does this change say about the cause of the endogeneity of the regressor (which of the causes of endogeneity prevailed in the original model)? "
   ]
  },
  {
   "cell_type": "code",
   "execution_count": 20,
   "metadata": {
    "ExecuteTime": {
     "end_time": "2021-02-22T12:12:26.042003Z",
     "start_time": "2021-02-22T12:12:26.033Z"
    }
   },
   "outputs": [],
   "source": [
    "prot_est <- first_step$fitted.values"
   ]
  },
  {
   "cell_type": "code",
   "execution_count": 21,
   "metadata": {
    "ExecuteTime": {
     "end_time": "2021-02-22T12:12:57.602937Z",
     "start_time": "2021-02-22T12:12:57.590Z"
    }
   },
   "outputs": [],
   "source": [
    "second_step <- lm(lgdp ~ prot_est, data = data )"
   ]
  },
  {
   "cell_type": "code",
   "execution_count": 22,
   "metadata": {
    "ExecuteTime": {
     "end_time": "2021-02-22T12:13:07.849084Z",
     "start_time": "2021-02-22T12:13:07.834Z"
    }
   },
   "outputs": [
    {
     "data": {
      "text/plain": [
       "\n",
       "Call:\n",
       "lm(formula = lgdp ~ prot_est, data = data)\n",
       "\n",
       "Residuals:\n",
       "    Min      1Q  Median      3Q     Max \n",
       "-2.7419 -0.5325  0.1507  0.4693  1.4110 \n",
       "\n",
       "Coefficients:\n",
       "            Estimate Std. Error t value Pr(>|t|)    \n",
       "(Intercept)   2.0869     0.8238   2.533   0.0138 *  \n",
       "prot_est      0.9171     0.1256   7.304  6.4e-10 ***\n",
       "---\n",
       "Signif. codes:  0 ‘***’ 0.001 ‘**’ 0.01 ‘*’ 0.05 ‘.’ 0.1 ‘ ’ 1\n",
       "\n",
       "Residual standard error: 0.7711 on 62 degrees of freedom\n",
       "Multiple R-squared:  0.4625,\tAdjusted R-squared:  0.4538 \n",
       "F-statistic: 53.34 on 1 and 62 DF,  p-value: 6.403e-10\n"
      ]
     },
     "metadata": {},
     "output_type": "display_data"
    }
   ],
   "source": [
    "summary(second_step)"
   ]
  },
  {
   "cell_type": "markdown",
   "metadata": {},
   "source": [
    "(g) Evaluate the alternative specification of 2SLS regression  adding a control variable.  Is the conclusion about the positive impact of the quality of institutions on GDP sustainable? "
   ]
  },
  {
   "cell_type": "code",
   "execution_count": 28,
   "metadata": {
    "ExecuteTime": {
     "end_time": "2021-02-22T12:20:20.598319Z",
     "start_time": "2021-02-22T12:20:20.578Z"
    }
   },
   "outputs": [
    {
     "data": {
      "text/plain": [
       "\n",
       "Call:\n",
       "ivreg(formula = lgdp ~ prot + latitude | logmort + latitude, \n",
       "    data = data)\n",
       "\n",
       "Residuals:\n",
       "     Min       1Q   Median       3Q      Max \n",
       "-2.48058 -0.63059  0.08648  0.71247  1.75669 \n",
       "\n",
       "Coefficients:\n",
       "            Estimate Std. Error t value Pr(>|t|)    \n",
       "(Intercept)   1.9358     1.2115   1.598    0.115    \n",
       "prot          0.9533     0.2076   4.593 2.24e-05 ***\n",
       "latitude     -0.4685     1.2654  -0.370    0.713    \n",
       "\n",
       "Diagnostic tests:\n",
       "                 df1 df2 statistic  p-value    \n",
       "Weak instruments   1  61     13.87 0.000431 ***\n",
       "Wu-Hausman         1  60     16.26 0.000158 ***\n",
       "Sargan             0  NA        NA       NA    \n",
       "---\n",
       "Signif. codes:  0 ‘***’ 0.001 ‘**’ 0.01 ‘*’ 0.05 ‘.’ 0.1 ‘ ’ 1\n",
       "\n",
       "Residual standard error: 0.9629 on 61 degrees of freedom\n",
       "Multiple R-Squared: 0.1753,\tAdjusted R-squared: 0.1483 \n",
       "Wald test: 18.07 on 2 and 61 DF,  p-value: 6.848e-07 \n"
      ]
     },
     "metadata": {},
     "output_type": "display_data"
    }
   ],
   "source": [
    "tsls_g <- ivreg(lgdp ~ prot + latitude|logmort+latitude, data=data )\n",
    "summary(tsls_g, diagnostics=T)"
   ]
  },
  {
   "cell_type": "code",
   "execution_count": 43,
   "metadata": {
    "ExecuteTime": {
     "end_time": "2021-02-22T15:19:10.355539Z",
     "start_time": "2021-02-22T15:19:10.323Z"
    }
   },
   "outputs": [
    {
     "data": {
      "text/plain": [
       "\n",
       "Call:\n",
       "lm(formula = prot ~ logmort + latitude, data = data)\n",
       "\n",
       "Residuals:\n",
       "    Min      1Q  Median      3Q     Max \n",
       "-2.7298 -0.9438  0.0505  0.8323  3.2174 \n",
       "\n",
       "Coefficients:\n",
       "            Estimate Std. Error t value Pr(>|t|)    \n",
       "(Intercept)   8.5964     0.8084  10.634 1.61e-15 ***\n",
       "logmort      -0.5258     0.1412  -3.724 0.000431 ***\n",
       "latitude      1.9893     1.3254   1.501 0.138523    \n",
       "---\n",
       "Signif. codes:  0 ‘***’ 0.001 ‘**’ 0.01 ‘*’ 0.05 ‘.’ 0.1 ‘ ’ 1\n",
       "\n",
       "Residual standard error: 1.246 on 61 degrees of freedom\n",
       "Multiple R-squared:  0.3033,\tAdjusted R-squared:  0.2804 \n",
       "F-statistic: 13.28 on 2 and 61 DF,  p-value: 1.636e-05\n"
      ]
     },
     "metadata": {},
     "output_type": "display_data"
    },
    {
     "data": {
      "text/plain": [
       "\n",
       "Call:\n",
       "lm(formula = lgdp ~ prot_est_g + latitude, data = data)\n",
       "\n",
       "Residuals:\n",
       "    Min      1Q  Median      3Q     Max \n",
       "-2.5153 -0.4707  0.1159  0.4616  1.5857 \n",
       "\n",
       "Coefficients:\n",
       "            Estimate Std. Error t value Pr(>|t|)    \n",
       "(Intercept)   1.9358     0.9539   2.029   0.0468 *  \n",
       "prot_est_g    0.9533     0.1634   5.833 2.23e-07 ***\n",
       "latitude     -0.4685     0.9963  -0.470   0.6399    \n",
       "---\n",
       "Signif. codes:  0 ‘***’ 0.001 ‘**’ 0.01 ‘*’ 0.05 ‘.’ 0.1 ‘ ’ 1\n",
       "\n",
       "Residual standard error: 0.7582 on 61 degrees of freedom\n",
       "Multiple R-squared:  0.4887,\tAdjusted R-squared:  0.472 \n",
       "F-statistic: 29.16 on 2 and 61 DF,  p-value: 1.299e-09\n"
      ]
     },
     "metadata": {},
     "output_type": "display_data"
    }
   ],
   "source": [
    "first_step <- lm(prot ~ logmort + latitude , data=data)\n",
    "summary(first_step)\n",
    "\n",
    "prot_est_g <- first_step$fitted.values\n",
    "\n",
    "second_step <- lm(lgdp ~ prot_est_g + latitude , data=data)\n",
    "summary(second_step)"
   ]
  },
  {
   "cell_type": "markdown",
   "metadata": {},
   "source": [
    "(h) Another way to test the robustness of the results is by analyzing individual subsamples. Construct the regressions from the two previous paragraphs using only data for all countries except African. Then build two similar models using a subsample of African countries only.\n",
    "Compare estimates of the impact of institutional quality on GDP in \n",
    "this subsample with those in the base sample. Is the analyzed effect heterogeneous? What problems with the quality of the models do you see?"
   ]
  },
  {
   "cell_type": "code",
   "execution_count": 31,
   "metadata": {
    "ExecuteTime": {
     "end_time": "2021-02-22T12:22:44.083612Z",
     "start_time": "2021-02-22T12:22:44.069Z"
    }
   },
   "outputs": [],
   "source": [
    "newdata <- subset(data, africa==0)"
   ]
  },
  {
   "cell_type": "code",
   "execution_count": 34,
   "metadata": {
    "ExecuteTime": {
     "end_time": "2021-02-22T12:23:31.742298Z",
     "start_time": "2021-02-22T12:23:31.720Z"
    }
   },
   "outputs": [
    {
     "data": {
      "text/plain": [
       "\n",
       "Call:\n",
       "ivreg(formula = lgdp ~ prot | logmort, data = newdata)\n",
       "\n",
       "Residuals:\n",
       "     Min       1Q   Median       3Q      Max \n",
       "-2.00805 -0.31733  0.05546  0.39714  0.88755 \n",
       "\n",
       "Coefficients:\n",
       "            Estimate Std. Error t value Pr(>|t|)    \n",
       "(Intercept)  4.56196    0.69211   6.591 1.30e-07 ***\n",
       "prot         0.57685    0.09813   5.878 1.12e-06 ***\n",
       "\n",
       "Diagnostic tests:\n",
       "                 df1 df2 statistic  p-value    \n",
       "Weak instruments   1  35    30.451 3.33e-06 ***\n",
       "Wu-Hausman         1  34     1.882    0.179    \n",
       "Sargan             0  NA        NA       NA    \n",
       "---\n",
       "Signif. codes:  0 ‘***’ 0.001 ‘**’ 0.01 ‘*’ 0.05 ‘.’ 0.1 ‘ ’ 1\n",
       "\n",
       "Residual standard error: 0.5912 on 35 degrees of freedom\n",
       "Multiple R-Squared: 0.588,\tAdjusted R-squared: 0.5762 \n",
       "Wald test: 34.55 on 1 and 35 DF,  p-value: 1.118e-06 \n"
      ]
     },
     "metadata": {},
     "output_type": "display_data"
    }
   ],
   "source": [
    "tsls_h <- ivreg(lgdp ~ prot|logmort, data=newdata )\n",
    "summary(tsls_h, diagnostics=T)"
   ]
  },
  {
   "cell_type": "code",
   "execution_count": 35,
   "metadata": {
    "ExecuteTime": {
     "end_time": "2021-02-22T12:23:34.832136Z",
     "start_time": "2021-02-22T12:23:34.811Z"
    }
   },
   "outputs": [
    {
     "data": {
      "text/plain": [
       "\n",
       "Call:\n",
       "ivreg(formula = lgdp ~ prot + latitude | logmort + latitude, \n",
       "    data = newdata)\n",
       "\n",
       "Residuals:\n",
       "     Min       1Q   Median       3Q      Max \n",
       "-2.00518 -0.31406  0.05474  0.39823  0.87851 \n",
       "\n",
       "Coefficients:\n",
       "            Estimate Std. Error t value Pr(>|t|)    \n",
       "(Intercept)  4.57147    0.74565   6.131 5.83e-07 ***\n",
       "prot         0.57417    0.11726   4.896 2.34e-05 ***\n",
       "latitude     0.04407    0.83462   0.053    0.958    \n",
       "\n",
       "Diagnostic tests:\n",
       "                 df1 df2 statistic  p-value    \n",
       "Weak instruments   1  34    21.571 4.94e-05 ***\n",
       "Wu-Hausman         1  33     1.515    0.227    \n",
       "Sargan             0  NA        NA       NA    \n",
       "---\n",
       "Signif. codes:  0 ‘***’ 0.001 ‘**’ 0.01 ‘*’ 0.05 ‘.’ 0.1 ‘ ’ 1\n",
       "\n",
       "Residual standard error: 0.5989 on 34 degrees of freedom\n",
       "Multiple R-Squared: 0.5894,\tAdjusted R-squared: 0.5652 \n",
       "Wald test: 17.16 on 2 and 34 DF,  p-value: 7.042e-06 \n"
      ]
     },
     "metadata": {},
     "output_type": "display_data"
    }
   ],
   "source": [
    "tsls_i <- ivreg(lgdp ~ prot + latitude|logmort+latitude, data=newdata )\n",
    "summary(tsls_i, diagnostics=T)"
   ]
  },
  {
   "cell_type": "markdown",
   "metadata": {},
   "source": [
    "(i) Suppose a critic asserts the following: “Settler mortality is correlated not only with the quality of institutions, but also with the proportion of the population of European origin in a given country (variable euro). Due to the peculiarities of the colonization process in some countries, the proportion of the European population is much higher than that of the indigenous population and sometimes approaches 100 percent. Moreover, this share itself affects the value of GDP: the more people with European origin in the country, the more GDP, even with the same quality of institutions.\"\n",
    "\n",
    "In other words, the critic argues that the high per capita GDP in former colonies such as the United States, Canada and Australia is primarily due not to the quality of institutions, but to the high proportion of the population of European descent in the total population of these countries.\n",
    "\n",
    "If the critic is right, how does this affect the consistency of the 2SLS  estimates in the regressions constructed above? Explain your answer in detail on an intuitive level.\n",
    "\n",
    "Check the hypothesis formulated by the critic. If the hypothesis is confirmed, suggest an empirical approach that allows you to fix the problem. Implement it and interpret the results. "
   ]
  },
  {
   "cell_type": "code",
   "execution_count": 44,
   "metadata": {
    "ExecuteTime": {
     "end_time": "2021-02-22T15:20:14.434167Z",
     "start_time": "2021-02-22T15:20:14.409Z"
    }
   },
   "outputs": [
    {
     "data": {
      "text/plain": [
       "\n",
       "Call:\n",
       "ivreg(formula = lgdp ~ prot + euro | logmort + euro, data = data)\n",
       "\n",
       "Residuals:\n",
       "     Min       1Q   Median       3Q      Max \n",
       "-2.36897 -0.54001  0.06389  0.64997  1.61875 \n",
       "\n",
       "Coefficients:\n",
       "             Estimate Std. Error t value Pr(>|t|)    \n",
       "(Intercept) 2.1550837  1.5465947   1.393 0.168544    \n",
       "prot        0.9049351  0.2539609   3.563 0.000718 ***\n",
       "euro        0.0006053  0.0074203   0.082 0.935256    \n",
       "---\n",
       "Signif. codes:  0 ‘***’ 0.001 ‘**’ 0.01 ‘*’ 0.05 ‘.’ 0.1 ‘ ’ 1\n",
       "\n",
       "Residual standard error: 0.9183 on 61 degrees of freedom\n",
       "Multiple R-Squared:  0.25,\tAdjusted R-squared: 0.2254 \n",
       "Wald test: 23.83 on 2 and 61 DF,  p-value: 2.253e-08 \n"
      ]
     },
     "metadata": {},
     "output_type": "display_data"
    },
    {
     "data": {
      "text/plain": [
       "\n",
       "Call:\n",
       "ivreg(formula = lgdp ~ prot + euro + latitude | logmort + euro + \n",
       "    latitude, data = data)\n",
       "\n",
       "Residuals:\n",
       "     Min       1Q   Median       3Q      Max \n",
       "-2.41702 -0.59832  0.08777  0.67622  1.72700 \n",
       "\n",
       "Coefficients:\n",
       "             Estimate Std. Error t value Pr(>|t|)   \n",
       "(Intercept)  2.074465   1.623666   1.278  0.20630   \n",
       "prot         0.931047   0.273167   3.408  0.00117 **\n",
       "euro         0.001584   0.007742   0.205  0.83858   \n",
       "latitude    -0.591921   1.195213  -0.495  0.62224   \n",
       "---\n",
       "Signif. codes:  0 ‘***’ 0.001 ‘**’ 0.01 ‘*’ 0.05 ‘.’ 0.1 ‘ ’ 1\n",
       "\n",
       "Residual standard error: 0.9489 on 60 degrees of freedom\n",
       "Multiple R-Squared: 0.2123,\tAdjusted R-squared: 0.1729 \n",
       "Wald test: 14.88 on 3 and 60 DF,  p-value: 2.362e-07 \n"
      ]
     },
     "metadata": {},
     "output_type": "display_data"
    }
   ],
   "source": [
    "tsls_j <- ivreg(lgdp ~ prot + euro | logmort + euro , data=data )\n",
    "summary(tsls_j)\n",
    "\n",
    "tsls_k <- ivreg(lgdp ~ prot + euro + latitude | logmort + euro + latitude , data=data )\n",
    "summary(tsls_k)"
   ]
  },
  {
   "cell_type": "code",
   "execution_count": null,
   "metadata": {},
   "outputs": [],
   "source": []
  }
 ],
 "metadata": {
  "hide_input": false,
  "kernelspec": {
   "display_name": "R 4.0.2",
   "language": "R",
   "name": "ir"
  },
  "language_info": {
   "codemirror_mode": "r",
   "file_extension": ".r",
   "mimetype": "text/x-r-source",
   "name": "R",
   "pygments_lexer": "r",
   "version": "4.0.4"
  },
  "latex_envs": {
   "LaTeX_envs_menu_present": true,
   "autoclose": true,
   "autocomplete": true,
   "bibliofile": "biblio.bib",
   "cite_by": "apalike",
   "current_citInitial": 1,
   "eqLabelWithNumbers": true,
   "eqNumInitial": 1,
   "hotkeys": {
    "equation": "Ctrl-E",
    "itemize": "Ctrl-I"
   },
   "labels_anchors": false,
   "latex_user_defs": false,
   "report_style_numbering": false,
   "user_envs_cfg": false
  },
  "toc": {
   "base_numbering": 1,
   "nav_menu": {},
   "number_sections": true,
   "sideBar": true,
   "skip_h1_title": false,
   "title_cell": "Table of Contents",
   "title_sidebar": "Contents",
   "toc_cell": false,
   "toc_position": {},
   "toc_section_display": true,
   "toc_window_display": false
  },
  "varInspector": {
   "cols": {
    "lenName": 16,
    "lenType": 16,
    "lenVar": 40
   },
   "kernels_config": {
    "python": {
     "delete_cmd_postfix": "",
     "delete_cmd_prefix": "del ",
     "library": "var_list.py",
     "varRefreshCmd": "print(var_dic_list())"
    },
    "r": {
     "delete_cmd_postfix": ") ",
     "delete_cmd_prefix": "rm(",
     "library": "var_list.r",
     "varRefreshCmd": "cat(var_dic_list()) "
    }
   },
   "types_to_exclude": [
    "module",
    "function",
    "builtin_function_or_method",
    "instance",
    "_Feature"
   ],
   "window_display": false
  }
 },
 "nbformat": 4,
 "nbformat_minor": 4
}
