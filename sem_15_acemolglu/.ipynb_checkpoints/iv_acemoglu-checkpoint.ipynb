{
 "cells": [
  {
   "cell_type": "markdown",
   "metadata": {},
   "source": [
    "### End\n"
   ]
  },
  {
   "cell_type": "markdown",
   "metadata": {},
   "source": [
    "$y_i = \\alpha + \\beta*x_i + e_i  = 10 + 2*x_i + e_i  $\n",
    "\n",
    "$x_i = e_i - 0.9 * e_{i-1}$"
   ]
  },
  {
   "cell_type": "code",
   "execution_count": null,
   "metadata": {
    "ExecuteTime": {
     "end_time": "2022-12-15T09:33:24.697963Z",
     "start_time": "2022-12-15T09:33:24.687Z"
    }
   },
   "outputs": [],
   "source": [
    "e_2 = rnorm(n = 101, 0,1)\n",
    "e = e_2[2:101]\n",
    "x = e - 0.9*e_2[1:100] \n",
    "y = 10 + 2 * x + e "
   ]
  },
  {
   "cell_type": "code",
   "execution_count": null,
   "metadata": {
    "ExecuteTime": {
     "end_time": "2022-12-15T09:33:24.901261Z",
     "start_time": "2022-12-15T09:33:24.889Z"
    }
   },
   "outputs": [],
   "source": [
    "mod<-lm(y~x)\n",
    "summary(mod)[[4]][2,1]"
   ]
  },
  {
   "cell_type": "code",
   "execution_count": null,
   "metadata": {
    "ExecuteTime": {
     "end_time": "2022-12-15T09:33:25.424350Z",
     "start_time": "2022-12-15T09:33:25.084Z"
    }
   },
   "outputs": [],
   "source": [
    "betas_1 <- c()\n",
    "for (i in 1:500){\n",
    "    e = rnorm(n = 100, 0,1)\n",
    "    y = 10 + 2 * x + e \n",
    "    mod<-lm(y~x) \n",
    "    betas_1 <- c(betas_1, summary(mod)[[4]][2,1])\n",
    "}"
   ]
  },
  {
   "cell_type": "code",
   "execution_count": null,
   "metadata": {
    "ExecuteTime": {
     "end_time": "2022-12-15T09:33:25.774666Z",
     "start_time": "2022-12-15T09:33:25.315Z"
    }
   },
   "outputs": [],
   "source": [
    "hist(betas_1)\n",
    "mean(betas_1)"
   ]
  },
  {
   "cell_type": "code",
   "execution_count": null,
   "metadata": {
    "ExecuteTime": {
     "end_time": "2022-12-15T09:33:26.318069Z",
     "start_time": "2022-12-15T09:33:25.615Z"
    }
   },
   "outputs": [],
   "source": [
    "betas_1 <- c()\n",
    "for (i in 1:500){\n",
    "    e_2 = rnorm(n = 101, 0,1)\n",
    "    e = e_2[2:101]\n",
    "    x = e - 0.9*e_2[1:100]\n",
    "    y = 10 + 2 * x + e \n",
    "    mod<-lm(y~x) \n",
    "    betas_1 <- c(betas_1, summary(mod)[[4]][2,1])\n",
    "}\n",
    "\n",
    "hist(betas_1)\n",
    "mean(betas_1)"
   ]
  },
  {
   "cell_type": "code",
   "execution_count": null,
   "metadata": {
    "ExecuteTime": {
     "end_time": "2022-12-15T09:33:26.525308Z",
     "start_time": "2022-12-15T09:33:25.940Z"
    }
   },
   "outputs": [],
   "source": [
    "mod <- lm(y~x) "
   ]
  },
  {
   "cell_type": "code",
   "execution_count": null,
   "metadata": {
    "ExecuteTime": {
     "end_time": "2022-12-15T09:33:26.737965Z",
     "start_time": "2022-12-15T09:33:26.241Z"
    }
   },
   "outputs": [],
   "source": [
    "x_plot = seq(min(x),max(x), by =  0.01)\n",
    "y_plot = summary(mod)[[4]][1,1] +  summary(mod)[[4]][2,1] * x_plot"
   ]
  },
  {
   "cell_type": "code",
   "execution_count": null,
   "metadata": {
    "ExecuteTime": {
     "end_time": "2022-12-15T09:33:27.007004Z",
     "start_time": "2022-12-15T09:33:26.550Z"
    },
    "scrolled": false
   },
   "outputs": [],
   "source": [
    "plot(x,y)\n",
    "lines(x_plot, y_plot, type = 'l')"
   ]
  },
  {
   "cell_type": "markdown",
   "metadata": {},
   "source": [
    "### Ivreg"
   ]
  },
  {
   "cell_type": "code",
   "execution_count": null,
   "metadata": {
    "ExecuteTime": {
     "end_time": "2022-12-15T09:33:27.224400Z",
     "start_time": "2022-12-15T09:33:27.207Z"
    }
   },
   "outputs": [],
   "source": [
    "e <- rnorm(2000,0,1)\n",
    "u <- rnorm(2000,0,1)\n",
    "v <- rnorm(2000,0,1)"
   ]
  },
  {
   "cell_type": "code",
   "execution_count": null,
   "metadata": {
    "ExecuteTime": {
     "end_time": "2022-12-15T09:33:27.686473Z",
     "start_time": "2022-12-15T09:33:27.619Z"
    }
   },
   "outputs": [],
   "source": [
    "plot(density(e))"
   ]
  },
  {
   "cell_type": "markdown",
   "metadata": {},
   "source": [
    "$ x_i = \\epsilon_i + u_i$"
   ]
  },
  {
   "cell_type": "code",
   "execution_count": null,
   "metadata": {
    "ExecuteTime": {
     "end_time": "2022-12-15T09:33:28.302345Z",
     "start_time": "2022-12-15T09:33:28.295Z"
    }
   },
   "outputs": [],
   "source": [
    "x = e+u"
   ]
  },
  {
   "cell_type": "markdown",
   "metadata": {},
   "source": [
    "$z_i = v_i + u_i$"
   ]
  },
  {
   "cell_type": "code",
   "execution_count": null,
   "metadata": {
    "ExecuteTime": {
     "end_time": "2022-12-15T09:33:29.173177Z",
     "start_time": "2022-12-15T09:33:29.165Z"
    }
   },
   "outputs": [],
   "source": [
    "z = v+u"
   ]
  },
  {
   "cell_type": "markdown",
   "metadata": {},
   "source": [
    "$y_i = 2+0.4*x_i+\\epsilon_i$"
   ]
  },
  {
   "cell_type": "code",
   "execution_count": null,
   "metadata": {
    "ExecuteTime": {
     "end_time": "2022-12-15T09:33:30.105301Z",
     "start_time": "2022-12-15T09:33:30.097Z"
    }
   },
   "outputs": [],
   "source": [
    "y = 2+0.4*x+e"
   ]
  },
  {
   "cell_type": "code",
   "execution_count": null,
   "metadata": {
    "ExecuteTime": {
     "end_time": "2022-12-15T09:33:30.800095Z",
     "start_time": "2022-12-15T09:33:30.786Z"
    }
   },
   "outputs": [],
   "source": [
    "mod0 = lm(y~x)\n",
    "summary(mod0)"
   ]
  },
  {
   "cell_type": "markdown",
   "metadata": {},
   "source": [
    "$H_0: \\hat{b}=0.4$"
   ]
  },
  {
   "cell_type": "code",
   "execution_count": null,
   "metadata": {
    "ExecuteTime": {
     "end_time": "2022-12-15T09:33:32.074925Z",
     "start_time": "2022-12-15T09:33:32.065Z"
    }
   },
   "outputs": [],
   "source": [
    "(0.89696-0.4)/0.01093"
   ]
  },
  {
   "cell_type": "code",
   "execution_count": null,
   "metadata": {
    "ExecuteTime": {
     "end_time": "2022-12-15T09:33:32.685991Z",
     "start_time": "2022-12-15T09:33:32.675Z"
    }
   },
   "outputs": [],
   "source": [
    "library(AER) # ivreg\n",
    "#tsls          "
   ]
  },
  {
   "cell_type": "code",
   "execution_count": null,
   "metadata": {
    "ExecuteTime": {
     "end_time": "2022-12-15T09:33:33.431021Z",
     "start_time": "2022-12-15T09:33:33.393Z"
    }
   },
   "outputs": [],
   "source": [
    "mod_1step = lm(x~z)\n",
    "summary(mod_1step)"
   ]
  },
  {
   "cell_type": "code",
   "execution_count": null,
   "metadata": {
    "ExecuteTime": {
     "end_time": "2022-12-15T09:33:34.082549Z",
     "start_time": "2022-12-15T09:33:34.074Z"
    }
   },
   "outputs": [],
   "source": [
    "est_x <- mod_1step$fitted.values"
   ]
  },
  {
   "cell_type": "code",
   "execution_count": null,
   "metadata": {
    "ExecuteTime": {
     "end_time": "2022-12-15T09:33:34.623736Z",
     "start_time": "2022-12-15T09:33:34.598Z"
    }
   },
   "outputs": [],
   "source": [
    "mod_2step = lm(y~est_x)\n",
    "summary(mod_2step)"
   ]
  },
  {
   "cell_type": "code",
   "execution_count": null,
   "metadata": {
    "ExecuteTime": {
     "end_time": "2022-12-15T09:33:35.174784Z",
     "start_time": "2022-12-15T09:33:35.033Z"
    },
    "scrolled": false
   },
   "outputs": [],
   "source": [
    "mod_iv = ivreg(y~x|z)\n",
    "summary(mod_iv, diagnostics=TRUE)"
   ]
  },
  {
   "cell_type": "markdown",
   "metadata": {},
   "source": [
    "### The Colonial Origins of Comparative Development: An Empirical Investigation\n",
    "\n",
    "This problem is based on article by Acemoglu, Daron, Simon Johnson and James\n",
    "A. Robinson. Colonial Origins of Comparative Development: An Empirical Analysis\n",
    "Research, American Economic Review, 2001, vol. 91 (5). At the moment \n",
    "the article has about two thousand citations and\n",
    "ranks 8th in the list of the most cited articles from the top 5 scientific economic journals in the world.\n",
    "\n",
    "The authors test the hypothesis that the quality of institutions is important for ensuring high rates of economic growth. More precisely, countries where property rights are better protected have an advantage in capital accumulation, which ultimately leads to higher long-term GDP per capita.\n",
    "\n",
    "Source data file: ``Acemoglu``.\n",
    "\n",
    "The file contains information about the following variables:\n",
    "\n",
    "``countryn`` - country name, ``shortnam`` - short country code,\n",
    "\n",
    "``lgdp`` - logarithm of GDP per capita in 1995,\n",
    "\n",
    "``logmort`` - logarithm of the mortality rate of colonists (see details in the text of the article)\n",
    "\n",
    "``latitude`` - the latitude at which the capital of a given country is located (measured as a distance from the equator and normalized so as to vary from zero to one)\n",
    "\n",
    "``prot`` - an index of protection of property rights in a given country (the measure is arranged so that higher values correspond to better protection of property rights)\n",
    "\n",
    "``euro`` is the proportion of the population of European descent in a given country as of 1975.\n"
   ]
  },
  {
   "cell_type": "markdown",
   "metadata": {
    "ExecuteTime": {
     "end_time": "2021-01-30T14:11:16.740023Z",
     "start_time": "2021-01-30T14:11:16.704Z"
    }
   },
   "source": [
    "In the task, you are invited to reproduce the main results of the authors of the article, following their logic. \n",
    "\n",
    "(a) Construct a scatter diagram characterizing the dependence of the ``lgdp`` variable on the ``prot`` variable. Estimate the parameters of the corresponding pairwise regression using ordinary OLS. \n",
    "Why the resulting dependence cannot be interpreted as a cause-and-effect relationship? "
   ]
  },
  {
   "cell_type": "code",
   "execution_count": null,
   "metadata": {
    "ExecuteTime": {
     "end_time": "2021-02-22T11:55:46.636811Z",
     "start_time": "2021-02-22T11:55:46.618Z"
    }
   },
   "outputs": [],
   "source": [
    "library(foreign)\n",
    "data <- read.dta(\"Acemoglu.dta\")"
   ]
  },
  {
   "cell_type": "code",
   "execution_count": null,
   "metadata": {
    "ExecuteTime": {
     "end_time": "2021-02-22T15:11:13.606211Z",
     "start_time": "2021-02-22T15:11:13.591Z"
    }
   },
   "outputs": [],
   "source": [
    "# data"
   ]
  },
  {
   "cell_type": "code",
   "execution_count": null,
   "metadata": {
    "ExecuteTime": {
     "end_time": "2021-02-22T11:57:21.693601Z",
     "start_time": "2021-02-22T11:57:21.678Z"
    }
   },
   "outputs": [],
   "source": [
    "library(ggplot2)"
   ]
  },
  {
   "cell_type": "code",
   "execution_count": null,
   "metadata": {
    "ExecuteTime": {
     "end_time": "2021-02-22T15:14:28.152515Z",
     "start_time": "2021-02-22T15:14:27.998Z"
    }
   },
   "outputs": [],
   "source": [
    "ggplot(data, aes(x=prot, y=lgdp)) + geom_point() + geom_smooth(method='lm',formula=y~x) + \n",
    "  xlab(\"Index of protection of property rights\") +\n",
    "  ylab(\"Logarithm of GDP\")"
   ]
  },
  {
   "cell_type": "code",
   "execution_count": null,
   "metadata": {
    "ExecuteTime": {
     "end_time": "2021-02-22T11:59:13.837198Z",
     "start_time": "2021-02-22T11:59:13.807Z"
    }
   },
   "outputs": [],
   "source": [
    "model_a <- lm(data = data, lgdp~prot)\n",
    "summary(model_a)"
   ]
  },
  {
   "cell_type": "markdown",
   "metadata": {},
   "source": [
    "(b) Estimate the new regression including ``latitude`` in the original equation. Based on the authors' logic, explain why latitude might be an important control variable in this case. Interpret your results. Do they confirm that latitude is really an important variable? "
   ]
  },
  {
   "cell_type": "code",
   "execution_count": null,
   "metadata": {
    "ExecuteTime": {
     "end_time": "2021-02-22T12:16:02.059896Z",
     "start_time": "2021-02-22T12:16:02.037Z"
    }
   },
   "outputs": [],
   "source": [
    "model_a <- lm(data = data, lgdp~prot+latitude)\n",
    "summary(model_a)"
   ]
  },
  {
   "cell_type": "markdown",
   "metadata": {},
   "source": [
    "(c) Before proceeding with 2SLS, estimate the equation of the reduced form: the regression of the ``lgdp`` on the mortality of settlers ``logmort``. Make a scatterplot characterizing this relationship. How can you explain the results obtained? "
   ]
  },
  {
   "cell_type": "code",
   "execution_count": null,
   "metadata": {
    "ExecuteTime": {
     "end_time": "2021-02-22T15:15:52.704983Z",
     "start_time": "2021-02-22T15:15:52.677Z"
    }
   },
   "outputs": [],
   "source": [
    "model_c <- lm(data=data, lgdp ~ logmort)  \n",
    "summary(model_c) "
   ]
  },
  {
   "cell_type": "code",
   "execution_count": null,
   "metadata": {
    "ExecuteTime": {
     "end_time": "2021-02-22T15:15:54.277788Z",
     "start_time": "2021-02-22T15:15:54.127Z"
    }
   },
   "outputs": [],
   "source": [
    "ggplot(data, aes(x =logmort, y=lgdp)) + geom_point() + geom_smooth(method='lm',formula=y~x) + xlab(\"Logarithm of mortality\") +\n",
    "  ylab(\"Logarithm of GDP\")"
   ]
  },
  {
   "cell_type": "markdown",
   "metadata": {},
   "source": [
    "(d) We now turn to assessing the impact of the quality of institutions on the logarithm of GDP using 2SLS. Use the ``logmort`` variable as an instrument. Explain meaningfully why the authors consider this tool valid, and why such an empirical strategy makes it possible to correctly test the presence of a causal relationship between the quality of institutions and GDP. "
   ]
  },
  {
   "cell_type": "code",
   "execution_count": null,
   "metadata": {
    "ExecuteTime": {
     "end_time": "2021-02-22T12:03:36.876576Z",
     "start_time": "2021-02-22T12:03:36.869Z"
    }
   },
   "outputs": [],
   "source": [
    "library(AER)"
   ]
  },
  {
   "cell_type": "code",
   "execution_count": null,
   "metadata": {
    "ExecuteTime": {
     "end_time": "2021-02-22T12:04:31.418289Z",
     "start_time": "2021-02-22T12:04:31.404Z"
    }
   },
   "outputs": [],
   "source": [
    "tsls_d <- ivreg(lgdp ~ prot|logmort, data=data )"
   ]
  },
  {
   "cell_type": "code",
   "execution_count": null,
   "metadata": {
    "ExecuteTime": {
     "end_time": "2021-02-22T12:05:04.057262Z",
     "start_time": "2021-02-22T12:05:04.030Z"
    }
   },
   "outputs": [],
   "source": [
    "summary(tsls_d, diagnostics=T)"
   ]
  },
  {
   "cell_type": "markdown",
   "metadata": {},
   "source": [
    "(e) Estimate the regression of the first step of 2SLS. Illustrate the result with a scatter plot. After calculating the appropriate F-statistic, explain whether the instrument used is strong (relevant). "
   ]
  },
  {
   "cell_type": "code",
   "execution_count": null,
   "metadata": {
    "ExecuteTime": {
     "end_time": "2021-02-22T12:09:51.393269Z",
     "start_time": "2021-02-22T12:09:51.384Z"
    }
   },
   "outputs": [],
   "source": [
    "first_step <- lm(prot~logmort, data)"
   ]
  },
  {
   "cell_type": "code",
   "execution_count": null,
   "metadata": {
    "ExecuteTime": {
     "end_time": "2021-02-22T12:10:04.851340Z",
     "start_time": "2021-02-22T12:10:04.838Z"
    }
   },
   "outputs": [],
   "source": [
    "summary(first_step)"
   ]
  },
  {
   "cell_type": "code",
   "execution_count": null,
   "metadata": {
    "ExecuteTime": {
     "end_time": "2021-02-22T15:17:24.479048Z",
     "start_time": "2021-02-22T15:17:24.341Z"
    }
   },
   "outputs": [],
   "source": [
    "ggplot(data, aes(x=logmort, y=prot)) + geom_point() + geom_smooth(method='lm',formula=y~x)  + xlab(\"Logarithm of mortaility\") +\n",
    "  ylab(\"Index of protection of property rights\")"
   ]
  },
  {
   "cell_type": "markdown",
   "metadata": {},
   "source": [
    "(f) Estimate the second step regression. Interpret the results obtained. How has the estimate of the impact of the quality of institutions on GDP changed compared to the estimate obtained with OLS? What does this change say about the cause of the endogeneity of the regressor (which of the causes of endogeneity prevailed in the original model)? "
   ]
  },
  {
   "cell_type": "code",
   "execution_count": null,
   "metadata": {
    "ExecuteTime": {
     "end_time": "2021-02-22T12:12:26.042003Z",
     "start_time": "2021-02-22T12:12:26.033Z"
    }
   },
   "outputs": [],
   "source": [
    "prot_est <- first_step$fitted.values"
   ]
  },
  {
   "cell_type": "code",
   "execution_count": null,
   "metadata": {
    "ExecuteTime": {
     "end_time": "2021-02-22T12:12:57.602937Z",
     "start_time": "2021-02-22T12:12:57.590Z"
    }
   },
   "outputs": [],
   "source": [
    "second_step <- lm(lgdp ~ prot_est, data = data )"
   ]
  },
  {
   "cell_type": "code",
   "execution_count": null,
   "metadata": {
    "ExecuteTime": {
     "end_time": "2021-02-22T12:13:07.849084Z",
     "start_time": "2021-02-22T12:13:07.834Z"
    }
   },
   "outputs": [],
   "source": [
    "summary(second_step)"
   ]
  },
  {
   "cell_type": "markdown",
   "metadata": {},
   "source": [
    "(g) Evaluate the alternative specification of 2SLS regression  adding a control variable.  Is the conclusion about the positive impact of the quality of institutions on GDP sustainable? "
   ]
  },
  {
   "cell_type": "code",
   "execution_count": null,
   "metadata": {
    "ExecuteTime": {
     "end_time": "2021-02-22T12:20:20.598319Z",
     "start_time": "2021-02-22T12:20:20.578Z"
    }
   },
   "outputs": [],
   "source": [
    "tsls_g <- ivreg(lgdp ~ prot + latitude|logmort+latitude, data=data )\n",
    "summary(tsls_g, diagnostics=T)"
   ]
  },
  {
   "cell_type": "code",
   "execution_count": null,
   "metadata": {
    "ExecuteTime": {
     "end_time": "2021-02-22T15:19:10.355539Z",
     "start_time": "2021-02-22T15:19:10.323Z"
    }
   },
   "outputs": [],
   "source": [
    "first_step <- lm(prot ~ logmort + latitude , data=data)\n",
    "summary(first_step)\n",
    "\n",
    "prot_est_g <- first_step$fitted.values\n",
    "\n",
    "second_step <- lm(lgdp ~ prot_est_g + latitude , data=data)\n",
    "summary(second_step)"
   ]
  },
  {
   "cell_type": "markdown",
   "metadata": {},
   "source": [
    "(h) Another way to test the robustness of the results is by analyzing individual subsamples. Construct the regressions from the two previous paragraphs using only data for all countries except African. Then build two similar models using a subsample of African countries only.\n",
    "Compare estimates of the impact of institutional quality on GDP in \n",
    "this subsample with those in the base sample. Is the analyzed effect heterogeneous? What problems with the quality of the models do you see?"
   ]
  },
  {
   "cell_type": "code",
   "execution_count": null,
   "metadata": {
    "ExecuteTime": {
     "end_time": "2021-02-22T12:22:44.083612Z",
     "start_time": "2021-02-22T12:22:44.069Z"
    }
   },
   "outputs": [],
   "source": [
    "newdata <- subset(data, africa==0)"
   ]
  },
  {
   "cell_type": "code",
   "execution_count": null,
   "metadata": {
    "ExecuteTime": {
     "end_time": "2021-02-22T12:23:31.742298Z",
     "start_time": "2021-02-22T12:23:31.720Z"
    }
   },
   "outputs": [],
   "source": [
    "tsls_h <- ivreg(lgdp ~ prot|logmort, data=newdata )\n",
    "summary(tsls_h, diagnostics=T)"
   ]
  },
  {
   "cell_type": "code",
   "execution_count": null,
   "metadata": {
    "ExecuteTime": {
     "end_time": "2021-02-22T12:23:34.832136Z",
     "start_time": "2021-02-22T12:23:34.811Z"
    }
   },
   "outputs": [],
   "source": [
    "tsls_i <- ivreg(lgdp ~ prot + latitude|logmort+latitude, data=newdata )\n",
    "summary(tsls_i, diagnostics=T)"
   ]
  },
  {
   "cell_type": "markdown",
   "metadata": {},
   "source": [
    "(i) Suppose a critic asserts the following: “Settler mortality is correlated not only with the quality of institutions, but also with the proportion of the population of European origin in a given country (variable euro). Due to the peculiarities of the colonization process in some countries, the proportion of the European population is much higher than that of the indigenous population and sometimes approaches 100 percent. Moreover, this share itself affects the value of GDP: the more people with European origin in the country, the more GDP, even with the same quality of institutions.\"\n",
    "\n",
    "In other words, the critic argues that the high per capita GDP in former colonies such as the United States, Canada and Australia is primarily due not to the quality of institutions, but to the high proportion of the population of European descent in the total population of these countries.\n",
    "\n",
    "If the critic is right, how does this affect the consistency of the 2SLS  estimates in the regressions constructed above? Explain your answer in detail on an intuitive level.\n",
    "\n",
    "Check the hypothesis formulated by the critic. If the hypothesis is confirmed, suggest an empirical approach that allows you to fix the problem. Implement it and interpret the results. "
   ]
  },
  {
   "cell_type": "code",
   "execution_count": null,
   "metadata": {
    "ExecuteTime": {
     "end_time": "2021-02-22T15:20:14.434167Z",
     "start_time": "2021-02-22T15:20:14.409Z"
    }
   },
   "outputs": [],
   "source": [
    "tsls_j <- ivreg(lgdp ~ prot + euro | logmort + euro , data=data )\n",
    "summary(tsls_j)\n",
    "\n",
    "tsls_k <- ivreg(lgdp ~ prot + euro + latitude | logmort + euro + latitude , data=data )\n",
    "summary(tsls_k)"
   ]
  },
  {
   "cell_type": "code",
   "execution_count": null,
   "metadata": {},
   "outputs": [],
   "source": []
  }
 ],
 "metadata": {
  "hide_input": false,
  "kernelspec": {
   "display_name": "R 4.2",
   "language": "R",
   "name": "ir42"
  },
  "language_info": {
   "codemirror_mode": "r",
   "file_extension": ".r",
   "mimetype": "text/x-r-source",
   "name": "R",
   "pygments_lexer": "r",
   "version": "4.2.1"
  },
  "latex_envs": {
   "LaTeX_envs_menu_present": true,
   "autoclose": true,
   "autocomplete": true,
   "bibliofile": "biblio.bib",
   "cite_by": "apalike",
   "current_citInitial": 1,
   "eqLabelWithNumbers": true,
   "eqNumInitial": 1,
   "hotkeys": {
    "equation": "Ctrl-E",
    "itemize": "Ctrl-I"
   },
   "labels_anchors": false,
   "latex_user_defs": false,
   "report_style_numbering": false,
   "user_envs_cfg": false
  },
  "toc": {
   "base_numbering": 1,
   "nav_menu": {},
   "number_sections": true,
   "sideBar": true,
   "skip_h1_title": false,
   "title_cell": "Table of Contents",
   "title_sidebar": "Contents",
   "toc_cell": false,
   "toc_position": {},
   "toc_section_display": true,
   "toc_window_display": false
  },
  "varInspector": {
   "cols": {
    "lenName": 16,
    "lenType": 16,
    "lenVar": 40
   },
   "kernels_config": {
    "python": {
     "delete_cmd_postfix": "",
     "delete_cmd_prefix": "del ",
     "library": "var_list.py",
     "varRefreshCmd": "print(var_dic_list())"
    },
    "r": {
     "delete_cmd_postfix": ") ",
     "delete_cmd_prefix": "rm(",
     "library": "var_list.r",
     "varRefreshCmd": "cat(var_dic_list()) "
    }
   },
   "types_to_exclude": [
    "module",
    "function",
    "builtin_function_or_method",
    "instance",
    "_Feature"
   ],
   "window_display": false
  }
 },
 "nbformat": 4,
 "nbformat_minor": 4
}
