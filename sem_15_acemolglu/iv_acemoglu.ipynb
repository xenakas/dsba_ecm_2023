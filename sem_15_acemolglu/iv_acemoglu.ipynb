{
 "cells": [
  {
   "cell_type": "markdown",
   "metadata": {},
   "source": [
    "# The Colonial Origins of Comparative Development: An Empirical Investigation\n",
    "\n",
    "This problem is based on article by Acemoglu, Daron, Simon Johnson and James\n",
    "A. Robinson. Colonial Origins of Comparative Development: An Empirical Analysis\n",
    "Research, American Economic Review, 2001, vol. 91 (5). At the moment \n",
    "the article has about two thousand citations and\n",
    "ranks 8th in the list of the most cited articles from the top 5 scientific economic journals in the world.\n",
    "\n",
    "The authors test the hypothesis that the quality of institutions is important for ensuring high rates of economic growth. More precisely, countries where property rights are better protected have an advantage in capital accumulation, which ultimately leads to higher long-term GDP per capita.\n",
    "\n",
    "Source data file: ``Acemoglu``.\n",
    "\n",
    "The file contains information about the following variables:\n",
    "\n",
    "``countryn`` - country name, ``shortnam`` - short country code,\n",
    "\n",
    "``lgdp`` - logarithm of GDP per capita in 1995,\n",
    "\n",
    "``logmort`` - logarithm of the mortality rate of colonists (see details in the text of the article)\n",
    "\n",
    "``latitude`` - the latitude at which the capital of a given country is located (measured as a distance from the equator and normalized so as to vary from zero to one)\n",
    "\n",
    "``prot`` - an index of protection of property rights in a given country (the measure is arranged so that higher values correspond to better protection of property rights)\n",
    "\n",
    "``euro`` is the proportion of the population of European descent in a given country as of 1975.\n"
   ]
  },
  {
   "cell_type": "markdown",
   "metadata": {
    "ExecuteTime": {
     "end_time": "2021-01-30T14:11:16.740023Z",
     "start_time": "2021-01-30T14:11:16.704Z"
    }
   },
   "source": [
    "In the task, you are invited to reproduce the main results of the authors of the article, following their logic. \n",
    "\n",
    "(a) Construct a scatter diagram characterizing the dependence of the ``lgdp`` variable on the ``prot`` variable. Estimate the parameters of the corresponding pairwise regression using ordinary OLS. \n",
    "Why the resulting dependence cannot be interpreted as a cause-and-effect relationship? "
   ]
  },
  {
   "cell_type": "code",
   "execution_count": 1,
   "metadata": {
    "ExecuteTime": {
     "end_time": "2022-12-16T10:09:24.827622Z",
     "start_time": "2022-12-16T10:09:24.800Z"
    },
    "execution": {
     "iopub.execute_input": "2024-01-11T14:07:31.326527Z",
     "iopub.status.busy": "2024-01-11T14:07:31.321937Z",
     "iopub.status.idle": "2024-01-11T14:07:31.373181Z",
     "shell.execute_reply": "2024-01-11T14:07:31.371633Z"
    }
   },
   "outputs": [],
   "source": [
    "library(foreign)\n",
    "data <- read.dta(\"Acemoglu.dta\")"
   ]
  },
  {
   "cell_type": "code",
   "execution_count": 2,
   "metadata": {
    "ExecuteTime": {
     "end_time": "2022-12-16T10:09:26.472830Z",
     "start_time": "2022-12-16T10:09:26.390Z"
    },
    "execution": {
     "iopub.execute_input": "2024-01-11T14:07:38.219033Z",
     "iopub.status.busy": "2024-01-11T14:07:38.177639Z",
     "iopub.status.idle": "2024-01-11T14:07:38.293517Z",
     "shell.execute_reply": "2024-01-11T14:07:38.292336Z"
    }
   },
   "outputs": [
    {
     "data": {
      "text/html": [
       "<table class=\"dataframe\">\n",
       "<caption>A data.frame: 64 × 8</caption>\n",
       "<thead>\n",
       "\t<tr><th></th><th scope=col>countryn</th><th scope=col>shortnam</th><th scope=col>africa</th><th scope=col>latitude</th><th scope=col>euro</th><th scope=col>prot</th><th scope=col>lgdp</th><th scope=col>logmort</th></tr>\n",
       "\t<tr><th></th><th scope=col>&lt;chr&gt;</th><th scope=col>&lt;chr&gt;</th><th scope=col>&lt;dbl&gt;</th><th scope=col>&lt;dbl&gt;</th><th scope=col>&lt;dbl&gt;</th><th scope=col>&lt;dbl&gt;</th><th scope=col>&lt;dbl&gt;</th><th scope=col>&lt;dbl&gt;</th></tr>\n",
       "</thead>\n",
       "<tbody>\n",
       "\t<tr><th scope=row>1</th><td>Angola       </td><td>AGO</td><td>1</td><td>0.13666667</td><td> 0</td><td>5.363636</td><td> 7.770645</td><td>5.634789</td></tr>\n",
       "\t<tr><th scope=row>2</th><td>Argentina    </td><td>ARG</td><td>0</td><td>0.37777779</td><td>90</td><td>6.386364</td><td> 9.133459</td><td>4.262680</td></tr>\n",
       "\t<tr><th scope=row>3</th><td>Australia    </td><td>AUS</td><td>0</td><td>0.30000001</td><td>99</td><td>9.318182</td><td> 9.897972</td><td>2.145931</td></tr>\n",
       "\t<tr><th scope=row>4</th><td>Burkina Faso </td><td>BFA</td><td>1</td><td>0.14444445</td><td> 0</td><td>4.454545</td><td> 6.845880</td><td>5.634789</td></tr>\n",
       "\t<tr><th scope=row>5</th><td>Bangladesh   </td><td>BGD</td><td>0</td><td>0.26666668</td><td> 0</td><td>5.136364</td><td> 6.877296</td><td>4.268438</td></tr>\n",
       "\t<tr><th scope=row>6</th><td>Bahamas      </td><td>BHS</td><td>0</td><td>0.26833332</td><td>10</td><td>7.500000</td><td> 9.285448</td><td>4.442651</td></tr>\n",
       "\t<tr><th scope=row>7</th><td>Bolivia      </td><td>BOL</td><td>0</td><td>0.18888889</td><td>30</td><td>5.636364</td><td> 7.926602</td><td>4.262680</td></tr>\n",
       "\t<tr><th scope=row>8</th><td>Brazil       </td><td>BRA</td><td>0</td><td>0.11111111</td><td>55</td><td>7.909091</td><td> 8.727454</td><td>4.262680</td></tr>\n",
       "\t<tr><th scope=row>9</th><td>Canada       </td><td>CAN</td><td>0</td><td>0.66666669</td><td>98</td><td>9.727273</td><td> 9.986449</td><td>2.778819</td></tr>\n",
       "\t<tr><th scope=row>10</th><td>Chile        </td><td>CHL</td><td>0</td><td>0.33333334</td><td>50</td><td>7.818182</td><td> 9.336092</td><td>4.262680</td></tr>\n",
       "\t<tr><th scope=row>11</th><td>Cote d'Ivoire</td><td>CIV</td><td>1</td><td>0.08888889</td><td> 0</td><td>7.000000</td><td> 7.444249</td><td>6.180017</td></tr>\n",
       "\t<tr><th scope=row>12</th><td>Cameroon     </td><td>CMR</td><td>1</td><td>0.06666667</td><td> 0</td><td>6.454545</td><td> 7.501082</td><td>5.634789</td></tr>\n",
       "\t<tr><th scope=row>13</th><td>Congo        </td><td>COG</td><td>1</td><td>0.01111111</td><td> 0</td><td>4.681818</td><td> 7.420579</td><td>5.480639</td></tr>\n",
       "\t<tr><th scope=row>14</th><td>Colombia     </td><td>COL</td><td>0</td><td>0.04444445</td><td>25</td><td>7.318182</td><td> 8.809863</td><td>4.262680</td></tr>\n",
       "\t<tr><th scope=row>15</th><td>Costa Rica   </td><td>CRI</td><td>0</td><td>0.11111111</td><td>20</td><td>7.045455</td><td> 8.794825</td><td>4.357990</td></tr>\n",
       "\t<tr><th scope=row>16</th><td>Dominican Re </td><td>DOM</td><td>0</td><td>0.21111111</td><td>25</td><td>6.181818</td><td> 8.364042</td><td>4.867535</td></tr>\n",
       "\t<tr><th scope=row>17</th><td>Algeria      </td><td>DZA</td><td>1</td><td>0.31111112</td><td> 0</td><td>6.500000</td><td> 8.389359</td><td>4.359270</td></tr>\n",
       "\t<tr><th scope=row>18</th><td>Ecuador      </td><td>ECU</td><td>0</td><td>0.02222222</td><td>30</td><td>6.545455</td><td> 8.470101</td><td>4.262680</td></tr>\n",
       "\t<tr><th scope=row>19</th><td>Egypt        </td><td>EGY</td><td>1</td><td>0.30000001</td><td> 0</td><td>6.772727</td><td> 7.951560</td><td>4.216562</td></tr>\n",
       "\t<tr><th scope=row>20</th><td>Ethiopia     </td><td>ETH</td><td>1</td><td>0.08888889</td><td> 0</td><td>5.727273</td><td> 6.109248</td><td>3.258096</td></tr>\n",
       "\t<tr><th scope=row>21</th><td>Gabon        </td><td>GAB</td><td>1</td><td>0.01111111</td><td> 0</td><td>7.818182</td><td> 8.907883</td><td>5.634789</td></tr>\n",
       "\t<tr><th scope=row>22</th><td>Ghana        </td><td>GHA</td><td>1</td><td>0.08888889</td><td> 0</td><td>6.272727</td><td> 7.365180</td><td>6.504288</td></tr>\n",
       "\t<tr><th scope=row>23</th><td>Guinea       </td><td>GIN</td><td>1</td><td>0.12222222</td><td> 0</td><td>6.545455</td><td> 7.489971</td><td>6.180017</td></tr>\n",
       "\t<tr><th scope=row>24</th><td>Gambia       </td><td>GMB</td><td>1</td><td>0.14755556</td><td> 0</td><td>8.272727</td><td> 7.272398</td><td>7.293018</td></tr>\n",
       "\t<tr><th scope=row>25</th><td>Guatemala    </td><td>GTM</td><td>0</td><td>0.17000000</td><td>20</td><td>5.136364</td><td> 8.294049</td><td>4.262680</td></tr>\n",
       "\t<tr><th scope=row>26</th><td>Guyana       </td><td>GUY</td><td>0</td><td>0.05555556</td><td> 2</td><td>5.886364</td><td> 7.904704</td><td>3.471345</td></tr>\n",
       "\t<tr><th scope=row>27</th><td>Hong Kong    </td><td>HKG</td><td>0</td><td>0.24611111</td><td> 0</td><td>8.136364</td><td>10.049750</td><td>2.701361</td></tr>\n",
       "\t<tr><th scope=row>28</th><td>Honduras     </td><td>HND</td><td>0</td><td>0.16666667</td><td>20</td><td>5.318182</td><td> 7.687080</td><td>4.357990</td></tr>\n",
       "\t<tr><th scope=row>29</th><td>Haiti        </td><td>HTI</td><td>0</td><td>0.21111111</td><td> 0</td><td>3.727273</td><td> 7.146772</td><td>4.867535</td></tr>\n",
       "\t<tr><th scope=row>30</th><td>Indonesia    </td><td>IDN</td><td>0</td><td>0.05560000</td><td> 0</td><td>7.590909</td><td> 8.070906</td><td>5.135798</td></tr>\n",
       "\t<tr><th scope=row>⋮</th><td>⋮</td><td>⋮</td><td>⋮</td><td>⋮</td><td>⋮</td><td>⋮</td><td>⋮</td><td>⋮</td></tr>\n",
       "\t<tr><th scope=row>35</th><td>Morocco            </td><td>MAR</td><td>1</td><td>0.35555556</td><td>  1.00000</td><td> 7.090909</td><td> 8.042378</td><td>4.359270</td></tr>\n",
       "\t<tr><th scope=row>36</th><td>Madagascar         </td><td>MDG</td><td>1</td><td>0.22222222</td><td>  0.00000</td><td> 4.454545</td><td> 6.835185</td><td>6.284209</td></tr>\n",
       "\t<tr><th scope=row>37</th><td>Mexico             </td><td>MEX</td><td>0</td><td>0.25555557</td><td> 15.00000</td><td> 7.500000</td><td> 8.943768</td><td>4.262680</td></tr>\n",
       "\t<tr><th scope=row>38</th><td>Mali               </td><td>MLI</td><td>1</td><td>0.18888889</td><td>  0.00000</td><td> 4.000000</td><td> 6.565265</td><td>7.986165</td></tr>\n",
       "\t<tr><th scope=row>39</th><td>Malta              </td><td>MLT</td><td>0</td><td>0.39444444</td><td>100.00000</td><td> 7.227273</td><td> 9.427063</td><td>2.791165</td></tr>\n",
       "\t<tr><th scope=row>40</th><td>Malaysia           </td><td>MYS</td><td>0</td><td>0.02555555</td><td>  0.00000</td><td> 7.954545</td><td> 8.894258</td><td>2.873565</td></tr>\n",
       "\t<tr><th scope=row>41</th><td>Niger              </td><td>NER</td><td>1</td><td>0.17777778</td><td>  0.00000</td><td> 5.000000</td><td> 6.733402</td><td>5.991465</td></tr>\n",
       "\t<tr><th scope=row>42</th><td>Nigeria            </td><td>NGA</td><td>1</td><td>0.11111111</td><td>  0.00000</td><td> 5.545455</td><td> 6.813445</td><td>7.602901</td></tr>\n",
       "\t<tr><th scope=row>43</th><td>Nicaragua          </td><td>NIC</td><td>0</td><td>0.14444445</td><td> 20.00000</td><td> 5.227273</td><td> 7.544332</td><td>5.095589</td></tr>\n",
       "\t<tr><th scope=row>44</th><td>New Zealand        </td><td>NZL</td><td>0</td><td>0.45555556</td><td> 91.70000</td><td> 9.727273</td><td> 9.756147</td><td>2.145931</td></tr>\n",
       "\t<tr><th scope=row>45</th><td>Pakistan           </td><td>PAK</td><td>0</td><td>0.33333334</td><td>  0.00000</td><td> 6.045455</td><td> 7.352441</td><td>3.610648</td></tr>\n",
       "\t<tr><th scope=row>46</th><td>Panama             </td><td>PAN</td><td>0</td><td>0.10000000</td><td> 20.00000</td><td> 5.909091</td><td> 8.836374</td><td>5.095589</td></tr>\n",
       "\t<tr><th scope=row>47</th><td>Peru               </td><td>PER</td><td>0</td><td>0.11111111</td><td> 30.00000</td><td> 5.772727</td><td> 8.396154</td><td>4.262680</td></tr>\n",
       "\t<tr><th scope=row>48</th><td>Paraguay           </td><td>PRY</td><td>0</td><td>0.25555557</td><td> 25.00000</td><td> 6.954545</td><td> 8.207947</td><td>4.357990</td></tr>\n",
       "\t<tr><th scope=row>49</th><td>Sudan              </td><td>SDN</td><td>1</td><td>0.16666667</td><td>  0.00000</td><td> 4.000000</td><td> 7.306531</td><td>4.479607</td></tr>\n",
       "\t<tr><th scope=row>50</th><td>Senegal            </td><td>SEN</td><td>1</td><td>0.15555556</td><td>  0.00000</td><td> 6.000000</td><td> 7.402452</td><td>5.103883</td></tr>\n",
       "\t<tr><th scope=row>51</th><td>Singapore          </td><td>SGP</td><td>0</td><td>0.01355556</td><td>  0.00000</td><td> 9.318182</td><td>10.146434</td><td>2.873565</td></tr>\n",
       "\t<tr><th scope=row>52</th><td>Sierra Leone       </td><td>SLE</td><td>1</td><td>0.09222222</td><td>  0.00000</td><td> 5.818182</td><td> 6.253829</td><td>6.180017</td></tr>\n",
       "\t<tr><th scope=row>53</th><td>El Salvador        </td><td>SLV</td><td>0</td><td>0.15000001</td><td> 20.00000</td><td> 5.000000</td><td> 7.948032</td><td>4.357990</td></tr>\n",
       "\t<tr><th scope=row>54</th><td>Togo               </td><td>TGO</td><td>1</td><td>0.08888889</td><td>  0.00000</td><td> 6.909091</td><td> 7.222566</td><td>6.504288</td></tr>\n",
       "\t<tr><th scope=row>55</th><td>Trinidad and Tobago</td><td>TTO</td><td>0</td><td>0.12222222</td><td> 40.00000</td><td> 7.454545</td><td> 8.768730</td><td>4.442651</td></tr>\n",
       "\t<tr><th scope=row>56</th><td>Tunisia            </td><td>TUN</td><td>1</td><td>0.37777779</td><td>  0.00000</td><td> 6.454545</td><td> 8.482602</td><td>4.143135</td></tr>\n",
       "\t<tr><th scope=row>57</th><td>Tanzania           </td><td>TZA</td><td>1</td><td>0.06666667</td><td>  0.00000</td><td> 6.636364</td><td> 6.253829</td><td>4.976734</td></tr>\n",
       "\t<tr><th scope=row>58</th><td>Uganda             </td><td>UGA</td><td>1</td><td>0.01111111</td><td>  0.00000</td><td> 4.454545</td><td> 6.966024</td><td>5.634789</td></tr>\n",
       "\t<tr><th scope=row>59</th><td>Uruguary           </td><td>URY</td><td>0</td><td>0.36666667</td><td> 90.00000</td><td> 7.000000</td><td> 9.031214</td><td>4.262680</td></tr>\n",
       "\t<tr><th scope=row>60</th><td>USA                </td><td>USA</td><td>0</td><td>0.42222223</td><td> 83.60001</td><td>10.000000</td><td>10.215740</td><td>2.708050</td></tr>\n",
       "\t<tr><th scope=row>61</th><td>Venezuela          </td><td>VEN</td><td>0</td><td>0.08888889</td><td> 20.00000</td><td> 7.136364</td><td> 9.071078</td><td>4.357990</td></tr>\n",
       "\t<tr><th scope=row>62</th><td>Vietnam            </td><td>VNM</td><td>0</td><td>0.17777778</td><td>  0.00000</td><td> 6.409091</td><td> 7.279319</td><td>4.941642</td></tr>\n",
       "\t<tr><th scope=row>63</th><td>South Africa       </td><td>ZAF</td><td>1</td><td>0.32222223</td><td> 16.00000</td><td> 6.863636</td><td> 8.885994</td><td>2.740840</td></tr>\n",
       "\t<tr><th scope=row>64</th><td>Zaire              </td><td>ZAR</td><td>1</td><td>0.00000000</td><td>  0.00000</td><td> 3.500000</td><td> 6.866933</td><td>5.480639</td></tr>\n",
       "</tbody>\n",
       "</table>\n"
      ],
      "text/latex": [
       "A data.frame: 64 × 8\n",
       "\\begin{tabular}{r|llllllll}\n",
       "  & countryn & shortnam & africa & latitude & euro & prot & lgdp & logmort\\\\\n",
       "  & <chr> & <chr> & <dbl> & <dbl> & <dbl> & <dbl> & <dbl> & <dbl>\\\\\n",
       "\\hline\n",
       "\t1 & Angola        & AGO & 1 & 0.13666667 &  0 & 5.363636 &  7.770645 & 5.634789\\\\\n",
       "\t2 & Argentina     & ARG & 0 & 0.37777779 & 90 & 6.386364 &  9.133459 & 4.262680\\\\\n",
       "\t3 & Australia     & AUS & 0 & 0.30000001 & 99 & 9.318182 &  9.897972 & 2.145931\\\\\n",
       "\t4 & Burkina Faso  & BFA & 1 & 0.14444445 &  0 & 4.454545 &  6.845880 & 5.634789\\\\\n",
       "\t5 & Bangladesh    & BGD & 0 & 0.26666668 &  0 & 5.136364 &  6.877296 & 4.268438\\\\\n",
       "\t6 & Bahamas       & BHS & 0 & 0.26833332 & 10 & 7.500000 &  9.285448 & 4.442651\\\\\n",
       "\t7 & Bolivia       & BOL & 0 & 0.18888889 & 30 & 5.636364 &  7.926602 & 4.262680\\\\\n",
       "\t8 & Brazil        & BRA & 0 & 0.11111111 & 55 & 7.909091 &  8.727454 & 4.262680\\\\\n",
       "\t9 & Canada        & CAN & 0 & 0.66666669 & 98 & 9.727273 &  9.986449 & 2.778819\\\\\n",
       "\t10 & Chile         & CHL & 0 & 0.33333334 & 50 & 7.818182 &  9.336092 & 4.262680\\\\\n",
       "\t11 & Cote d'Ivoire & CIV & 1 & 0.08888889 &  0 & 7.000000 &  7.444249 & 6.180017\\\\\n",
       "\t12 & Cameroon      & CMR & 1 & 0.06666667 &  0 & 6.454545 &  7.501082 & 5.634789\\\\\n",
       "\t13 & Congo         & COG & 1 & 0.01111111 &  0 & 4.681818 &  7.420579 & 5.480639\\\\\n",
       "\t14 & Colombia      & COL & 0 & 0.04444445 & 25 & 7.318182 &  8.809863 & 4.262680\\\\\n",
       "\t15 & Costa Rica    & CRI & 0 & 0.11111111 & 20 & 7.045455 &  8.794825 & 4.357990\\\\\n",
       "\t16 & Dominican Re  & DOM & 0 & 0.21111111 & 25 & 6.181818 &  8.364042 & 4.867535\\\\\n",
       "\t17 & Algeria       & DZA & 1 & 0.31111112 &  0 & 6.500000 &  8.389359 & 4.359270\\\\\n",
       "\t18 & Ecuador       & ECU & 0 & 0.02222222 & 30 & 6.545455 &  8.470101 & 4.262680\\\\\n",
       "\t19 & Egypt         & EGY & 1 & 0.30000001 &  0 & 6.772727 &  7.951560 & 4.216562\\\\\n",
       "\t20 & Ethiopia      & ETH & 1 & 0.08888889 &  0 & 5.727273 &  6.109248 & 3.258096\\\\\n",
       "\t21 & Gabon         & GAB & 1 & 0.01111111 &  0 & 7.818182 &  8.907883 & 5.634789\\\\\n",
       "\t22 & Ghana         & GHA & 1 & 0.08888889 &  0 & 6.272727 &  7.365180 & 6.504288\\\\\n",
       "\t23 & Guinea        & GIN & 1 & 0.12222222 &  0 & 6.545455 &  7.489971 & 6.180017\\\\\n",
       "\t24 & Gambia        & GMB & 1 & 0.14755556 &  0 & 8.272727 &  7.272398 & 7.293018\\\\\n",
       "\t25 & Guatemala     & GTM & 0 & 0.17000000 & 20 & 5.136364 &  8.294049 & 4.262680\\\\\n",
       "\t26 & Guyana        & GUY & 0 & 0.05555556 &  2 & 5.886364 &  7.904704 & 3.471345\\\\\n",
       "\t27 & Hong Kong     & HKG & 0 & 0.24611111 &  0 & 8.136364 & 10.049750 & 2.701361\\\\\n",
       "\t28 & Honduras      & HND & 0 & 0.16666667 & 20 & 5.318182 &  7.687080 & 4.357990\\\\\n",
       "\t29 & Haiti         & HTI & 0 & 0.21111111 &  0 & 3.727273 &  7.146772 & 4.867535\\\\\n",
       "\t30 & Indonesia     & IDN & 0 & 0.05560000 &  0 & 7.590909 &  8.070906 & 5.135798\\\\\n",
       "\t⋮ & ⋮ & ⋮ & ⋮ & ⋮ & ⋮ & ⋮ & ⋮ & ⋮\\\\\n",
       "\t35 & Morocco             & MAR & 1 & 0.35555556 &   1.00000 &  7.090909 &  8.042378 & 4.359270\\\\\n",
       "\t36 & Madagascar          & MDG & 1 & 0.22222222 &   0.00000 &  4.454545 &  6.835185 & 6.284209\\\\\n",
       "\t37 & Mexico              & MEX & 0 & 0.25555557 &  15.00000 &  7.500000 &  8.943768 & 4.262680\\\\\n",
       "\t38 & Mali                & MLI & 1 & 0.18888889 &   0.00000 &  4.000000 &  6.565265 & 7.986165\\\\\n",
       "\t39 & Malta               & MLT & 0 & 0.39444444 & 100.00000 &  7.227273 &  9.427063 & 2.791165\\\\\n",
       "\t40 & Malaysia            & MYS & 0 & 0.02555555 &   0.00000 &  7.954545 &  8.894258 & 2.873565\\\\\n",
       "\t41 & Niger               & NER & 1 & 0.17777778 &   0.00000 &  5.000000 &  6.733402 & 5.991465\\\\\n",
       "\t42 & Nigeria             & NGA & 1 & 0.11111111 &   0.00000 &  5.545455 &  6.813445 & 7.602901\\\\\n",
       "\t43 & Nicaragua           & NIC & 0 & 0.14444445 &  20.00000 &  5.227273 &  7.544332 & 5.095589\\\\\n",
       "\t44 & New Zealand         & NZL & 0 & 0.45555556 &  91.70000 &  9.727273 &  9.756147 & 2.145931\\\\\n",
       "\t45 & Pakistan            & PAK & 0 & 0.33333334 &   0.00000 &  6.045455 &  7.352441 & 3.610648\\\\\n",
       "\t46 & Panama              & PAN & 0 & 0.10000000 &  20.00000 &  5.909091 &  8.836374 & 5.095589\\\\\n",
       "\t47 & Peru                & PER & 0 & 0.11111111 &  30.00000 &  5.772727 &  8.396154 & 4.262680\\\\\n",
       "\t48 & Paraguay            & PRY & 0 & 0.25555557 &  25.00000 &  6.954545 &  8.207947 & 4.357990\\\\\n",
       "\t49 & Sudan               & SDN & 1 & 0.16666667 &   0.00000 &  4.000000 &  7.306531 & 4.479607\\\\\n",
       "\t50 & Senegal             & SEN & 1 & 0.15555556 &   0.00000 &  6.000000 &  7.402452 & 5.103883\\\\\n",
       "\t51 & Singapore           & SGP & 0 & 0.01355556 &   0.00000 &  9.318182 & 10.146434 & 2.873565\\\\\n",
       "\t52 & Sierra Leone        & SLE & 1 & 0.09222222 &   0.00000 &  5.818182 &  6.253829 & 6.180017\\\\\n",
       "\t53 & El Salvador         & SLV & 0 & 0.15000001 &  20.00000 &  5.000000 &  7.948032 & 4.357990\\\\\n",
       "\t54 & Togo                & TGO & 1 & 0.08888889 &   0.00000 &  6.909091 &  7.222566 & 6.504288\\\\\n",
       "\t55 & Trinidad and Tobago & TTO & 0 & 0.12222222 &  40.00000 &  7.454545 &  8.768730 & 4.442651\\\\\n",
       "\t56 & Tunisia             & TUN & 1 & 0.37777779 &   0.00000 &  6.454545 &  8.482602 & 4.143135\\\\\n",
       "\t57 & Tanzania            & TZA & 1 & 0.06666667 &   0.00000 &  6.636364 &  6.253829 & 4.976734\\\\\n",
       "\t58 & Uganda              & UGA & 1 & 0.01111111 &   0.00000 &  4.454545 &  6.966024 & 5.634789\\\\\n",
       "\t59 & Uruguary            & URY & 0 & 0.36666667 &  90.00000 &  7.000000 &  9.031214 & 4.262680\\\\\n",
       "\t60 & USA                 & USA & 0 & 0.42222223 &  83.60001 & 10.000000 & 10.215740 & 2.708050\\\\\n",
       "\t61 & Venezuela           & VEN & 0 & 0.08888889 &  20.00000 &  7.136364 &  9.071078 & 4.357990\\\\\n",
       "\t62 & Vietnam             & VNM & 0 & 0.17777778 &   0.00000 &  6.409091 &  7.279319 & 4.941642\\\\\n",
       "\t63 & South Africa        & ZAF & 1 & 0.32222223 &  16.00000 &  6.863636 &  8.885994 & 2.740840\\\\\n",
       "\t64 & Zaire               & ZAR & 1 & 0.00000000 &   0.00000 &  3.500000 &  6.866933 & 5.480639\\\\\n",
       "\\end{tabular}\n"
      ],
      "text/markdown": [
       "\n",
       "A data.frame: 64 × 8\n",
       "\n",
       "| <!--/--> | countryn &lt;chr&gt; | shortnam &lt;chr&gt; | africa &lt;dbl&gt; | latitude &lt;dbl&gt; | euro &lt;dbl&gt; | prot &lt;dbl&gt; | lgdp &lt;dbl&gt; | logmort &lt;dbl&gt; |\n",
       "|---|---|---|---|---|---|---|---|---|\n",
       "| 1 | Angola        | AGO | 1 | 0.13666667 |  0 | 5.363636 |  7.770645 | 5.634789 |\n",
       "| 2 | Argentina     | ARG | 0 | 0.37777779 | 90 | 6.386364 |  9.133459 | 4.262680 |\n",
       "| 3 | Australia     | AUS | 0 | 0.30000001 | 99 | 9.318182 |  9.897972 | 2.145931 |\n",
       "| 4 | Burkina Faso  | BFA | 1 | 0.14444445 |  0 | 4.454545 |  6.845880 | 5.634789 |\n",
       "| 5 | Bangladesh    | BGD | 0 | 0.26666668 |  0 | 5.136364 |  6.877296 | 4.268438 |\n",
       "| 6 | Bahamas       | BHS | 0 | 0.26833332 | 10 | 7.500000 |  9.285448 | 4.442651 |\n",
       "| 7 | Bolivia       | BOL | 0 | 0.18888889 | 30 | 5.636364 |  7.926602 | 4.262680 |\n",
       "| 8 | Brazil        | BRA | 0 | 0.11111111 | 55 | 7.909091 |  8.727454 | 4.262680 |\n",
       "| 9 | Canada        | CAN | 0 | 0.66666669 | 98 | 9.727273 |  9.986449 | 2.778819 |\n",
       "| 10 | Chile         | CHL | 0 | 0.33333334 | 50 | 7.818182 |  9.336092 | 4.262680 |\n",
       "| 11 | Cote d'Ivoire | CIV | 1 | 0.08888889 |  0 | 7.000000 |  7.444249 | 6.180017 |\n",
       "| 12 | Cameroon      | CMR | 1 | 0.06666667 |  0 | 6.454545 |  7.501082 | 5.634789 |\n",
       "| 13 | Congo         | COG | 1 | 0.01111111 |  0 | 4.681818 |  7.420579 | 5.480639 |\n",
       "| 14 | Colombia      | COL | 0 | 0.04444445 | 25 | 7.318182 |  8.809863 | 4.262680 |\n",
       "| 15 | Costa Rica    | CRI | 0 | 0.11111111 | 20 | 7.045455 |  8.794825 | 4.357990 |\n",
       "| 16 | Dominican Re  | DOM | 0 | 0.21111111 | 25 | 6.181818 |  8.364042 | 4.867535 |\n",
       "| 17 | Algeria       | DZA | 1 | 0.31111112 |  0 | 6.500000 |  8.389359 | 4.359270 |\n",
       "| 18 | Ecuador       | ECU | 0 | 0.02222222 | 30 | 6.545455 |  8.470101 | 4.262680 |\n",
       "| 19 | Egypt         | EGY | 1 | 0.30000001 |  0 | 6.772727 |  7.951560 | 4.216562 |\n",
       "| 20 | Ethiopia      | ETH | 1 | 0.08888889 |  0 | 5.727273 |  6.109248 | 3.258096 |\n",
       "| 21 | Gabon         | GAB | 1 | 0.01111111 |  0 | 7.818182 |  8.907883 | 5.634789 |\n",
       "| 22 | Ghana         | GHA | 1 | 0.08888889 |  0 | 6.272727 |  7.365180 | 6.504288 |\n",
       "| 23 | Guinea        | GIN | 1 | 0.12222222 |  0 | 6.545455 |  7.489971 | 6.180017 |\n",
       "| 24 | Gambia        | GMB | 1 | 0.14755556 |  0 | 8.272727 |  7.272398 | 7.293018 |\n",
       "| 25 | Guatemala     | GTM | 0 | 0.17000000 | 20 | 5.136364 |  8.294049 | 4.262680 |\n",
       "| 26 | Guyana        | GUY | 0 | 0.05555556 |  2 | 5.886364 |  7.904704 | 3.471345 |\n",
       "| 27 | Hong Kong     | HKG | 0 | 0.24611111 |  0 | 8.136364 | 10.049750 | 2.701361 |\n",
       "| 28 | Honduras      | HND | 0 | 0.16666667 | 20 | 5.318182 |  7.687080 | 4.357990 |\n",
       "| 29 | Haiti         | HTI | 0 | 0.21111111 |  0 | 3.727273 |  7.146772 | 4.867535 |\n",
       "| 30 | Indonesia     | IDN | 0 | 0.05560000 |  0 | 7.590909 |  8.070906 | 5.135798 |\n",
       "| ⋮ | ⋮ | ⋮ | ⋮ | ⋮ | ⋮ | ⋮ | ⋮ | ⋮ |\n",
       "| 35 | Morocco             | MAR | 1 | 0.35555556 |   1.00000 |  7.090909 |  8.042378 | 4.359270 |\n",
       "| 36 | Madagascar          | MDG | 1 | 0.22222222 |   0.00000 |  4.454545 |  6.835185 | 6.284209 |\n",
       "| 37 | Mexico              | MEX | 0 | 0.25555557 |  15.00000 |  7.500000 |  8.943768 | 4.262680 |\n",
       "| 38 | Mali                | MLI | 1 | 0.18888889 |   0.00000 |  4.000000 |  6.565265 | 7.986165 |\n",
       "| 39 | Malta               | MLT | 0 | 0.39444444 | 100.00000 |  7.227273 |  9.427063 | 2.791165 |\n",
       "| 40 | Malaysia            | MYS | 0 | 0.02555555 |   0.00000 |  7.954545 |  8.894258 | 2.873565 |\n",
       "| 41 | Niger               | NER | 1 | 0.17777778 |   0.00000 |  5.000000 |  6.733402 | 5.991465 |\n",
       "| 42 | Nigeria             | NGA | 1 | 0.11111111 |   0.00000 |  5.545455 |  6.813445 | 7.602901 |\n",
       "| 43 | Nicaragua           | NIC | 0 | 0.14444445 |  20.00000 |  5.227273 |  7.544332 | 5.095589 |\n",
       "| 44 | New Zealand         | NZL | 0 | 0.45555556 |  91.70000 |  9.727273 |  9.756147 | 2.145931 |\n",
       "| 45 | Pakistan            | PAK | 0 | 0.33333334 |   0.00000 |  6.045455 |  7.352441 | 3.610648 |\n",
       "| 46 | Panama              | PAN | 0 | 0.10000000 |  20.00000 |  5.909091 |  8.836374 | 5.095589 |\n",
       "| 47 | Peru                | PER | 0 | 0.11111111 |  30.00000 |  5.772727 |  8.396154 | 4.262680 |\n",
       "| 48 | Paraguay            | PRY | 0 | 0.25555557 |  25.00000 |  6.954545 |  8.207947 | 4.357990 |\n",
       "| 49 | Sudan               | SDN | 1 | 0.16666667 |   0.00000 |  4.000000 |  7.306531 | 4.479607 |\n",
       "| 50 | Senegal             | SEN | 1 | 0.15555556 |   0.00000 |  6.000000 |  7.402452 | 5.103883 |\n",
       "| 51 | Singapore           | SGP | 0 | 0.01355556 |   0.00000 |  9.318182 | 10.146434 | 2.873565 |\n",
       "| 52 | Sierra Leone        | SLE | 1 | 0.09222222 |   0.00000 |  5.818182 |  6.253829 | 6.180017 |\n",
       "| 53 | El Salvador         | SLV | 0 | 0.15000001 |  20.00000 |  5.000000 |  7.948032 | 4.357990 |\n",
       "| 54 | Togo                | TGO | 1 | 0.08888889 |   0.00000 |  6.909091 |  7.222566 | 6.504288 |\n",
       "| 55 | Trinidad and Tobago | TTO | 0 | 0.12222222 |  40.00000 |  7.454545 |  8.768730 | 4.442651 |\n",
       "| 56 | Tunisia             | TUN | 1 | 0.37777779 |   0.00000 |  6.454545 |  8.482602 | 4.143135 |\n",
       "| 57 | Tanzania            | TZA | 1 | 0.06666667 |   0.00000 |  6.636364 |  6.253829 | 4.976734 |\n",
       "| 58 | Uganda              | UGA | 1 | 0.01111111 |   0.00000 |  4.454545 |  6.966024 | 5.634789 |\n",
       "| 59 | Uruguary            | URY | 0 | 0.36666667 |  90.00000 |  7.000000 |  9.031214 | 4.262680 |\n",
       "| 60 | USA                 | USA | 0 | 0.42222223 |  83.60001 | 10.000000 | 10.215740 | 2.708050 |\n",
       "| 61 | Venezuela           | VEN | 0 | 0.08888889 |  20.00000 |  7.136364 |  9.071078 | 4.357990 |\n",
       "| 62 | Vietnam             | VNM | 0 | 0.17777778 |   0.00000 |  6.409091 |  7.279319 | 4.941642 |\n",
       "| 63 | South Africa        | ZAF | 1 | 0.32222223 |  16.00000 |  6.863636 |  8.885994 | 2.740840 |\n",
       "| 64 | Zaire               | ZAR | 1 | 0.00000000 |   0.00000 |  3.500000 |  6.866933 | 5.480639 |\n",
       "\n"
      ],
      "text/plain": [
       "   countryn            shortnam africa latitude   euro      prot      lgdp     \n",
       "1  Angola              AGO      1      0.13666667  0        5.363636   7.770645\n",
       "2  Argentina           ARG      0      0.37777779 90        6.386364   9.133459\n",
       "3  Australia           AUS      0      0.30000001 99        9.318182   9.897972\n",
       "4  Burkina Faso        BFA      1      0.14444445  0        4.454545   6.845880\n",
       "5  Bangladesh          BGD      0      0.26666668  0        5.136364   6.877296\n",
       "6  Bahamas             BHS      0      0.26833332 10        7.500000   9.285448\n",
       "7  Bolivia             BOL      0      0.18888889 30        5.636364   7.926602\n",
       "8  Brazil              BRA      0      0.11111111 55        7.909091   8.727454\n",
       "9  Canada              CAN      0      0.66666669 98        9.727273   9.986449\n",
       "10 Chile               CHL      0      0.33333334 50        7.818182   9.336092\n",
       "11 Cote d'Ivoire       CIV      1      0.08888889  0        7.000000   7.444249\n",
       "12 Cameroon            CMR      1      0.06666667  0        6.454545   7.501082\n",
       "13 Congo               COG      1      0.01111111  0        4.681818   7.420579\n",
       "14 Colombia            COL      0      0.04444445 25        7.318182   8.809863\n",
       "15 Costa Rica          CRI      0      0.11111111 20        7.045455   8.794825\n",
       "16 Dominican Re        DOM      0      0.21111111 25        6.181818   8.364042\n",
       "17 Algeria             DZA      1      0.31111112  0        6.500000   8.389359\n",
       "18 Ecuador             ECU      0      0.02222222 30        6.545455   8.470101\n",
       "19 Egypt               EGY      1      0.30000001  0        6.772727   7.951560\n",
       "20 Ethiopia            ETH      1      0.08888889  0        5.727273   6.109248\n",
       "21 Gabon               GAB      1      0.01111111  0        7.818182   8.907883\n",
       "22 Ghana               GHA      1      0.08888889  0        6.272727   7.365180\n",
       "23 Guinea              GIN      1      0.12222222  0        6.545455   7.489971\n",
       "24 Gambia              GMB      1      0.14755556  0        8.272727   7.272398\n",
       "25 Guatemala           GTM      0      0.17000000 20        5.136364   8.294049\n",
       "26 Guyana              GUY      0      0.05555556  2        5.886364   7.904704\n",
       "27 Hong Kong           HKG      0      0.24611111  0        8.136364  10.049750\n",
       "28 Honduras            HND      0      0.16666667 20        5.318182   7.687080\n",
       "29 Haiti               HTI      0      0.21111111  0        3.727273   7.146772\n",
       "30 Indonesia           IDN      0      0.05560000  0        7.590909   8.070906\n",
       "⋮  ⋮                   ⋮        ⋮      ⋮          ⋮         ⋮         ⋮        \n",
       "35 Morocco             MAR      1      0.35555556   1.00000  7.090909  8.042378\n",
       "36 Madagascar          MDG      1      0.22222222   0.00000  4.454545  6.835185\n",
       "37 Mexico              MEX      0      0.25555557  15.00000  7.500000  8.943768\n",
       "38 Mali                MLI      1      0.18888889   0.00000  4.000000  6.565265\n",
       "39 Malta               MLT      0      0.39444444 100.00000  7.227273  9.427063\n",
       "40 Malaysia            MYS      0      0.02555555   0.00000  7.954545  8.894258\n",
       "41 Niger               NER      1      0.17777778   0.00000  5.000000  6.733402\n",
       "42 Nigeria             NGA      1      0.11111111   0.00000  5.545455  6.813445\n",
       "43 Nicaragua           NIC      0      0.14444445  20.00000  5.227273  7.544332\n",
       "44 New Zealand         NZL      0      0.45555556  91.70000  9.727273  9.756147\n",
       "45 Pakistan            PAK      0      0.33333334   0.00000  6.045455  7.352441\n",
       "46 Panama              PAN      0      0.10000000  20.00000  5.909091  8.836374\n",
       "47 Peru                PER      0      0.11111111  30.00000  5.772727  8.396154\n",
       "48 Paraguay            PRY      0      0.25555557  25.00000  6.954545  8.207947\n",
       "49 Sudan               SDN      1      0.16666667   0.00000  4.000000  7.306531\n",
       "50 Senegal             SEN      1      0.15555556   0.00000  6.000000  7.402452\n",
       "51 Singapore           SGP      0      0.01355556   0.00000  9.318182 10.146434\n",
       "52 Sierra Leone        SLE      1      0.09222222   0.00000  5.818182  6.253829\n",
       "53 El Salvador         SLV      0      0.15000001  20.00000  5.000000  7.948032\n",
       "54 Togo                TGO      1      0.08888889   0.00000  6.909091  7.222566\n",
       "55 Trinidad and Tobago TTO      0      0.12222222  40.00000  7.454545  8.768730\n",
       "56 Tunisia             TUN      1      0.37777779   0.00000  6.454545  8.482602\n",
       "57 Tanzania            TZA      1      0.06666667   0.00000  6.636364  6.253829\n",
       "58 Uganda              UGA      1      0.01111111   0.00000  4.454545  6.966024\n",
       "59 Uruguary            URY      0      0.36666667  90.00000  7.000000  9.031214\n",
       "60 USA                 USA      0      0.42222223  83.60001 10.000000 10.215740\n",
       "61 Venezuela           VEN      0      0.08888889  20.00000  7.136364  9.071078\n",
       "62 Vietnam             VNM      0      0.17777778   0.00000  6.409091  7.279319\n",
       "63 South Africa        ZAF      1      0.32222223  16.00000  6.863636  8.885994\n",
       "64 Zaire               ZAR      1      0.00000000   0.00000  3.500000  6.866933\n",
       "   logmort \n",
       "1  5.634789\n",
       "2  4.262680\n",
       "3  2.145931\n",
       "4  5.634789\n",
       "5  4.268438\n",
       "6  4.442651\n",
       "7  4.262680\n",
       "8  4.262680\n",
       "9  2.778819\n",
       "10 4.262680\n",
       "11 6.180017\n",
       "12 5.634789\n",
       "13 5.480639\n",
       "14 4.262680\n",
       "15 4.357990\n",
       "16 4.867535\n",
       "17 4.359270\n",
       "18 4.262680\n",
       "19 4.216562\n",
       "20 3.258096\n",
       "21 5.634789\n",
       "22 6.504288\n",
       "23 6.180017\n",
       "24 7.293018\n",
       "25 4.262680\n",
       "26 3.471345\n",
       "27 2.701361\n",
       "28 4.357990\n",
       "29 4.867535\n",
       "30 5.135798\n",
       "⋮  ⋮       \n",
       "35 4.359270\n",
       "36 6.284209\n",
       "37 4.262680\n",
       "38 7.986165\n",
       "39 2.791165\n",
       "40 2.873565\n",
       "41 5.991465\n",
       "42 7.602901\n",
       "43 5.095589\n",
       "44 2.145931\n",
       "45 3.610648\n",
       "46 5.095589\n",
       "47 4.262680\n",
       "48 4.357990\n",
       "49 4.479607\n",
       "50 5.103883\n",
       "51 2.873565\n",
       "52 6.180017\n",
       "53 4.357990\n",
       "54 6.504288\n",
       "55 4.442651\n",
       "56 4.143135\n",
       "57 4.976734\n",
       "58 5.634789\n",
       "59 4.262680\n",
       "60 2.708050\n",
       "61 4.357990\n",
       "62 4.941642\n",
       "63 2.740840\n",
       "64 5.480639"
      ]
     },
     "metadata": {},
     "output_type": "display_data"
    }
   ],
   "source": [
    "data"
   ]
  },
  {
   "cell_type": "code",
   "execution_count": 3,
   "metadata": {
    "ExecuteTime": {
     "end_time": "2022-12-16T10:10:40.417577Z",
     "start_time": "2022-12-16T10:10:40.208Z"
    },
    "execution": {
     "iopub.execute_input": "2024-01-11T14:09:59.824287Z",
     "iopub.status.busy": "2024-01-11T14:09:59.821501Z",
     "iopub.status.idle": "2024-01-11T14:10:00.098876Z",
     "shell.execute_reply": "2024-01-11T14:10:00.097763Z"
    }
   },
   "outputs": [],
   "source": [
    "library(ggplot2)"
   ]
  },
  {
   "cell_type": "code",
   "execution_count": 4,
   "metadata": {
    "ExecuteTime": {
     "end_time": "2022-12-16T10:10:42.474517Z",
     "start_time": "2022-12-16T10:10:41.452Z"
    },
    "execution": {
     "iopub.execute_input": "2024-01-11T14:10:00.202734Z",
     "iopub.status.busy": "2024-01-11T14:10:00.200735Z",
     "iopub.status.idle": "2024-01-11T14:10:01.137978Z",
     "shell.execute_reply": "2024-01-11T14:10:01.136467Z"
    }
   },
   "outputs": [
    {
     "data": {
      "image/png": "[encoded data removed]",
      "text/plain": [
       "plot without title"
      ]
     },
     "metadata": {
      "image/png": {
       "height": 420,
       "width": 420
      }
     },
     "output_type": "display_data"
    }
   ],
   "source": [
    "ggplot(data, aes(x=prot, y=lgdp)) + geom_point() + geom_smooth(method='lm',formula=y~x) + \n",
    "  xlab(\"Index of protection of property rights\") +\n",
    "  ylab(\"Logarithm of GDP\")"
   ]
  },
  {
   "cell_type": "code",
   "execution_count": 6,
   "metadata": {
    "ExecuteTime": {
     "end_time": "2022-12-16T10:10:54.780926Z",
     "start_time": "2022-12-16T10:10:54.752Z"
    },
    "execution": {
     "iopub.execute_input": "2024-01-11T14:10:23.833965Z",
     "iopub.status.busy": "2024-01-11T14:10:23.829540Z",
     "iopub.status.idle": "2024-01-11T14:10:23.859770Z",
     "shell.execute_reply": "2024-01-11T14:10:23.858306Z"
    }
   },
   "outputs": [
    {
     "data": {
      "text/plain": [
       "\n",
       "Call:\n",
       "lm(formula = lgdp ~ prot, data = data)\n",
       "\n",
       "Residuals:\n",
       "    Min      1Q  Median      3Q     Max \n",
       "-1.8715 -0.4644  0.1683  0.4610  1.1413 \n",
       "\n",
       "Coefficients:\n",
       "            Estimate Std. Error t value Pr(>|t|)    \n",
       "(Intercept)  4.66038    0.40851  11.408  < 2e-16 ***\n",
       "prot         0.52211    0.06119   8.533 4.72e-12 ***\n",
       "---\n",
       "Signif. codes:  0 ‘***’ 0.001 ‘**’ 0.01 ‘*’ 0.05 ‘.’ 0.1 ‘ ’ 1\n",
       "\n",
       "Residual standard error: 0.7132 on 62 degrees of freedom\n",
       "Multiple R-squared:  0.5401,\tAdjusted R-squared:  0.5327 \n",
       "F-statistic: 72.82 on 1 and 62 DF,  p-value: 4.724e-12\n"
      ]
     },
     "metadata": {},
     "output_type": "display_data"
    }
   ],
   "source": [
    "model_a <- lm(data = data, lgdp~prot)\n",
    "summary(model_a)"
   ]
  },
  {
   "cell_type": "markdown",
   "metadata": {},
   "source": [
    "(b) Estimate the new regression including ``latitude`` in the original equation. Based on the authors' logic, explain why latitude might be an important control variable in this case. Interpret your results. Do they confirm that latitude is really an important variable? "
   ]
  },
  {
   "cell_type": "code",
   "execution_count": 7,
   "metadata": {
    "ExecuteTime": {
     "end_time": "2022-12-16T10:14:22.567808Z",
     "start_time": "2022-12-16T10:14:22.534Z"
    },
    "execution": {
     "iopub.execute_input": "2024-01-11T14:13:31.096196Z",
     "iopub.status.busy": "2024-01-11T14:13:31.095169Z",
     "iopub.status.idle": "2024-01-11T14:13:31.108758Z",
     "shell.execute_reply": "2024-01-11T14:13:31.107585Z"
    }
   },
   "outputs": [
    {
     "data": {
      "text/plain": [
       "\n",
       "Call:\n",
       "lm(formula = lgdp ~ prot + latitude, data = data)\n",
       "\n",
       "Residuals:\n",
       "    Min      1Q  Median      3Q     Max \n",
       "-1.6845 -0.4233  0.1408  0.4584  1.1858 \n",
       "\n",
       "Coefficients:\n",
       "            Estimate Std. Error t value Pr(>|t|)    \n",
       "(Intercept)  4.72808    0.39732  11.900  < 2e-16 ***\n",
       "prot         0.46789    0.06416   7.292 7.29e-10 ***\n",
       "latitude     1.57688    0.71031   2.220   0.0301 *  \n",
       "---\n",
       "Signif. codes:  0 ‘***’ 0.001 ‘**’ 0.01 ‘*’ 0.05 ‘.’ 0.1 ‘ ’ 1\n",
       "\n",
       "Residual standard error: 0.6917 on 61 degrees of freedom\n",
       "Multiple R-squared:  0.5745,\tAdjusted R-squared:  0.5605 \n",
       "F-statistic: 41.18 on 2 and 61 DF,  p-value: 4.805e-12\n"
      ]
     },
     "metadata": {},
     "output_type": "display_data"
    }
   ],
   "source": [
    "model_a <- lm(data = data, lgdp~prot+latitude)\n",
    "summary(model_a)"
   ]
  },
  {
   "cell_type": "markdown",
   "metadata": {},
   "source": [
    "(c) Before proceeding with 2SLS, estimate the equation of the reduced form: the regression of the ``lgdp`` on the mortality of settlers ``logmort``. Make a scatterplot characterizing this relationship. How can you explain the results obtained? "
   ]
  },
  {
   "cell_type": "code",
   "execution_count": 8,
   "metadata": {
    "ExecuteTime": {
     "end_time": "2022-12-16T10:20:52.590601Z",
     "start_time": "2022-12-16T10:20:52.556Z"
    },
    "execution": {
     "iopub.execute_input": "2024-01-11T14:13:59.833703Z",
     "iopub.status.busy": "2024-01-11T14:13:59.832740Z",
     "iopub.status.idle": "2024-01-11T14:13:59.845006Z",
     "shell.execute_reply": "2024-01-11T14:13:59.843905Z"
    }
   },
   "outputs": [
    {
     "data": {
      "text/plain": [
       "\n",
       "Call:\n",
       "lm(formula = lgdp ~ logmort, data = data)\n",
       "\n",
       "Residuals:\n",
       "    Min      1Q  Median      3Q     Max \n",
       "-2.7419 -0.5325  0.1507  0.4693  1.4110 \n",
       "\n",
       "Coefficients:\n",
       "            Estimate Std. Error t value Pr(>|t|)    \n",
       "(Intercept) 10.70759    0.37481  28.568  < 2e-16 ***\n",
       "logmort     -0.56980    0.07802  -7.304  6.4e-10 ***\n",
       "---\n",
       "Signif. codes:  0 ‘***’ 0.001 ‘**’ 0.01 ‘*’ 0.05 ‘.’ 0.1 ‘ ’ 1\n",
       "\n",
       "Residual standard error: 0.7711 on 62 degrees of freedom\n",
       "Multiple R-squared:  0.4625,\tAdjusted R-squared:  0.4538 \n",
       "F-statistic: 53.34 on 1 and 62 DF,  p-value: 6.403e-10\n"
      ]
     },
     "metadata": {},
     "output_type": "display_data"
    }
   ],
   "source": [
    "model_c <- lm(data=data, lgdp ~ logmort)  \n",
    "summary(model_c) "
   ]
  },
  {
   "cell_type": "code",
   "execution_count": 9,
   "metadata": {
    "ExecuteTime": {
     "end_time": "2022-12-16T10:21:03.519500Z",
     "start_time": "2022-12-16T10:21:03.276Z"
    },
    "execution": {
     "iopub.execute_input": "2024-01-11T14:14:10.069683Z",
     "iopub.status.busy": "2024-01-11T14:14:10.063754Z",
     "iopub.status.idle": "2024-01-11T14:14:10.363117Z",
     "shell.execute_reply": "2024-01-11T14:14:10.361526Z"
    }
   },
   "outputs": [
    {
     "data": {
      "image/png": "[encoded data removed]",
      "text/plain": [
       "plot without title"
      ]
     },
     "metadata": {
      "image/png": {
       "height": 420,
       "width": 420
      }
     },
     "output_type": "display_data"
    }
   ],
   "source": [
    "ggplot(data, aes(x = logmort, y=lgdp)) + geom_point() + geom_smooth(method='lm',formula=y~x) + xlab(\"Logarithm of mortality\") +\n",
    "  ylab(\"Logarithm of GDP\")"
   ]
  },
  {
   "cell_type": "markdown",
   "metadata": {},
   "source": [
    "(d) We now turn to assessing the impact of the quality of institutions on the logarithm of GDP using 2SLS. Use the ``logmort`` variable as an instrument. Explain meaningfully why the authors consider this tool valid, and why such an empirical strategy makes it possible to correctly test the presence of a causal relationship between the quality of institutions and GDP. "
   ]
  },
  {
   "cell_type": "code",
   "execution_count": 10,
   "metadata": {
    "ExecuteTime": {
     "end_time": "2022-12-16T10:30:20.711688Z",
     "start_time": "2022-12-16T10:30:20.683Z"
    },
    "execution": {
     "iopub.execute_input": "2024-01-11T14:16:43.338015Z",
     "iopub.status.busy": "2024-01-11T14:16:43.333909Z",
     "iopub.status.idle": "2024-01-11T14:16:43.478736Z",
     "shell.execute_reply": "2024-01-11T14:16:43.477528Z"
    }
   },
   "outputs": [
    {
     "name": "stderr",
     "output_type": "stream",
     "text": [
      "Loading required package: car\n",
      "\n",
      "Loading required package: carData\n",
      "\n",
      "Loading required package: lmtest\n",
      "\n",
      "Loading required package: zoo\n",
      "\n",
      "\n",
      "Attaching package: ‘zoo’\n",
      "\n",
      "\n",
      "The following objects are masked from ‘package:base’:\n",
      "\n",
      "    as.Date, as.Date.numeric\n",
      "\n",
      "\n",
      "Loading required package: sandwich\n",
      "\n",
      "Loading required package: survival\n",
      "\n"
     ]
    }
   ],
   "source": [
    "library(AER)"
   ]
  },
  {
   "cell_type": "code",
   "execution_count": 11,
   "metadata": {
    "ExecuteTime": {
     "end_time": "2022-12-16T10:30:40.367043Z",
     "start_time": "2022-12-16T10:30:40.342Z"
    },
    "execution": {
     "iopub.execute_input": "2024-01-11T14:17:00.606590Z",
     "iopub.status.busy": "2024-01-11T14:17:00.602477Z",
     "iopub.status.idle": "2024-01-11T14:17:00.628569Z",
     "shell.execute_reply": "2024-01-11T14:17:00.626859Z"
    }
   },
   "outputs": [],
   "source": [
    "tsls_d <- ivreg(lgdp ~ prot|logmort, data=data )"
   ]
  },
  {
   "cell_type": "code",
   "execution_count": 12,
   "metadata": {
    "ExecuteTime": {
     "end_time": "2022-12-16T10:30:48.327106Z",
     "start_time": "2022-12-16T10:30:48.290Z"
    },
    "execution": {
     "iopub.execute_input": "2024-01-11T14:17:06.325038Z",
     "iopub.status.busy": "2024-01-11T14:17:06.322822Z",
     "iopub.status.idle": "2024-01-11T14:17:06.346839Z",
     "shell.execute_reply": "2024-01-11T14:17:06.345332Z"
    }
   },
   "outputs": [
    {
     "data": {
      "text/plain": [
       "\n",
       "Call:\n",
       "ivreg(formula = lgdp ~ prot | logmort, data = data)\n",
       "\n",
       "Residuals:\n",
       "     Min       1Q   Median       3Q      Max \n",
       "-2.40124 -0.55430  0.07021  0.66539  1.64168 \n",
       "\n",
       "Coefficients:\n",
       "            Estimate Std. Error t value Pr(>|t|)    \n",
       "(Intercept)   2.0869     0.9853   2.118   0.0382 *  \n",
       "prot          0.9171     0.1502   6.106 7.35e-08 ***\n",
       "\n",
       "Diagnostic tests:\n",
       "                 df1 df2 statistic  p-value    \n",
       "Weak instruments   1  62     23.82 7.76e-06 ***\n",
       "Wu-Hausman         1  61     21.23 2.13e-05 ***\n",
       "Sargan             0  NA        NA       NA    \n",
       "---\n",
       "Signif. codes:  0 ‘***’ 0.001 ‘**’ 0.01 ‘*’ 0.05 ‘.’ 0.1 ‘ ’ 1\n",
       "\n",
       "Residual standard error: 0.9223 on 62 degrees of freedom\n",
       "Multiple R-Squared: 0.231,\tAdjusted R-squared: 0.2186 \n",
       "Wald test: 37.29 on 1 and 62 DF,  p-value: 7.354e-08 \n"
      ]
     },
     "metadata": {},
     "output_type": "display_data"
    }
   ],
   "source": [
    "summary(tsls_d, diagnostics=T)"
   ]
  },
  {
   "cell_type": "markdown",
   "metadata": {},
   "source": [
    "(e) Estimate the regression of the first step of 2SLS. Illustrate the result with a scatter plot. After calculating the appropriate F-statistic, explain whether the instrument used is strong (relevant). "
   ]
  },
  {
   "cell_type": "code",
   "execution_count": null,
   "metadata": {
    "ExecuteTime": {
     "end_time": "2022-12-16T10:33:07.361350Z",
     "start_time": "2022-12-16T10:33:07.340Z"
    }
   },
   "outputs": [],
   "source": [
    "first_step <- lm(prot~logmort, data)"
   ]
  },
  {
   "cell_type": "code",
   "execution_count": null,
   "metadata": {
    "ExecuteTime": {
     "end_time": "2022-12-16T10:33:10.915195Z",
     "start_time": "2022-12-16T10:33:10.884Z"
    }
   },
   "outputs": [],
   "source": [
    "summary(first_step)"
   ]
  },
  {
   "cell_type": "code",
   "execution_count": null,
   "metadata": {
    "ExecuteTime": {
     "end_time": "2022-12-16T07:10:46.348297Z",
     "start_time": "2022-12-16T07:10:43.693Z"
    }
   },
   "outputs": [],
   "source": [
    "ggplot(data, aes(x=logmort, y=prot)) + geom_point() + geom_smooth(method='lm',formula=y~x)  + xlab(\"Logarithm of mortaility\") +\n",
    "  ylab(\"Index of protection of property rights\")"
   ]
  },
  {
   "cell_type": "markdown",
   "metadata": {},
   "source": [
    "(f) Estimate the second step regression. Interpret the results obtained. How has the estimate of the impact of the quality of institutions on GDP changed compared to the estimate obtained with OLS? What does this change say about the cause of the endogeneity of the regressor (which of the causes of endogeneity prevailed in the original model)? "
   ]
  },
  {
   "cell_type": "code",
   "execution_count": null,
   "metadata": {
    "ExecuteTime": {
     "end_time": "2021-02-22T12:12:26.042003Z",
     "start_time": "2021-02-22T12:12:26.033Z"
    }
   },
   "outputs": [],
   "source": [
    "prot_est <- first_step$fitted.values"
   ]
  },
  {
   "cell_type": "code",
   "execution_count": null,
   "metadata": {
    "ExecuteTime": {
     "end_time": "2021-02-22T12:12:57.602937Z",
     "start_time": "2021-02-22T12:12:57.590Z"
    }
   },
   "outputs": [],
   "source": [
    "second_step <- lm(lgdp ~ prot_est, data = data )"
   ]
  },
  {
   "cell_type": "code",
   "execution_count": null,
   "metadata": {
    "ExecuteTime": {
     "end_time": "2021-02-22T12:13:07.849084Z",
     "start_time": "2021-02-22T12:13:07.834Z"
    }
   },
   "outputs": [],
   "source": [
    "summary(second_step)"
   ]
  },
  {
   "cell_type": "markdown",
   "metadata": {},
   "source": [
    "(g) Evaluate the alternative specification of 2SLS regression  adding a control variable.  Is the conclusion about the positive impact of the quality of institutions on GDP sustainable? "
   ]
  },
  {
   "cell_type": "code",
   "execution_count": null,
   "metadata": {
    "ExecuteTime": {
     "end_time": "2021-02-22T12:20:20.598319Z",
     "start_time": "2021-02-22T12:20:20.578Z"
    }
   },
   "outputs": [],
   "source": [
    "tsls_g <- ivreg(lgdp ~ prot + latitude|logmort+latitude, data=data )\n",
    "summary(tsls_g, diagnostics=T)"
   ]
  },
  {
   "cell_type": "code",
   "execution_count": null,
   "metadata": {
    "ExecuteTime": {
     "end_time": "2021-02-22T15:19:10.355539Z",
     "start_time": "2021-02-22T15:19:10.323Z"
    }
   },
   "outputs": [],
   "source": [
    "first_step <- lm(prot ~ logmort + latitude , data=data)\n",
    "summary(first_step)\n",
    "\n",
    "prot_est_g <- first_step$fitted.values\n",
    "\n",
    "second_step <- lm(lgdp ~ prot_est_g + latitude , data=data)\n",
    "summary(second_step)"
   ]
  },
  {
   "cell_type": "markdown",
   "metadata": {},
   "source": [
    "(h) Another way to test the robustness of the results is by analyzing individual subsamples. Construct the regressions from the two previous paragraphs using only data for all countries except African. Then build two similar models using a subsample of African countries only.\n",
    "Compare estimates of the impact of institutional quality on GDP in \n",
    "this subsample with those in the base sample. Is the analyzed effect heterogeneous? What problems with the quality of the models do you see?"
   ]
  },
  {
   "cell_type": "code",
   "execution_count": null,
   "metadata": {
    "ExecuteTime": {
     "end_time": "2021-02-22T12:22:44.083612Z",
     "start_time": "2021-02-22T12:22:44.069Z"
    }
   },
   "outputs": [],
   "source": [
    "newdata <- subset(data, africa==0)"
   ]
  },
  {
   "cell_type": "code",
   "execution_count": null,
   "metadata": {
    "ExecuteTime": {
     "end_time": "2021-02-22T12:23:31.742298Z",
     "start_time": "2021-02-22T12:23:31.720Z"
    }
   },
   "outputs": [],
   "source": [
    "tsls_h <- ivreg(lgdp ~ prot|logmort, data=newdata )\n",
    "summary(tsls_h, diagnostics=T)"
   ]
  },
  {
   "cell_type": "code",
   "execution_count": null,
   "metadata": {
    "ExecuteTime": {
     "end_time": "2021-02-22T12:23:34.832136Z",
     "start_time": "2021-02-22T12:23:34.811Z"
    }
   },
   "outputs": [],
   "source": [
    "tsls_i <- ivreg(lgdp ~ prot + latitude|logmort+latitude, data=newdata )\n",
    "summary(tsls_i, diagnostics=T)"
   ]
  },
  {
   "cell_type": "markdown",
   "metadata": {},
   "source": [
    "(i) Suppose a critic asserts the following: “Settler mortality is correlated not only with the quality of institutions, but also with the proportion of the population of European origin in a given country (variable euro). Due to the peculiarities of the colonization process in some countries, the proportion of the European population is much higher than that of the indigenous population and sometimes approaches 100 percent. Moreover, this share itself affects the value of GDP: the more people with European origin in the country, the more GDP, even with the same quality of institutions.\"\n",
    "\n",
    "In other words, the critic argues that the high per capita GDP in former colonies such as the United States, Canada and Australia is primarily due not to the quality of institutions, but to the high proportion of the population of European descent in the total population of these countries.\n",
    "\n",
    "If the critic is right, how does this affect the consistency of the 2SLS  estimates in the regressions constructed above? Explain your answer in detail on an intuitive level.\n",
    "\n",
    "Check the hypothesis formulated by the critic. If the hypothesis is confirmed, suggest an empirical approach that allows you to fix the problem. Implement it and interpret the results. "
   ]
  },
  {
   "cell_type": "code",
   "execution_count": null,
   "metadata": {
    "ExecuteTime": {
     "end_time": "2021-02-22T15:20:14.434167Z",
     "start_time": "2021-02-22T15:20:14.409Z"
    }
   },
   "outputs": [],
   "source": [
    "tsls_j <- ivreg(lgdp ~ prot + euro | logmort + euro , data=data )\n",
    "summary(tsls_j)\n",
    "\n",
    "tsls_k <- ivreg(lgdp ~ prot + euro + latitude | logmort + euro + latitude , data=data )\n",
    "summary(tsls_k)"
   ]
  },
  {
   "cell_type": "code",
   "execution_count": null,
   "metadata": {},
   "outputs": [],
   "source": []
  },
  {
   "cell_type": "markdown",
   "metadata": {},
   "source": [
    "# Endogeneity\n"
   ]
  },
  {
   "cell_type": "markdown",
   "metadata": {},
   "source": [
    "$y_i = \\alpha + \\beta*x_i + e_i  = 10 + 2*x_i + e_i  $\n",
    "\n",
    "$x_i = e_i - 0.9 * e_{i-1}$"
   ]
  },
  {
   "cell_type": "code",
   "execution_count": null,
   "metadata": {
    "ExecuteTime": {
     "end_time": "2022-12-16T05:41:20.933703Z",
     "start_time": "2022-12-16T05:41:20.923Z"
    }
   },
   "outputs": [],
   "source": [
    "e_2 = rnorm(n = 101, 0,1)\n",
    "e = e_2[2:101]\n",
    "x = e - 0.9*e_2[1:100] \n",
    "y = 10 + 2 * x + e "
   ]
  },
  {
   "cell_type": "code",
   "execution_count": null,
   "metadata": {
    "ExecuteTime": {
     "end_time": "2022-12-16T05:41:21.566993Z",
     "start_time": "2022-12-16T05:41:21.231Z"
    }
   },
   "outputs": [],
   "source": [
    "mod<-lm(y~x)\n",
    "summary(mod)"
   ]
  },
  {
   "cell_type": "code",
   "execution_count": null,
   "metadata": {
    "ExecuteTime": {
     "end_time": "2022-12-16T05:41:22.269573Z",
     "start_time": "2022-12-16T05:41:21.518Z"
    }
   },
   "outputs": [],
   "source": [
    "summary(mod)[[4]][2,1]"
   ]
  },
  {
   "cell_type": "code",
   "execution_count": null,
   "metadata": {
    "ExecuteTime": {
     "end_time": "2022-12-16T05:41:23.333376Z",
     "start_time": "2022-12-16T05:41:21.792Z"
    }
   },
   "outputs": [],
   "source": [
    "betas_1 <- c()\n",
    "for (i in 1:500){\n",
    "    e = rnorm(n = 100, 0,1)\n",
    "    y = 10 + 2 * x + e \n",
    "    mod<-lm(y~x) \n",
    "    betas_1 <- c(betas_1, summary(mod)[[4]][2,1])\n",
    "}"
   ]
  },
  {
   "cell_type": "code",
   "execution_count": null,
   "metadata": {
    "ExecuteTime": {
     "end_time": "2022-12-16T05:41:24.053781Z",
     "start_time": "2022-12-16T05:41:22.110Z"
    }
   },
   "outputs": [],
   "source": [
    "hist(betas_1)\n",
    "mean(betas_1)\n",
    "sd(betas_1)"
   ]
  },
  {
   "cell_type": "code",
   "execution_count": null,
   "metadata": {
    "ExecuteTime": {
     "end_time": "2022-12-16T05:41:25.111800Z",
     "start_time": "2022-12-16T05:41:22.430Z"
    }
   },
   "outputs": [],
   "source": [
    "betas_1 <- c()\n",
    "for (i in 1:500){\n",
    "    e_2 = rnorm(n = 101, 0,1)\n",
    "    e = e_2[2:101]\n",
    "    x = e - 0.9*e_2[1:100]\n",
    "    y = 10 + 2 * x + e \n",
    "    mod<-lm(y~x) \n",
    "    betas_1 <- c(betas_1, summary(mod)[[4]][2,1])\n",
    "}\n",
    "\n",
    "hist(betas_1)\n",
    "mean(betas_1)\n",
    "sd(betas_1)"
   ]
  },
  {
   "cell_type": "code",
   "execution_count": null,
   "metadata": {
    "ExecuteTime": {
     "end_time": "2022-12-16T05:41:25.793468Z",
     "start_time": "2022-12-16T05:41:22.759Z"
    }
   },
   "outputs": [],
   "source": [
    "mod <- lm(y~x) "
   ]
  },
  {
   "cell_type": "code",
   "execution_count": null,
   "metadata": {
    "ExecuteTime": {
     "end_time": "2022-12-16T05:41:26.490030Z",
     "start_time": "2022-12-16T05:41:22.983Z"
    }
   },
   "outputs": [],
   "source": [
    "x_plot = seq(min(x),max(x), by =  0.01)\n",
    "y_plot = summary(mod)[[4]][1,1] +  summary(mod)[[4]][2,1] * x_plot"
   ]
  },
  {
   "cell_type": "code",
   "execution_count": null,
   "metadata": {
    "ExecuteTime": {
     "end_time": "2022-12-16T05:41:27.228632Z",
     "start_time": "2022-12-16T05:41:23.212Z"
    }
   },
   "outputs": [],
   "source": [
    "plot(x,y)\n",
    "lines(x_plot, y_plot, type = 'l')"
   ]
  },
  {
   "cell_type": "markdown",
   "metadata": {},
   "source": [
    "# IV regression"
   ]
  },
  {
   "cell_type": "code",
   "execution_count": null,
   "metadata": {
    "ExecuteTime": {
     "end_time": "2022-12-16T05:41:27.935736Z",
     "start_time": "2022-12-16T05:41:23.805Z"
    }
   },
   "outputs": [],
   "source": [
    "e <- rnorm(2000,0,1)\n",
    "u <- rnorm(2000,0,1)\n",
    "v <- rnorm(2000,0,1)"
   ]
  },
  {
   "cell_type": "code",
   "execution_count": null,
   "metadata": {
    "ExecuteTime": {
     "end_time": "2022-12-16T05:41:28.699746Z",
     "start_time": "2022-12-16T05:41:24.352Z"
    }
   },
   "outputs": [],
   "source": [
    "plot(density(e))"
   ]
  },
  {
   "cell_type": "markdown",
   "metadata": {},
   "source": [
    "$ x_i = \\epsilon_i + u_i$"
   ]
  },
  {
   "cell_type": "code",
   "execution_count": null,
   "metadata": {
    "ExecuteTime": {
     "end_time": "2022-12-16T05:41:29.396207Z",
     "start_time": "2022-12-16T05:41:25.095Z"
    }
   },
   "outputs": [],
   "source": [
    "x = e+u"
   ]
  },
  {
   "cell_type": "markdown",
   "metadata": {},
   "source": [
    "$z_i = v_i + u_i$"
   ]
  },
  {
   "cell_type": "code",
   "execution_count": null,
   "metadata": {
    "ExecuteTime": {
     "end_time": "2022-12-16T05:41:30.110766Z",
     "start_time": "2022-12-16T05:41:26.261Z"
    }
   },
   "outputs": [],
   "source": [
    "z = v+u"
   ]
  },
  {
   "cell_type": "markdown",
   "metadata": {},
   "source": [
    "$y_i = 2+0.4*x_i+\\epsilon_i$"
   ]
  },
  {
   "cell_type": "code",
   "execution_count": null,
   "metadata": {
    "ExecuteTime": {
     "end_time": "2022-12-16T05:41:30.858619Z",
     "start_time": "2022-12-16T05:41:27.349Z"
    }
   },
   "outputs": [],
   "source": [
    "y = 2+0.4*x+e"
   ]
  },
  {
   "cell_type": "code",
   "execution_count": null,
   "metadata": {
    "ExecuteTime": {
     "end_time": "2022-12-16T05:41:31.679652Z",
     "start_time": "2022-12-16T05:41:28.459Z"
    }
   },
   "outputs": [],
   "source": [
    "mod0 = lm(y~x)\n",
    "summary(mod0)"
   ]
  },
  {
   "cell_type": "markdown",
   "metadata": {},
   "source": [
    "$H_0: \\hat{b}=0.4$"
   ]
  },
  {
   "cell_type": "code",
   "execution_count": null,
   "metadata": {
    "ExecuteTime": {
     "end_time": "2022-12-16T05:41:32.398713Z",
     "start_time": "2022-12-16T05:41:30.345Z"
    }
   },
   "outputs": [],
   "source": [
    "(0.90167-0.4)/0.01132"
   ]
  },
  {
   "cell_type": "code",
   "execution_count": null,
   "metadata": {
    "ExecuteTime": {
     "end_time": "2022-12-16T05:41:33.109544Z",
     "start_time": "2022-12-16T05:41:30.589Z"
    }
   },
   "outputs": [],
   "source": [
    "library(AER) # ivreg\n",
    "#tsls          "
   ]
  },
  {
   "cell_type": "code",
   "execution_count": null,
   "metadata": {
    "ExecuteTime": {
     "end_time": "2022-12-16T05:41:33.808076Z",
     "start_time": "2022-12-16T05:41:32.104Z"
    }
   },
   "outputs": [],
   "source": [
    "mod_1step = lm(x~z)\n",
    "summary(mod_1step)"
   ]
  },
  {
   "cell_type": "code",
   "execution_count": null,
   "metadata": {
    "ExecuteTime": {
     "end_time": "2022-12-16T05:41:34.505057Z",
     "start_time": "2022-12-16T05:41:33.113Z"
    }
   },
   "outputs": [],
   "source": [
    "est_x <- mod_1step$fitted.values"
   ]
  },
  {
   "cell_type": "code",
   "execution_count": null,
   "metadata": {
    "ExecuteTime": {
     "end_time": "2022-12-16T05:41:35.243754Z",
     "start_time": "2022-12-16T05:41:33.727Z"
    }
   },
   "outputs": [],
   "source": [
    "mod_2step = lm(y~est_x)\n",
    "summary(mod_2step)"
   ]
  },
  {
   "cell_type": "code",
   "execution_count": null,
   "metadata": {
    "ExecuteTime": {
     "end_time": "2022-12-16T05:41:36.075215Z",
     "start_time": "2022-12-16T05:41:34.026Z"
    }
   },
   "outputs": [],
   "source": [
    "mod_iv = ivreg(y~x|z)\n",
    "summary(mod_iv, diagnostics=TRUE)"
   ]
  },
  {
   "cell_type": "code",
   "execution_count": null,
   "metadata": {},
   "outputs": [],
   "source": []
  },
  {
   "cell_type": "code",
   "execution_count": null,
   "metadata": {},
   "outputs": [],
   "source": []
  },
  {
   "cell_type": "code",
   "execution_count": null,
   "metadata": {},
   "outputs": [],
   "source": []
  },
  {
   "cell_type": "code",
   "execution_count": null,
   "metadata": {},
   "outputs": [],
   "source": []
  }
 ],
 "metadata": {
  "hide_input": false,
  "kernelspec": {
   "display_name": "R 4.2",
   "language": "R",
   "name": "ir42"
  },
  "language_info": {
   "codemirror_mode": "r",
   "file_extension": ".r",
   "mimetype": "text/x-r-source",
   "name": "R",
   "pygments_lexer": "r",
   "version": "4.2.2"
  },
  "latex_envs": {
   "LaTeX_envs_menu_present": true,
   "autoclose": true,
   "autocomplete": true,
   "bibliofile": "biblio.bib",
   "cite_by": "apalike",
   "current_citInitial": 1,
   "eqLabelWithNumbers": true,
   "eqNumInitial": 1,
   "hotkeys": {
    "equation": "Ctrl-E",
    "itemize": "Ctrl-I"
   },
   "labels_anchors": false,
   "latex_user_defs": false,
   "report_style_numbering": false,
   "user_envs_cfg": false
  },
  "toc": {
   "base_numbering": 1,
   "nav_menu": {},
   "number_sections": true,
   "sideBar": true,
   "skip_h1_title": false,
   "title_cell": "Table of Contents",
   "title_sidebar": "Contents",
   "toc_cell": false,
   "toc_position": {},
   "toc_section_display": true,
   "toc_window_display": false
  },
  "varInspector": {
   "cols": {
    "lenName": 16,
    "lenType": 16,
    "lenVar": 40
   },
   "kernels_config": {
    "python": {
     "delete_cmd_postfix": "",
     "delete_cmd_prefix": "del ",
     "library": "var_list.py",
     "varRefreshCmd": "print(var_dic_list())"
    },
    "r": {
     "delete_cmd_postfix": ") ",
     "delete_cmd_prefix": "rm(",
     "library": "var_list.r",
     "varRefreshCmd": "cat(var_dic_list()) "
    }
   },
   "types_to_exclude": [
    "module",
    "function",
    "builtin_function_or_method",
    "instance",
    "_Feature"
   ],
   "window_display": false
  }
 },
 "nbformat": 4,
 "nbformat_minor": 4
}
