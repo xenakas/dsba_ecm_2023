{
 "cells": [
  {
   "cell_type": "code",
   "execution_count": null,
   "id": "553aa339-a6d5-4c38-acfb-8b7513cf7395",
   "metadata": {},
   "outputs": [],
   "source": [
    "library(ggplot2)\n",
    "library(tidyverse)\n",
    "# install.packages(\"Hmisc\")\n",
    "library(\"Hmisc\")\n",
    "# install.packages(\"psych\")\n",
    "library(psych)\n",
    "# install.packages(\"lmtest\")\n",
    "library(lmtest)"
   ]
  },
  {
   "cell_type": "markdown",
   "id": "3868e17c-d295-426f-8a10-40cb8a0405da",
   "metadata": {},
   "source": [
    "# Interpretations of coefficients in non-linear models  "
   ]
  },
  {
   "cell_type": "markdown",
   "id": "4d99cb60-16f6-47e5-9d98-4312ec91877e",
   "metadata": {},
   "source": [
    "## Logarithmic and semi-logarithmic models"
   ]
  },
  {
   "cell_type": "markdown",
   "id": "a39ca9fe-e214-4277-9e8f-45cd21d31615",
   "metadata": {},
   "source": [
    "- $y_i = \\beta_1 + \\beta_2* x_i+ u_i$\n",
    "    - $\\dfrac{dy_i}{dx_i} = \\beta_2$\n",
    "    - x increases by 1 => y increases by $\\beta$ \n",
    "- $log(y_i) = \\beta_1 + \\beta_2* log(x_i) + u_i$\n",
    "    - $\\dfrac{d \\ln y_i}{d \\ln x_i} = \\dfrac{100 * d y_i / y_i}{100 * d  x_i / x_i}  = \\beta_2$\n",
    "    - x increases by 1% => y increases by $\\beta$ %\n",
    "- $y_i = \\beta_1 + \\beta_2* log(x_i) + u_i$\n",
    "    - $\\dfrac{d y_i}{d \\ln x_i} = \\beta_2$\n",
    "    - $\\dfrac{d y_i }{100 *  d  x_i / x_i} = \\beta_2 / 100 $\n",
    "    - x increases by 1% => y increases by $\\beta/100$ \n",
    "- $log(y_i) = \\beta_1 + \\beta_2* x_i + u_i$\n",
    "    - $\\dfrac{100 * d y_i / y_i}{d  x_i } = 100 * \\beta_2$\n",
    "    - x increases by 1 => y increases by $100 \\beta$ % \n"
   ]
  },
  {
   "cell_type": "markdown",
   "id": "2c7e304b-aa36-4e25-a917-a3bbf03767f4",
   "metadata": {},
   "source": [
    "## Models with quadratic and interactive terms"
   ]
  },
  {
   "cell_type": "markdown",
   "id": "fd46c498-85d1-4a0e-8c78-1360210e3989",
   "metadata": {},
   "source": [
    "Models with quadratic terms\n",
    "\n",
    "$Y=\\beta_{1}+\\beta_{2} X_{2}+\\beta_{3} X_{2}^{2}+\\epsilon$\n",
    "\n",
    "$\\frac{\\mathrm{d} Y}{\\mathrm{d} X_{2}}=\\beta_{2}+2 \\beta_{3} X_{2}$\n",
    "\n",
    "- What this shows is that $\\beta_{2}$ gives the rate of change when $x$ is equal to zero. \n",
    "- It tells both the direction and steepness of the curvature (a positive value indicates the curvature is upwards while a negative value indicates the curvature is downwards).\n",
    "\n",
    "$Y=\\beta_{1}+\\left(\\beta_{2}+\\beta_{3} X_{2}\\right) X_{2}+u$\n",
    "\n",
    "- The coefficient $\\beta_{3}$ tells a rate of change of $X_{2}$ per unit change of $X_{2}$. "
   ]
  },
  {
   "cell_type": "markdown",
   "id": "b2108543-9db5-4360-a2e5-4a78d7e4d7cd",
   "metadata": {},
   "source": [
    "# Log"
   ]
  },
  {
   "cell_type": "code",
   "execution_count": null,
   "id": "c867c3ee-5da9-4745-925f-b10fea8ee3e1",
   "metadata": {},
   "outputs": [],
   "source": []
  },
  {
   "cell_type": "code",
   "execution_count": null,
   "id": "3fb3a32b-e559-4388-abf6-4c4966e17859",
   "metadata": {
    "colab": {
     "base_uri": "https://localhost:8080/",
     "height": 471
    },
    "id": "Pn6vKc3VESie",
    "outputId": "49a11d18-68eb-4697-cbd8-7a8b8c3a2019"
   },
   "outputs": [],
   "source": [
    "n <- 150 \n",
    "x  <-  sample(1:100,150,replace=T)\n",
    "u  <-  rnorm(n, 0, 10)\n",
    "y  <-  0.7 * x+u\n",
    "df <- data.frame(x,y)\n",
    "df %>% ggplot(aes(x=x,y=y)) + geom_point() + geom_smooth(method='lm')"
   ]
  },
  {
   "cell_type": "code",
   "execution_count": null,
   "id": "e3577e38-4a10-4b06-b890-7b5256c3c2de",
   "metadata": {
    "colab": {
     "base_uri": "https://localhost:8080/",
     "height": 323
    },
    "id": "q1oV6sU0EgLa",
    "outputId": "a67310af-31bd-4fee-a1e6-118a78556e75"
   },
   "outputs": [],
   "source": [
    "summary(lm(y~x))"
   ]
  },
  {
   "cell_type": "code",
   "execution_count": null,
   "id": "d54ce3bb-e695-4cfd-b694-2d885abcba5e",
   "metadata": {
    "colab": {
     "base_uri": "https://localhost:8080/",
     "height": 471
    },
    "id": "mOVwUjvXuzbc",
    "outputId": "608042f6-b5e5-4b05-82cf-7f86cd2699d6"
   },
   "outputs": [],
   "source": [
    "x  <-  rnorm(n,10, 15)\n",
    "u  <-  rnorm(n, 0, 10)\n",
    "y  <-  0.7 * x+u\n",
    "df <- data.frame(x,y)\n",
    "df %>% ggplot(aes(x=x,y=y)) + geom_point() + geom_smooth(method='lm')"
   ]
  },
  {
   "cell_type": "code",
   "execution_count": null,
   "id": "6523d0b3-6084-4bfd-b171-dd9f77a2ae46",
   "metadata": {
    "colab": {
     "base_uri": "https://localhost:8080/",
     "height": 323
    },
    "id": "l7Ht0R1cvnp7",
    "outputId": "8cb553d2-4de1-4020-9346-ba780d608d90"
   },
   "outputs": [],
   "source": [
    "summary(lm(y~x))"
   ]
  },
  {
   "cell_type": "code",
   "execution_count": null,
   "id": "bd225fc2-2106-4131-9b3d-05629ed53105",
   "metadata": {
    "colab": {
     "base_uri": "https://localhost:8080/",
     "height": 505
    },
    "id": "sfadUP35xBB4",
    "outputId": "f1901747-25ad-479c-a7cf-98d734d3aaf8"
   },
   "outputs": [],
   "source": [
    "n <- 2500 \n",
    "x  <-  rexp(n,5)\n",
    "u  <-  rnorm(n, 0, 10)\n",
    "y  <-  7+5*x+u\n",
    "df <- data.frame(x,y)\n",
    "df %>% ggplot(aes(x=x,y=y))  +   geom_point(alpha=0.2)  + geom_smooth(method='lm') + \n",
    "  geom_smooth(method = \"loess\", color=\"red\")"
   ]
  },
  {
   "cell_type": "code",
   "execution_count": null,
   "id": "5b43c80d-2914-42a1-8399-838b143f0ef0",
   "metadata": {
    "colab": {
     "base_uri": "https://localhost:8080/",
     "height": 323
    },
    "id": "d6d35GBkxpuZ",
    "outputId": "5863b205-f0e0-4d78-b7ba-f32f65000a56"
   },
   "outputs": [],
   "source": [
    "summary(lm(y~x))"
   ]
  },
  {
   "cell_type": "code",
   "execution_count": null,
   "id": "3fe6746c-68e6-4bf2-83c5-e5b18810926a",
   "metadata": {
    "id": "Zv2Y4C1k3V2p"
   },
   "outputs": [],
   "source": [
    "# df <- data.frame(x,y)\n",
    "# temp_var <- predict(lm(y~x), interval=\"prediction\")\n",
    "# df <- cbind(df, temp_var)"
   ]
  },
  {
   "cell_type": "code",
   "execution_count": null,
   "id": "462cd7aa-0ebb-4d72-842a-aba4ea98f12c",
   "metadata": {
    "ExecuteTime": {
     "end_time": "2021-10-29T11:04:08.486131Z",
     "start_time": "2021-10-29T11:04:07.568Z"
    },
    "id": "wnlW8WSNYbYh"
   },
   "outputs": [],
   "source": [
    "df <- read.csv('https://raw.githubusercontent.com/vincentarelbundock/Rdatasets/master/csv/AER/CigarettesB.csv', row.names = 1)"
   ]
  },
  {
   "cell_type": "code",
   "execution_count": null,
   "id": "ca66cfea-2b2a-4df9-8bb9-79b7e52cdf9f",
   "metadata": {
    "colab": {
     "base_uri": "https://localhost:8080/",
     "height": 204
    },
    "id": "DiE0Ju-9ii0e",
    "outputId": "35a681b0-aecc-42d6-9cff-d7f941320a07"
   },
   "outputs": [],
   "source": [
    "head(df)"
   ]
  },
  {
   "cell_type": "code",
   "execution_count": null,
   "id": "8dc0ff18-c8d9-44c1-8bd0-7bfc6bef6bcc",
   "metadata": {
    "colab": {
     "base_uri": "https://localhost:8080/",
     "height": 34
    },
    "id": "B-JuZDF1ob-H",
    "outputId": "44284cfa-76e6-4344-a0fb-eb1d1bd94a3b"
   },
   "outputs": [],
   "source": [
    "dim(df)"
   ]
  },
  {
   "cell_type": "code",
   "execution_count": null,
   "id": "3c58fee0-2071-4c13-a39f-f3af5d92eef4",
   "metadata": {
    "colab": {
     "base_uri": "https://localhost:8080/",
     "height": 471
    },
    "id": "wfb5fXs-YmCf",
    "outputId": "6620f8f1-0872-4af3-d6f7-b92b4dd8c332"
   },
   "outputs": [],
   "source": [
    "df %>% ggplot(aes(y=packs, x=price)) + \n",
    "  geom_point() + geom_smooth(method = 'lm')"
   ]
  },
  {
   "cell_type": "code",
   "execution_count": null,
   "id": "8f946549-3170-4ad7-80c5-cef6d703711a",
   "metadata": {
    "colab": {
     "base_uri": "https://localhost:8080/",
     "height": 471
    },
    "id": "v4B5RW2GbOaw",
    "outputId": "756691e6-1a02-4940-bbfd-e04c15814c05"
   },
   "outputs": [],
   "source": [
    "df %>% ggplot(aes(y=packs, x=income)) + \n",
    "  geom_point() + geom_smooth(method = 'lm')"
   ]
  },
  {
   "cell_type": "code",
   "execution_count": null,
   "id": "4d588369-9503-4ff2-bf1a-897e463f9ea3",
   "metadata": {
    "id": "Qiv_SbeTjh1Q"
   },
   "outputs": [],
   "source": [
    "df['lgpi'] <- df['income'] - df ['price']"
   ]
  },
  {
   "cell_type": "code",
   "execution_count": null,
   "id": "cab7efa4-2144-4671-b3a5-18a7ebe5a9ca",
   "metadata": {
    "colab": {
     "base_uri": "https://localhost:8080/",
     "height": 204
    },
    "id": "B762k67cj4be",
    "outputId": "42aba2ff-61a4-4daa-aa89-5780b18511fb"
   },
   "outputs": [],
   "source": [
    "head(df)"
   ]
  },
  {
   "cell_type": "code",
   "execution_count": null,
   "id": "212882fb-4c05-4219-8d7a-5252c6efe6a4",
   "metadata": {
    "colab": {
     "base_uri": "https://localhost:8080/",
     "height": 437
    },
    "id": "tYdjS9_wnIug",
    "outputId": "3582b324-e596-484b-c86f-0a437f94b5da"
   },
   "outputs": [],
   "source": [
    "pairs(df, pch = 19)"
   ]
  },
  {
   "cell_type": "code",
   "execution_count": null,
   "id": "316abe1c-ef71-4f11-85b8-e7512850a027",
   "metadata": {
    "colab": {
     "base_uri": "https://localhost:8080/",
     "height": 437
    },
    "id": "PLFF1RXppGHU",
    "outputId": "93592661-d3e7-4c8b-c373-f654da7309f6"
   },
   "outputs": [],
   "source": [
    "pairs.panels(df, \n",
    "             method = \"pearson\", # correlation method\n",
    "             hist.col = \"#00AFBB\",\n",
    "             lm = T,\n",
    "             density = TRUE,  # show density plots\n",
    "             ellipses = F # show correlation ellipses\n",
    "             )"
   ]
  },
  {
   "cell_type": "code",
   "execution_count": null,
   "id": "cbc12a16-bf8b-47fc-a093-af2fff77950d",
   "metadata": {
    "colab": {
     "base_uri": "https://localhost:8080/",
     "height": 340
    },
    "id": "er9jCUagb0xv",
    "outputId": "a225852f-b185-4785-9faf-a8494b4baa64"
   },
   "outputs": [],
   "source": [
    "mod <- lm(packs~price+income, data = df)\n",
    "summary(mod)"
   ]
  },
  {
   "cell_type": "code",
   "execution_count": null,
   "id": "6a92e73b-458a-45a6-8afb-9e72ca5455bc",
   "metadata": {
    "colab": {
     "base_uri": "https://localhost:8080/",
     "height": 357
    },
    "id": "Dc7dQJ37b_1L",
    "outputId": "945fdc0d-9cf3-4889-ac9b-cbe4c8fd0e5c"
   },
   "outputs": [],
   "source": [
    "mod <- lm(packs~price+income+lgpi, data = df)\n",
    "summary(mod)"
   ]
  },
  {
   "cell_type": "code",
   "execution_count": null,
   "id": "aeaf1913-e8a0-4c0d-be2e-954849c24b9c",
   "metadata": {
    "colab": {
     "base_uri": "https://localhost:8080/",
     "height": 141
    },
    "id": "Ut9tFdy8d-MV",
    "outputId": "708b60cb-63bb-4809-d0c5-ca97f38d9e24"
   },
   "outputs": [],
   "source": [
    "cor(df, method='pearson')"
   ]
  },
  {
   "cell_type": "code",
   "execution_count": null,
   "id": "5a75aaaa-545d-4b0e-9f54-654eaebf405b",
   "metadata": {
    "colab": {
     "base_uri": "https://localhost:8080/",
     "height": 272
    },
    "id": "899zRXDqkwvZ",
    "outputId": "c32419ba-b97a-4529-9969-0de1e023c55a"
   },
   "outputs": [],
   "source": [
    "rcorr(as.matrix(df))"
   ]
  },
  {
   "cell_type": "code",
   "execution_count": null,
   "id": "dcda5a5c-dd3f-46d2-803f-0ef098a72cff",
   "metadata": {
    "colab": {
     "base_uri": "https://localhost:8080/",
     "height": 340
    },
    "id": "yFG78BBapltD",
    "outputId": "d045fdf6-b776-4337-d10c-a3bd3e4ca94f"
   },
   "outputs": [],
   "source": [
    "mod <- lm(packs~price+income, data = df)\n",
    "summary(mod)"
   ]
  },
  {
   "cell_type": "code",
   "execution_count": null,
   "id": "ab4d4615-3fa9-466d-922f-e84a6ca52e0e",
   "metadata": {
    "colab": {
     "base_uri": "https://localhost:8080/",
     "height": 340
    },
    "id": "rujKXKdlsg_4",
    "outputId": "4f656453-1593-4f01-d0d1-62cd41231400"
   },
   "outputs": [],
   "source": [
    "mod <- lm(packs~price+income, data = exp(df))\n",
    "summary(mod)"
   ]
  },
  {
   "cell_type": "code",
   "execution_count": null,
   "id": "b61a9029-1fa5-46be-94cc-c140b1cc82c7",
   "metadata": {
    "colab": {
     "base_uri": "https://localhost:8080/",
     "height": 340
    },
    "id": "D7FgDG5Isn1d",
    "outputId": "e1d77f29-5d0d-4cd0-ad3e-c5f1b247081c"
   },
   "outputs": [],
   "source": [
    "mod <- lm(log(packs)~price+income, data = exp(df))\n",
    "summary(mod)"
   ]
  },
  {
   "cell_type": "code",
   "execution_count": null,
   "id": "899b9e99-cb7b-4fa4-b962-f3ae721a98de",
   "metadata": {
    "colab": {
     "base_uri": "https://localhost:8080/",
     "height": 340
    },
    "id": "sUPhzTw4s0Rb",
    "outputId": "1fc66970-216d-4819-8e6a-80b80b6704a2"
   },
   "outputs": [],
   "source": [
    "mod <- lm(packs~log(price)+income, data = exp(df))\n",
    "summary(mod)"
   ]
  },
  {
   "cell_type": "code",
   "execution_count": null,
   "id": "719f0802-074a-4c2e-b6fb-8c896e585683",
   "metadata": {
    "colab": {
     "base_uri": "https://localhost:8080/",
     "height": 204
    },
    "id": "wwj659E-38OJ",
    "outputId": "7b3db1d3-e82b-4e20-b65f-9f31cd918c2e"
   },
   "outputs": [],
   "source": [
    "head(exp(df))"
   ]
  },
  {
   "cell_type": "code",
   "execution_count": null,
   "id": "0bf25a9d-c181-487a-8c68-3306d79d5219",
   "metadata": {
    "colab": {
     "base_uri": "https://localhost:8080/",
     "height": 340
    },
    "id": "gfdZGttd3qaA",
    "outputId": "0683a14d-d11f-4262-c03b-ba16dd34dca1"
   },
   "outputs": [],
   "source": [
    "summary(lm(packs~price+income, data=exp(df)))"
   ]
  },
  {
   "cell_type": "markdown",
   "id": "a92f4a48-526b-422f-9343-cfb94ceb832a",
   "metadata": {
    "id": "hxgsRFtp1BOB"
   },
   "source": [
    "$y_i = \\beta_1 + \\beta_2* x_i+ u_i$"
   ]
  },
  {
   "cell_type": "markdown",
   "id": "46053046-daaf-4b67-ac79-b5ee02da617b",
   "metadata": {
    "id": "9GYjwQrN2ecm"
   },
   "source": [
    "$\\dfrac{dy_i}{dx_i} = \\beta_2$"
   ]
  },
  {
   "cell_type": "code",
   "execution_count": null,
   "id": "204ceac6-7cec-4d65-8a18-c0cb3cbbd33b",
   "metadata": {
    "colab": {
     "base_uri": "https://localhost:8080/",
     "height": 340
    },
    "id": "H8TuzmhR06_Y",
    "outputId": "a2cc9c09-8370-499b-9f68-78ce1e320b52"
   },
   "outputs": [],
   "source": [
    "summary(lm(packs~price+income, data=df))"
   ]
  },
  {
   "cell_type": "markdown",
   "id": "7a77acac-ee9a-42a0-9736-46c5b13b8177",
   "metadata": {
    "id": "heuUxkGH2tOt"
   },
   "source": [
    "$log(y_i) = \\beta_1 + \\beta_2* log(x_i) + u_i$"
   ]
  },
  {
   "cell_type": "markdown",
   "id": "90bb0776-4939-4d4d-ac70-bc0cc210e3ec",
   "metadata": {
    "id": "UoDxxaNj28OI"
   },
   "source": [
    "$\\dfrac{d \\ln y_i}{d \\ln x_i} = \\beta_2$"
   ]
  },
  {
   "cell_type": "markdown",
   "id": "a010ee79-a17a-47f7-b6fe-a0683335442f",
   "metadata": {
    "id": "JJyedW9f3EGX"
   },
   "source": [
    "$\\dfrac{100 * d y_i / y_i}{100 * d  x_i / x_i} = \\beta_2$"
   ]
  },
  {
   "cell_type": "code",
   "execution_count": null,
   "id": "876416b9-9a02-4f03-946e-74faeec61ce2",
   "metadata": {
    "colab": {
     "base_uri": "https://localhost:8080/",
     "height": 340
    },
    "id": "8isqxno54Wk0",
    "outputId": "1aede80d-72a0-41ec-de98-970ae3b6a6f8"
   },
   "outputs": [],
   "source": [
    "summary(lm(packs~log(price)+income, data=exp(df)))"
   ]
  },
  {
   "cell_type": "markdown",
   "id": "d42c30c4-9590-449f-8270-b9ca56273a0e",
   "metadata": {
    "id": "jvIKddaP3TEB"
   },
   "source": [
    "$y_i = \\beta_1 + \\beta_2* log(x_i) + u_i$"
   ]
  },
  {
   "cell_type": "markdown",
   "id": "96eb5622-ae24-452d-8820-1f7863262275",
   "metadata": {
    "id": "797QmLTN4JZF"
   },
   "source": [
    "$\\dfrac{d y_i}{d \\ln x_i} = \\beta_2$"
   ]
  },
  {
   "cell_type": "markdown",
   "id": "7f9ede3d-dbe4-4450-a63f-00161c7329df",
   "metadata": {
    "id": "8TBY8Si04RKk"
   },
   "source": [
    "$\\dfrac{d y_i }{100 *  d  x_i / x_i} = \\beta_2 / 100 $"
   ]
  },
  {
   "cell_type": "code",
   "execution_count": null,
   "id": "47e0806b-678f-4ed4-bd4d-c9b6a67e8c58",
   "metadata": {
    "colab": {
     "base_uri": "https://localhost:8080/",
     "height": 340
    },
    "id": "VeUNeLPc5COY",
    "outputId": "dee80c56-e87f-4ccb-c662-cb563fdfceb7"
   },
   "outputs": [],
   "source": [
    "summary(lm(log(packs)~price+income, data=exp(df)))"
   ]
  },
  {
   "cell_type": "markdown",
   "id": "e747b5aa-bd27-4e3f-b140-8b1d0edd0637",
   "metadata": {
    "id": "8Rg8TWJS4kGi"
   },
   "source": [
    "$log(y_i) = \\beta_1 + \\beta_2* x_i + u_i$"
   ]
  },
  {
   "cell_type": "markdown",
   "id": "8fb30274-4571-4ab8-9ac5-50e281c070ec",
   "metadata": {
    "id": "dUrhH4ws419d"
   },
   "source": [
    "$\\dfrac{100 * d y_i / y_i}{d  x_i } = 100 * \\beta_2$"
   ]
  },
  {
   "cell_type": "markdown",
   "id": "4b74ada2-4c49-4d40-a21b-af4226129517",
   "metadata": {},
   "source": [
    "# Polynomial"
   ]
  },
  {
   "cell_type": "code",
   "execution_count": null,
   "id": "4fa85090-8e63-4703-9bab-6787d266552b",
   "metadata": {
    "ExecuteTime": {
     "end_time": "2020-10-26T05:00:51.306755Z",
     "start_time": "2020-10-26T05:00:51.278Z"
    }
   },
   "outputs": [],
   "source": [
    "df <- mtcars\n",
    "head(df)\n",
    "?mtcars"
   ]
  },
  {
   "cell_type": "code",
   "execution_count": null,
   "id": "5f3dbcf2-9f9a-4579-8587-3f878119c92c",
   "metadata": {
    "ExecuteTime": {
     "end_time": "2020-10-26T05:35:20.193938Z",
     "start_time": "2020-10-26T05:35:20.179Z"
    }
   },
   "outputs": [],
   "source": [
    "## possibly more meaningful, e.g., for summary() or bivariate plots:\n",
    "mtcars2 <- within(mtcars, {\n",
    "   vs <- factor(vs, labels = c(\"V\", \"S\"))\n",
    "   am <- factor(am, labels = c(\"automatic\", \"manual\"))\n",
    "   cyl  <- ordered(cyl)\n",
    "   gear <- ordered(gear)\n",
    "   carb <- ordered(carb)\n",
    "})\n",
    "summary(mtcars2)"
   ]
  },
  {
   "cell_type": "code",
   "execution_count": null,
   "id": "62381fa8-0ff7-4075-9eed-3fb3b1f2903f",
   "metadata": {
    "ExecuteTime": {
     "end_time": "2020-10-26T06:05:49.509252Z",
     "start_time": "2020-10-26T06:05:49.488Z"
    }
   },
   "outputs": [],
   "source": [
    "df <- df[,-(8:9)]"
   ]
  },
  {
   "cell_type": "code",
   "execution_count": null,
   "id": "09a94e45-fc6a-4ccb-a595-196959f09719",
   "metadata": {
    "ExecuteTime": {
     "end_time": "2020-10-26T05:02:16.737939Z",
     "start_time": "2020-10-26T05:02:16.510Z"
    }
   },
   "outputs": [],
   "source": [
    "require(graphics)\n",
    "pairs(df, main = \"mtcars data\", gap = 1/4)"
   ]
  },
  {
   "cell_type": "code",
   "execution_count": null,
   "id": "251a10c1-482e-4a6a-8fb9-fd55da3a038c",
   "metadata": {
    "ExecuteTime": {
     "end_time": "2020-10-26T05:29:37.842408Z",
     "start_time": "2020-10-26T05:29:37.421Z"
    }
   },
   "outputs": [],
   "source": [
    "library(psych)\n",
    "pairs.panels(df, lm=T, ellipses=F, method = 'pearson', breaks=\"Sturges\")\n",
    "pairs.panels(df, lm=T, ellipses=F, method = 'spearman', breaks=\"FD\")"
   ]
  },
  {
   "cell_type": "code",
   "execution_count": null,
   "id": "04a8bfcc-1bd6-4537-a47a-173748aa09d8",
   "metadata": {
    "ExecuteTime": {
     "end_time": "2020-10-26T05:34:14.854718Z",
     "start_time": "2020-10-26T05:34:14.772Z"
    }
   },
   "outputs": [],
   "source": [
    "# about dummies\n",
    "# coplot(mpg ~ disp | as.factor(cyl), data = df, panel = panel.smooth, rows = 1)\n",
    "# coplot(mpg ~ disp | as.factor(gear), data = df, panel = panel.smooth, rows = 1)\n",
    "# coplot(mpg ~ disp | as.factor(carb), data = df, panel = panel.smooth, rows = 1)"
   ]
  },
  {
   "cell_type": "code",
   "execution_count": null,
   "id": "6da200c8-fbae-4a81-a399-1b3d9d3dafc5",
   "metadata": {
    "ExecuteTime": {
     "end_time": "2020-10-26T06:32:51.697922Z",
     "start_time": "2020-10-26T06:32:51.508Z"
    }
   },
   "outputs": [],
   "source": [
    "pairs.panels(df, lm=T, ellipses=F, method = 'spearman', breaks=\"FD\")"
   ]
  },
  {
   "cell_type": "code",
   "execution_count": null,
   "id": "284d613b-39a9-4075-89a2-ef39d9c2eb96",
   "metadata": {
    "ExecuteTime": {
     "end_time": "2020-10-26T06:56:22.503215Z",
     "start_time": "2020-10-26T06:56:22.488Z"
    }
   },
   "outputs": [],
   "source": [
    "lm1 <- lm(mpg~disp, data = df)\n",
    "summary(lm1)"
   ]
  },
  {
   "cell_type": "code",
   "execution_count": null,
   "id": "05c8f885-65ad-49d2-8bce-83dc1c1b603e",
   "metadata": {
    "ExecuteTime": {
     "end_time": "2020-10-26T06:56:27.717922Z",
     "start_time": "2020-10-26T06:56:27.681Z"
    }
   },
   "outputs": [],
   "source": [
    "plot(df$disp,df$mpg)\n",
    "abline(lm1)"
   ]
  },
  {
   "cell_type": "code",
   "execution_count": null,
   "id": "8fa26069-5982-4670-87f3-3381d8ae6c2b",
   "metadata": {
    "ExecuteTime": {
     "end_time": "2020-10-26T07:16:53.986253Z",
     "start_time": "2020-10-26T07:16:53.929Z"
    }
   },
   "outputs": [],
   "source": [
    "df['disp2'] <- df['disp']^2 \n",
    "lm2 <- lm(mpg~disp+disp2, data = df)\n",
    "summary(lm2)"
   ]
  },
  {
   "cell_type": "code",
   "execution_count": null,
   "id": "03e31fe0-529a-4b05-bba9-dae4cc0465d5",
   "metadata": {
    "ExecuteTime": {
     "end_time": "2020-10-26T07:03:12.184584Z",
     "start_time": "2020-10-26T07:03:12.123Z"
    }
   },
   "outputs": [],
   "source": [
    "plot(df$disp,df$mpg)\n",
    "disp_p <- seq(min(df$disp), max(df$disp), 0.1)\n",
    "predict_p <- predict(lm2,list(disp=disp_p, disp2=disp_p^2))\n",
    "lines(disp_p, predict_p,  col = \"darkgreen\", lwd = 3)"
   ]
  },
  {
   "cell_type": "markdown",
   "id": "6971daff-4516-4754-b4cc-c92a18846355",
   "metadata": {},
   "source": [
    "We have already seen that the estimate of the\n",
    "intercept may have no sensible meaning if $X_2 = 0$ is outside the data range."
   ]
  },
  {
   "cell_type": "markdown",
   "id": "5b5d5c31-b139-42b7-8519-bfce3f13a892",
   "metadata": {},
   "source": [
    "So the trick is to place the zero value within the range of our data. We will do this by centering the $x$, that is, we will subtract the mean of $x$ from each value. \n",
    "You note that the coefficient for the quadratic term are unchanged while the coefficient for the linear better reflect the linear relation."
   ]
  },
  {
   "cell_type": "code",
   "execution_count": null,
   "id": "7a4046bc-84da-4e13-958b-4e454c38a622",
   "metadata": {
    "ExecuteTime": {
     "end_time": "2020-10-26T07:15:02.410207Z",
     "start_time": "2020-10-26T07:15:02.356Z"
    }
   },
   "outputs": [],
   "source": [
    "df['dispc'] <- df['disp'] - mean(df['disp'],na.rm = T) "
   ]
  },
  {
   "cell_type": "code",
   "execution_count": null,
   "id": "c847b11b-cd29-4cca-abe5-a85c79e53bc5",
   "metadata": {
    "ExecuteTime": {
     "end_time": "2020-10-26T07:15:19.734557Z",
     "start_time": "2020-10-26T07:15:19.695Z"
    }
   },
   "outputs": [],
   "source": [
    "mean(df[['disp']],na.rm = T) "
   ]
  },
  {
   "cell_type": "code",
   "execution_count": null,
   "id": "186793de-f3aa-44c9-b33e-76f79a38753b",
   "metadata": {
    "ExecuteTime": {
     "end_time": "2020-10-26T07:17:44.224953Z",
     "start_time": "2020-10-26T07:17:44.150Z"
    }
   },
   "outputs": [],
   "source": [
    "df['dispc'] <- df['disp'] - mean(df[['disp']]) \n",
    "df['dispc2'] <- df['dispc']^2\n",
    "lm3 <- lm(mpg~dispc+dispc2, data = df)\n",
    "summary(lm3)\n",
    "summary(lm2)"
   ]
  },
  {
   "cell_type": "code",
   "execution_count": null,
   "id": "eaeeb228-51e0-4a68-a705-09ff01b8e18b",
   "metadata": {
    "ExecuteTime": {
     "end_time": "2020-10-26T07:18:22.750539Z",
     "start_time": "2020-10-26T07:18:22.609Z"
    }
   },
   "outputs": [],
   "source": [
    "plot(df$dispc,df$mpg)\n",
    "dispc_p <- seq(min(df$dispc), max(df$dispc), 0.1)\n",
    "predict_p <- predict(lm3,list(dispc=dispc_p, dispc2=dispc_p^2))\n",
    "lines(disp_p, predict_p,  col = \"darkgreen\", lwd = 3)"
   ]
  },
  {
   "cell_type": "code",
   "execution_count": null,
   "id": "036ea2cd-ca41-4bc0-9c2c-de850be4daa5",
   "metadata": {
    "ExecuteTime": {
     "end_time": "2020-10-26T07:22:08.448565Z",
     "start_time": "2020-10-26T07:22:08.384Z"
    }
   },
   "outputs": [],
   "source": [
    "plot(log(df$disp),df$mpg)"
   ]
  },
  {
   "cell_type": "code",
   "execution_count": null,
   "id": "7a10930c-6155-42ab-8b11-222561b327db",
   "metadata": {
    "ExecuteTime": {
     "end_time": "2020-10-26T07:23:06.511656Z",
     "start_time": "2020-10-26T07:23:06.461Z"
    }
   },
   "outputs": [],
   "source": [
    "lm4 <- lm(mpg~log(disp), data = df)\n",
    "summary(lm4)"
   ]
  },
  {
   "cell_type": "code",
   "execution_count": null,
   "id": "90e038e0-f47a-4c87-8db0-1e14ae365899",
   "metadata": {
    "ExecuteTime": {
     "end_time": "2020-10-26T06:50:28.985880Z",
     "start_time": "2020-10-26T06:50:28.917Z"
    }
   },
   "outputs": [],
   "source": [
    "?mtcars"
   ]
  },
  {
   "cell_type": "markdown",
   "id": "44f43767-44b1-4e3f-bbfb-51532a04e855",
   "metadata": {
    "ExecuteTime": {
     "end_time": "2020-10-26T06:32:43.018270Z",
     "start_time": "2020-10-26T06:32:42.990Z"
    }
   },
   "source": [
    "Models with interactive terms\n",
    "\n",
    "$Y=\\beta_{1}+\\beta_{2} X_{2}+\\beta_{3} X_{3}+\\beta_{4} X_{2} X_{3}+u$"
   ]
  },
  {
   "cell_type": "markdown",
   "id": "16c6cea1-912b-47a2-ab7a-767c04d11e3c",
   "metadata": {},
   "source": [
    "$Y=\\beta_{1}+\\left(\\beta_{2}+\\beta_{4} X_{3}\\right) X_{2}+\\beta_{3} X_{3}+u$\n",
    "\n",
    "This representation makes explicit the fact that $(\\beta_2 + \\beta_4 X_3 )$, the marginal effect of $X_2$ on $Y$, depends on the value of $X_3$, From this it can be seen that the interpretation of $\\beta_2 $ has a special interpretation. It gives the marginal effect of $X_2$ on $Y$, when $X_3 = 0$.\n",
    "\n",
    "If $X_3 = 0$ is a long way outside the range of $X_3$ in the sample, the interpretation of the estimate of $\\beta_2 $ as an estimate of the marginal effect of $X_2$ when $X_3 = 0$\n",
    "should be treated with caution. Sometimes the estimate will be completely\n",
    "implausible, in the same way as the estimate of the intercept in a regression\n",
    "is often implausible if given a literal interpretation."
   ]
  },
  {
   "cell_type": "markdown",
   "id": "268b190a-e0d6-4a8c-a622-9224a964b466",
   "metadata": {},
   "source": [
    "##  Nonlinear LS"
   ]
  },
  {
   "cell_type": "markdown",
   "id": "39277dd6-ce23-483c-aaf8-d4c64020ef01",
   "metadata": {},
   "source": [
    "\n",
    "\n",
    "\n",
    "$y_{i}=f\\left(x_{i} ; c_{1}, \\dots, c_{n}\\right)+e_{i}$"
   ]
  },
  {
   "cell_type": "code",
   "execution_count": null,
   "id": "54c0f308-12d8-4984-95a7-787c4229cc9f",
   "metadata": {
    "ExecuteTime": {
     "end_time": "2020-10-26T04:25:33.683737Z",
     "start_time": "2020-10-26T04:25:33.620Z"
    }
   },
   "outputs": [],
   "source": [
    "#set a seed value\n",
    "\n",
    "set.seed(23)\n",
    "\n",
    "#Generate x as 100 integers using seq function\n",
    "\n",
    "x<-seq(0,100,1)\n",
    "\n",
    "#Generate y as a*e^(bx)+c\n",
    "\n",
    "y<-runif(1,0,20)*exp(runif(1,0.005,0.075)*x)+runif(101,0,5)\n",
    "\n",
    "#How does our data look like? Lets plot it\n",
    "\n",
    "plot(x,y)"
   ]
  },
  {
   "cell_type": "code",
   "execution_count": null,
   "id": "c7c583b9-35d4-40bb-ad1b-11e57716772f",
   "metadata": {
    "ExecuteTime": {
     "end_time": "2020-10-26T04:26:23.745488Z",
     "start_time": "2020-10-26T04:26:23.690Z"
    }
   },
   "outputs": [],
   "source": [
    "#Linear model\n",
    "\n",
    "lin_mod=lm(y~x)\n",
    "\n",
    "#Plotting the model\n",
    "\n",
    "plot(x,y)\n",
    "\n",
    "abline(lin_mod)"
   ]
  },
  {
   "cell_type": "code",
   "execution_count": null,
   "id": "b032e1a2-f46b-45d5-afba-7569dafe8f2b",
   "metadata": {
    "ExecuteTime": {
     "end_time": "2020-10-26T04:26:58.021899Z",
     "start_time": "2020-10-26T04:26:57.958Z"
    }
   },
   "outputs": [],
   "source": [
    "nonlin_mod=nls(y~a*exp(b*x),start=list(a=13,b=0.1)) #a is the starting value and b is the exponential start\n",
    "\n",
    "#This new plot can be made by using the lines() function\n",
    "\n",
    "plot(x,y)\n",
    "\n",
    "lines(x,predict(nonlin_mod),col='red')"
   ]
  },
  {
   "cell_type": "markdown",
   "id": "3ff7c24b-6ea6-4617-8520-45bb0e100234",
   "metadata": {},
   "source": [
    "This is a much better fit and clearly passes through most of the data. For more clarity, we will now calculate the errors for both the models"
   ]
  },
  {
   "cell_type": "code",
   "execution_count": null,
   "id": "4bb68d3a-98fb-4633-aea8-8aaa9a088882",
   "metadata": {
    "ExecuteTime": {
     "end_time": "2020-10-26T04:27:14.935143Z",
     "start_time": "2020-10-26T04:27:14.902Z"
    }
   },
   "outputs": [],
   "source": [
    "#Error calculation\n",
    "\n",
    "error <- lin_mod$residuals  \n",
    "\n",
    "lm_error <- sqrt(mean(error^2))   #5.960544\n",
    "\n",
    "error2=y-predict(nonlin_mod)\n",
    "\n",
    "nlm_error <- sqrt(mean(error2^2)) #1.527064"
   ]
  },
  {
   "cell_type": "code",
   "execution_count": null,
   "id": "d5312194-dd75-4e2e-9390-ba9bf08c8a23",
   "metadata": {
    "ExecuteTime": {
     "end_time": "2020-10-26T04:18:17.452038Z",
     "start_time": "2020-10-26T04:18:17.433Z"
    }
   },
   "outputs": [],
   "source": [
    "#simulate some data\n",
    "set.seed(20160227)\n",
    "x<-seq(0,50,1)\n",
    "y<-((runif(1,10,20)*x)/(runif(1,0,10)+x))+rnorm(51,0,1)\n",
    "#for simple models nls find good starting values for the parameters even if it throw a warning\n",
    "m<-nls(y~a*x/(b+x))\n",
    "#get some estimation of goodness of fit\n",
    "cor(y,predict(m))"
   ]
  },
  {
   "cell_type": "code",
   "execution_count": null,
   "id": "f3742f33-b14a-42e0-888a-16da1deec000",
   "metadata": {
    "ExecuteTime": {
     "end_time": "2020-10-26T04:18:12.565057Z",
     "start_time": "2020-10-26T04:18:12.432Z"
    }
   },
   "outputs": [],
   "source": [
    "#plot\n",
    "plot(x,y)\n",
    "lines(x,predict(m),lty=2,col=\"red\",lwd=3)"
   ]
  },
  {
   "cell_type": "markdown",
   "id": "5752cb98-72b2-4e0b-993a-736618fe146e",
   "metadata": {},
   "source": [
    "Finding good starting values is very important in non-linear regression to allow the model algorithm to converge. If you set starting parameters values completely outside of the range of potential parameter values the algorithm will either fail or it will return non-sensical parameter like for example returning a growth rate of 1000 when the actual value is 1.04.\n",
    "\n",
    "The best way to find correct starting value is to “eyeball” the data, plotting them and based on the understanding that you have from the equation find approximate starting values for the parameters."
   ]
  },
  {
   "cell_type": "code",
   "execution_count": null,
   "id": "aca04bd1-0e3b-4dda-a221-4bf61d832913",
   "metadata": {
    "ExecuteTime": {
     "end_time": "2020-10-26T04:19:49.926810Z",
     "start_time": "2020-10-26T04:19:49.889Z"
    }
   },
   "outputs": [],
   "source": [
    "#simulate some data, this without a priori knowledge of the parameter value\n",
    "y<-runif(1,5,15)*exp(-runif(1,0.01,0.05)*x)+rnorm(51,0,0.5)\n",
    "#visually estimate some starting parameter values\n",
    "plot(x,y)"
   ]
  },
  {
   "cell_type": "code",
   "execution_count": null,
   "id": "7436bdab-23b1-4259-a690-c6790854a8d1",
   "metadata": {
    "ExecuteTime": {
     "end_time": "2020-10-26T04:19:56.526854Z",
     "start_time": "2020-10-26T04:19:56.488Z"
    }
   },
   "outputs": [],
   "source": [
    "#from this graph set approximate starting values\n",
    "a_start<-8 #param a is the y value when x=0\n",
    "b_start<-2*log(2)/a_start #b is the decay rate\n",
    "#model\n",
    "m<-nls(y~a*exp(-b*x),start=list(a=a_start,b=b_start))\n",
    "#get some estimation of goodness of fit\n",
    "cor(y,predict(m))"
   ]
  },
  {
   "cell_type": "code",
   "execution_count": null,
   "id": "42dbb578-cf24-4ea9-94bb-622e58ec130b",
   "metadata": {
    "ExecuteTime": {
     "end_time": "2020-10-26T04:20:06.956143Z",
     "start_time": "2020-10-26T04:20:06.899Z"
    }
   },
   "outputs": [],
   "source": [
    "#plot the fit\n",
    "plot(x,y)\n",
    "lines(x,predict(m),col=\"red\",lty=2,lwd=3)"
   ]
  },
  {
   "cell_type": "markdown",
   "id": "f614e757-0782-4fa5-8eba-623a245fe608",
   "metadata": {
    "ExecuteTime": {
     "end_time": "2020-10-26T04:20:38.025659Z",
     "start_time": "2020-10-26T04:20:38.002Z"
    }
   },
   "source": [
    "It is very common for different scientific fields to use different parametrization (i.e. different equations) for the same model, one example is the logistic population growth model, in ecology we use the following form:\n",
    "$$ N_{t} = \\frac{K*N_{0}*e^{r*t}}{K + N_{0} * (e^{r*t} – 1)} $$\n",
    "With $(N_{t})$ being the number of individuals at time $(t), (r)$ being the population growth rate and $(K)$ the carrying capacity. We can re-write this as a differential equation:\n",
    "$$ dN/dt = R*N*(1-N/K) $$"
   ]
  },
  {
   "cell_type": "code",
   "execution_count": null,
   "id": "31dc87d6-5e51-441e-b47a-ce6668fcb390",
   "metadata": {
    "ExecuteTime": {
     "end_time": "2020-10-26T04:22:37.369194Z",
     "start_time": "2020-10-26T04:22:08.170Z"
    }
   },
   "outputs": [],
   "source": [
    "# install.packages('deSolve')"
   ]
  },
  {
   "cell_type": "code",
   "execution_count": null,
   "id": "c3f05424-73a2-44f8-b0ed-e469cb329240",
   "metadata": {
    "ExecuteTime": {
     "end_time": "2020-10-26T04:22:44.209793Z",
     "start_time": "2020-10-26T04:22:44.135Z"
    }
   },
   "outputs": [],
   "source": [
    "library(deSolve)\n",
    "#simulating some population growth from the logistic equation and estimating the parameters using nls\n",
    "log_growth <- function(Time, State, Pars) {\n",
    "  with(as.list(c(State, Pars)), {\n",
    "    dN <- R*N*(1-N/K)\n",
    "    return(list(c(dN)))\n",
    "  })\n",
    "}\n",
    "#the parameters for the logisitc growth\n",
    "pars  <- c(R=0.2,K=1000)\n",
    "#the initial numbers\n",
    "N_ini  <- c(N=1)\n",
    "#the time step to evaluate the ODE\n",
    "times <- seq(0, 50, by = 1)\n",
    "#the ODE\n",
    "out   <- ode(N_ini, times, log_growth, pars)\n",
    "#add some random variation to it\n",
    "N_obs<-out[,2]+rnorm(51,0,50)\n",
    "#numbers cannot go lower than 1\n",
    "N_obs<-ifelse(N_obs<1,1,N_obs)\n",
    "#plot\n",
    "plot(times,N_obs)"
   ]
  },
  {
   "cell_type": "markdown",
   "id": "023035eb-56fc-4b5a-8d86-6fa64b007275",
   "metadata": {},
   "source": [
    "This part was just to simulate some data with random error, now come the tricky part to estimate the starting values.\n",
    "Now R has a built-in function to estimate starting values for the parameter of a logistic equation (SSlogis) but it uses the following equation:\n",
    "$$ N_{t} = \\frac{alpha}{1+e^{\\frac{xmid-t}{scale}}} $$"
   ]
  },
  {
   "cell_type": "code",
   "execution_count": null,
   "id": "0b05cd65-3420-4687-a9ad-02589003e086",
   "metadata": {
    "ExecuteTime": {
     "end_time": "2020-10-26T04:23:03.362736Z",
     "start_time": "2020-10-26T04:23:03.340Z"
    }
   },
   "outputs": [],
   "source": [
    "#find the parameters for the equation\n",
    "SS<-getInitial(N_obs~SSlogis(times,alpha,xmid,scale),data=data.frame(N_obs=N_obs,times=times))"
   ]
  },
  {
   "cell_type": "code",
   "execution_count": null,
   "id": "cbdc9d92-f4e8-4bf1-b640-222eb01b8177",
   "metadata": {
    "ExecuteTime": {
     "end_time": "2020-10-26T04:23:17.429624Z",
     "start_time": "2020-10-26T04:23:17.419Z"
    }
   },
   "outputs": [],
   "source": [
    "SS"
   ]
  },
  {
   "cell_type": "markdown",
   "id": "186fe9f8-cf4f-4d4c-b4f9-c292949f7d6b",
   "metadata": {},
   "source": [
    "We use the function getInitial\n",
    "which gives some initial guesses about the parameter values based on the data. We pass to this function a selfStarting model (SSlogis\n",
    ") which takes as argument an input vector (the t values where the function will be evaluated), and the un-quoted name of the three parameter for the logistic equation.\n",
    "\n",
    "However as the SSlogis\n",
    "use a different parametrization we need to use a bit of algebra to go from the estimated self-starting values returned from SSlogis\n",
    "to the one that are in the equation we want to use. "
   ]
  },
  {
   "cell_type": "code",
   "execution_count": null,
   "id": "9a380d66-01b5-4d4c-8ccc-24262801d2f3",
   "metadata": {
    "ExecuteTime": {
     "end_time": "2020-10-26T04:23:56.313917Z",
     "start_time": "2020-10-26T04:23:56.284Z"
    }
   },
   "outputs": [],
   "source": [
    "#we used a different parametrization\n",
    "K_start<-SS[\"alpha\"]\n",
    "R_start<-1/SS[\"scale\"]\n",
    "N0_start<-SS[\"alpha\"]/(exp(SS[\"xmid\"]/SS[\"scale\"])+1)\n",
    "#the formula for the model\n",
    "log_formula<-formula(N_obs~K*N0*exp(R*times)/(K+N0*(exp(R*times)-1)))\n",
    "#fit the model\n",
    "m<-nls(log_formula,start=list(K=K_start,R=R_start,N0=N0_start))\n",
    "#estimated parameters\n",
    "summary(m)"
   ]
  },
  {
   "cell_type": "code",
   "execution_count": null,
   "id": "354b62ba-042b-49e0-b3a5-24e8cae48f20",
   "metadata": {
    "ExecuteTime": {
     "end_time": "2020-10-26T04:24:18.211055Z",
     "start_time": "2020-10-26T04:24:18.196Z"
    }
   },
   "outputs": [],
   "source": [
    "#get some estimation of goodness of fit\n",
    "cor(N_obs,predict(m))"
   ]
  },
  {
   "cell_type": "code",
   "execution_count": null,
   "id": "7159a0ef-db90-4fb7-9754-277a54156f0a",
   "metadata": {
    "ExecuteTime": {
     "end_time": "2020-10-26T04:24:30.651577Z",
     "start_time": "2020-10-26T04:24:30.574Z"
    },
    "scrolled": true
   },
   "outputs": [],
   "source": [
    "#plot\n",
    "plot(times,N_obs)\n",
    "lines(times,predict(m),col=\"red\",lty=2,lwd=3)"
   ]
  },
  {
   "cell_type": "code",
   "execution_count": null,
   "id": "9cc51f64-9611-4166-b399-3226acc50f6c",
   "metadata": {},
   "outputs": [],
   "source": []
  },
  {
   "cell_type": "code",
   "execution_count": null,
   "id": "87d2d71a-d666-4c84-9307-bf3fbd62de5c",
   "metadata": {},
   "outputs": [],
   "source": []
  }
 ],
 "metadata": {
  "kernelspec": {
   "display_name": "R 4.2",
   "language": "R",
   "name": "ir42"
  },
  "language_info": {
   "codemirror_mode": "r",
   "file_extension": ".r",
   "mimetype": "text/x-r-source",
   "name": "R",
   "pygments_lexer": "r",
   "version": "4.2.2"
  }
 },
 "nbformat": 4,
 "nbformat_minor": 5
}
