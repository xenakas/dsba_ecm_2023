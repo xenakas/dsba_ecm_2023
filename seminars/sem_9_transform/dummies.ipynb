{
 "cells": [
  {
   "cell_type": "code",
   "execution_count": null,
   "id": "3ce3dce3",
   "metadata": {
    "ExecuteTime": {
     "end_time": "2022-11-03T14:17:34.638266Z",
     "start_time": "2022-11-03T14:17:34.616Z"
    }
   },
   "outputs": [],
   "source": [
    "dataFrame <- read.csv(\"hsb2.csv\")"
   ]
  },
  {
   "cell_type": "code",
   "execution_count": null,
   "id": "73638495",
   "metadata": {
    "ExecuteTime": {
     "end_time": "2022-11-03T14:17:36.649647Z",
     "start_time": "2022-11-03T14:17:36.622Z"
    }
   },
   "outputs": [],
   "source": [
    "head(dataFrame)"
   ]
  },
  {
   "cell_type": "code",
   "execution_count": null,
   "id": "5b00c014",
   "metadata": {
    "ExecuteTime": {
     "end_time": "2022-11-03T14:19:27.313748Z",
     "start_time": "2022-11-03T14:19:27.299Z"
    }
   },
   "outputs": [],
   "source": [
    "dataFrame$Dum2 <- as.numeric(dataFrame$race==2)\n",
    "dataFrame$Dum3 <- as.numeric(dataFrame$race==3)\n",
    "dataFrame$Dum4 <- as.numeric(dataFrame$race==4)"
   ]
  },
  {
   "cell_type": "code",
   "execution_count": null,
   "id": "961313ef",
   "metadata": {
    "ExecuteTime": {
     "end_time": "2022-11-03T14:18:14.172586Z",
     "start_time": "2022-11-03T14:18:14.137Z"
    }
   },
   "outputs": [],
   "source": [
    "fit <- lm(write ~ race, data=dataFrame)\n",
    "summary(fit)"
   ]
  },
  {
   "cell_type": "code",
   "execution_count": null,
   "id": "a1f0d3a1",
   "metadata": {
    "ExecuteTime": {
     "end_time": "2022-11-03T14:19:50.340006Z",
     "start_time": "2022-11-03T14:19:50.324Z"
    }
   },
   "outputs": [],
   "source": [
    "fit <- lm(write ~ Dum2 + Dum3 + Dum4, data=dataFrame)\n",
    "summary(fit)"
   ]
  },
  {
   "cell_type": "code",
   "execution_count": null,
   "id": "58f5ed08",
   "metadata": {
    "ExecuteTime": {
     "end_time": "2022-11-03T14:20:40.825492Z",
     "start_time": "2022-11-03T14:20:40.810Z"
    }
   },
   "outputs": [],
   "source": [
    "fit1 <- lm(write ~  0 + factor(race), data=dataFrame)\n",
    "summary(fit1)"
   ]
  },
  {
   "cell_type": "code",
   "execution_count": null,
   "id": "41e72824",
   "metadata": {
    "ExecuteTime": {
     "end_time": "2022-11-03T14:22:06.593522Z",
     "start_time": "2022-11-03T14:22:06.577Z"
    }
   },
   "outputs": [],
   "source": [
    "fit1 <- lm(write ~ female + factor(race) + factor(ses)+factor(schtyp)+factor(prog)+read+math+science+socst, data=dataFrame)\n",
    "summary(fit1)"
   ]
  },
  {
   "cell_type": "code",
   "execution_count": null,
   "id": "1e110cae",
   "metadata": {
    "ExecuteTime": {
     "end_time": "2022-11-03T11:12:53.214957Z",
     "start_time": "2022-11-03T11:12:53.158Z"
    }
   },
   "outputs": [],
   "source": [
    "fit1 <- lm(math ~  female + factor(race) + factor(ses)+factor(schtyp)+factor(prog) +read+science+socst + write, data=dataFrame)\n",
    "summary(fit1)"
   ]
  },
  {
   "cell_type": "code",
   "execution_count": null,
   "id": "b1f3af31",
   "metadata": {
    "ExecuteTime": {
     "end_time": "2022-11-03T07:36:54.780848Z",
     "start_time": "2022-11-03T07:36:54.748Z"
    }
   },
   "outputs": [],
   "source": [
    "fit1 <- lm(science  ~  female + factor(race) + factor(ses)+factor(schtyp)+factor(prog)+socst +read+ math + write, data=dataFrame)\n",
    "summary(fit1)"
   ]
  },
  {
   "cell_type": "code",
   "execution_count": null,
   "id": "de742285",
   "metadata": {
    "ExecuteTime": {
     "end_time": "2022-11-03T07:37:26.048917Z",
     "start_time": "2022-11-03T07:37:26.014Z"
    }
   },
   "outputs": [],
   "source": [
    "fit1 <- lm(socst   ~  female + factor(race) + factor(ses)+factor(schtyp)+factor(prog)+science +read+ math + write, data=dataFrame)\n",
    "summary(fit1)"
   ]
  },
  {
   "cell_type": "code",
   "execution_count": null,
   "id": "7ae008ab",
   "metadata": {
    "ExecuteTime": {
     "end_time": "2022-11-03T07:38:01.019280Z",
     "start_time": "2022-11-03T07:38:01.003Z"
    }
   },
   "outputs": [],
   "source": [
    "fit1 <- lm(read    ~  female + factor(race) + factor(ses)+factor(schtyp)+factor(prog)+science + math + socst + write, data=dataFrame)\n",
    "summary(fit1)"
   ]
  },
  {
   "cell_type": "code",
   "execution_count": null,
   "id": "7e642c99",
   "metadata": {
    "ExecuteTime": {
     "end_time": "2022-11-03T14:30:20.764656Z",
     "start_time": "2022-11-03T14:30:20.747Z"
    }
   },
   "outputs": [],
   "source": [
    "fit1 <- lm(write ~ female + math, data=dataFrame)\n",
    "summary(fit1)"
   ]
  },
  {
   "cell_type": "code",
   "execution_count": null,
   "id": "5d93207a",
   "metadata": {
    "ExecuteTime": {
     "end_time": "2022-11-03T14:30:57.569126Z",
     "start_time": "2022-11-03T14:30:57.557Z"
    }
   },
   "outputs": [],
   "source": [
    "coef(fit1)"
   ]
  },
  {
   "cell_type": "code",
   "execution_count": null,
   "id": "18d674cc",
   "metadata": {
    "ExecuteTime": {
     "end_time": "2022-11-03T14:31:06.285414Z",
     "start_time": "2022-11-03T14:31:05.962Z"
    }
   },
   "outputs": [],
   "source": [
    "library(ggplot2)"
   ]
  },
  {
   "cell_type": "code",
   "execution_count": null,
   "id": "4fec02c6",
   "metadata": {},
   "outputs": [],
   "source": [
    "# plot(x,y)"
   ]
  },
  {
   "cell_type": "code",
   "execution_count": null,
   "id": "3f61e454",
   "metadata": {
    "ExecuteTime": {
     "end_time": "2022-11-03T14:31:09.642812Z",
     "start_time": "2022-11-03T14:31:09.161Z"
    }
   },
   "outputs": [],
   "source": [
    "ggplot(dataFrame, aes(y = write, x = math)) + \n",
    "  geom_point(aes(col = as.factor(female))) +\n",
    "  scale_color_manual(values = c(\"#E41A1C\", \"#4DAF4A\")) +\n",
    "  geom_abline(slope=coef(fit1)[3], intercept=coef(fit1)[1], col=\"#E41A1C\") +\n",
    "  geom_abline(slope=coef(fit1)[3], intercept=coef(fit1)[2]+coef(fit1)[1], col=\"#4DAF4A\")"
   ]
  },
  {
   "cell_type": "code",
   "execution_count": null,
   "id": "44ea46fc",
   "metadata": {
    "ExecuteTime": {
     "end_time": "2022-11-03T14:32:20.859550Z",
     "start_time": "2022-11-03T14:32:20.813Z"
    }
   },
   "outputs": [],
   "source": [
    "fit1 <- lm(write ~  math, data=dataFrame)\n",
    "summary(fit1)\n",
    "rss_r  = sum(fit1$residuals^2)"
   ]
  },
  {
   "cell_type": "code",
   "execution_count": null,
   "id": "9b71c456",
   "metadata": {
    "ExecuteTime": {
     "end_time": "2022-11-03T14:32:50.278253Z",
     "start_time": "2022-11-03T14:32:50.260Z"
    }
   },
   "outputs": [],
   "source": [
    "fit1 <- lm(write ~  female + math + I(female*math), data=dataFrame)\n",
    "summary(fit1)"
   ]
  },
  {
   "cell_type": "code",
   "execution_count": null,
   "id": "7d1c762a",
   "metadata": {
    "ExecuteTime": {
     "end_time": "2022-11-03T14:34:08.533403Z",
     "start_time": "2022-11-03T14:34:08.516Z"
    }
   },
   "outputs": [],
   "source": [
    "fit1 <- lm(write ~  female + female*math, data=dataFrame)\n",
    "summary(fit1)\n",
    "\n",
    "rss_ur  = sum(fit1$residuals^2)\n",
    "\n"
   ]
  },
  {
   "cell_type": "code",
   "execution_count": null,
   "id": "e73bb880",
   "metadata": {
    "ExecuteTime": {
     "end_time": "2022-11-03T14:34:11.743069Z",
     "start_time": "2022-11-03T14:34:11.725Z"
    }
   },
   "outputs": [],
   "source": [
    "coef(fit1)"
   ]
  },
  {
   "cell_type": "code",
   "execution_count": null,
   "id": "986cd19d",
   "metadata": {
    "ExecuteTime": {
     "end_time": "2022-11-03T14:34:12.651206Z",
     "start_time": "2022-11-03T14:34:12.416Z"
    }
   },
   "outputs": [],
   "source": [
    "ggplot(dataFrame, aes(x = math, y = write)) + \n",
    "  geom_point(aes(col = as.factor(female))) +\n",
    "  scale_color_manual(values = c(\"#E41A1C\",\"#4DAF4A\")) +\n",
    "  geom_abline(slope=coef(fit1)[3], intercept=coef(fit1)[1], col=\"#4DAF4A\") +\n",
    "  geom_abline(slope=coef(fit1)[3]+coef(fit1)[4], intercept=coef(fit1)[2]+coef(fit1)[1], col=\"#E41A1C\")"
   ]
  },
  {
   "cell_type": "code",
   "execution_count": null,
   "id": "12aa1302",
   "metadata": {
    "ExecuteTime": {
     "end_time": "2022-11-03T14:34:35.556942Z",
     "start_time": "2022-11-03T14:34:33.979Z"
    }
   },
   "outputs": [],
   "source": [
    "ggplot(dataFrame, aes(y = write, x = math)) + \n",
    "  geom_point(aes(col = as.factor(female))) +\n",
    "  scale_color_manual(values = c(\"#E41A1C\",\"#4DAF4A\")) +\n",
    "  geom_smooth(aes(col=as.factor(female)))"
   ]
  },
  {
   "cell_type": "code",
   "execution_count": null,
   "id": "728674b5",
   "metadata": {
    "ExecuteTime": {
     "end_time": "2022-11-03T14:34:56.752192Z",
     "start_time": "2022-11-03T14:34:56.480Z"
    }
   },
   "outputs": [],
   "source": [
    "ggplot(dataFrame, aes(y = write, x = math)) + \n",
    "  geom_point(aes(col = as.factor(female))) +\n",
    "  scale_color_manual(values = c(\"#E41A1C\",\"#4DAF4A\")) +\n",
    "  geom_smooth(method=\"lm\", aes(col=as.factor(female)))"
   ]
  },
  {
   "cell_type": "code",
   "execution_count": null,
   "id": "036be297",
   "metadata": {
    "ExecuteTime": {
     "end_time": "2022-11-03T14:35:17.852140Z",
     "start_time": "2022-11-03T14:35:17.836Z"
    }
   },
   "outputs": [],
   "source": [
    "coef(fit1)"
   ]
  },
  {
   "cell_type": "code",
   "execution_count": null,
   "id": "7dde7c07",
   "metadata": {
    "ExecuteTime": {
     "end_time": "2022-11-03T14:35:18.775346Z",
     "start_time": "2022-11-03T14:35:18.728Z"
    }
   },
   "outputs": [],
   "source": [
    "library(car)"
   ]
  },
  {
   "cell_type": "code",
   "execution_count": null,
   "id": "978d4267",
   "metadata": {
    "ExecuteTime": {
     "end_time": "2022-11-03T14:35:29.078180Z",
     "start_time": "2022-11-03T14:35:29.050Z"
    }
   },
   "outputs": [],
   "source": [
    "linearHypothesis(fit1, c(\"female\", \"female:math\"))"
   ]
  },
  {
   "cell_type": "code",
   "execution_count": null,
   "id": "99d35bb4",
   "metadata": {
    "ExecuteTime": {
     "end_time": "2022-11-03T14:35:50.770650Z",
     "start_time": "2022-11-03T14:35:50.757Z"
    }
   },
   "outputs": [],
   "source": [
    "rss_r\n",
    "rss_ur"
   ]
  },
  {
   "cell_type": "code",
   "execution_count": null,
   "id": "95330fbe",
   "metadata": {
    "ExecuteTime": {
     "end_time": "2022-11-03T14:35:51.476757Z",
     "start_time": "2022-11-03T14:35:51.463Z"
    }
   },
   "outputs": [],
   "source": [
    "((rss_r-rss_ur)/2)/(rss_ur/196)"
   ]
  },
  {
   "cell_type": "code",
   "execution_count": null,
   "id": "69b51234",
   "metadata": {
    "ExecuteTime": {
     "end_time": "2022-11-03T14:36:04.035687Z",
     "start_time": "2022-11-03T14:36:04.017Z"
    }
   },
   "outputs": [],
   "source": [
    "fit1_woman <- lm(write ~  math, data=dataFrame[dataFrame['female']==1,])\n",
    "summary(fit1_woman)\n",
    "\n",
    "rss_w =   sum(fit1_woman$residuals^2)"
   ]
  },
  {
   "cell_type": "code",
   "execution_count": null,
   "id": "58372ae0",
   "metadata": {
    "ExecuteTime": {
     "end_time": "2022-11-03T14:36:15.005908Z",
     "start_time": "2022-11-03T14:36:14.988Z"
    }
   },
   "outputs": [],
   "source": [
    "fit1_man <- lm(write ~  math, data=dataFrame[dataFrame['female']==0,])\n",
    "summary(fit1_man)\n",
    "\n",
    "rss_m =   sum(fit1_man$residuals^2)"
   ]
  },
  {
   "cell_type": "code",
   "execution_count": null,
   "id": "9784b5f7",
   "metadata": {
    "ExecuteTime": {
     "end_time": "2022-11-03T14:36:37.670350Z",
     "start_time": "2022-11-03T14:36:37.658Z"
    }
   },
   "outputs": [],
   "source": [
    "((rss_r-rss_m-rss_w)/2)/((rss_m+rss_w)/196)"
   ]
  },
  {
   "cell_type": "code",
   "execution_count": null,
   "id": "0a07642c",
   "metadata": {
    "ExecuteTime": {
     "end_time": "2022-11-03T14:36:44.811615Z",
     "start_time": "2022-11-03T14:36:44.780Z"
    }
   },
   "outputs": [],
   "source": [
    "linearHypothesis(fit1, c(\"female\", \"female:math\"))"
   ]
  },
  {
   "cell_type": "code",
   "execution_count": null,
   "id": "40486ecf",
   "metadata": {
    "ExecuteTime": {
     "end_time": "2022-11-03T14:37:22.903731Z",
     "start_time": "2022-11-03T14:37:22.816Z"
    }
   },
   "outputs": [],
   "source": [
    "library(strucchange)"
   ]
  },
  {
   "cell_type": "code",
   "execution_count": null,
   "id": "1f730fb3",
   "metadata": {
    "ExecuteTime": {
     "end_time": "2022-11-03T14:37:32.298090Z",
     "start_time": "2022-11-03T14:37:32.276Z"
    }
   },
   "outputs": [],
   "source": [
    "## Sort the data\n",
    "sort.of = dataFrame[order(dataFrame$math) , ]\n",
    "# head(sort.of)/"
   ]
  },
  {
   "cell_type": "code",
   "execution_count": null,
   "id": "2d0bca5f",
   "metadata": {
    "ExecuteTime": {
     "end_time": "2022-11-03T14:37:33.100357Z",
     "start_time": "2022-11-03T14:37:33.086Z"
    }
   },
   "outputs": [],
   "source": [
    "sctest(dataFrame$write ~ dataFrame$math, type = \"Chow\")                      "
   ]
  },
  {
   "cell_type": "code",
   "execution_count": null,
   "id": "099b5419",
   "metadata": {
    "ExecuteTime": {
     "end_time": "2022-11-03T14:39:38.180885Z",
     "start_time": "2022-11-03T14:39:38.166Z"
    }
   },
   "outputs": [],
   "source": [
    "sort.of = cbind(index(dataFrame),dataFrame)\n",
    "sctest(write ~ female+female*math, type = \"Chow\", data = sort.of)    \n",
    "# points = floor(n*0.5)"
   ]
  }
 ],
 "metadata": {
  "hide_input": false,
  "kernelspec": {
   "display_name": "R 4.2",
   "language": "R",
   "name": "ir42"
  },
  "language_info": {
   "codemirror_mode": "r",
   "file_extension": ".r",
   "mimetype": "text/x-r-source",
   "name": "R",
   "pygments_lexer": "r",
   "version": "4.2.2"
  },
  "latex_envs": {
   "LaTeX_envs_menu_present": true,
   "autoclose": true,
   "autocomplete": true,
   "bibliofile": "biblio.bib",
   "cite_by": "apalike",
   "current_citInitial": 1,
   "eqLabelWithNumbers": true,
   "eqNumInitial": 1,
   "hotkeys": {
    "equation": "Ctrl-E",
    "itemize": "Ctrl-I"
   },
   "labels_anchors": false,
   "latex_user_defs": false,
   "report_style_numbering": false,
   "user_envs_cfg": false
  },
  "toc": {
   "base_numbering": 1,
   "nav_menu": {},
   "number_sections": true,
   "sideBar": true,
   "skip_h1_title": false,
   "title_cell": "Table of Contents",
   "title_sidebar": "Contents",
   "toc_cell": false,
   "toc_position": {},
   "toc_section_display": true,
   "toc_window_display": false
  },
  "varInspector": {
   "cols": {
    "lenName": 16,
    "lenType": 16,
    "lenVar": 40
   },
   "kernels_config": {
    "python": {
     "delete_cmd_postfix": "",
     "delete_cmd_prefix": "del ",
     "library": "var_list.py",
     "varRefreshCmd": "print(var_dic_list())"
    },
    "r": {
     "delete_cmd_postfix": ") ",
     "delete_cmd_prefix": "rm(",
     "library": "var_list.r",
     "varRefreshCmd": "cat(var_dic_list()) "
    }
   },
   "types_to_exclude": [
    "module",
    "function",
    "builtin_function_or_method",
    "instance",
    "_Feature"
   ],
   "window_display": false
  }
 },
 "nbformat": 4,
 "nbformat_minor": 5
}
