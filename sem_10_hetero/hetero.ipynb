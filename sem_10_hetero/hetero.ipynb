{
 "cells": [
  {
   "cell_type": "code",
   "execution_count": 3,
   "id": "2a68d1a0",
   "metadata": {
    "ExecuteTime": {
     "end_time": "2022-11-17T09:07:35.261315Z",
     "start_time": "2022-11-17T09:07:35.214Z"
    }
   },
   "outputs": [],
   "source": [
    "x <- seq(5,54)\n",
    "e <- x*rnorm(length(x), 0, 1)\n",
    "y <- 10+2*x+e"
   ]
  },
  {
   "cell_type": "code",
   "execution_count": 4,
   "id": "dd4ee62f",
   "metadata": {
    "ExecuteTime": {
     "end_time": "2022-11-17T09:07:35.871665Z",
     "start_time": "2022-11-17T09:07:35.403Z"
    }
   },
   "outputs": [
    {
     "data": {
      "image/png": "[encoded data removed]",
      "text/plain": [
       "plot without title"
      ]
     },
     "metadata": {
      "image/png": {
       "height": 420,
       "width": 420
      }
     },
     "output_type": "display_data"
    }
   ],
   "source": [
    "plot(x,y)\n",
    "abline(lm(y~x))"
   ]
  },
  {
   "cell_type": "code",
   "execution_count": 5,
   "id": "59f1b32d",
   "metadata": {
    "ExecuteTime": {
     "end_time": "2022-11-17T09:07:36.002174Z",
     "start_time": "2022-11-17T09:07:35.614Z"
    }
   },
   "outputs": [
    {
     "data": {
      "text/plain": [
       "\n",
       "Call:\n",
       "lm(formula = y ~ x)\n",
       "\n",
       "Residuals:\n",
       "     Min       1Q   Median       3Q      Max \n",
       "-143.535  -10.917    3.736   20.417   80.633 \n",
       "\n",
       "Coefficients:\n",
       "            Estimate Std. Error t value Pr(>|t|)    \n",
       "(Intercept)  20.7071    12.2432   1.691  0.09726 .  \n",
       "x             1.3969     0.3728   3.747  0.00048 ***\n",
       "---\n",
       "Signif. codes:  0 ‘***’ 0.001 ‘**’ 0.01 ‘*’ 0.05 ‘.’ 0.1 ‘ ’ 1\n",
       "\n",
       "Residual standard error: 38.04 on 48 degrees of freedom\n",
       "Multiple R-squared:  0.2263,\tAdjusted R-squared:  0.2102 \n",
       "F-statistic: 14.04 on 1 and 48 DF,  p-value: 0.0004802\n"
      ]
     },
     "metadata": {},
     "output_type": "display_data"
    }
   ],
   "source": [
    "m1 <- lm(y~x)\n",
    "summary(m1)"
   ]
  },
  {
   "cell_type": "code",
   "execution_count": 6,
   "id": "bb9b8788",
   "metadata": {
    "ExecuteTime": {
     "end_time": "2022-11-17T09:07:36.205455Z",
     "start_time": "2022-11-17T09:07:36.118Z"
    }
   },
   "outputs": [
    {
     "data": {
      "text/plain": [
       "\n",
       "Call:\n",
       "lm(formula = y ~ x, weights = 1/x)\n",
       "\n",
       "Weighted Residuals:\n",
       "     Min       1Q   Median       3Q      Max \n",
       "-20.9061  -2.5907   0.9924   3.3838  11.7200 \n",
       "\n",
       "Coefficients:\n",
       "            Estimate Std. Error t value Pr(>|t|)    \n",
       "(Intercept)  16.4589     6.6675   2.469   0.0172 *  \n",
       "x             1.5409     0.2741   5.623 9.41e-07 ***\n",
       "---\n",
       "Signif. codes:  0 ‘***’ 0.001 ‘**’ 0.01 ‘*’ 0.05 ‘.’ 0.1 ‘ ’ 1\n",
       "\n",
       "Residual standard error: 5.953 on 48 degrees of freedom\n",
       "Multiple R-squared:  0.3971,\tAdjusted R-squared:  0.3845 \n",
       "F-statistic: 31.61 on 1 and 48 DF,  p-value: 9.405e-07\n"
      ]
     },
     "metadata": {},
     "output_type": "display_data"
    }
   ],
   "source": [
    "m2 <- lm(y~x, weights=1/x)\n",
    "summary(m2)"
   ]
  },
  {
   "cell_type": "code",
   "execution_count": 7,
   "id": "8c528805",
   "metadata": {
    "ExecuteTime": {
     "end_time": "2022-11-17T09:07:36.790591Z",
     "start_time": "2022-11-17T09:07:36.626Z"
    }
   },
   "outputs": [],
   "source": [
    "library('sandwich')"
   ]
  },
  {
   "cell_type": "code",
   "execution_count": 8,
   "id": "95893f9c",
   "metadata": {
    "ExecuteTime": {
     "end_time": "2022-11-17T09:07:37.071423Z",
     "start_time": "2022-11-17T09:07:36.899Z"
    }
   },
   "outputs": [],
   "source": [
    "m1 <- lm(y~x)\n",
    "s1 <- summary(lm(y~x))"
   ]
  },
  {
   "cell_type": "code",
   "execution_count": 9,
   "id": "dac96681",
   "metadata": {
    "ExecuteTime": {
     "end_time": "2022-11-17T09:07:37.520757Z",
     "start_time": "2022-11-17T09:07:37.465Z"
    }
   },
   "outputs": [
    {
     "data": {
      "text/html": [
       "<table class=\"dataframe\">\n",
       "<caption>A matrix: 2 × 4 of type dbl</caption>\n",
       "<thead>\n",
       "\t<tr><th></th><th scope=col>Estimate</th><th scope=col>Std. Error</th><th scope=col>t value</th><th scope=col>Pr(&gt;|t|)</th></tr>\n",
       "</thead>\n",
       "<tbody>\n",
       "\t<tr><th scope=row>(Intercept)</th><td>20.707069</td><td>12.2432074</td><td>1.691311</td><td>0.0972613041</td></tr>\n",
       "\t<tr><th scope=row>x</th><td> 1.396932</td><td> 0.3728079</td><td>3.747056</td><td>0.0004801506</td></tr>\n",
       "</tbody>\n",
       "</table>\n"
      ],
      "text/latex": [
       "A matrix: 2 × 4 of type dbl\n",
       "\\begin{tabular}{r|llll}\n",
       "  & Estimate & Std. Error & t value & Pr(>\\textbar{}t\\textbar{})\\\\\n",
       "\\hline\n",
       "\t(Intercept) & 20.707069 & 12.2432074 & 1.691311 & 0.0972613041\\\\\n",
       "\tx &  1.396932 &  0.3728079 & 3.747056 & 0.0004801506\\\\\n",
       "\\end{tabular}\n"
      ],
      "text/markdown": [
       "\n",
       "A matrix: 2 × 4 of type dbl\n",
       "\n",
       "| <!--/--> | Estimate | Std. Error | t value | Pr(&gt;|t|) |\n",
       "|---|---|---|---|---|\n",
       "| (Intercept) | 20.707069 | 12.2432074 | 1.691311 | 0.0972613041 |\n",
       "| x |  1.396932 |  0.3728079 | 3.747056 | 0.0004801506 |\n",
       "\n"
      ],
      "text/plain": [
       "            Estimate  Std. Error t value  Pr(>|t|)    \n",
       "(Intercept) 20.707069 12.2432074 1.691311 0.0972613041\n",
       "x            1.396932  0.3728079 3.747056 0.0004801506"
      ]
     },
     "metadata": {},
     "output_type": "display_data"
    }
   ],
   "source": [
    "s1$coefficients"
   ]
  },
  {
   "cell_type": "code",
   "execution_count": 10,
   "id": "6411c544",
   "metadata": {
    "ExecuteTime": {
     "end_time": "2022-11-17T09:07:38.049383Z",
     "start_time": "2022-11-17T09:07:37.914Z"
    }
   },
   "outputs": [
    {
     "data": {
      "text/html": [
       "<table class=\"dataframe\">\n",
       "<caption>A matrix: 2 × 2 of type dbl</caption>\n",
       "<thead>\n",
       "\t<tr><th></th><th scope=col>(Intercept)</th><th scope=col>x</th></tr>\n",
       "</thead>\n",
       "<tbody>\n",
       "\t<tr><th scope=row>(Intercept)</th><td>74.288641</td><td>-3.479863</td></tr>\n",
       "\t<tr><th scope=row>x</th><td>-3.479863</td><td> 0.182487</td></tr>\n",
       "</tbody>\n",
       "</table>\n"
      ],
      "text/latex": [
       "A matrix: 2 × 2 of type dbl\n",
       "\\begin{tabular}{r|ll}\n",
       "  & (Intercept) & x\\\\\n",
       "\\hline\n",
       "\t(Intercept) & 74.288641 & -3.479863\\\\\n",
       "\tx & -3.479863 &  0.182487\\\\\n",
       "\\end{tabular}\n"
      ],
      "text/markdown": [
       "\n",
       "A matrix: 2 × 2 of type dbl\n",
       "\n",
       "| <!--/--> | (Intercept) | x |\n",
       "|---|---|---|\n",
       "| (Intercept) | 74.288641 | -3.479863 |\n",
       "| x | -3.479863 |  0.182487 |\n",
       "\n"
      ],
      "text/plain": [
       "            (Intercept) x        \n",
       "(Intercept) 74.288641   -3.479863\n",
       "x           -3.479863    0.182487"
      ]
     },
     "metadata": {},
     "output_type": "display_data"
    },
    {
     "data": {
      "text/html": [
       "<table class=\"dataframe\">\n",
       "<caption>A matrix: 2 × 2 of type dbl</caption>\n",
       "<thead>\n",
       "\t<tr><th></th><th scope=col>(Intercept)</th><th scope=col>x</th></tr>\n",
       "</thead>\n",
       "<tbody>\n",
       "\t<tr><th scope=row>(Intercept)</th><td>77.384001</td><td>-3.6248578</td></tr>\n",
       "\t<tr><th scope=row>x</th><td>-3.624858</td><td> 0.1900907</td></tr>\n",
       "</tbody>\n",
       "</table>\n"
      ],
      "text/latex": [
       "A matrix: 2 × 2 of type dbl\n",
       "\\begin{tabular}{r|ll}\n",
       "  & (Intercept) & x\\\\\n",
       "\\hline\n",
       "\t(Intercept) & 77.384001 & -3.6248578\\\\\n",
       "\tx & -3.624858 &  0.1900907\\\\\n",
       "\\end{tabular}\n"
      ],
      "text/markdown": [
       "\n",
       "A matrix: 2 × 2 of type dbl\n",
       "\n",
       "| <!--/--> | (Intercept) | x |\n",
       "|---|---|---|\n",
       "| (Intercept) | 77.384001 | -3.6248578 |\n",
       "| x | -3.624858 |  0.1900907 |\n",
       "\n"
      ],
      "text/plain": [
       "            (Intercept) x         \n",
       "(Intercept) 77.384001   -3.6248578\n",
       "x           -3.624858    0.1900907"
      ]
     },
     "metadata": {},
     "output_type": "display_data"
    },
    {
     "data": {
      "text/html": [
       "<table class=\"dataframe\">\n",
       "<caption>A matrix: 2 × 2 of type dbl</caption>\n",
       "<thead>\n",
       "\t<tr><th></th><th scope=col>(Intercept)</th><th scope=col>x</th></tr>\n",
       "</thead>\n",
       "<tbody>\n",
       "\t<tr><th scope=row>(Intercept)</th><td>78.56921</td><td>-3.6895795</td></tr>\n",
       "\t<tr><th scope=row>x</th><td>-3.68958</td><td> 0.1933823</td></tr>\n",
       "</tbody>\n",
       "</table>\n"
      ],
      "text/latex": [
       "A matrix: 2 × 2 of type dbl\n",
       "\\begin{tabular}{r|ll}\n",
       "  & (Intercept) & x\\\\\n",
       "\\hline\n",
       "\t(Intercept) & 78.56921 & -3.6895795\\\\\n",
       "\tx & -3.68958 &  0.1933823\\\\\n",
       "\\end{tabular}\n"
      ],
      "text/markdown": [
       "\n",
       "A matrix: 2 × 2 of type dbl\n",
       "\n",
       "| <!--/--> | (Intercept) | x |\n",
       "|---|---|---|\n",
       "| (Intercept) | 78.56921 | -3.6895795 |\n",
       "| x | -3.68958 |  0.1933823 |\n",
       "\n"
      ],
      "text/plain": [
       "            (Intercept) x         \n",
       "(Intercept) 78.56921    -3.6895795\n",
       "x           -3.68958     0.1933823"
      ]
     },
     "metadata": {},
     "output_type": "display_data"
    },
    {
     "data": {
      "text/html": [
       "<table class=\"dataframe\">\n",
       "<caption>A matrix: 2 × 2 of type dbl</caption>\n",
       "<thead>\n",
       "\t<tr><th></th><th scope=col>(Intercept)</th><th scope=col>x</th></tr>\n",
       "</thead>\n",
       "<tbody>\n",
       "\t<tr><th scope=row>(Intercept)</th><td>83.115995</td><td>-3.9125359</td></tr>\n",
       "\t<tr><th scope=row>x</th><td>-3.912536</td><td> 0.2049584</td></tr>\n",
       "</tbody>\n",
       "</table>\n"
      ],
      "text/latex": [
       "A matrix: 2 × 2 of type dbl\n",
       "\\begin{tabular}{r|ll}\n",
       "  & (Intercept) & x\\\\\n",
       "\\hline\n",
       "\t(Intercept) & 83.115995 & -3.9125359\\\\\n",
       "\tx & -3.912536 &  0.2049584\\\\\n",
       "\\end{tabular}\n"
      ],
      "text/markdown": [
       "\n",
       "A matrix: 2 × 2 of type dbl\n",
       "\n",
       "| <!--/--> | (Intercept) | x |\n",
       "|---|---|---|\n",
       "| (Intercept) | 83.115995 | -3.9125359 |\n",
       "| x | -3.912536 |  0.2049584 |\n",
       "\n"
      ],
      "text/plain": [
       "            (Intercept) x         \n",
       "(Intercept) 83.115995   -3.9125359\n",
       "x           -3.912536    0.2049584"
      ]
     },
     "metadata": {},
     "output_type": "display_data"
    }
   ],
   "source": [
    "vcovHC(m1, type='HC0')\n",
    "vcovHC(m1, type='HC1')\n",
    "vcovHC(m1, type='HC2')\n",
    "vcovHC(m1, type='HC3')"
   ]
  },
  {
   "cell_type": "code",
   "execution_count": 12,
   "id": "ee6ce53f",
   "metadata": {
    "ExecuteTime": {
     "end_time": "2022-11-17T09:07:47.755337Z",
     "start_time": "2022-11-17T09:07:47.631Z"
    }
   },
   "outputs": [
    {
     "name": "stderr",
     "output_type": "stream",
     "text": [
      "Loading required package: zoo\n",
      "\n",
      "\n",
      "Attaching package: ‘zoo’\n",
      "\n",
      "\n",
      "The following objects are masked from ‘package:base’:\n",
      "\n",
      "    as.Date, as.Date.numeric\n",
      "\n",
      "\n"
     ]
    }
   ],
   "source": [
    "library('lmtest')"
   ]
  },
  {
   "cell_type": "code",
   "execution_count": 17,
   "id": "1f368293",
   "metadata": {
    "ExecuteTime": {
     "end_time": "2022-11-17T09:08:46.601563Z",
     "start_time": "2022-11-17T09:08:46.557Z"
    }
   },
   "outputs": [
    {
     "data": {
      "text/plain": [
       "\n",
       "t test of coefficients:\n",
       "\n",
       "            Estimate Std. Error t value  Pr(>|t|)    \n",
       "(Intercept) 20.70707   12.24321  1.6913 0.0972613 .  \n",
       "x            1.39693    0.37281  3.7471 0.0004802 ***\n",
       "---\n",
       "Signif. codes:  0 ‘***’ 0.001 ‘**’ 0.01 ‘*’ 0.05 ‘.’ 0.1 ‘ ’ 1\n"
      ]
     },
     "metadata": {},
     "output_type": "display_data"
    }
   ],
   "source": [
    "coeftest(m1)"
   ]
  },
  {
   "cell_type": "code",
   "execution_count": 18,
   "id": "e64f1fb5",
   "metadata": {
    "ExecuteTime": {
     "end_time": "2022-11-17T09:08:52.241992Z",
     "start_time": "2022-11-17T09:08:50.212Z"
    }
   },
   "outputs": [
    {
     "data": {
      "text/plain": [
       "\n",
       "t test of coefficients:\n",
       "\n",
       "            Estimate Std. Error t value Pr(>|t|)   \n",
       "(Intercept) 20.70707    8.61909  2.4025 0.020201 * \n",
       "x            1.39693    0.42719  3.2701 0.001993 **\n",
       "---\n",
       "Signif. codes:  0 ‘***’ 0.001 ‘**’ 0.01 ‘*’ 0.05 ‘.’ 0.1 ‘ ’ 1\n"
      ]
     },
     "metadata": {},
     "output_type": "display_data"
    }
   ],
   "source": [
    "coeftest(m1, vcov. = vcovHC(m1, type='HC0'))"
   ]
  },
  {
   "cell_type": "code",
   "execution_count": 11,
   "id": "462f133d",
   "metadata": {
    "ExecuteTime": {
     "end_time": "2022-11-17T09:07:38.699403Z",
     "start_time": "2022-11-17T09:07:38.506Z"
    }
   },
   "outputs": [
    {
     "name": "stderr",
     "output_type": "stream",
     "text": [
      "Warning message in sqrt(vcovHC(m1, type = \"HC0\")):\n",
      "“NaNs produced”\n"
     ]
    },
    {
     "data": {
      "text/html": [
       "<table class=\"dataframe\">\n",
       "<caption>A matrix: 2 × 2 of type dbl</caption>\n",
       "<thead>\n",
       "\t<tr><th></th><th scope=col>(Intercept)</th><th scope=col>x</th></tr>\n",
       "</thead>\n",
       "<tbody>\n",
       "\t<tr><th scope=row>(Intercept)</th><td>8.619086</td><td>     NaN</td></tr>\n",
       "\t<tr><th scope=row>x</th><td>     NaN</td><td>0.427185</td></tr>\n",
       "</tbody>\n",
       "</table>\n"
      ],
      "text/latex": [
       "A matrix: 2 × 2 of type dbl\n",
       "\\begin{tabular}{r|ll}\n",
       "  & (Intercept) & x\\\\\n",
       "\\hline\n",
       "\t(Intercept) & 8.619086 &      NaN\\\\\n",
       "\tx &      NaN & 0.427185\\\\\n",
       "\\end{tabular}\n"
      ],
      "text/markdown": [
       "\n",
       "A matrix: 2 × 2 of type dbl\n",
       "\n",
       "| <!--/--> | (Intercept) | x |\n",
       "|---|---|---|\n",
       "| (Intercept) | 8.619086 |      NaN |\n",
       "| x |      NaN | 0.427185 |\n",
       "\n"
      ],
      "text/plain": [
       "            (Intercept) x       \n",
       "(Intercept) 8.619086         NaN\n",
       "x                NaN    0.427185"
      ]
     },
     "metadata": {},
     "output_type": "display_data"
    },
    {
     "name": "stderr",
     "output_type": "stream",
     "text": [
      "Warning message in sqrt(vcovHC(m1, type = \"HC1\")):\n",
      "“NaNs produced”\n"
     ]
    },
    {
     "data": {
      "text/html": [
       "<table class=\"dataframe\">\n",
       "<caption>A matrix: 2 × 2 of type dbl</caption>\n",
       "<thead>\n",
       "\t<tr><th></th><th scope=col>(Intercept)</th><th scope=col>x</th></tr>\n",
       "</thead>\n",
       "<tbody>\n",
       "\t<tr><th scope=row>(Intercept)</th><td>8.796818</td><td>      NaN</td></tr>\n",
       "\t<tr><th scope=row>x</th><td>     NaN</td><td>0.4359939</td></tr>\n",
       "</tbody>\n",
       "</table>\n"
      ],
      "text/latex": [
       "A matrix: 2 × 2 of type dbl\n",
       "\\begin{tabular}{r|ll}\n",
       "  & (Intercept) & x\\\\\n",
       "\\hline\n",
       "\t(Intercept) & 8.796818 &       NaN\\\\\n",
       "\tx &      NaN & 0.4359939\\\\\n",
       "\\end{tabular}\n"
      ],
      "text/markdown": [
       "\n",
       "A matrix: 2 × 2 of type dbl\n",
       "\n",
       "| <!--/--> | (Intercept) | x |\n",
       "|---|---|---|\n",
       "| (Intercept) | 8.796818 |       NaN |\n",
       "| x |      NaN | 0.4359939 |\n",
       "\n"
      ],
      "text/plain": [
       "            (Intercept) x        \n",
       "(Intercept) 8.796818          NaN\n",
       "x                NaN    0.4359939"
      ]
     },
     "metadata": {},
     "output_type": "display_data"
    },
    {
     "name": "stderr",
     "output_type": "stream",
     "text": [
      "Warning message in sqrt(vcovHC(m1, type = \"HC2\")):\n",
      "“NaNs produced”\n"
     ]
    },
    {
     "data": {
      "text/html": [
       "<table class=\"dataframe\">\n",
       "<caption>A matrix: 2 × 2 of type dbl</caption>\n",
       "<thead>\n",
       "\t<tr><th></th><th scope=col>(Intercept)</th><th scope=col>x</th></tr>\n",
       "</thead>\n",
       "<tbody>\n",
       "\t<tr><th scope=row>(Intercept)</th><td>8.863928</td><td>      NaN</td></tr>\n",
       "\t<tr><th scope=row>x</th><td>     NaN</td><td>0.4397525</td></tr>\n",
       "</tbody>\n",
       "</table>\n"
      ],
      "text/latex": [
       "A matrix: 2 × 2 of type dbl\n",
       "\\begin{tabular}{r|ll}\n",
       "  & (Intercept) & x\\\\\n",
       "\\hline\n",
       "\t(Intercept) & 8.863928 &       NaN\\\\\n",
       "\tx &      NaN & 0.4397525\\\\\n",
       "\\end{tabular}\n"
      ],
      "text/markdown": [
       "\n",
       "A matrix: 2 × 2 of type dbl\n",
       "\n",
       "| <!--/--> | (Intercept) | x |\n",
       "|---|---|---|\n",
       "| (Intercept) | 8.863928 |       NaN |\n",
       "| x |      NaN | 0.4397525 |\n",
       "\n"
      ],
      "text/plain": [
       "            (Intercept) x        \n",
       "(Intercept) 8.863928          NaN\n",
       "x                NaN    0.4397525"
      ]
     },
     "metadata": {},
     "output_type": "display_data"
    },
    {
     "name": "stderr",
     "output_type": "stream",
     "text": [
      "Warning message in sqrt(vcovHC(m1, type = \"HC3\")):\n",
      "“NaNs produced”\n"
     ]
    },
    {
     "data": {
      "text/html": [
       "<table class=\"dataframe\">\n",
       "<caption>A matrix: 2 × 2 of type dbl</caption>\n",
       "<thead>\n",
       "\t<tr><th></th><th scope=col>(Intercept)</th><th scope=col>x</th></tr>\n",
       "</thead>\n",
       "<tbody>\n",
       "\t<tr><th scope=row>(Intercept)</th><td>9.116797</td><td>      NaN</td></tr>\n",
       "\t<tr><th scope=row>x</th><td>     NaN</td><td>0.4527233</td></tr>\n",
       "</tbody>\n",
       "</table>\n"
      ],
      "text/latex": [
       "A matrix: 2 × 2 of type dbl\n",
       "\\begin{tabular}{r|ll}\n",
       "  & (Intercept) & x\\\\\n",
       "\\hline\n",
       "\t(Intercept) & 9.116797 &       NaN\\\\\n",
       "\tx &      NaN & 0.4527233\\\\\n",
       "\\end{tabular}\n"
      ],
      "text/markdown": [
       "\n",
       "A matrix: 2 × 2 of type dbl\n",
       "\n",
       "| <!--/--> | (Intercept) | x |\n",
       "|---|---|---|\n",
       "| (Intercept) | 9.116797 |       NaN |\n",
       "| x |      NaN | 0.4527233 |\n",
       "\n"
      ],
      "text/plain": [
       "            (Intercept) x        \n",
       "(Intercept) 9.116797          NaN\n",
       "x                NaN    0.4527233"
      ]
     },
     "metadata": {},
     "output_type": "display_data"
    },
    {
     "name": "stderr",
     "output_type": "stream",
     "text": [
      "Warning message in sqrt(vcovHC(m1, type = \"HC4\")):\n",
      "“NaNs produced”\n"
     ]
    },
    {
     "data": {
      "text/html": [
       "<table class=\"dataframe\">\n",
       "<caption>A matrix: 2 × 2 of type dbl</caption>\n",
       "<thead>\n",
       "\t<tr><th></th><th scope=col>(Intercept)</th><th scope=col>x</th></tr>\n",
       "</thead>\n",
       "<tbody>\n",
       "\t<tr><th scope=row>(Intercept)</th><td>8.980775</td><td>      NaN</td></tr>\n",
       "\t<tr><th scope=row>x</th><td>     NaN</td><td>0.4458286</td></tr>\n",
       "</tbody>\n",
       "</table>\n"
      ],
      "text/latex": [
       "A matrix: 2 × 2 of type dbl\n",
       "\\begin{tabular}{r|ll}\n",
       "  & (Intercept) & x\\\\\n",
       "\\hline\n",
       "\t(Intercept) & 8.980775 &       NaN\\\\\n",
       "\tx &      NaN & 0.4458286\\\\\n",
       "\\end{tabular}\n"
      ],
      "text/markdown": [
       "\n",
       "A matrix: 2 × 2 of type dbl\n",
       "\n",
       "| <!--/--> | (Intercept) | x |\n",
       "|---|---|---|\n",
       "| (Intercept) | 8.980775 |       NaN |\n",
       "| x |      NaN | 0.4458286 |\n",
       "\n"
      ],
      "text/plain": [
       "            (Intercept) x        \n",
       "(Intercept) 8.980775          NaN\n",
       "x                NaN    0.4458286"
      ]
     },
     "metadata": {},
     "output_type": "display_data"
    }
   ],
   "source": [
    "sqrt(vcovHC(m1, type='HC0')) # white\n",
    "sqrt(vcovHC(m1, type='HC1'))\n",
    "sqrt(vcovHC(m1, type='HC2'))\n",
    "sqrt(vcovHC(m1, type='HC3'))\n",
    "sqrt(vcovHC(m1, type='HC4'))"
   ]
  },
  {
   "cell_type": "code",
   "execution_count": null,
   "id": "00cdcb7a",
   "metadata": {},
   "outputs": [],
   "source": []
  },
  {
   "cell_type": "code",
   "execution_count": 13,
   "id": "b6da6b88",
   "metadata": {
    "ExecuteTime": {
     "end_time": "2021-11-12T16:25:30.189795Z",
     "start_time": "2021-11-12T16:25:30.169Z"
    }
   },
   "outputs": [
    {
     "data": {
      "text/html": [
       "<table>\n",
       "<caption>A matrix: 2 × 4 of type dbl</caption>\n",
       "<thead>\n",
       "\t<tr><th></th><th scope=col>Estimate</th><th scope=col>Std. Error</th><th scope=col>t value</th><th scope=col>Pr(&gt;|t|)</th></tr>\n",
       "</thead>\n",
       "<tbody>\n",
       "\t<tr><th scope=row>(Intercept)</th><td>6.515304</td><td>9.2568195</td><td>0.7038383</td><td>4.849341e-01</td></tr>\n",
       "\t<tr><th scope=row>x</th><td>2.066560</td><td>0.2818719</td><td>7.3315600</td><td>2.285410e-09</td></tr>\n",
       "</tbody>\n",
       "</table>\n"
      ],
      "text/latex": [
       "A matrix: 2 × 4 of type dbl\n",
       "\\begin{tabular}{r|llll}\n",
       "  & Estimate & Std. Error & t value & Pr(>\\textbar{}t\\textbar{})\\\\\n",
       "\\hline\n",
       "\t(Intercept) & 6.515304 & 9.2568195 & 0.7038383 & 4.849341e-01\\\\\n",
       "\tx & 2.066560 & 0.2818719 & 7.3315600 & 2.285410e-09\\\\\n",
       "\\end{tabular}\n"
      ],
      "text/markdown": [
       "\n",
       "A matrix: 2 × 4 of type dbl\n",
       "\n",
       "| <!--/--> | Estimate | Std. Error | t value | Pr(&gt;|t|) |\n",
       "|---|---|---|---|---|\n",
       "| (Intercept) | 6.515304 | 9.2568195 | 0.7038383 | 4.849341e-01 |\n",
       "| x | 2.066560 | 0.2818719 | 7.3315600 | 2.285410e-09 |\n",
       "\n"
      ],
      "text/plain": [
       "            Estimate Std. Error t value   Pr(>|t|)    \n",
       "(Intercept) 6.515304 9.2568195  0.7038383 4.849341e-01\n",
       "x           2.066560 0.2818719  7.3315600 2.285410e-09"
      ]
     },
     "metadata": {},
     "output_type": "display_data"
    }
   ],
   "source": [
    "s1$coefficients"
   ]
  },
  {
   "cell_type": "code",
   "execution_count": 23,
   "id": "9d9a16c2",
   "metadata": {
    "ExecuteTime": {
     "end_time": "2021-11-19T11:35:06.447750Z",
     "start_time": "2021-11-19T11:35:03.702Z"
    }
   },
   "outputs": [],
   "source": [
    "x <- seq(5,100)\n",
    "\n",
    "bh1 <- bh2 <- se1 <- se2 <- se3 <- c() \n",
    "\n",
    "for (i in 1:1000){\n",
    "    e <- x*rnorm(length(x), 0, 1)\n",
    "    y <- 10+2*x+e\n",
    "\n",
    "    m1 <- summary(lm(y~x))\n",
    "    m2 <- summary(lm(y~x, weights=1/x))\n",
    "    \n",
    "    bh1 <- c(bh1, m1$coefficients[2,1]) \n",
    "    bh2 <- c(bh2, m2$coefficients[2,1]) \n",
    "    se1 <- c(se1, m1$coefficients[2,2]) \n",
    "    se2 <- c(se2, m2$coefficients[2,2]) \n",
    "    se3 <- c(se3, sqrt(vcovHC(lm(y~x), type='HC0')[2,2]))\n",
    "    \n",
    "}\n",
    "\n"
   ]
  },
  {
   "cell_type": "code",
   "execution_count": 25,
   "id": "d3f8c99a",
   "metadata": {
    "ExecuteTime": {
     "end_time": "2021-11-19T11:35:06.691722Z",
     "start_time": "2021-11-19T11:35:05.965Z"
    }
   },
   "outputs": [
    {
     "data": {
      "text/html": [
       "1.98855618125771"
      ],
      "text/latex": [
       "1.98855618125771"
      ],
      "text/markdown": [
       "1.98855618125771"
      ],
      "text/plain": [
       "[1] 1.988556"
      ]
     },
     "metadata": {},
     "output_type": "display_data"
    },
    {
     "data": {
      "text/html": [
       "1.99150783207411"
      ],
      "text/latex": [
       "1.99150783207411"
      ],
      "text/markdown": [
       "1.99150783207411"
      ],
      "text/plain": [
       "[1] 1.991508"
      ]
     },
     "metadata": {},
     "output_type": "display_data"
    }
   ],
   "source": [
    "mean(bh1)\n",
    "mean(bh2)"
   ]
  },
  {
   "cell_type": "code",
   "execution_count": 26,
   "id": "72296db7",
   "metadata": {
    "ExecuteTime": {
     "end_time": "2021-11-19T11:35:06.885873Z",
     "start_time": "2021-11-19T11:35:06.173Z"
    }
   },
   "outputs": [
    {
     "data": {
      "image/png": "[encoded data removed]",
      "text/plain": [
       "Plot with title “density.default(x = bh1)”"
      ]
     },
     "metadata": {
      "image/png": {
       "height": 420,
       "width": 420
      }
     },
     "output_type": "display_data"
    }
   ],
   "source": [
    "plot(density(bh1), ylim=c(0,2.5))\n",
    "lines(density(bh2), col='blue')"
   ]
  },
  {
   "cell_type": "code",
   "execution_count": 27,
   "id": "40f20327",
   "metadata": {
    "ExecuteTime": {
     "end_time": "2021-11-19T11:35:07.006585Z",
     "start_time": "2021-11-19T11:35:06.504Z"
    }
   },
   "outputs": [
    {
     "data": {
      "text/html": [
       "0.244498077512645"
      ],
      "text/latex": [
       "0.244498077512645"
      ],
      "text/markdown": [
       "0.244498077512645"
      ],
      "text/plain": [
       "[1] 0.2444981"
      ]
     },
     "metadata": {},
     "output_type": "display_data"
    }
   ],
   "source": [
    "sd(bh1)"
   ]
  },
  {
   "cell_type": "code",
   "execution_count": 28,
   "id": "526fe628",
   "metadata": {
    "ExecuteTime": {
     "end_time": "2021-11-19T11:35:07.126990Z",
     "start_time": "2021-11-19T11:35:06.738Z"
    }
   },
   "outputs": [
    {
     "data": {
      "text/html": [
       "0.169824633673925"
      ],
      "text/latex": [
       "0.169824633673925"
      ],
      "text/markdown": [
       "0.169824633673925"
      ],
      "text/plain": [
       "[1] 0.1698246"
      ]
     },
     "metadata": {},
     "output_type": "display_data"
    }
   ],
   "source": [
    "sd(bh2)"
   ]
  },
  {
   "cell_type": "code",
   "execution_count": 29,
   "id": "9b716eb2",
   "metadata": {
    "ExecuteTime": {
     "end_time": "2021-11-19T11:35:07.319309Z",
     "start_time": "2021-11-19T11:35:06.955Z"
    }
   },
   "outputs": [
    {
     "data": {
      "image/png": "[encoded data removed]",
      "text/plain": [
       "Plot with title “density.default(x = se1)”"
      ]
     },
     "metadata": {
      "image/png": {
       "height": 420,
       "width": 420
      }
     },
     "output_type": "display_data"
    }
   ],
   "source": [
    "plot(density(se1), xlim=c(0.1,0.4), ylim=c(0,30))\n",
    "lines(density(se2), col='blue')\n",
    "lines(density(se3), col='red')"
   ]
  },
  {
   "cell_type": "code",
   "execution_count": null,
   "id": "9be6280e",
   "metadata": {},
   "outputs": [],
   "source": []
  }
 ],
 "metadata": {
  "hide_input": false,
  "kernelspec": {
   "display_name": "R 4.2",
   "language": "R",
   "name": "ir42"
  },
  "language_info": {
   "codemirror_mode": "r",
   "file_extension": ".r",
   "mimetype": "text/x-r-source",
   "name": "R",
   "pygments_lexer": "r",
   "version": "4.2.2"
  },
  "latex_envs": {
   "LaTeX_envs_menu_present": true,
   "autoclose": true,
   "autocomplete": true,
   "bibliofile": "biblio.bib",
   "cite_by": "apalike",
   "current_citInitial": 1,
   "eqLabelWithNumbers": true,
   "eqNumInitial": 1,
   "hotkeys": {
    "equation": "Ctrl-E",
    "itemize": "Ctrl-I"
   },
   "labels_anchors": false,
   "latex_user_defs": false,
   "report_style_numbering": false,
   "user_envs_cfg": false
  },
  "toc": {
   "base_numbering": 1,
   "nav_menu": {},
   "number_sections": true,
   "sideBar": true,
   "skip_h1_title": false,
   "title_cell": "Table of Contents",
   "title_sidebar": "Contents",
   "toc_cell": false,
   "toc_position": {},
   "toc_section_display": true,
   "toc_window_display": false
  },
  "varInspector": {
   "cols": {
    "lenName": 16,
    "lenType": 16,
    "lenVar": 40
   },
   "kernels_config": {
    "python": {
     "delete_cmd_postfix": "",
     "delete_cmd_prefix": "del ",
     "library": "var_list.py",
     "varRefreshCmd": "print(var_dic_list())"
    },
    "r": {
     "delete_cmd_postfix": ") ",
     "delete_cmd_prefix": "rm(",
     "library": "var_list.r",
     "varRefreshCmd": "cat(var_dic_list()) "
    }
   },
   "types_to_exclude": [
    "module",
    "function",
    "builtin_function_or_method",
    "instance",
    "_Feature"
   ],
   "window_display": false
  }
 },
 "nbformat": 4,
 "nbformat_minor": 5
}
