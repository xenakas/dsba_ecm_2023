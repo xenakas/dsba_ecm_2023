{
 "cells": [
  {
   "cell_type": "markdown",
   "id": "865b3794-3a15-4be1-9dd7-800cad0a2a89",
   "metadata": {},
   "source": [
    "## Multicollinearity"
   ]
  },
  {
   "cell_type": "code",
   "execution_count": 13,
   "id": "8d356b55-4999-4e28-a42b-88dc5a231fd4",
   "metadata": {
    "ExecuteTime": {
     "end_time": "2020-10-12T06:44:34.659785Z",
     "start_time": "2020-10-12T06:44:34.643Z"
    }
   },
   "outputs": [],
   "source": [
    "library(tidyverse)\n",
    "library(caret)\n",
    "Sys.setenv(LANG = \"en\")"
   ]
  },
  {
   "cell_type": "code",
   "execution_count": 14,
   "id": "de213bcc-cbe5-4bb7-b269-62fa62b98e3e",
   "metadata": {
    "ExecuteTime": {
     "end_time": "2020-10-12T06:40:09.931908Z",
     "start_time": "2020-10-12T06:40:09.914Z"
    }
   },
   "outputs": [],
   "source": [
    "data(\"Boston\", package = \"MASS\")"
   ]
  },
  {
   "cell_type": "code",
   "execution_count": 15,
   "id": "72e2c9f2-8d7a-4cb8-8024-6fa5a2ad4316",
   "metadata": {
    "ExecuteTime": {
     "end_time": "2020-10-12T06:40:32.729514Z",
     "start_time": "2020-10-12T06:40:32.711Z"
    }
   },
   "outputs": [],
   "source": [
    "model1 <- lm(medv ~., data = Boston)"
   ]
  },
  {
   "cell_type": "code",
   "execution_count": 16,
   "id": "4a5b5133-1adf-438e-ad26-0d7fdb1bcbaa",
   "metadata": {
    "ExecuteTime": {
     "end_time": "2020-10-12T06:42:04.853184Z",
     "start_time": "2020-10-12T06:42:04.791Z"
    }
   },
   "outputs": [
    {
     "data": {
      "text/html": [
       "\n",
       "<table style=\"width: 100%;\"><tr><td>Boston {MASS}</td><td style=\"text-align: right;\">R Documentation</td></tr></table>\n",
       "\n",
       "<h2 id='Boston'>\n",
       "Housing Values in Suburbs of Boston\n",
       "</h2>\n",
       "\n",
       "<h3>Description</h3>\n",
       "\n",
       "<p>The <code>Boston</code> data frame has 506 rows and 14 columns.\n",
       "</p>\n",
       "\n",
       "\n",
       "<h3>Usage</h3>\n",
       "\n",
       "<pre><code class='language-R'>Boston\n",
       "</code></pre>\n",
       "\n",
       "\n",
       "<h3>Format</h3>\n",
       "\n",
       "<p>This data frame contains the following columns:\n",
       "</p>\n",
       "\n",
       "<dl>\n",
       "<dt><code>crim</code></dt><dd>\n",
       "<p>per capita crime rate by town.\n",
       "</p>\n",
       "</dd>\n",
       "<dt><code>zn</code></dt><dd>\n",
       "<p>proportion of residential land zoned for lots over 25,000 sq.ft.\n",
       "</p>\n",
       "</dd>\n",
       "<dt><code>indus</code></dt><dd>\n",
       "<p>proportion of non-retail business acres per town.\n",
       "</p>\n",
       "</dd>\n",
       "<dt><code>chas</code></dt><dd>\n",
       "<p>Charles River dummy variable (= 1 if tract bounds river; 0 otherwise).\n",
       "</p>\n",
       "</dd>\n",
       "<dt><code>nox</code></dt><dd>\n",
       "<p>nitrogen oxides concentration (parts per 10 million).\n",
       "</p>\n",
       "</dd>\n",
       "<dt><code>rm</code></dt><dd>\n",
       "<p>average number of rooms per dwelling.\n",
       "</p>\n",
       "</dd>\n",
       "<dt><code>age</code></dt><dd>\n",
       "<p>proportion of owner-occupied units built prior to 1940.\n",
       "</p>\n",
       "</dd>\n",
       "<dt><code>dis</code></dt><dd>\n",
       "<p>weighted mean of distances to five Boston employment centres.\n",
       "</p>\n",
       "</dd>\n",
       "<dt><code>rad</code></dt><dd>\n",
       "<p>index of accessibility to radial highways.\n",
       "</p>\n",
       "</dd>\n",
       "<dt><code>tax</code></dt><dd>\n",
       "<p>full-value property-tax rate per $10,000.\n",
       "</p>\n",
       "</dd>\n",
       "<dt><code>ptratio</code></dt><dd>\n",
       "<p>pupil-teacher ratio by town.\n",
       "</p>\n",
       "</dd>\n",
       "<dt><code>black</code></dt><dd>\n",
       "<p><code class=\"reqn\">1000(Bk - 0.63)^2</code> where <code class=\"reqn\">Bk</code> is the proportion of blacks\n",
       "by town.\n",
       "</p>\n",
       "</dd>\n",
       "<dt><code>lstat</code></dt><dd>\n",
       "<p>lower status of the population (percent).\n",
       "</p>\n",
       "</dd>\n",
       "<dt><code>medv</code></dt><dd>\n",
       "<p>median value of owner-occupied homes in $1000s.\n",
       "</p>\n",
       "</dd>\n",
       "</dl>\n",
       "\n",
       "\n",
       "\n",
       "<h3>Source</h3>\n",
       "\n",
       "<p>Harrison, D. and Rubinfeld, D.L. (1978)\n",
       "Hedonic prices and the demand for clean air.\n",
       "<em>J. Environ. Economics and Management</em>\n",
       "<b>5</b>, 81&ndash;102.\n",
       "</p>\n",
       "<p>Belsley D.A., Kuh, E.  and Welsch, R.E. (1980)\n",
       "<em>Regression Diagnostics. Identifying Influential Data and Sources\n",
       "of Collinearity.</em>\n",
       "New York: Wiley.\n",
       "</p>\n",
       "\n",
       "<hr /><div style=\"text-align: center;\">[Package <em>MASS</em> version 7.3-60 ]</div>\n",
       "</div>"
      ],
      "text/latex": [
       "\\inputencoding{utf8}\n",
       "\\HeaderA{Boston}{Housing Values in Suburbs of Boston}{Boston}\n",
       "\\keyword{datasets}{Boston}\n",
       "%\n",
       "\\begin{Description}\n",
       "The \\code{Boston} data frame has 506 rows and 14 columns.\n",
       "\\end{Description}\n",
       "%\n",
       "\\begin{Usage}\n",
       "\\begin{verbatim}\n",
       "Boston\n",
       "\\end{verbatim}\n",
       "\\end{Usage}\n",
       "%\n",
       "\\begin{Format}\n",
       "This data frame contains the following columns:\n",
       "\\begin{description}\n",
       "\n",
       "\\item[\\code{crim}] \n",
       "per capita crime rate by town.\n",
       "\n",
       "\\item[\\code{zn}] \n",
       "proportion of residential land zoned for lots over 25,000 sq.ft.\n",
       "\n",
       "\\item[\\code{indus}] \n",
       "proportion of non-retail business acres per town.\n",
       "\n",
       "\\item[\\code{chas}] \n",
       "Charles River dummy variable (= 1 if tract bounds river; 0 otherwise).\n",
       "\n",
       "\\item[\\code{nox}] \n",
       "nitrogen oxides concentration (parts per 10 million).\n",
       "\n",
       "\\item[\\code{rm}] \n",
       "average number of rooms per dwelling.\n",
       "\n",
       "\\item[\\code{age}] \n",
       "proportion of owner-occupied units built prior to 1940.\n",
       "\n",
       "\\item[\\code{dis}] \n",
       "weighted mean of distances to five Boston employment centres.\n",
       "\n",
       "\\item[\\code{rad}] \n",
       "index of accessibility to radial highways.\n",
       "\n",
       "\\item[\\code{tax}] \n",
       "full-value property-tax rate per \\$10,000.\n",
       "\n",
       "\\item[\\code{ptratio}] \n",
       "pupil-teacher ratio by town.\n",
       "\n",
       "\\item[\\code{black}] \n",
       "\\eqn{1000(Bk - 0.63)^2}{} where \\eqn{Bk}{} is the proportion of blacks\n",
       "by town.\n",
       "\n",
       "\\item[\\code{lstat}] \n",
       "lower status of the population (percent).\n",
       "\n",
       "\\item[\\code{medv}] \n",
       "median value of owner-occupied homes in \\$1000s.\n",
       "\n",
       "\n",
       "\\end{description}\n",
       "\n",
       "\\end{Format}\n",
       "%\n",
       "\\begin{Source}\n",
       "Harrison, D. and Rubinfeld, D.L. (1978)\n",
       "Hedonic prices and the demand for clean air.\n",
       "\\emph{J. Environ. Economics and Management}\n",
       "\\bold{5}, 81--102.\n",
       "\n",
       "Belsley D.A., Kuh, E.  and Welsch, R.E. (1980)\n",
       "\\emph{Regression Diagnostics. Identifying Influential Data and Sources\n",
       "of Collinearity.}\n",
       "New York: Wiley.\n",
       "\\end{Source}"
      ],
      "text/plain": [
       "Boston                  package:MASS                   R Documentation\n",
       "\n",
       "_\bH_\bo_\bu_\bs_\bi_\bn_\bg _\bV_\ba_\bl_\bu_\be_\bs _\bi_\bn _\bS_\bu_\bb_\bu_\br_\bb_\bs _\bo_\bf _\bB_\bo_\bs_\bt_\bo_\bn\n",
       "\n",
       "_\bD_\be_\bs_\bc_\br_\bi_\bp_\bt_\bi_\bo_\bn:\n",
       "\n",
       "     The ‘Boston’ data frame has 506 rows and 14 columns.\n",
       "\n",
       "_\bU_\bs_\ba_\bg_\be:\n",
       "\n",
       "     Boston\n",
       "     \n",
       "_\bF_\bo_\br_\bm_\ba_\bt:\n",
       "\n",
       "     This data frame contains the following columns:\n",
       "\n",
       "     ‘crim’ per capita crime rate by town.\n",
       "\n",
       "     ‘zn’ proportion of residential land zoned for lots over 25,000\n",
       "          sq.ft.\n",
       "\n",
       "     ‘indus’ proportion of non-retail business acres per town.\n",
       "\n",
       "     ‘chas’ Charles River dummy variable (= 1 if tract bounds river; 0\n",
       "          otherwise).\n",
       "\n",
       "     ‘nox’ nitrogen oxides concentration (parts per 10 million).\n",
       "\n",
       "     ‘rm’ average number of rooms per dwelling.\n",
       "\n",
       "     ‘age’ proportion of owner-occupied units built prior to 1940.\n",
       "\n",
       "     ‘dis’ weighted mean of distances to five Boston employment\n",
       "          centres.\n",
       "\n",
       "     ‘rad’ index of accessibility to radial highways.\n",
       "\n",
       "     ‘tax’ full-value property-tax rate per $10,000.\n",
       "\n",
       "     ‘ptratio’ pupil-teacher ratio by town.\n",
       "\n",
       "     ‘black’ 1000(Bk - 0.63)^2 where Bk is the proportion of blacks by\n",
       "          town.\n",
       "\n",
       "     ‘lstat’ lower status of the population (percent).\n",
       "\n",
       "     ‘medv’ median value of owner-occupied homes in $1000s.\n",
       "\n",
       "_\bS_\bo_\bu_\br_\bc_\be:\n",
       "\n",
       "     Harrison, D. and Rubinfeld, D.L. (1978) Hedonic prices and the\n",
       "     demand for clean air.  _J. Environ. Economics and Management_ *5*,\n",
       "     81-102.\n",
       "\n",
       "     Belsley D.A., Kuh, E.  and Welsch, R.E. (1980) _Regression\n",
       "     Diagnostics. Identifying Influential Data and Sources of\n",
       "     Collinearity._ New York: Wiley.\n"
      ]
     },
     "metadata": {},
     "output_type": "display_data"
    }
   ],
   "source": [
    "?MASS::Boston"
   ]
  },
  {
   "cell_type": "code",
   "execution_count": 17,
   "id": "919ad559-33c2-4add-b168-eb7509e3d168",
   "metadata": {
    "ExecuteTime": {
     "end_time": "2020-10-12T06:40:46.892683Z",
     "start_time": "2020-10-12T06:40:46.864Z"
    }
   },
   "outputs": [
    {
     "data": {
      "text/plain": [
       "\n",
       "Call:\n",
       "lm(formula = medv ~ ., data = Boston)\n",
       "\n",
       "Residuals:\n",
       "    Min      1Q  Median      3Q     Max \n",
       "-15.595  -2.730  -0.518   1.777  26.199 \n",
       "\n",
       "Coefficients:\n",
       "              Estimate Std. Error t value Pr(>|t|)    \n",
       "(Intercept)  3.646e+01  5.103e+00   7.144 3.28e-12 ***\n",
       "crim        -1.080e-01  3.286e-02  -3.287 0.001087 ** \n",
       "zn           4.642e-02  1.373e-02   3.382 0.000778 ***\n",
       "indus        2.056e-02  6.150e-02   0.334 0.738288    \n",
       "chas         2.687e+00  8.616e-01   3.118 0.001925 ** \n",
       "nox         -1.777e+01  3.820e+00  -4.651 4.25e-06 ***\n",
       "rm           3.810e+00  4.179e-01   9.116  < 2e-16 ***\n",
       "age          6.922e-04  1.321e-02   0.052 0.958229    \n",
       "dis         -1.476e+00  1.995e-01  -7.398 6.01e-13 ***\n",
       "rad          3.060e-01  6.635e-02   4.613 5.07e-06 ***\n",
       "tax         -1.233e-02  3.760e-03  -3.280 0.001112 ** \n",
       "ptratio     -9.527e-01  1.308e-01  -7.283 1.31e-12 ***\n",
       "black        9.312e-03  2.686e-03   3.467 0.000573 ***\n",
       "lstat       -5.248e-01  5.072e-02 -10.347  < 2e-16 ***\n",
       "---\n",
       "Signif. codes:  0 ‘***’ 0.001 ‘**’ 0.01 ‘*’ 0.05 ‘.’ 0.1 ‘ ’ 1\n",
       "\n",
       "Residual standard error: 4.745 on 492 degrees of freedom\n",
       "Multiple R-squared:  0.7406,\tAdjusted R-squared:  0.7338 \n",
       "F-statistic: 108.1 on 13 and 492 DF,  p-value: < 2.2e-16\n"
      ]
     },
     "metadata": {},
     "output_type": "display_data"
    }
   ],
   "source": [
    "summary(model1)"
   ]
  },
  {
   "cell_type": "code",
   "execution_count": 18,
   "id": "31de9db0-555c-4fa3-98be-6e0a579dfaf9",
   "metadata": {
    "ExecuteTime": {
     "end_time": "2020-10-12T06:43:25.466967Z",
     "start_time": "2020-10-12T06:43:25.288Z"
    },
    "scrolled": true
   },
   "outputs": [
    {
     "data": {
      "text/html": [
       "<style>\n",
       ".dl-inline {width: auto; margin:0; padding: 0}\n",
       ".dl-inline>dt, .dl-inline>dd {float: none; width: auto; display: inline-block}\n",
       ".dl-inline>dt::after {content: \":\\0020\"; padding-right: .5ex}\n",
       ".dl-inline>dt:not(:first-of-type) {padding-left: .5ex}\n",
       "</style><dl class=dl-inline><dt>crim</dt><dd>1.79219154743325</dd><dt>zn</dt><dd>2.29875817874944</dd><dt>indus</dt><dd>3.99159641834604</dd><dt>chas</dt><dd>1.07399532755379</dd><dt>nox</dt><dd>4.39371984757748</dd><dt>rm</dt><dd>1.93374443578326</dd><dt>age</dt><dd>3.10082551281534</dd><dt>dis</dt><dd>3.95594490637273</dd><dt>rad</dt><dd>7.48449633527447</dd><dt>tax</dt><dd>9.00855394759708</dd><dt>ptratio</dt><dd>1.7990840492489</dd><dt>black</dt><dd>1.34852107640638</dd><dt>lstat</dt><dd>2.94149107809194</dd></dl>\n"
      ],
      "text/latex": [
       "\\begin{description*}\n",
       "\\item[crim] 1.79219154743325\n",
       "\\item[zn] 2.29875817874944\n",
       "\\item[indus] 3.99159641834604\n",
       "\\item[chas] 1.07399532755379\n",
       "\\item[nox] 4.39371984757748\n",
       "\\item[rm] 1.93374443578326\n",
       "\\item[age] 3.10082551281534\n",
       "\\item[dis] 3.95594490637273\n",
       "\\item[rad] 7.48449633527447\n",
       "\\item[tax] 9.00855394759708\n",
       "\\item[ptratio] 1.7990840492489\n",
       "\\item[black] 1.34852107640638\n",
       "\\item[lstat] 2.94149107809194\n",
       "\\end{description*}\n"
      ],
      "text/markdown": [
       "crim\n",
       ":   1.79219154743325zn\n",
       ":   2.29875817874944indus\n",
       ":   3.99159641834604chas\n",
       ":   1.07399532755379nox\n",
       ":   4.39371984757748rm\n",
       ":   1.93374443578326age\n",
       ":   3.10082551281534dis\n",
       ":   3.95594490637273rad\n",
       ":   7.48449633527447tax\n",
       ":   9.00855394759708ptratio\n",
       ":   1.7990840492489black\n",
       ":   1.34852107640638lstat\n",
       ":   2.94149107809194\n",
       "\n"
      ],
      "text/plain": [
       "    crim       zn    indus     chas      nox       rm      age      dis \n",
       "1.792192 2.298758 3.991596 1.073995 4.393720 1.933744 3.100826 3.955945 \n",
       "     rad      tax  ptratio    black    lstat \n",
       "7.484496 9.008554 1.799084 1.348521 2.941491 "
      ]
     },
     "metadata": {},
     "output_type": "display_data"
    }
   ],
   "source": [
    "car::vif(model1)"
   ]
  },
  {
   "cell_type": "code",
   "execution_count": 27,
   "id": "90828132-124d-4b17-878e-10d9a83b5b12",
   "metadata": {
    "ExecuteTime": {
     "end_time": "2020-10-12T06:43:50.584106Z",
     "start_time": "2020-10-12T06:43:50.515Z"
    }
   },
   "outputs": [],
   "source": [
    "model2 <- lm(medv ~. -tax, data = Boston)"
   ]
  },
  {
   "cell_type": "code",
   "execution_count": 28,
   "id": "f625c3b2-dbb3-485d-a88f-d4bc67ba8bcf",
   "metadata": {
    "ExecuteTime": {
     "end_time": "2020-10-12T06:44:06.547957Z",
     "start_time": "2020-10-12T06:44:06.504Z"
    }
   },
   "outputs": [
    {
     "data": {
      "text/plain": [
       "\n",
       "Call:\n",
       "lm(formula = medv ~ . - tax, data = Boston)\n",
       "\n",
       "Residuals:\n",
       "     Min       1Q   Median       3Q      Max \n",
       "-16.1449  -2.9143  -0.5661   1.7438  26.3113 \n",
       "\n",
       "Coefficients:\n",
       "              Estimate Std. Error t value Pr(>|t|)    \n",
       "(Intercept)  3.463e+01  5.123e+00   6.760 3.92e-11 ***\n",
       "crim        -1.067e-01  3.319e-02  -3.216 0.001384 ** \n",
       "zn           3.637e-02  1.351e-02   2.692 0.007354 ** \n",
       "indus       -6.778e-02  5.583e-02  -1.214 0.225317    \n",
       "chas         3.029e+00  8.637e-01   3.507 0.000494 ***\n",
       "nox         -1.870e+01  3.847e+00  -4.862 1.57e-06 ***\n",
       "rm           3.912e+00  4.209e-01   9.294  < 2e-16 ***\n",
       "age         -6.054e-04  1.333e-02  -0.045 0.963804    \n",
       "dis         -1.488e+00  2.014e-01  -7.390 6.31e-13 ***\n",
       "rad          1.346e-01  4.125e-02   3.262 0.001182 ** \n",
       "ptratio     -9.851e-01  1.317e-01  -7.478 3.48e-13 ***\n",
       "black        9.546e-03  2.711e-03   3.521 0.000470 ***\n",
       "lstat       -5.222e-01  5.121e-02 -10.198  < 2e-16 ***\n",
       "---\n",
       "Signif. codes:  0 ‘***’ 0.001 ‘**’ 0.01 ‘*’ 0.05 ‘.’ 0.1 ‘ ’ 1\n",
       "\n",
       "Residual standard error: 4.792 on 493 degrees of freedom\n",
       "Multiple R-squared:  0.735,\tAdjusted R-squared:  0.7285 \n",
       "F-statistic: 113.9 on 12 and 493 DF,  p-value: < 2.2e-16\n"
      ]
     },
     "metadata": {},
     "output_type": "display_data"
    }
   ],
   "source": [
    "summary(model2)"
   ]
  },
  {
   "cell_type": "code",
   "execution_count": 29,
   "id": "593ab289-f01d-473a-8bf2-7ada280680b4",
   "metadata": {},
   "outputs": [],
   "source": [
    "library(MASS)"
   ]
  },
  {
   "cell_type": "code",
   "execution_count": 34,
   "id": "914f3293-ead6-48db-a6c0-b38a4bd7b28b",
   "metadata": {},
   "outputs": [
    {
     "ename": "ERROR",
     "evalue": "Error in rcorr(as.matrix(Boston)): could not find function \"rcorr\"\n",
     "output_type": "error",
     "traceback": [
      "Error in rcorr(as.matrix(Boston)): could not find function \"rcorr\"\nTraceback:\n"
     ]
    }
   ],
   "source": [
    "rcorr(as.matrix(Boston))"
   ]
  },
  {
   "cell_type": "code",
   "execution_count": 35,
   "id": "2760df04-8d81-4643-812d-416a0e06b819",
   "metadata": {},
   "outputs": [
    {
     "data": {
      "text/html": [
       "<table class=\"dataframe\">\n",
       "<caption>A matrix: 14 × 14 of type dbl</caption>\n",
       "<thead>\n",
       "\t<tr><th></th><th scope=col>crim</th><th scope=col>zn</th><th scope=col>indus</th><th scope=col>chas</th><th scope=col>nox</th><th scope=col>rm</th><th scope=col>age</th><th scope=col>dis</th><th scope=col>rad</th><th scope=col>tax</th><th scope=col>ptratio</th><th scope=col>black</th><th scope=col>lstat</th><th scope=col>medv</th></tr>\n",
       "</thead>\n",
       "<tbody>\n",
       "\t<tr><th scope=row>crim</th><td> 1.00000000</td><td>-0.20046922</td><td> 0.40658341</td><td>-0.055891582</td><td> 0.42097171</td><td>-0.21924670</td><td> 0.35273425</td><td>-0.37967009</td><td> 0.625505145</td><td> 0.58276431</td><td> 0.2899456</td><td>-0.38506394</td><td> 0.4556215</td><td>-0.3883046</td></tr>\n",
       "\t<tr><th scope=row>zn</th><td>-0.20046922</td><td> 1.00000000</td><td>-0.53382819</td><td>-0.042696719</td><td>-0.51660371</td><td> 0.31199059</td><td>-0.56953734</td><td> 0.66440822</td><td>-0.311947826</td><td>-0.31456332</td><td>-0.3916785</td><td> 0.17552032</td><td>-0.4129946</td><td> 0.3604453</td></tr>\n",
       "\t<tr><th scope=row>indus</th><td> 0.40658341</td><td>-0.53382819</td><td> 1.00000000</td><td> 0.062938027</td><td> 0.76365145</td><td>-0.39167585</td><td> 0.64477851</td><td>-0.70802699</td><td> 0.595129275</td><td> 0.72076018</td><td> 0.3832476</td><td>-0.35697654</td><td> 0.6037997</td><td>-0.4837252</td></tr>\n",
       "\t<tr><th scope=row>chas</th><td>-0.05589158</td><td>-0.04269672</td><td> 0.06293803</td><td> 1.000000000</td><td> 0.09120281</td><td> 0.09125123</td><td> 0.08651777</td><td>-0.09917578</td><td>-0.007368241</td><td>-0.03558652</td><td>-0.1215152</td><td> 0.04878848</td><td>-0.0539293</td><td> 0.1752602</td></tr>\n",
       "\t<tr><th scope=row>nox</th><td> 0.42097171</td><td>-0.51660371</td><td> 0.76365145</td><td> 0.091202807</td><td> 1.00000000</td><td>-0.30218819</td><td> 0.73147010</td><td>-0.76923011</td><td> 0.611440563</td><td> 0.66802320</td><td> 0.1889327</td><td>-0.38005064</td><td> 0.5908789</td><td>-0.4273208</td></tr>\n",
       "\t<tr><th scope=row>rm</th><td>-0.21924670</td><td> 0.31199059</td><td>-0.39167585</td><td> 0.091251225</td><td>-0.30218819</td><td> 1.00000000</td><td>-0.24026493</td><td> 0.20524621</td><td>-0.209846668</td><td>-0.29204783</td><td>-0.3555015</td><td> 0.12806864</td><td>-0.6138083</td><td> 0.6953599</td></tr>\n",
       "\t<tr><th scope=row>age</th><td> 0.35273425</td><td>-0.56953734</td><td> 0.64477851</td><td> 0.086517774</td><td> 0.73147010</td><td>-0.24026493</td><td> 1.00000000</td><td>-0.74788054</td><td> 0.456022452</td><td> 0.50645559</td><td> 0.2615150</td><td>-0.27353398</td><td> 0.6023385</td><td>-0.3769546</td></tr>\n",
       "\t<tr><th scope=row>dis</th><td>-0.37967009</td><td> 0.66440822</td><td>-0.70802699</td><td>-0.099175780</td><td>-0.76923011</td><td> 0.20524621</td><td>-0.74788054</td><td> 1.00000000</td><td>-0.494587930</td><td>-0.53443158</td><td>-0.2324705</td><td> 0.29151167</td><td>-0.4969958</td><td> 0.2499287</td></tr>\n",
       "\t<tr><th scope=row>rad</th><td> 0.62550515</td><td>-0.31194783</td><td> 0.59512927</td><td>-0.007368241</td><td> 0.61144056</td><td>-0.20984667</td><td> 0.45602245</td><td>-0.49458793</td><td> 1.000000000</td><td> 0.91022819</td><td> 0.4647412</td><td>-0.44441282</td><td> 0.4886763</td><td>-0.3816262</td></tr>\n",
       "\t<tr><th scope=row>tax</th><td> 0.58276431</td><td>-0.31456332</td><td> 0.72076018</td><td>-0.035586518</td><td> 0.66802320</td><td>-0.29204783</td><td> 0.50645559</td><td>-0.53443158</td><td> 0.910228189</td><td> 1.00000000</td><td> 0.4608530</td><td>-0.44180801</td><td> 0.5439934</td><td>-0.4685359</td></tr>\n",
       "\t<tr><th scope=row>ptratio</th><td> 0.28994558</td><td>-0.39167855</td><td> 0.38324756</td><td>-0.121515174</td><td> 0.18893268</td><td>-0.35550149</td><td> 0.26151501</td><td>-0.23247054</td><td> 0.464741179</td><td> 0.46085304</td><td> 1.0000000</td><td>-0.17738330</td><td> 0.3740443</td><td>-0.5077867</td></tr>\n",
       "\t<tr><th scope=row>black</th><td>-0.38506394</td><td> 0.17552032</td><td>-0.35697654</td><td> 0.048788485</td><td>-0.38005064</td><td> 0.12806864</td><td>-0.27353398</td><td> 0.29151167</td><td>-0.444412816</td><td>-0.44180801</td><td>-0.1773833</td><td> 1.00000000</td><td>-0.3660869</td><td> 0.3334608</td></tr>\n",
       "\t<tr><th scope=row>lstat</th><td> 0.45562148</td><td>-0.41299457</td><td> 0.60379972</td><td>-0.053929298</td><td> 0.59087892</td><td>-0.61380827</td><td> 0.60233853</td><td>-0.49699583</td><td> 0.488676335</td><td> 0.54399341</td><td> 0.3740443</td><td>-0.36608690</td><td> 1.0000000</td><td>-0.7376627</td></tr>\n",
       "\t<tr><th scope=row>medv</th><td>-0.38830461</td><td> 0.36044534</td><td>-0.48372516</td><td> 0.175260177</td><td>-0.42732077</td><td> 0.69535995</td><td>-0.37695457</td><td> 0.24992873</td><td>-0.381626231</td><td>-0.46853593</td><td>-0.5077867</td><td> 0.33346082</td><td>-0.7376627</td><td> 1.0000000</td></tr>\n",
       "</tbody>\n",
       "</table>\n"
      ],
      "text/latex": [
       "A matrix: 14 × 14 of type dbl\n",
       "\\begin{tabular}{r|llllllllllllll}\n",
       "  & crim & zn & indus & chas & nox & rm & age & dis & rad & tax & ptratio & black & lstat & medv\\\\\n",
       "\\hline\n",
       "\tcrim &  1.00000000 & -0.20046922 &  0.40658341 & -0.055891582 &  0.42097171 & -0.21924670 &  0.35273425 & -0.37967009 &  0.625505145 &  0.58276431 &  0.2899456 & -0.38506394 &  0.4556215 & -0.3883046\\\\\n",
       "\tzn & -0.20046922 &  1.00000000 & -0.53382819 & -0.042696719 & -0.51660371 &  0.31199059 & -0.56953734 &  0.66440822 & -0.311947826 & -0.31456332 & -0.3916785 &  0.17552032 & -0.4129946 &  0.3604453\\\\\n",
       "\tindus &  0.40658341 & -0.53382819 &  1.00000000 &  0.062938027 &  0.76365145 & -0.39167585 &  0.64477851 & -0.70802699 &  0.595129275 &  0.72076018 &  0.3832476 & -0.35697654 &  0.6037997 & -0.4837252\\\\\n",
       "\tchas & -0.05589158 & -0.04269672 &  0.06293803 &  1.000000000 &  0.09120281 &  0.09125123 &  0.08651777 & -0.09917578 & -0.007368241 & -0.03558652 & -0.1215152 &  0.04878848 & -0.0539293 &  0.1752602\\\\\n",
       "\tnox &  0.42097171 & -0.51660371 &  0.76365145 &  0.091202807 &  1.00000000 & -0.30218819 &  0.73147010 & -0.76923011 &  0.611440563 &  0.66802320 &  0.1889327 & -0.38005064 &  0.5908789 & -0.4273208\\\\\n",
       "\trm & -0.21924670 &  0.31199059 & -0.39167585 &  0.091251225 & -0.30218819 &  1.00000000 & -0.24026493 &  0.20524621 & -0.209846668 & -0.29204783 & -0.3555015 &  0.12806864 & -0.6138083 &  0.6953599\\\\\n",
       "\tage &  0.35273425 & -0.56953734 &  0.64477851 &  0.086517774 &  0.73147010 & -0.24026493 &  1.00000000 & -0.74788054 &  0.456022452 &  0.50645559 &  0.2615150 & -0.27353398 &  0.6023385 & -0.3769546\\\\\n",
       "\tdis & -0.37967009 &  0.66440822 & -0.70802699 & -0.099175780 & -0.76923011 &  0.20524621 & -0.74788054 &  1.00000000 & -0.494587930 & -0.53443158 & -0.2324705 &  0.29151167 & -0.4969958 &  0.2499287\\\\\n",
       "\trad &  0.62550515 & -0.31194783 &  0.59512927 & -0.007368241 &  0.61144056 & -0.20984667 &  0.45602245 & -0.49458793 &  1.000000000 &  0.91022819 &  0.4647412 & -0.44441282 &  0.4886763 & -0.3816262\\\\\n",
       "\ttax &  0.58276431 & -0.31456332 &  0.72076018 & -0.035586518 &  0.66802320 & -0.29204783 &  0.50645559 & -0.53443158 &  0.910228189 &  1.00000000 &  0.4608530 & -0.44180801 &  0.5439934 & -0.4685359\\\\\n",
       "\tptratio &  0.28994558 & -0.39167855 &  0.38324756 & -0.121515174 &  0.18893268 & -0.35550149 &  0.26151501 & -0.23247054 &  0.464741179 &  0.46085304 &  1.0000000 & -0.17738330 &  0.3740443 & -0.5077867\\\\\n",
       "\tblack & -0.38506394 &  0.17552032 & -0.35697654 &  0.048788485 & -0.38005064 &  0.12806864 & -0.27353398 &  0.29151167 & -0.444412816 & -0.44180801 & -0.1773833 &  1.00000000 & -0.3660869 &  0.3334608\\\\\n",
       "\tlstat &  0.45562148 & -0.41299457 &  0.60379972 & -0.053929298 &  0.59087892 & -0.61380827 &  0.60233853 & -0.49699583 &  0.488676335 &  0.54399341 &  0.3740443 & -0.36608690 &  1.0000000 & -0.7376627\\\\\n",
       "\tmedv & -0.38830461 &  0.36044534 & -0.48372516 &  0.175260177 & -0.42732077 &  0.69535995 & -0.37695457 &  0.24992873 & -0.381626231 & -0.46853593 & -0.5077867 &  0.33346082 & -0.7376627 &  1.0000000\\\\\n",
       "\\end{tabular}\n"
      ],
      "text/markdown": [
       "\n",
       "A matrix: 14 × 14 of type dbl\n",
       "\n",
       "| <!--/--> | crim | zn | indus | chas | nox | rm | age | dis | rad | tax | ptratio | black | lstat | medv |\n",
       "|---|---|---|---|---|---|---|---|---|---|---|---|---|---|---|\n",
       "| crim |  1.00000000 | -0.20046922 |  0.40658341 | -0.055891582 |  0.42097171 | -0.21924670 |  0.35273425 | -0.37967009 |  0.625505145 |  0.58276431 |  0.2899456 | -0.38506394 |  0.4556215 | -0.3883046 |\n",
       "| zn | -0.20046922 |  1.00000000 | -0.53382819 | -0.042696719 | -0.51660371 |  0.31199059 | -0.56953734 |  0.66440822 | -0.311947826 | -0.31456332 | -0.3916785 |  0.17552032 | -0.4129946 |  0.3604453 |\n",
       "| indus |  0.40658341 | -0.53382819 |  1.00000000 |  0.062938027 |  0.76365145 | -0.39167585 |  0.64477851 | -0.70802699 |  0.595129275 |  0.72076018 |  0.3832476 | -0.35697654 |  0.6037997 | -0.4837252 |\n",
       "| chas | -0.05589158 | -0.04269672 |  0.06293803 |  1.000000000 |  0.09120281 |  0.09125123 |  0.08651777 | -0.09917578 | -0.007368241 | -0.03558652 | -0.1215152 |  0.04878848 | -0.0539293 |  0.1752602 |\n",
       "| nox |  0.42097171 | -0.51660371 |  0.76365145 |  0.091202807 |  1.00000000 | -0.30218819 |  0.73147010 | -0.76923011 |  0.611440563 |  0.66802320 |  0.1889327 | -0.38005064 |  0.5908789 | -0.4273208 |\n",
       "| rm | -0.21924670 |  0.31199059 | -0.39167585 |  0.091251225 | -0.30218819 |  1.00000000 | -0.24026493 |  0.20524621 | -0.209846668 | -0.29204783 | -0.3555015 |  0.12806864 | -0.6138083 |  0.6953599 |\n",
       "| age |  0.35273425 | -0.56953734 |  0.64477851 |  0.086517774 |  0.73147010 | -0.24026493 |  1.00000000 | -0.74788054 |  0.456022452 |  0.50645559 |  0.2615150 | -0.27353398 |  0.6023385 | -0.3769546 |\n",
       "| dis | -0.37967009 |  0.66440822 | -0.70802699 | -0.099175780 | -0.76923011 |  0.20524621 | -0.74788054 |  1.00000000 | -0.494587930 | -0.53443158 | -0.2324705 |  0.29151167 | -0.4969958 |  0.2499287 |\n",
       "| rad |  0.62550515 | -0.31194783 |  0.59512927 | -0.007368241 |  0.61144056 | -0.20984667 |  0.45602245 | -0.49458793 |  1.000000000 |  0.91022819 |  0.4647412 | -0.44441282 |  0.4886763 | -0.3816262 |\n",
       "| tax |  0.58276431 | -0.31456332 |  0.72076018 | -0.035586518 |  0.66802320 | -0.29204783 |  0.50645559 | -0.53443158 |  0.910228189 |  1.00000000 |  0.4608530 | -0.44180801 |  0.5439934 | -0.4685359 |\n",
       "| ptratio |  0.28994558 | -0.39167855 |  0.38324756 | -0.121515174 |  0.18893268 | -0.35550149 |  0.26151501 | -0.23247054 |  0.464741179 |  0.46085304 |  1.0000000 | -0.17738330 |  0.3740443 | -0.5077867 |\n",
       "| black | -0.38506394 |  0.17552032 | -0.35697654 |  0.048788485 | -0.38005064 |  0.12806864 | -0.27353398 |  0.29151167 | -0.444412816 | -0.44180801 | -0.1773833 |  1.00000000 | -0.3660869 |  0.3334608 |\n",
       "| lstat |  0.45562148 | -0.41299457 |  0.60379972 | -0.053929298 |  0.59087892 | -0.61380827 |  0.60233853 | -0.49699583 |  0.488676335 |  0.54399341 |  0.3740443 | -0.36608690 |  1.0000000 | -0.7376627 |\n",
       "| medv | -0.38830461 |  0.36044534 | -0.48372516 |  0.175260177 | -0.42732077 |  0.69535995 | -0.37695457 |  0.24992873 | -0.381626231 | -0.46853593 | -0.5077867 |  0.33346082 | -0.7376627 |  1.0000000 |\n",
       "\n"
      ],
      "text/plain": [
       "        crim        zn          indus       chas         nox        \n",
       "crim     1.00000000 -0.20046922  0.40658341 -0.055891582  0.42097171\n",
       "zn      -0.20046922  1.00000000 -0.53382819 -0.042696719 -0.51660371\n",
       "indus    0.40658341 -0.53382819  1.00000000  0.062938027  0.76365145\n",
       "chas    -0.05589158 -0.04269672  0.06293803  1.000000000  0.09120281\n",
       "nox      0.42097171 -0.51660371  0.76365145  0.091202807  1.00000000\n",
       "rm      -0.21924670  0.31199059 -0.39167585  0.091251225 -0.30218819\n",
       "age      0.35273425 -0.56953734  0.64477851  0.086517774  0.73147010\n",
       "dis     -0.37967009  0.66440822 -0.70802699 -0.099175780 -0.76923011\n",
       "rad      0.62550515 -0.31194783  0.59512927 -0.007368241  0.61144056\n",
       "tax      0.58276431 -0.31456332  0.72076018 -0.035586518  0.66802320\n",
       "ptratio  0.28994558 -0.39167855  0.38324756 -0.121515174  0.18893268\n",
       "black   -0.38506394  0.17552032 -0.35697654  0.048788485 -0.38005064\n",
       "lstat    0.45562148 -0.41299457  0.60379972 -0.053929298  0.59087892\n",
       "medv    -0.38830461  0.36044534 -0.48372516  0.175260177 -0.42732077\n",
       "        rm          age         dis         rad          tax         ptratio   \n",
       "crim    -0.21924670  0.35273425 -0.37967009  0.625505145  0.58276431  0.2899456\n",
       "zn       0.31199059 -0.56953734  0.66440822 -0.311947826 -0.31456332 -0.3916785\n",
       "indus   -0.39167585  0.64477851 -0.70802699  0.595129275  0.72076018  0.3832476\n",
       "chas     0.09125123  0.08651777 -0.09917578 -0.007368241 -0.03558652 -0.1215152\n",
       "nox     -0.30218819  0.73147010 -0.76923011  0.611440563  0.66802320  0.1889327\n",
       "rm       1.00000000 -0.24026493  0.20524621 -0.209846668 -0.29204783 -0.3555015\n",
       "age     -0.24026493  1.00000000 -0.74788054  0.456022452  0.50645559  0.2615150\n",
       "dis      0.20524621 -0.74788054  1.00000000 -0.494587930 -0.53443158 -0.2324705\n",
       "rad     -0.20984667  0.45602245 -0.49458793  1.000000000  0.91022819  0.4647412\n",
       "tax     -0.29204783  0.50645559 -0.53443158  0.910228189  1.00000000  0.4608530\n",
       "ptratio -0.35550149  0.26151501 -0.23247054  0.464741179  0.46085304  1.0000000\n",
       "black    0.12806864 -0.27353398  0.29151167 -0.444412816 -0.44180801 -0.1773833\n",
       "lstat   -0.61380827  0.60233853 -0.49699583  0.488676335  0.54399341  0.3740443\n",
       "medv     0.69535995 -0.37695457  0.24992873 -0.381626231 -0.46853593 -0.5077867\n",
       "        black       lstat      medv      \n",
       "crim    -0.38506394  0.4556215 -0.3883046\n",
       "zn       0.17552032 -0.4129946  0.3604453\n",
       "indus   -0.35697654  0.6037997 -0.4837252\n",
       "chas     0.04878848 -0.0539293  0.1752602\n",
       "nox     -0.38005064  0.5908789 -0.4273208\n",
       "rm       0.12806864 -0.6138083  0.6953599\n",
       "age     -0.27353398  0.6023385 -0.3769546\n",
       "dis      0.29151167 -0.4969958  0.2499287\n",
       "rad     -0.44441282  0.4886763 -0.3816262\n",
       "tax     -0.44180801  0.5439934 -0.4685359\n",
       "ptratio -0.17738330  0.3740443 -0.5077867\n",
       "black    1.00000000 -0.3660869  0.3334608\n",
       "lstat   -0.36608690  1.0000000 -0.7376627\n",
       "medv     0.33346082 -0.7376627  1.0000000"
      ]
     },
     "metadata": {},
     "output_type": "display_data"
    }
   ],
   "source": [
    "cor(as.matrix(Boston))"
   ]
  },
  {
   "cell_type": "markdown",
   "id": "e17ade6e-003d-4c7c-bfdc-2fddb0f2df07",
   "metadata": {},
   "source": [
    "## Multicollinearity 2"
   ]
  },
  {
   "cell_type": "code",
   "execution_count": 32,
   "id": "81a95d84-230b-403f-9296-4b32db6ad9fd",
   "metadata": {
    "ExecuteTime": {
     "end_time": "2020-10-12T06:54:54.345267Z",
     "start_time": "2020-10-12T06:54:38.811Z"
    }
   },
   "outputs": [
    {
     "data": {
      "text/html": [
       "<style>\n",
       ".dl-inline {width: auto; margin:0; padding: 0}\n",
       ".dl-inline>dt, .dl-inline>dd {float: none; width: auto; display: inline-block}\n",
       ".dl-inline>dt::after {content: \":\\0020\"; padding-right: .5ex}\n",
       ".dl-inline>dt:not(:first-of-type) {padding-left: .5ex}\n",
       "</style><dl class=dl-inline><dt>hat_beta_1</dt><dd>0.0567437493133168</dd><dt>hat_beta_2</dt><dd>0.0571245875832477</dd></dl>\n"
      ],
      "text/latex": [
       "\\begin{description*}\n",
       "\\item[hat\\textbackslash{}\\_beta\\textbackslash{}\\_1] 0.0567437493133168\n",
       "\\item[hat\\textbackslash{}\\_beta\\textbackslash{}\\_2] 0.0571245875832477\n",
       "\\end{description*}\n"
      ],
      "text/markdown": [
       "hat_beta_1\n",
       ":   0.0567437493133168hat_beta_2\n",
       ":   0.0571245875832477\n",
       "\n"
      ],
      "text/plain": [
       "hat_beta_1 hat_beta_2 \n",
       "0.05674375 0.05712459 "
      ]
     },
     "metadata": {},
     "output_type": "display_data"
    },
    {
     "data": {
      "text/html": [
       "<style>\n",
       ".dl-inline {width: auto; margin:0; padding: 0}\n",
       ".dl-inline>dt, .dl-inline>dd {float: none; width: auto; display: inline-block}\n",
       ".dl-inline>dt::after {content: \":\\0020\"; padding-right: .5ex}\n",
       ".dl-inline>dt:not(:first-of-type) {padding-left: .5ex}\n",
       "</style><dl class=dl-inline><dt>hat_beta_1</dt><dd>0.190494906875032</dd><dt>hat_beta_2</dt><dd>0.190905561628281</dd></dl>\n"
      ],
      "text/latex": [
       "\\begin{description*}\n",
       "\\item[hat\\textbackslash{}\\_beta\\textbackslash{}\\_1] 0.190494906875032\n",
       "\\item[hat\\textbackslash{}\\_beta\\textbackslash{}\\_2] 0.190905561628281\n",
       "\\end{description*}\n"
      ],
      "text/markdown": [
       "hat_beta_1\n",
       ":   0.190494906875032hat_beta_2\n",
       ":   0.190905561628281\n",
       "\n"
      ],
      "text/plain": [
       "hat_beta_1 hat_beta_2 \n",
       " 0.1904949  0.1909056 "
      ]
     },
     "metadata": {},
     "output_type": "display_data"
    }
   ],
   "source": [
    "# load packages\n",
    "library(MASS)\n",
    "library(mvtnorm)\n",
    "\n",
    "# set number of observations\n",
    "n <- 50\n",
    "\n",
    "# initialize vectors of coefficients\n",
    "coefs1 <- cbind(\"hat_beta_1\" = numeric(10000), \"hat_beta_2\" = numeric(10000))\n",
    "coefs2 <- coefs1\n",
    "\n",
    "# set seed\n",
    "set.seed(1)\n",
    "\n",
    "# loop sampling and estimation\n",
    "for (i in 1:10000) {\n",
    "  \n",
    "  # for cov(X_1,X_2) = 0.25\n",
    "  X <- rmvnorm(n, c(50, 100), sigma = cbind(c(10, 2.5), c(2.5, 10)))\n",
    "  u <- rnorm(n, sd = 5)\n",
    "  Y <- 5 + 2.5 * X[, 1] + 3 * X[, 2] + u\n",
    "  coefs1[i, ] <- lm(Y ~ X[, 1] + X[, 2])$coefficients[-1]\n",
    "  \n",
    "  # for cov(X_1,X_2) = 0.85\n",
    "  X <- rmvnorm(n, c(50, 100), sigma = cbind(c(10, 8.5), c(8.5, 10)))\n",
    "  Y <- 5 + 2.5 * X[, 1] + 3 * X[, 2] + u\n",
    "  coefs2[i, ] <- lm(Y ~ X[, 1] + X[, 2])$coefficients[-1]\n",
    "  \n",
    "}\n",
    "\n",
    "# obtain variance estimates\n",
    "diag(var(coefs1))\n",
    "#> hat_beta_1 hat_beta_2 \n",
    "#> 0.05674375 0.05712459\n",
    "diag(var(coefs2))\n",
    "#> hat_beta_1 hat_beta_2 \n",
    "#>  0.1904949  0.1909056"
   ]
  },
  {
   "cell_type": "markdown",
   "id": "8088d343-1ca8-4183-8ba6-7bb5f79c06f3",
   "metadata": {},
   "source": [
    "### MC 3"
   ]
  },
  {
   "cell_type": "markdown",
   "id": "21b935fa-aa1f-477c-bf55-2eb5ba028ff1",
   "metadata": {
    "id": "xfM8sC1LvKIz"
   },
   "source": [
    "#### Hypothesis testing and confidence intervals"
   ]
  },
  {
   "cell_type": "code",
   "execution_count": 33,
   "id": "9fd93cb3-bd89-41f2-b11d-3fe92c1650f0",
   "metadata": {
    "colab": {
     "base_uri": "https://localhost:8080/",
     "height": 340
    },
    "id": "i_w5_iBms3J5",
    "outputId": "9b732d67-2e1d-4008-d3fe-7b09f79a29e3"
   },
   "outputs": [
    {
     "ename": "ERROR",
     "evalue": "Error in model.frame.default(formula = packs ~ price + income, data = df, : 'data' must be a data.frame, environment, or list\n",
     "output_type": "error",
     "traceback": [
      "Error in model.frame.default(formula = packs ~ price + income, data = df, : 'data' must be a data.frame, environment, or list\nTraceback:\n",
      "1. lm(packs ~ price + income, data = df)",
      "2. eval(mf, parent.frame())",
      "3. eval(mf, parent.frame())",
      "4. stats::model.frame(formula = packs ~ price + income, data = df, \n .     drop.unused.levels = TRUE)",
      "5. model.frame.default(formula = packs ~ price + income, data = df, \n .     drop.unused.levels = TRUE)",
      "6. stop(\"'data' must be a data.frame, environment, or list\")"
     ]
    }
   ],
   "source": [
    "mod <- lm(packs~price+income, data = df)\n",
    "summary(mod)"
   ]
  },
  {
   "cell_type": "code",
   "execution_count": null,
   "id": "733fe6f9-e8f5-4b29-9e37-8ea3534ba08b",
   "metadata": {
    "colab": {
     "base_uri": "https://localhost:8080/",
     "height": 170
    },
    "id": "ChZjJlS2vbUj",
    "outputId": "3b291c92-b505-4b04-c6b1-e3ba9404afc2"
   },
   "outputs": [],
   "source": [
    "coeftest(mod)"
   ]
  },
  {
   "cell_type": "code",
   "execution_count": null,
   "id": "a9fcf9ee-5f7c-491a-93ad-40235910066d",
   "metadata": {
    "colab": {
     "base_uri": "https://localhost:8080/",
     "height": 170
    },
    "id": "hx8Jv8XuyR3v",
    "outputId": "5aadb0db-ac0c-48d9-c510-8b4453a3841d"
   },
   "outputs": [],
   "source": [
    "coeftest(mod, df = Inf)"
   ]
  },
  {
   "cell_type": "code",
   "execution_count": null,
   "id": "53672307-70fa-4aeb-9aa2-1e307b5450c1",
   "metadata": {
    "colab": {
     "base_uri": "https://localhost:8080/",
     "height": 221
    },
    "id": "Oiyqzd8jzdsf",
    "outputId": "9f2f7527-909e-4a0e-ce2e-95fc10b3dbed"
   },
   "outputs": [],
   "source": [
    "# install.packages(\"sandwich\")\n",
    "# library(sandwich)\n",
    "# coeftest(mod, vcov=vcovHC, type = \"HC3\")"
   ]
  },
  {
   "cell_type": "code",
   "execution_count": null,
   "id": "8b75052c-9f23-4649-987b-09b0d1f35f46",
   "metadata": {
    "colab": {
     "base_uri": "https://localhost:8080/",
     "height": 120
    },
    "id": "g-5nPyaYy6Js",
    "outputId": "7f7490d6-c86b-4dad-cebf-77d1cf5b841a"
   },
   "outputs": [],
   "source": [
    "confint(mod)\n",
    "# confint(mod, df=Inf, vcov=vcovHC, type = \"HC3\")"
   ]
  },
  {
   "cell_type": "code",
   "execution_count": null,
   "id": "18bd1190-b8fa-420a-a30b-09398f6022c0",
   "metadata": {
    "colab": {
     "base_uri": "https://localhost:8080/",
     "height": 68
    },
    "id": "22B56LT80bsR",
    "outputId": "72106770-edf1-46fa-edac-1bbbd5e830ff"
   },
   "outputs": [],
   "source": [
    "## note that the degrees of freedom _actually used_ can be extracted\n",
    "df.residual(ct)\n",
    "## which differ here from\n",
    "df.residual(mod)\n",
    "\n",
    "df.residual(coeftest(mod, df = Inf))"
   ]
  },
  {
   "cell_type": "markdown",
   "id": "721d55e7-f811-4963-b98a-2a2dde5f2dbb",
   "metadata": {
    "id": "Hmmq24LS4989"
   },
   "source": [
    "### Multicollinearity"
   ]
  },
  {
   "cell_type": "code",
   "execution_count": null,
   "id": "dc1ccad5-caee-4d2b-9460-a332dd58ab3a",
   "metadata": {
    "id": "o83S38y05epA"
   },
   "outputs": [],
   "source": [
    "df['logpi'] = df['income'] - df['price'] "
   ]
  },
  {
   "cell_type": "code",
   "execution_count": null,
   "id": "5e778788-abd5-499f-9634-a7c692d6d2a7",
   "metadata": {
    "colab": {
     "base_uri": "https://localhost:8080/",
     "height": 663
    },
    "id": "1-xw4ydI5ba3",
    "outputId": "d7c49147-ed19-409f-f1f1-44df818938c3"
   },
   "outputs": [],
   "source": [
    "summary(lm(packs~price+logpi, data=df))\n",
    "summary(lm(packs~price+income, data=df))"
   ]
  },
  {
   "cell_type": "code",
   "execution_count": null,
   "id": "4a0e1ee4-3516-4e0d-a2fe-a042e5c74226",
   "metadata": {
    "colab": {
     "base_uri": "https://localhost:8080/",
     "height": 340
    },
    "id": "kY3t7HtN6Gyr",
    "outputId": "eab1fd7c-96fb-4e9f-bd83-97abf66eda34"
   },
   "outputs": [],
   "source": [
    "summary(lm(packs~price+income, data=df))"
   ]
  },
  {
   "cell_type": "markdown",
   "id": "ec3f18ad-c454-43a9-bd6f-7cc1a21379a8",
   "metadata": {
    "id": "FuUYA7qc65mC"
   },
   "source": [
    "$$F(k-1, n-k)=\\dfrac{ESS/(k-1)}{RSS/(n-k)} = \\dfrac{R^2/(k-1)}{(1-R^2)/(n-k)}  $$"
   ]
  },
  {
   "cell_type": "code",
   "execution_count": null,
   "id": "ea0483e3-91ee-46d6-bfe8-8428b02fe7f0",
   "metadata": {
    "colab": {
     "base_uri": "https://localhost:8080/",
     "height": 141
    },
    "id": "LS8-ahk18dwk",
    "outputId": "dd6a9e40-2306-449b-8d32-bb7d59ea25ea"
   },
   "outputs": [],
   "source": [
    "cor(df, method='pearson')"
   ]
  },
  {
   "cell_type": "code",
   "execution_count": null,
   "id": "014db9ff-be5b-4ca1-977c-ced764c2392e",
   "metadata": {
    "colab": {
     "base_uri": "https://localhost:8080/",
     "height": 272
    },
    "id": "j6qunzbe9Tid",
    "outputId": "dfbbd437-ef4d-42f7-980d-59d8b5f3c08c"
   },
   "outputs": [],
   "source": [
    "rcorr(as.matrix(df))"
   ]
  },
  {
   "cell_type": "code",
   "execution_count": null,
   "id": "866f6bce-68b4-4614-ab86-d415feead418",
   "metadata": {
    "colab": {
     "base_uri": "https://localhost:8080/",
     "height": 437
    },
    "id": "B1UmN1AM9kKG",
    "outputId": "0c0c6456-18b4-49ed-ae82-e6e46e65afa0"
   },
   "outputs": [],
   "source": [
    "pairs(df)"
   ]
  },
  {
   "cell_type": "code",
   "execution_count": null,
   "id": "a342c030-413c-4a28-8e6a-1aa3beb64089",
   "metadata": {
    "colab": {
     "base_uri": "https://localhost:8080/",
     "height": 437
    },
    "id": "GasZOJIB-AjB",
    "outputId": "48b01f8d-1227-417d-dd86-a7577c151cf6"
   },
   "outputs": [
    {
     "data": {
      "image/png": "[encoded data removed]",
      "text/plain": [
       "plot without title"
      ]
     },
     "metadata": {
      "image/png": {
       "height": 420,
       "width": 420
      },
      "tags": []
     },
     "output_type": "display_data"
    }
   ],
   "source": [
    "pairs.panels(df,lm=T, ellipses=F, method = 'pearson')"
   ]
  }
 ],
 "metadata": {
  "kernelspec": {
   "display_name": "R",
   "language": "R",
   "name": "ir"
  },
  "language_info": {
   "codemirror_mode": "r",
   "file_extension": ".r",
   "mimetype": "text/x-r-source",
   "name": "R",
   "pygments_lexer": "r",
   "version": "4.3.1"
  }
 },
 "nbformat": 4,
 "nbformat_minor": 5
}
