{
 "cells": [
  {
   "cell_type": "code",
   "execution_count": 1,
   "metadata": {
    "ExecuteTime": {
     "end_time": "2020-05-26T15:07:24.173926Z",
     "start_time": "2020-05-26T15:07:23.528420Z"
    }
   },
   "outputs": [],
   "source": [
    "import numpy as np\n",
    "import pandas as pd\n",
    "import matplotlib.pyplot as plt\n",
    "import seaborn as sns\n",
    "import scipy.stats as stats"
   ]
  },
  {
   "cell_type": "code",
   "execution_count": 2,
   "metadata": {
    "ExecuteTime": {
     "end_time": "2020-05-26T15:08:03.870121Z",
     "start_time": "2020-05-26T15:07:24.175499Z"
    }
   },
   "outputs": [],
   "source": [
    "df1 = pd.read_excel('CianDataset2020.xlsx')"
   ]
  },
  {
   "cell_type": "markdown",
   "metadata": {},
   "source": [
    "### check"
   ]
  },
  {
   "cell_type": "code",
   "execution_count": 3,
   "metadata": {
    "ExecuteTime": {
     "end_time": "2020-05-26T15:08:03.873173Z",
     "start_time": "2020-05-26T15:08:03.871520Z"
    }
   },
   "outputs": [],
   "source": [
    "# df1.columns"
   ]
  },
  {
   "cell_type": "code",
   "execution_count": 4,
   "metadata": {
    "ExecuteTime": {
     "end_time": "2020-05-26T15:08:03.921303Z",
     "start_time": "2020-05-26T15:08:03.874176Z"
    }
   },
   "outputs": [],
   "source": [
    "# df1.loc[df1['District1'] == df1['District2'], ]"
   ]
  },
  {
   "cell_type": "code",
   "execution_count": 5,
   "metadata": {
    "ExecuteTime": {
     "end_time": "2020-05-26T15:08:04.021514Z",
     "start_time": "2020-05-26T15:08:03.925592Z"
    }
   },
   "outputs": [],
   "source": [
    "cols = df1.columns.tolist()\n",
    "cols = cols[1:] + [cols[0]]\n",
    "df1 = df1[cols]"
   ]
  },
  {
   "cell_type": "code",
   "execution_count": 6,
   "metadata": {
    "ExecuteTime": {
     "end_time": "2020-05-26T15:08:04.125406Z",
     "start_time": "2020-05-26T15:08:04.022691Z"
    }
   },
   "outputs": [],
   "source": [
    "df1 = df1.drop( ['date_saved', 'District2', 'ad_breadCrumbs', 'ad_change_time'],1)"
   ]
  },
  {
   "cell_type": "code",
   "execution_count": 7,
   "metadata": {
    "ExecuteTime": {
     "end_time": "2020-05-26T15:08:04.181372Z",
     "start_time": "2020-05-26T15:08:04.126673Z"
    }
   },
   "outputs": [
    {
     "data": {
      "text/plain": [
       "array(['flat_new', 'flat_new_dev', 'flat_old'], dtype=object)"
      ]
     },
     "execution_count": 7,
     "metadata": {},
     "output_type": "execute_result"
    }
   ],
   "source": [
    "np.unique(df1['ad_objectType'])"
   ]
  },
  {
   "cell_type": "code",
   "execution_count": 8,
   "metadata": {
    "ExecuteTime": {
     "end_time": "2020-05-26T15:08:04.232302Z",
     "start_time": "2020-05-26T15:08:04.183149Z"
    }
   },
   "outputs": [],
   "source": [
    "# ad_objectType \n",
    "# flat_new == Новостройка\n",
    "# flat_new_dev == Новостройка Апартаменты\n",
    "# flat_old == Вторичка"
   ]
  },
  {
   "cell_type": "code",
   "execution_count": 9,
   "metadata": {
    "ExecuteTime": {
     "end_time": "2020-05-26T15:08:04.295888Z",
     "start_time": "2020-05-26T15:08:04.233545Z"
    }
   },
   "outputs": [
    {
     "data": {
      "text/plain": [
       "76       https://www.cian.ru/sale/flat/150325059/\n",
       "124      https://www.cian.ru/sale/flat/152181072/\n",
       "338      https://www.cian.ru/sale/flat/162998989/\n",
       "370      https://www.cian.ru/sale/flat/164418003/\n",
       "387      https://www.cian.ru/sale/flat/165390430/\n",
       "                           ...                   \n",
       "51528    https://www.cian.ru/sale/flat/230753275/\n",
       "51531    https://www.cian.ru/sale/flat/230753304/\n",
       "51533    https://www.cian.ru/sale/flat/230753440/\n",
       "51534    https://www.cian.ru/sale/flat/230753455/\n",
       "51535    https://www.cian.ru/sale/flat/230754217/\n",
       "Name: url, Length: 3029, dtype: object"
      ]
     },
     "execution_count": 9,
     "metadata": {},
     "output_type": "execute_result"
    }
   ],
   "source": [
    "df1.loc[df1['ad_objectType'] == 'flat_new', df1.columns[-1]]"
   ]
  },
  {
   "cell_type": "code",
   "execution_count": 10,
   "metadata": {
    "ExecuteTime": {
     "end_time": "2020-05-26T15:08:04.431746Z",
     "start_time": "2020-05-26T15:08:04.297163Z"
    }
   },
   "outputs": [],
   "source": [
    "# df1 = df1.loc[df1['ad_objectType'] != 'flat_new_dev', ].copy()"
   ]
  },
  {
   "cell_type": "code",
   "execution_count": 11,
   "metadata": {
    "ExecuteTime": {
     "end_time": "2020-05-26T15:08:04.539376Z",
     "start_time": "2020-05-26T15:08:04.432848Z"
    }
   },
   "outputs": [],
   "source": [
    "df1 = df1.drop( ['ad_offerPhone'],1)\n",
    "df1 = df1.loc[~df1['ad_price'].isna(), ]"
   ]
  },
  {
   "cell_type": "markdown",
   "metadata": {},
   "source": [
    "### currency"
   ]
  },
  {
   "cell_type": "code",
   "execution_count": 12,
   "metadata": {
    "ExecuteTime": {
     "end_time": "2020-05-26T15:08:04.753890Z",
     "start_time": "2020-05-26T15:08:04.540563Z"
    }
   },
   "outputs": [
    {
     "data": {
      "text/html": [
       "<div>\n",
       "<style scoped>\n",
       "    .dataframe tbody tr th:only-of-type {\n",
       "        vertical-align: middle;\n",
       "    }\n",
       "\n",
       "    .dataframe tbody tr th {\n",
       "        vertical-align: top;\n",
       "    }\n",
       "\n",
       "    .dataframe thead th {\n",
       "        text-align: right;\n",
       "    }\n",
       "</style>\n",
       "<table border=\"1\" class=\"dataframe\">\n",
       "  <thead>\n",
       "    <tr style=\"text-align: right;\">\n",
       "      <th></th>\n",
       "      <th>District1</th>\n",
       "      <th>ad_objectType</th>\n",
       "      <th>ad_price</th>\n",
       "      <th>ad_stat_daily</th>\n",
       "      <th>ad_stat_total</th>\n",
       "      <th>agent_accountType</th>\n",
       "      <th>agent_isCianPartner</th>\n",
       "      <th>agent_isDeveloper</th>\n",
       "      <th>agent_isPrivateBroker</th>\n",
       "      <th>agent_isPro</th>\n",
       "      <th>...</th>\n",
       "      <th>offer_status</th>\n",
       "      <th>offer_title</th>\n",
       "      <th>offer_totalArea</th>\n",
       "      <th>offer_valueAddedServices_isColorized</th>\n",
       "      <th>offer_valueAddedServices_isPaid</th>\n",
       "      <th>offer_valueAddedServices_isPremium</th>\n",
       "      <th>offer_valueAddedServices_isTop3</th>\n",
       "      <th>offer_wcType</th>\n",
       "      <th>offer_windowsViewType</th>\n",
       "      <th>url</th>\n",
       "    </tr>\n",
       "    <tr>\n",
       "      <th>ad_price_cur</th>\n",
       "      <th></th>\n",
       "      <th></th>\n",
       "      <th></th>\n",
       "      <th></th>\n",
       "      <th></th>\n",
       "      <th></th>\n",
       "      <th></th>\n",
       "      <th></th>\n",
       "      <th></th>\n",
       "      <th></th>\n",
       "      <th></th>\n",
       "      <th></th>\n",
       "      <th></th>\n",
       "      <th></th>\n",
       "      <th></th>\n",
       "      <th></th>\n",
       "      <th></th>\n",
       "      <th></th>\n",
       "      <th></th>\n",
       "      <th></th>\n",
       "      <th></th>\n",
       "    </tr>\n",
       "  </thead>\n",
       "  <tbody>\n",
       "    <tr>\n",
       "      <td>eur</td>\n",
       "      <td>52</td>\n",
       "      <td>52</td>\n",
       "      <td>52</td>\n",
       "      <td>51</td>\n",
       "      <td>51</td>\n",
       "      <td>48</td>\n",
       "      <td>52</td>\n",
       "      <td>48</td>\n",
       "      <td>48</td>\n",
       "      <td>52</td>\n",
       "      <td>...</td>\n",
       "      <td>52</td>\n",
       "      <td>2</td>\n",
       "      <td>52</td>\n",
       "      <td>52</td>\n",
       "      <td>52</td>\n",
       "      <td>52</td>\n",
       "      <td>52</td>\n",
       "      <td>0</td>\n",
       "      <td>33</td>\n",
       "      <td>52</td>\n",
       "    </tr>\n",
       "    <tr>\n",
       "      <td>rur</td>\n",
       "      <td>50245</td>\n",
       "      <td>50251</td>\n",
       "      <td>50251</td>\n",
       "      <td>50180</td>\n",
       "      <td>50180</td>\n",
       "      <td>46201</td>\n",
       "      <td>49825</td>\n",
       "      <td>46201</td>\n",
       "      <td>46201</td>\n",
       "      <td>49825</td>\n",
       "      <td>...</td>\n",
       "      <td>50251</td>\n",
       "      <td>2111</td>\n",
       "      <td>50251</td>\n",
       "      <td>50251</td>\n",
       "      <td>50251</td>\n",
       "      <td>50251</td>\n",
       "      <td>50251</td>\n",
       "      <td>98</td>\n",
       "      <td>35224</td>\n",
       "      <td>50251</td>\n",
       "    </tr>\n",
       "    <tr>\n",
       "      <td>usd</td>\n",
       "      <td>1145</td>\n",
       "      <td>1145</td>\n",
       "      <td>1145</td>\n",
       "      <td>1144</td>\n",
       "      <td>1144</td>\n",
       "      <td>1122</td>\n",
       "      <td>1135</td>\n",
       "      <td>1122</td>\n",
       "      <td>1122</td>\n",
       "      <td>1135</td>\n",
       "      <td>...</td>\n",
       "      <td>1145</td>\n",
       "      <td>12</td>\n",
       "      <td>1145</td>\n",
       "      <td>1145</td>\n",
       "      <td>1145</td>\n",
       "      <td>1145</td>\n",
       "      <td>1145</td>\n",
       "      <td>0</td>\n",
       "      <td>644</td>\n",
       "      <td>1145</td>\n",
       "    </tr>\n",
       "  </tbody>\n",
       "</table>\n",
       "<p>3 rows × 219 columns</p>\n",
       "</div>"
      ],
      "text/plain": [
       "              District1  ad_objectType  ad_price  ad_stat_daily  \\\n",
       "ad_price_cur                                                      \n",
       "eur                  52             52        52             51   \n",
       "rur               50245          50251     50251          50180   \n",
       "usd                1145           1145      1145           1144   \n",
       "\n",
       "              ad_stat_total  agent_accountType  agent_isCianPartner  \\\n",
       "ad_price_cur                                                          \n",
       "eur                      51                 48                   52   \n",
       "rur                   50180              46201                49825   \n",
       "usd                    1144               1122                 1135   \n",
       "\n",
       "              agent_isDeveloper  agent_isPrivateBroker  agent_isPro  ...  \\\n",
       "ad_price_cur                                                         ...   \n",
       "eur                          48                     48           52  ...   \n",
       "rur                       46201                  46201        49825  ...   \n",
       "usd                        1122                   1122         1135  ...   \n",
       "\n",
       "              offer_status  offer_title  offer_totalArea  \\\n",
       "ad_price_cur                                               \n",
       "eur                     52            2               52   \n",
       "rur                  50251         2111            50251   \n",
       "usd                   1145           12             1145   \n",
       "\n",
       "              offer_valueAddedServices_isColorized  \\\n",
       "ad_price_cur                                         \n",
       "eur                                             52   \n",
       "rur                                          50251   \n",
       "usd                                           1145   \n",
       "\n",
       "              offer_valueAddedServices_isPaid  \\\n",
       "ad_price_cur                                    \n",
       "eur                                        52   \n",
       "rur                                     50251   \n",
       "usd                                      1145   \n",
       "\n",
       "              offer_valueAddedServices_isPremium  \\\n",
       "ad_price_cur                                       \n",
       "eur                                           52   \n",
       "rur                                        50251   \n",
       "usd                                         1145   \n",
       "\n",
       "              offer_valueAddedServices_isTop3  offer_wcType  \\\n",
       "ad_price_cur                                                  \n",
       "eur                                        52             0   \n",
       "rur                                     50251            98   \n",
       "usd                                      1145             0   \n",
       "\n",
       "              offer_windowsViewType    url  \n",
       "ad_price_cur                                \n",
       "eur                              33     52  \n",
       "rur                           35224  50251  \n",
       "usd                             644   1145  \n",
       "\n",
       "[3 rows x 219 columns]"
      ]
     },
     "execution_count": 12,
     "metadata": {},
     "output_type": "execute_result"
    }
   ],
   "source": [
    "df1.groupby('ad_price_cur').count()"
   ]
  },
  {
   "cell_type": "code",
   "execution_count": 13,
   "metadata": {
    "ExecuteTime": {
     "end_time": "2020-05-26T15:08:04.757315Z",
     "start_time": "2020-05-26T15:08:04.755215Z"
    }
   },
   "outputs": [],
   "source": [
    "# np.unique(df1.loc[df1['ad_price_cur'] == 'usd', 'ad_price'])"
   ]
  },
  {
   "cell_type": "code",
   "execution_count": 14,
   "metadata": {
    "ExecuteTime": {
     "end_time": "2020-05-26T15:08:04.765895Z",
     "start_time": "2020-05-26T15:08:04.758618Z"
    }
   },
   "outputs": [],
   "source": [
    "# df1.loc[df1['ad_price_cur'] == 'eur', 'District1':'ad_price_cur'].groupby('ad_price').count()"
   ]
  },
  {
   "cell_type": "code",
   "execution_count": 15,
   "metadata": {
    "ExecuteTime": {
     "end_time": "2020-05-26T15:08:04.791012Z",
     "start_time": "2020-05-26T15:08:04.767072Z"
    }
   },
   "outputs": [
    {
     "data": {
      "text/html": [
       "<div>\n",
       "<style scoped>\n",
       "    .dataframe tbody tr th:only-of-type {\n",
       "        vertical-align: middle;\n",
       "    }\n",
       "\n",
       "    .dataframe tbody tr th {\n",
       "        vertical-align: top;\n",
       "    }\n",
       "\n",
       "    .dataframe thead tr th {\n",
       "        text-align: left;\n",
       "    }\n",
       "\n",
       "    .dataframe thead tr:last-of-type th {\n",
       "        text-align: right;\n",
       "    }\n",
       "</style>\n",
       "<table border=\"1\" class=\"dataframe\">\n",
       "  <thead>\n",
       "    <tr>\n",
       "      <th></th>\n",
       "      <th colspan=\"3\" halign=\"left\">ad_price</th>\n",
       "    </tr>\n",
       "    <tr>\n",
       "      <th>ad_price_cur</th>\n",
       "      <th>eur</th>\n",
       "      <th>rur</th>\n",
       "      <th>usd</th>\n",
       "    </tr>\n",
       "    <tr>\n",
       "      <th>District1</th>\n",
       "      <th></th>\n",
       "      <th></th>\n",
       "      <th></th>\n",
       "    </tr>\n",
       "  </thead>\n",
       "  <tbody>\n",
       "    <tr>\n",
       "      <td>ВАО</td>\n",
       "      <td>2.0</td>\n",
       "      <td>2904.0</td>\n",
       "      <td>NaN</td>\n",
       "    </tr>\n",
       "    <tr>\n",
       "      <td>ЗАО</td>\n",
       "      <td>18.0</td>\n",
       "      <td>7260.0</td>\n",
       "      <td>208.0</td>\n",
       "    </tr>\n",
       "    <tr>\n",
       "      <td>ЗелАО</td>\n",
       "      <td>NaN</td>\n",
       "      <td>417.0</td>\n",
       "      <td>NaN</td>\n",
       "    </tr>\n",
       "    <tr>\n",
       "      <td>НАО</td>\n",
       "      <td>NaN</td>\n",
       "      <td>5362.0</td>\n",
       "      <td>NaN</td>\n",
       "    </tr>\n",
       "    <tr>\n",
       "      <td>САО</td>\n",
       "      <td>2.0</td>\n",
       "      <td>5337.0</td>\n",
       "      <td>22.0</td>\n",
       "    </tr>\n",
       "    <tr>\n",
       "      <td>СВАО</td>\n",
       "      <td>2.0</td>\n",
       "      <td>4231.0</td>\n",
       "      <td>6.0</td>\n",
       "    </tr>\n",
       "    <tr>\n",
       "      <td>СЗАО</td>\n",
       "      <td>NaN</td>\n",
       "      <td>3144.0</td>\n",
       "      <td>6.0</td>\n",
       "    </tr>\n",
       "    <tr>\n",
       "      <td>ТАО</td>\n",
       "      <td>NaN</td>\n",
       "      <td>437.0</td>\n",
       "      <td>NaN</td>\n",
       "    </tr>\n",
       "    <tr>\n",
       "      <td>ЦАО</td>\n",
       "      <td>23.0</td>\n",
       "      <td>7654.0</td>\n",
       "      <td>895.0</td>\n",
       "    </tr>\n",
       "    <tr>\n",
       "      <td>ЮАО</td>\n",
       "      <td>5.0</td>\n",
       "      <td>4847.0</td>\n",
       "      <td>1.0</td>\n",
       "    </tr>\n",
       "    <tr>\n",
       "      <td>ЮВАО</td>\n",
       "      <td>NaN</td>\n",
       "      <td>4760.0</td>\n",
       "      <td>NaN</td>\n",
       "    </tr>\n",
       "    <tr>\n",
       "      <td>ЮЗАО</td>\n",
       "      <td>NaN</td>\n",
       "      <td>3892.0</td>\n",
       "      <td>7.0</td>\n",
       "    </tr>\n",
       "  </tbody>\n",
       "</table>\n",
       "</div>"
      ],
      "text/plain": [
       "             ad_price               \n",
       "ad_price_cur      eur     rur    usd\n",
       "District1                           \n",
       "ВАО               2.0  2904.0    NaN\n",
       "ЗАО              18.0  7260.0  208.0\n",
       "ЗелАО             NaN   417.0    NaN\n",
       "НАО               NaN  5362.0    NaN\n",
       "САО               2.0  5337.0   22.0\n",
       "СВАО              2.0  4231.0    6.0\n",
       "СЗАО              NaN  3144.0    6.0\n",
       "ТАО               NaN   437.0    NaN\n",
       "ЦАО              23.0  7654.0  895.0\n",
       "ЮАО               5.0  4847.0    1.0\n",
       "ЮВАО              NaN  4760.0    NaN\n",
       "ЮЗАО              NaN  3892.0    7.0"
      ]
     },
     "execution_count": 15,
     "metadata": {},
     "output_type": "execute_result"
    }
   ],
   "source": [
    "pd.pivot_table(df1[['District1', 'ad_price_cur', 'ad_price']], index='District1', columns='ad_price_cur', aggfunc='count')"
   ]
  },
  {
   "cell_type": "code",
   "execution_count": 16,
   "metadata": {
    "ExecuteTime": {
     "end_time": "2020-05-26T15:08:04.794744Z",
     "start_time": "2020-05-26T15:08:04.792415Z"
    }
   },
   "outputs": [],
   "source": [
    "# 80000 * 620585000/8750000\n",
    "# 132000 * 620585000/8750000\n",
    "dol = 620585000/8750000 # курс дол циана на 26.05"
   ]
  },
  {
   "cell_type": "code",
   "execution_count": 17,
   "metadata": {
    "ExecuteTime": {
     "end_time": "2020-05-26T15:08:04.802323Z",
     "start_time": "2020-05-26T15:08:04.796184Z"
    }
   },
   "outputs": [
    {
     "data": {
      "text/plain": [
       "[70.924, 77.796]"
      ]
     },
     "execution_count": 17,
     "metadata": {},
     "output_type": "execute_result"
    }
   ],
   "source": [
    "evr = round(194491249/2500000,3) # курс евр циана на 26.05\n",
    "evr * 210000\n",
    "[dol,evr]"
   ]
  },
  {
   "cell_type": "code",
   "execution_count": 18,
   "metadata": {
    "ExecuteTime": {
     "end_time": "2020-05-26T15:08:04.906544Z",
     "start_time": "2020-05-26T15:08:04.803496Z"
    }
   },
   "outputs": [],
   "source": [
    "df1 = df1.loc[df1['ad_price'] != 950, ].copy()"
   ]
  },
  {
   "cell_type": "code",
   "execution_count": 19,
   "metadata": {
    "ExecuteTime": {
     "end_time": "2020-05-26T15:08:04.920044Z",
     "start_time": "2020-05-26T15:08:04.907756Z"
    }
   },
   "outputs": [],
   "source": [
    "df2 = df1.loc[df1['ad_price_cur'] == 'eur', ]['ad_price'] * evr\n",
    "df1.loc[df1['ad_price_cur'] == 'eur', 'ad_price'] = df2"
   ]
  },
  {
   "cell_type": "code",
   "execution_count": 20,
   "metadata": {
    "ExecuteTime": {
     "end_time": "2020-05-26T15:08:04.935901Z",
     "start_time": "2020-05-26T15:08:04.921040Z"
    }
   },
   "outputs": [],
   "source": [
    "# df2 = df1.loc[df1['ad_price_cur'] == 'eur', ]['ad_price'] * evr\n",
    "df1.loc[df1['ad_price_cur'] == 'usd', 'ad_price'] = df1.loc[df1['ad_price_cur'] == 'usd', ]['ad_price'] * dol"
   ]
  },
  {
   "cell_type": "code",
   "execution_count": 21,
   "metadata": {
    "ExecuteTime": {
     "end_time": "2020-05-26T15:08:04.950635Z",
     "start_time": "2020-05-26T15:08:04.937086Z"
    }
   },
   "outputs": [
    {
     "data": {
      "text/html": [
       "<div>\n",
       "<style scoped>\n",
       "    .dataframe tbody tr th:only-of-type {\n",
       "        vertical-align: middle;\n",
       "    }\n",
       "\n",
       "    .dataframe tbody tr th {\n",
       "        vertical-align: top;\n",
       "    }\n",
       "\n",
       "    .dataframe thead th {\n",
       "        text-align: right;\n",
       "    }\n",
       "</style>\n",
       "<table border=\"1\" class=\"dataframe\">\n",
       "  <thead>\n",
       "    <tr style=\"text-align: right;\">\n",
       "      <th></th>\n",
       "      <th>ad_price</th>\n",
       "      <th>url</th>\n",
       "    </tr>\n",
       "  </thead>\n",
       "  <tbody>\n",
       "    <tr>\n",
       "      <td>1175</td>\n",
       "      <td>12213972.0</td>\n",
       "      <td>https://www.cian.ru/sale/flat/195454099/</td>\n",
       "    </tr>\n",
       "    <tr>\n",
       "      <td>13567</td>\n",
       "      <td>12447360.0</td>\n",
       "      <td>https://www.cian.ru/sale/flat/223966179/</td>\n",
       "    </tr>\n",
       "    <tr>\n",
       "      <td>7116</td>\n",
       "      <td>15559200.0</td>\n",
       "      <td>https://www.cian.ru/sale/flat/219024796/</td>\n",
       "    </tr>\n",
       "    <tr>\n",
       "      <td>12019</td>\n",
       "      <td>15753690.0</td>\n",
       "      <td>https://www.cian.ru/sale/flat/223070390/</td>\n",
       "    </tr>\n",
       "    <tr>\n",
       "      <td>21348</td>\n",
       "      <td>16337160.0</td>\n",
       "      <td>https://www.cian.ru/sale/flat/226332281/</td>\n",
       "    </tr>\n",
       "  </tbody>\n",
       "</table>\n",
       "</div>"
      ],
      "text/plain": [
       "         ad_price                                       url\n",
       "1175   12213972.0  https://www.cian.ru/sale/flat/195454099/\n",
       "13567  12447360.0  https://www.cian.ru/sale/flat/223966179/\n",
       "7116   15559200.0  https://www.cian.ru/sale/flat/219024796/\n",
       "12019  15753690.0  https://www.cian.ru/sale/flat/223070390/\n",
       "21348  16337160.0  https://www.cian.ru/sale/flat/226332281/"
      ]
     },
     "execution_count": 21,
     "metadata": {},
     "output_type": "execute_result"
    }
   ],
   "source": [
    "df1.loc[df1['ad_price_cur'] == 'eur', df1.columns[[2,-1]]].sort_values('ad_price').head()"
   ]
  },
  {
   "cell_type": "code",
   "execution_count": 22,
   "metadata": {
    "ExecuteTime": {
     "end_time": "2020-05-26T15:08:04.971023Z",
     "start_time": "2020-05-26T15:08:04.951861Z"
    }
   },
   "outputs": [
    {
     "data": {
      "text/html": [
       "<div>\n",
       "<style scoped>\n",
       "    .dataframe tbody tr th:only-of-type {\n",
       "        vertical-align: middle;\n",
       "    }\n",
       "\n",
       "    .dataframe tbody tr th {\n",
       "        vertical-align: top;\n",
       "    }\n",
       "\n",
       "    .dataframe thead th {\n",
       "        text-align: right;\n",
       "    }\n",
       "</style>\n",
       "<table border=\"1\" class=\"dataframe\">\n",
       "  <thead>\n",
       "    <tr style=\"text-align: right;\">\n",
       "      <th></th>\n",
       "      <th>ad_price</th>\n",
       "      <th>url</th>\n",
       "    </tr>\n",
       "  </thead>\n",
       "  <tbody>\n",
       "    <tr>\n",
       "      <td>6766</td>\n",
       "      <td>5.673920e+06</td>\n",
       "      <td>https://www.cian.ru/sale/flat/218660761/</td>\n",
       "    </tr>\n",
       "    <tr>\n",
       "      <td>47406</td>\n",
       "      <td>6.028540e+06</td>\n",
       "      <td>https://www.cian.ru/sale/flat/230251531/</td>\n",
       "    </tr>\n",
       "    <tr>\n",
       "      <td>33168</td>\n",
       "      <td>9.361968e+06</td>\n",
       "      <td>https://www.cian.ru/sale/flat/228345561/</td>\n",
       "    </tr>\n",
       "    <tr>\n",
       "      <td>6016</td>\n",
       "      <td>9.929360e+06</td>\n",
       "      <td>https://www.cian.ru/sale/flat/217246366/</td>\n",
       "    </tr>\n",
       "    <tr>\n",
       "      <td>501</td>\n",
       "      <td>9.929360e+06</td>\n",
       "      <td>https://www.cian.ru/sale/flat/169623858/</td>\n",
       "    </tr>\n",
       "    <tr>\n",
       "      <td>...</td>\n",
       "      <td>...</td>\n",
       "      <td>...</td>\n",
       "    </tr>\n",
       "    <tr>\n",
       "      <td>38222</td>\n",
       "      <td>4.441431e+08</td>\n",
       "      <td>https://www.cian.ru/sale/flat/228934440/</td>\n",
       "    </tr>\n",
       "    <tr>\n",
       "      <td>38996</td>\n",
       "      <td>5.319300e+08</td>\n",
       "      <td>https://www.cian.ru/sale/flat/229013276/</td>\n",
       "    </tr>\n",
       "    <tr>\n",
       "      <td>6716</td>\n",
       "      <td>5.872507e+08</td>\n",
       "      <td>https://www.cian.ru/sale/flat/218581816/</td>\n",
       "    </tr>\n",
       "    <tr>\n",
       "      <td>1808</td>\n",
       "      <td>5.872507e+08</td>\n",
       "      <td>https://www.cian.ru/sale/flat/200381377/</td>\n",
       "    </tr>\n",
       "    <tr>\n",
       "      <td>37912</td>\n",
       "      <td>6.205850e+08</td>\n",
       "      <td>https://www.cian.ru/sale/flat/228910698/</td>\n",
       "    </tr>\n",
       "  </tbody>\n",
       "</table>\n",
       "<p>1144 rows × 2 columns</p>\n",
       "</div>"
      ],
      "text/plain": [
       "           ad_price                                       url\n",
       "6766   5.673920e+06  https://www.cian.ru/sale/flat/218660761/\n",
       "47406  6.028540e+06  https://www.cian.ru/sale/flat/230251531/\n",
       "33168  9.361968e+06  https://www.cian.ru/sale/flat/228345561/\n",
       "6016   9.929360e+06  https://www.cian.ru/sale/flat/217246366/\n",
       "501    9.929360e+06  https://www.cian.ru/sale/flat/169623858/\n",
       "...             ...                                       ...\n",
       "38222  4.441431e+08  https://www.cian.ru/sale/flat/228934440/\n",
       "38996  5.319300e+08  https://www.cian.ru/sale/flat/229013276/\n",
       "6716   5.872507e+08  https://www.cian.ru/sale/flat/218581816/\n",
       "1808   5.872507e+08  https://www.cian.ru/sale/flat/200381377/\n",
       "37912  6.205850e+08  https://www.cian.ru/sale/flat/228910698/\n",
       "\n",
       "[1144 rows x 2 columns]"
      ]
     },
     "execution_count": 22,
     "metadata": {},
     "output_type": "execute_result"
    }
   ],
   "source": [
    "df1.loc[df1['ad_price_cur'] == 'usd', df1.columns[[2,-1]]].sort_values('ad_price')"
   ]
  },
  {
   "cell_type": "code",
   "execution_count": 23,
   "metadata": {
    "ExecuteTime": {
     "end_time": "2020-05-26T15:08:04.992362Z",
     "start_time": "2020-05-26T15:08:04.972378Z"
    }
   },
   "outputs": [],
   "source": [
    "df1['pegged_to_cur'] = df1['ad_price_cur'].replace('rur', 0).replace('usd',1).replace('eur',1)"
   ]
  },
  {
   "cell_type": "markdown",
   "metadata": {
    "ExecuteTime": {
     "end_time": "2020-05-26T10:48:25.561305Z",
     "start_time": "2020-05-26T10:48:25.471011Z"
    }
   },
   "source": [
    "### drop everything"
   ]
  },
  {
   "cell_type": "code",
   "execution_count": 24,
   "metadata": {
    "ExecuteTime": {
     "end_time": "2020-05-26T15:08:05.050980Z",
     "start_time": "2020-05-26T15:08:04.994667Z"
    }
   },
   "outputs": [],
   "source": [
    "df1 = df1.drop(['ad_price_cur','ad_stat_daily','ad_stat_total','agent_accountType',\n",
    "       'agent_isCianPartner', 'agent_isDeveloper', 'agent_isPrivateBroker',\n",
    "       'agent_isPro', 'agent_isRecidivist', 'agent_isSelfEmployed',\n",
    "       'agent_isSubAgent', 'agent_isUserOffersHasErrors', 'agent_offersCount',\n",
    "       'agent_userTrustLevel', 'agent_userType'],1)"
   ]
  },
  {
   "cell_type": "code",
   "execution_count": 25,
   "metadata": {
    "ExecuteTime": {
     "end_time": "2020-05-26T15:08:05.103547Z",
     "start_time": "2020-05-26T15:08:05.052315Z"
    }
   },
   "outputs": [],
   "source": [
    "df1 = df1.drop(['bti_district_priceSqmDiff'],1)"
   ]
  },
  {
   "cell_type": "code",
   "execution_count": 26,
   "metadata": {
    "ExecuteTime": {
     "end_time": "2020-05-26T15:08:05.131756Z",
     "start_time": "2020-05-26T15:08:05.107726Z"
    }
   },
   "outputs": [
    {
     "data": {
      "text/plain": [
       "array(['Москва', 'Московская область'], dtype=object)"
      ]
     },
     "execution_count": 26,
     "metadata": {},
     "output_type": "execute_result"
    }
   ],
   "source": [
    "np.unique(df1['bti_district_regionTitle'].dropna())"
   ]
  },
  {
   "cell_type": "code",
   "execution_count": 27,
   "metadata": {
    "ExecuteTime": {
     "end_time": "2020-05-26T15:08:05.185510Z",
     "start_time": "2020-05-26T15:08:05.134706Z"
    }
   },
   "outputs": [],
   "source": [
    "df1 = df1.drop(['bti_district_regionTitle'],1)\n"
   ]
  },
  {
   "cell_type": "code",
   "execution_count": 28,
   "metadata": {
    "ExecuteTime": {
     "end_time": "2020-05-26T15:08:05.241057Z",
     "start_time": "2020-05-26T15:08:05.186982Z"
    }
   },
   "outputs": [],
   "source": [
    "df1 = df1.drop(['bti_district_roomRentPriceDiff', 'bti_district_roomSalePrice',\n",
    "       'bti_district_roomSalePriceDiff'],1)"
   ]
  },
  {
   "cell_type": "code",
   "execution_count": 29,
   "metadata": {
    "ExecuteTime": {
     "end_time": "2020-05-26T15:08:05.292791Z",
     "start_time": "2020-05-26T15:08:05.242347Z"
    }
   },
   "outputs": [],
   "source": [
    "df1 = df1.drop(['bti_house_demolishedInMoscowProgramm','bti_house_houseGasSupplyType', 'bti_house_houseHeatSupplyType',  'bti_house_houseOverhaulFundType' ],1)"
   ]
  },
  {
   "cell_type": "code",
   "execution_count": 30,
   "metadata": {
    "ExecuteTime": {
     "end_time": "2020-05-26T15:08:05.299710Z",
     "start_time": "2020-05-26T15:08:05.294122Z"
    }
   },
   "outputs": [],
   "source": [
    "# df1 = df1.drop(['bti_house_entrances','bti_house_flatCount', 'bti_house_houseOverlap',  'bti_house_houseOverhaulFundType' ],1)"
   ]
  },
  {
   "cell_type": "code",
   "execution_count": 31,
   "metadata": {
    "ExecuteTime": {
     "end_time": "2020-05-26T15:08:05.306406Z",
     "start_time": "2020-05-26T15:08:05.300821Z"
    }
   },
   "outputs": [],
   "source": [
    "# df1.columns[:20] \n",
    "# df1.columns"
   ]
  },
  {
   "cell_type": "code",
   "execution_count": 32,
   "metadata": {
    "ExecuteTime": {
     "end_time": "2020-05-26T15:08:05.364240Z",
     "start_time": "2020-05-26T15:08:05.307568Z"
    }
   },
   "outputs": [
    {
     "data": {
      "text/html": [
       "<div>\n",
       "<style scoped>\n",
       "    .dataframe tbody tr th:only-of-type {\n",
       "        vertical-align: middle;\n",
       "    }\n",
       "\n",
       "    .dataframe tbody tr th {\n",
       "        vertical-align: top;\n",
       "    }\n",
       "\n",
       "    .dataframe thead tr th {\n",
       "        text-align: left;\n",
       "    }\n",
       "\n",
       "    .dataframe thead tr:last-of-type th {\n",
       "        text-align: right;\n",
       "    }\n",
       "</style>\n",
       "<table border=\"1\" class=\"dataframe\">\n",
       "  <thead>\n",
       "    <tr>\n",
       "      <th></th>\n",
       "      <th colspan=\"15\" halign=\"left\">ad_price</th>\n",
       "    </tr>\n",
       "    <tr>\n",
       "      <th>District1</th>\n",
       "      <th colspan=\"5\" halign=\"left\">САО</th>\n",
       "      <th colspan=\"5\" halign=\"left\">ЦАО</th>\n",
       "      <th colspan=\"5\" halign=\"left\">ЮАО</th>\n",
       "    </tr>\n",
       "    <tr>\n",
       "      <th>bti_house_houseOverlapType</th>\n",
       "      <th>concrete</th>\n",
       "      <th>mixed</th>\n",
       "      <th>other</th>\n",
       "      <th>unknown</th>\n",
       "      <th>wood</th>\n",
       "      <th>concrete</th>\n",
       "      <th>mixed</th>\n",
       "      <th>other</th>\n",
       "      <th>unknown</th>\n",
       "      <th>wood</th>\n",
       "      <th>concrete</th>\n",
       "      <th>mixed</th>\n",
       "      <th>other</th>\n",
       "      <th>unknown</th>\n",
       "      <th>wood</th>\n",
       "    </tr>\n",
       "    <tr>\n",
       "      <th>bti_house_houseMaterialType</th>\n",
       "      <th></th>\n",
       "      <th></th>\n",
       "      <th></th>\n",
       "      <th></th>\n",
       "      <th></th>\n",
       "      <th></th>\n",
       "      <th></th>\n",
       "      <th></th>\n",
       "      <th></th>\n",
       "      <th></th>\n",
       "      <th></th>\n",
       "      <th></th>\n",
       "      <th></th>\n",
       "      <th></th>\n",
       "      <th></th>\n",
       "    </tr>\n",
       "  </thead>\n",
       "  <tbody>\n",
       "    <tr>\n",
       "      <td>block</td>\n",
       "      <td>208.0</td>\n",
       "      <td>NaN</td>\n",
       "      <td>3.0</td>\n",
       "      <td>NaN</td>\n",
       "      <td>NaN</td>\n",
       "      <td>152.0</td>\n",
       "      <td>5.0</td>\n",
       "      <td>NaN</td>\n",
       "      <td>5.0</td>\n",
       "      <td>7.0</td>\n",
       "      <td>484.0</td>\n",
       "      <td>NaN</td>\n",
       "      <td>NaN</td>\n",
       "      <td>1.0</td>\n",
       "      <td>NaN</td>\n",
       "    </tr>\n",
       "    <tr>\n",
       "      <td>brick</td>\n",
       "      <td>815.0</td>\n",
       "      <td>32.0</td>\n",
       "      <td>1.0</td>\n",
       "      <td>6.0</td>\n",
       "      <td>32.0</td>\n",
       "      <td>1635.0</td>\n",
       "      <td>316.0</td>\n",
       "      <td>20.0</td>\n",
       "      <td>187.0</td>\n",
       "      <td>623.0</td>\n",
       "      <td>242.0</td>\n",
       "      <td>10.0</td>\n",
       "      <td>7.0</td>\n",
       "      <td>NaN</td>\n",
       "      <td>4.0</td>\n",
       "    </tr>\n",
       "    <tr>\n",
       "      <td>monolith</td>\n",
       "      <td>1092.0</td>\n",
       "      <td>4.0</td>\n",
       "      <td>13.0</td>\n",
       "      <td>275.0</td>\n",
       "      <td>NaN</td>\n",
       "      <td>1256.0</td>\n",
       "      <td>5.0</td>\n",
       "      <td>12.0</td>\n",
       "      <td>1054.0</td>\n",
       "      <td>14.0</td>\n",
       "      <td>661.0</td>\n",
       "      <td>NaN</td>\n",
       "      <td>26.0</td>\n",
       "      <td>99.0</td>\n",
       "      <td>NaN</td>\n",
       "    </tr>\n",
       "    <tr>\n",
       "      <td>none</td>\n",
       "      <td>373.0</td>\n",
       "      <td>10.0</td>\n",
       "      <td>1.0</td>\n",
       "      <td>1400.0</td>\n",
       "      <td>NaN</td>\n",
       "      <td>189.0</td>\n",
       "      <td>6.0</td>\n",
       "      <td>9.0</td>\n",
       "      <td>2394.0</td>\n",
       "      <td>11.0</td>\n",
       "      <td>57.0</td>\n",
       "      <td>11.0</td>\n",
       "      <td>249.0</td>\n",
       "      <td>1163.0</td>\n",
       "      <td>NaN</td>\n",
       "    </tr>\n",
       "    <tr>\n",
       "      <td>panel</td>\n",
       "      <td>706.0</td>\n",
       "      <td>2.0</td>\n",
       "      <td>NaN</td>\n",
       "      <td>8.0</td>\n",
       "      <td>NaN</td>\n",
       "      <td>151.0</td>\n",
       "      <td>40.0</td>\n",
       "      <td>NaN</td>\n",
       "      <td>3.0</td>\n",
       "      <td>14.0</td>\n",
       "      <td>1481.0</td>\n",
       "      <td>NaN</td>\n",
       "      <td>9.0</td>\n",
       "      <td>12.0</td>\n",
       "      <td>NaN</td>\n",
       "    </tr>\n",
       "    <tr>\n",
       "      <td>wood</td>\n",
       "      <td>NaN</td>\n",
       "      <td>NaN</td>\n",
       "      <td>NaN</td>\n",
       "      <td>NaN</td>\n",
       "      <td>NaN</td>\n",
       "      <td>2.0</td>\n",
       "      <td>NaN</td>\n",
       "      <td>NaN</td>\n",
       "      <td>NaN</td>\n",
       "      <td>NaN</td>\n",
       "      <td>NaN</td>\n",
       "      <td>NaN</td>\n",
       "      <td>NaN</td>\n",
       "      <td>NaN</td>\n",
       "      <td>NaN</td>\n",
       "    </tr>\n",
       "  </tbody>\n",
       "</table>\n",
       "</div>"
      ],
      "text/plain": [
       "                            ad_price                                     \\\n",
       "District1                        САО                                ЦАО   \n",
       "bti_house_houseOverlapType  concrete mixed other unknown  wood concrete   \n",
       "bti_house_houseMaterialType                                               \n",
       "block                          208.0   NaN   3.0     NaN   NaN    152.0   \n",
       "brick                          815.0  32.0   1.0     6.0  32.0   1635.0   \n",
       "monolith                      1092.0   4.0  13.0   275.0   NaN   1256.0   \n",
       "none                           373.0  10.0   1.0  1400.0   NaN    189.0   \n",
       "panel                          706.0   2.0   NaN     8.0   NaN    151.0   \n",
       "wood                             NaN   NaN   NaN     NaN   NaN      2.0   \n",
       "\n",
       "                                                                               \\\n",
       "District1                                                    ЮАО                \n",
       "bti_house_houseOverlapType   mixed other unknown   wood concrete mixed  other   \n",
       "bti_house_houseMaterialType                                                     \n",
       "block                          5.0   NaN     5.0    7.0    484.0   NaN    NaN   \n",
       "brick                        316.0  20.0   187.0  623.0    242.0  10.0    7.0   \n",
       "monolith                       5.0  12.0  1054.0   14.0    661.0   NaN   26.0   \n",
       "none                           6.0   9.0  2394.0   11.0     57.0  11.0  249.0   \n",
       "panel                         40.0   NaN     3.0   14.0   1481.0   NaN    9.0   \n",
       "wood                           NaN   NaN     NaN    NaN      NaN   NaN    NaN   \n",
       "\n",
       "                                          \n",
       "District1                                 \n",
       "bti_house_houseOverlapType  unknown wood  \n",
       "bti_house_houseMaterialType               \n",
       "block                           1.0  NaN  \n",
       "brick                           NaN  4.0  \n",
       "monolith                       99.0  NaN  \n",
       "none                         1163.0  NaN  \n",
       "panel                          12.0  NaN  \n",
       "wood                            NaN  NaN  "
      ]
     },
     "execution_count": 32,
     "metadata": {},
     "output_type": "execute_result"
    }
   ],
   "source": [
    "pd.pivot_table(df1.loc[df1['District1'].isin(['ЮАО', 'САО', 'ЦАО']),['District1', 'ad_price', 'bti_house_houseMaterialType','bti_house_houseOverlapType']], index='bti_house_houseMaterialType', columns=['District1','bti_house_houseOverlapType'], aggfunc='count', dropna=True)"
   ]
  },
  {
   "cell_type": "code",
   "execution_count": 33,
   "metadata": {
    "ExecuteTime": {
     "end_time": "2020-05-26T15:08:05.415755Z",
     "start_time": "2020-05-26T15:08:05.365725Z"
    }
   },
   "outputs": [],
   "source": [
    "df1 = df1.drop(['bti_house_isEmergency'],1)"
   ]
  },
  {
   "cell_type": "code",
   "execution_count": 34,
   "metadata": {
    "ExecuteTime": {
     "end_time": "2020-05-26T15:08:05.423419Z",
     "start_time": "2020-05-26T15:08:05.417056Z"
    }
   },
   "outputs": [],
   "source": [
    "# df1[['ad_price','bti_house_priceCianMin']]"
   ]
  },
  {
   "cell_type": "code",
   "execution_count": 35,
   "metadata": {
    "ExecuteTime": {
     "end_time": "2020-05-26T15:08:05.438860Z",
     "start_time": "2020-05-26T15:08:05.424640Z"
    }
   },
   "outputs": [
    {
     "data": {
      "text/plain": [
       "[29491, 7180]"
      ]
     },
     "execution_count": 35,
     "metadata": {},
     "output_type": "execute_result"
    }
   ],
   "source": [
    "[sum(df1['ad_price']-df1['bti_house_priceCian']>0),\n",
    "sum(df1['ad_price']-df1['bti_house_priceCian']<0)]"
   ]
  },
  {
   "cell_type": "code",
   "execution_count": 36,
   "metadata": {
    "ExecuteTime": {
     "end_time": "2020-05-26T15:08:05.486209Z",
     "start_time": "2020-05-26T15:08:05.439993Z"
    }
   },
   "outputs": [],
   "source": [
    "df1 = df1.drop(['bti_house_priceSqm', 'bti_house_priceCianMax',\n",
    "       'bti_house_priceCianMin', 'bti_house_priceSqm',\n",
    "       'bti_house_priceSqmDiff', 'bti_house_roomRentPrice',\n",
    "       'bti_house_roomRentPriceDiff', 'bti_house_seriesName'],1)"
   ]
  },
  {
   "cell_type": "code",
   "execution_count": null,
   "metadata": {},
   "outputs": [],
   "source": []
  },
  {
   "cell_type": "code",
   "execution_count": 37,
   "metadata": {
    "ExecuteTime": {
     "end_time": "2020-05-26T15:08:05.502683Z",
     "start_time": "2020-05-26T15:08:05.487557Z"
    }
   },
   "outputs": [
    {
     "data": {
      "text/html": [
       "<div>\n",
       "<style scoped>\n",
       "    .dataframe tbody tr th:only-of-type {\n",
       "        vertical-align: middle;\n",
       "    }\n",
       "\n",
       "    .dataframe tbody tr th {\n",
       "        vertical-align: top;\n",
       "    }\n",
       "\n",
       "    .dataframe thead th {\n",
       "        text-align: right;\n",
       "    }\n",
       "</style>\n",
       "<table border=\"1\" class=\"dataframe\">\n",
       "  <thead>\n",
       "    <tr style=\"text-align: right;\">\n",
       "      <th></th>\n",
       "      <th>ad_price</th>\n",
       "      <th>bti_house_priceCian</th>\n",
       "      <th>demandJsonQuery_price_gte</th>\n",
       "      <th>demandJsonQuery_price_lte</th>\n",
       "    </tr>\n",
       "  </thead>\n",
       "  <tbody>\n",
       "    <tr>\n",
       "      <td>0</td>\n",
       "      <td>18800000.0</td>\n",
       "      <td>16280000.0</td>\n",
       "      <td>16920000.0</td>\n",
       "      <td>20680000.0</td>\n",
       "    </tr>\n",
       "    <tr>\n",
       "      <td>1</td>\n",
       "      <td>50000000.0</td>\n",
       "      <td>64650000.0</td>\n",
       "      <td>45000000.0</td>\n",
       "      <td>55000000.0</td>\n",
       "    </tr>\n",
       "    <tr>\n",
       "      <td>2</td>\n",
       "      <td>55000000.0</td>\n",
       "      <td>NaN</td>\n",
       "      <td>49500000.0</td>\n",
       "      <td>60500000.0</td>\n",
       "    </tr>\n",
       "    <tr>\n",
       "      <td>5</td>\n",
       "      <td>42000000.0</td>\n",
       "      <td>NaN</td>\n",
       "      <td>37800000.0</td>\n",
       "      <td>46200000.0</td>\n",
       "    </tr>\n",
       "    <tr>\n",
       "      <td>6</td>\n",
       "      <td>9000000.0</td>\n",
       "      <td>7950000.0</td>\n",
       "      <td>8100000.0</td>\n",
       "      <td>9900000.0</td>\n",
       "    </tr>\n",
       "    <tr>\n",
       "      <td>...</td>\n",
       "      <td>...</td>\n",
       "      <td>...</td>\n",
       "      <td>...</td>\n",
       "      <td>...</td>\n",
       "    </tr>\n",
       "    <tr>\n",
       "      <td>51585</td>\n",
       "      <td>7850000.0</td>\n",
       "      <td>7480000.0</td>\n",
       "      <td>7065000.0</td>\n",
       "      <td>8635000.0</td>\n",
       "    </tr>\n",
       "    <tr>\n",
       "      <td>51586</td>\n",
       "      <td>32500000.0</td>\n",
       "      <td>24840000.0</td>\n",
       "      <td>29250000.0</td>\n",
       "      <td>35750000.0</td>\n",
       "    </tr>\n",
       "    <tr>\n",
       "      <td>51587</td>\n",
       "      <td>90428100.0</td>\n",
       "      <td>46980000.0</td>\n",
       "      <td>1147500.0</td>\n",
       "      <td>1402500.0</td>\n",
       "    </tr>\n",
       "    <tr>\n",
       "      <td>51588</td>\n",
       "      <td>33500000.0</td>\n",
       "      <td>35890000.0</td>\n",
       "      <td>30150000.0</td>\n",
       "      <td>36850000.0</td>\n",
       "    </tr>\n",
       "    <tr>\n",
       "      <td>51589</td>\n",
       "      <td>141848000.0</td>\n",
       "      <td>88020000.0</td>\n",
       "      <td>1800000.0</td>\n",
       "      <td>2200000.0</td>\n",
       "    </tr>\n",
       "  </tbody>\n",
       "</table>\n",
       "<p>51447 rows × 4 columns</p>\n",
       "</div>"
      ],
      "text/plain": [
       "          ad_price  bti_house_priceCian  demandJsonQuery_price_gte  \\\n",
       "0       18800000.0           16280000.0                 16920000.0   \n",
       "1       50000000.0           64650000.0                 45000000.0   \n",
       "2       55000000.0                  NaN                 49500000.0   \n",
       "5       42000000.0                  NaN                 37800000.0   \n",
       "6        9000000.0            7950000.0                  8100000.0   \n",
       "...            ...                  ...                        ...   \n",
       "51585    7850000.0            7480000.0                  7065000.0   \n",
       "51586   32500000.0           24840000.0                 29250000.0   \n",
       "51587   90428100.0           46980000.0                  1147500.0   \n",
       "51588   33500000.0           35890000.0                 30150000.0   \n",
       "51589  141848000.0           88020000.0                  1800000.0   \n",
       "\n",
       "       demandJsonQuery_price_lte  \n",
       "0                     20680000.0  \n",
       "1                     55000000.0  \n",
       "2                     60500000.0  \n",
       "5                     46200000.0  \n",
       "6                      9900000.0  \n",
       "...                          ...  \n",
       "51585                  8635000.0  \n",
       "51586                 35750000.0  \n",
       "51587                  1402500.0  \n",
       "51588                 36850000.0  \n",
       "51589                  2200000.0  \n",
       "\n",
       "[51447 rows x 4 columns]"
      ]
     },
     "execution_count": 37,
     "metadata": {},
     "output_type": "execute_result"
    }
   ],
   "source": [
    "df1[['ad_price','bti_house_priceCian', 'demandJsonQuery_price_gte',\n",
    "       'demandJsonQuery_price_lte']]"
   ]
  },
  {
   "cell_type": "code",
   "execution_count": 38,
   "metadata": {
    "ExecuteTime": {
     "end_time": "2020-05-26T15:08:05.554977Z",
     "start_time": "2020-05-26T15:08:05.504116Z"
    }
   },
   "outputs": [],
   "source": [
    "df1 = df1.drop(['company_newobjectsCount', 'company_offersCount',\n",
    "       'company_yearFoundation', 'demandJsonQuery_price_gte',\n",
    "       'demandJsonQuery_price_lte'],1)"
   ]
  },
  {
   "cell_type": "code",
   "execution_count": 39,
   "metadata": {
    "ExecuteTime": {
     "end_time": "2020-05-26T15:08:05.606292Z",
     "start_time": "2020-05-26T15:08:05.556067Z"
    }
   },
   "outputs": [],
   "source": [
    "df1 = df1.drop(['newObject_stats_done', 'newObject_stats_progress'],1)"
   ]
  },
  {
   "cell_type": "code",
   "execution_count": 40,
   "metadata": {
    "ExecuteTime": {
     "end_time": "2020-05-26T15:08:05.836628Z",
     "start_time": "2020-05-26T15:08:05.607399Z"
    }
   },
   "outputs": [
    {
     "data": {
      "text/html": [
       "<div>\n",
       "<style scoped>\n",
       "    .dataframe tbody tr th:only-of-type {\n",
       "        vertical-align: middle;\n",
       "    }\n",
       "\n",
       "    .dataframe tbody tr th {\n",
       "        vertical-align: top;\n",
       "    }\n",
       "\n",
       "    .dataframe thead th {\n",
       "        text-align: right;\n",
       "    }\n",
       "</style>\n",
       "<table border=\"1\" class=\"dataframe\">\n",
       "  <thead>\n",
       "    <tr style=\"text-align: right;\">\n",
       "      <th></th>\n",
       "      <th>District1</th>\n",
       "    </tr>\n",
       "    <tr>\n",
       "      <th>newObject_status</th>\n",
       "      <th></th>\n",
       "    </tr>\n",
       "  </thead>\n",
       "  <tbody>\n",
       "    <tr>\n",
       "      <td>Сдан</td>\n",
       "      <td>11284</td>\n",
       "    </tr>\n",
       "    <tr>\n",
       "      <td>Сдача в 1 кв. 2021</td>\n",
       "      <td>298</td>\n",
       "    </tr>\n",
       "    <tr>\n",
       "      <td>Сдача в 1 кв. 2021, есть сданные</td>\n",
       "      <td>672</td>\n",
       "    </tr>\n",
       "    <tr>\n",
       "      <td>Сдача в 1 кв. 2022</td>\n",
       "      <td>80</td>\n",
       "    </tr>\n",
       "    <tr>\n",
       "      <td>Сдача в 1 кв. 2022, есть сданные</td>\n",
       "      <td>70</td>\n",
       "    </tr>\n",
       "    <tr>\n",
       "      <td>Сдача в 1—2 кв. 2021</td>\n",
       "      <td>68</td>\n",
       "    </tr>\n",
       "    <tr>\n",
       "      <td>Сдача в 1—2 кв. 2022</td>\n",
       "      <td>13</td>\n",
       "    </tr>\n",
       "    <tr>\n",
       "      <td>Сдача в 1—3 кв. 2021</td>\n",
       "      <td>54</td>\n",
       "    </tr>\n",
       "    <tr>\n",
       "      <td>Сдача в 2 кв. 2020</td>\n",
       "      <td>398</td>\n",
       "    </tr>\n",
       "    <tr>\n",
       "      <td>Сдача в 2 кв. 2020, есть сданные</td>\n",
       "      <td>1246</td>\n",
       "    </tr>\n",
       "  </tbody>\n",
       "</table>\n",
       "</div>"
      ],
      "text/plain": [
       "                                  District1\n",
       "newObject_status                           \n",
       "Сдан                                  11284\n",
       "Сдача в 1 кв. 2021                      298\n",
       "Сдача в 1 кв. 2021, есть сданные        672\n",
       "Сдача в 1 кв. 2022                       80\n",
       "Сдача в 1 кв. 2022, есть сданные         70\n",
       "Сдача в 1—2 кв. 2021                     68\n",
       "Сдача в 1—2 кв. 2022                     13\n",
       "Сдача в 1—3 кв. 2021                     54\n",
       "Сдача в 2 кв. 2020                      398\n",
       "Сдача в 2 кв. 2020, есть сданные       1246"
      ]
     },
     "execution_count": 40,
     "metadata": {},
     "output_type": "execute_result"
    }
   ],
   "source": [
    "df1.groupby('newObject_status').count().iloc[:,:1].head(10)"
   ]
  },
  {
   "cell_type": "code",
   "execution_count": 41,
   "metadata": {
    "ExecuteTime": {
     "end_time": "2020-05-26T15:08:05.854401Z",
     "start_time": "2020-05-26T15:08:05.837644Z"
    }
   },
   "outputs": [],
   "source": [
    "df3 = pd.pivot_table(df1[['District1', 'newObject_status', 'ad_price']], index='District1', columns='newObject_status', aggfunc='count')"
   ]
  },
  {
   "cell_type": "code",
   "execution_count": 42,
   "metadata": {
    "ExecuteTime": {
     "end_time": "2020-05-26T15:08:05.859376Z",
     "start_time": "2020-05-26T15:08:05.855518Z"
    }
   },
   "outputs": [],
   "source": [
    "df3['Не сдан'] = df3.iloc[:,1:].sum(1)"
   ]
  },
  {
   "cell_type": "code",
   "execution_count": 43,
   "metadata": {
    "ExecuteTime": {
     "end_time": "2020-05-26T15:08:05.871089Z",
     "start_time": "2020-05-26T15:08:05.860655Z"
    }
   },
   "outputs": [
    {
     "data": {
      "text/html": [
       "<div>\n",
       "<style scoped>\n",
       "    .dataframe tbody tr th:only-of-type {\n",
       "        vertical-align: middle;\n",
       "    }\n",
       "\n",
       "    .dataframe tbody tr th {\n",
       "        vertical-align: top;\n",
       "    }\n",
       "\n",
       "    .dataframe thead tr th {\n",
       "        text-align: left;\n",
       "    }\n",
       "\n",
       "    .dataframe thead tr:last-of-type th {\n",
       "        text-align: right;\n",
       "    }\n",
       "</style>\n",
       "<table border=\"1\" class=\"dataframe\">\n",
       "  <thead>\n",
       "    <tr>\n",
       "      <th></th>\n",
       "      <th>ad_price</th>\n",
       "      <th>Не сдан</th>\n",
       "    </tr>\n",
       "    <tr>\n",
       "      <th>newObject_status</th>\n",
       "      <th>Сдан</th>\n",
       "      <th></th>\n",
       "    </tr>\n",
       "    <tr>\n",
       "      <th>District1</th>\n",
       "      <th></th>\n",
       "      <th></th>\n",
       "    </tr>\n",
       "  </thead>\n",
       "  <tbody>\n",
       "    <tr>\n",
       "      <td>ВАО</td>\n",
       "      <td>242.0</td>\n",
       "      <td>298.0</td>\n",
       "    </tr>\n",
       "    <tr>\n",
       "      <td>ЗАО</td>\n",
       "      <td>2526.0</td>\n",
       "      <td>1428.0</td>\n",
       "    </tr>\n",
       "    <tr>\n",
       "      <td>ЗелАО</td>\n",
       "      <td>99.0</td>\n",
       "      <td>0.0</td>\n",
       "    </tr>\n",
       "    <tr>\n",
       "      <td>НАО</td>\n",
       "      <td>732.0</td>\n",
       "      <td>3528.0</td>\n",
       "    </tr>\n",
       "    <tr>\n",
       "      <td>САО</td>\n",
       "      <td>1426.0</td>\n",
       "      <td>1318.0</td>\n",
       "    </tr>\n",
       "    <tr>\n",
       "      <td>СВАО</td>\n",
       "      <td>488.0</td>\n",
       "      <td>1159.0</td>\n",
       "    </tr>\n",
       "    <tr>\n",
       "      <td>СЗАО</td>\n",
       "      <td>796.0</td>\n",
       "      <td>809.0</td>\n",
       "    </tr>\n",
       "    <tr>\n",
       "      <td>ТАО</td>\n",
       "      <td>127.0</td>\n",
       "      <td>48.0</td>\n",
       "    </tr>\n",
       "    <tr>\n",
       "      <td>ЦАО</td>\n",
       "      <td>3178.0</td>\n",
       "      <td>1331.0</td>\n",
       "    </tr>\n",
       "    <tr>\n",
       "      <td>ЮАО</td>\n",
       "      <td>541.0</td>\n",
       "      <td>1261.0</td>\n",
       "    </tr>\n",
       "    <tr>\n",
       "      <td>ЮВАО</td>\n",
       "      <td>358.0</td>\n",
       "      <td>1594.0</td>\n",
       "    </tr>\n",
       "    <tr>\n",
       "      <td>ЮЗАО</td>\n",
       "      <td>771.0</td>\n",
       "      <td>291.0</td>\n",
       "    </tr>\n",
       "  </tbody>\n",
       "</table>\n",
       "</div>"
      ],
      "text/plain": [
       "                 ad_price Не сдан\n",
       "newObject_status     Сдан        \n",
       "District1                        \n",
       "ВАО                 242.0   298.0\n",
       "ЗАО                2526.0  1428.0\n",
       "ЗелАО                99.0     0.0\n",
       "НАО                 732.0  3528.0\n",
       "САО                1426.0  1318.0\n",
       "СВАО                488.0  1159.0\n",
       "СЗАО                796.0   809.0\n",
       "ТАО                 127.0    48.0\n",
       "ЦАО                3178.0  1331.0\n",
       "ЮАО                 541.0  1261.0\n",
       "ЮВАО                358.0  1594.0\n",
       "ЮЗАО                771.0   291.0"
      ]
     },
     "execution_count": 43,
     "metadata": {},
     "output_type": "execute_result"
    }
   ],
   "source": [
    "df3.iloc[:,[0,-1]]"
   ]
  },
  {
   "cell_type": "code",
   "execution_count": 44,
   "metadata": {
    "ExecuteTime": {
     "end_time": "2020-05-26T15:08:05.919070Z",
     "start_time": "2020-05-26T15:08:05.872169Z"
    }
   },
   "outputs": [],
   "source": [
    "arr = ['offer_archivedDate', 'offer_bargainTerms_agentBonus_currency',\n",
    "       'offer_bargainTerms_agentBonus_paymentType',\n",
    "       'offer_bargainTerms_agentBonus_value', 'offer_bargainTerms_currency',\n",
    "       'offer_bargainTerms_deposit', 'offer_bargainTerms_depositPrices_eur',\n",
    "       'offer_bargainTerms_depositPrices_rur',\n",
    "       'offer_bargainTerms_depositPrices_usd']\n",
    "df1 = df1.drop(arr,1)"
   ]
  },
  {
   "cell_type": "code",
   "execution_count": 45,
   "metadata": {
    "ExecuteTime": {
     "end_time": "2020-05-26T15:08:05.965143Z",
     "start_time": "2020-05-26T15:08:05.920141Z"
    }
   },
   "outputs": [],
   "source": [
    "arr = ['offer_bargainTerms_leaseTermType']\n",
    "df1 = df1.drop(arr,1)"
   ]
  },
  {
   "cell_type": "code",
   "execution_count": 46,
   "metadata": {
    "ExecuteTime": {
     "end_time": "2020-05-26T15:08:05.975339Z",
     "start_time": "2020-05-26T15:08:05.966271Z"
    }
   },
   "outputs": [
    {
     "data": {
      "text/plain": [
       "-29576160.0"
      ]
     },
     "execution_count": 46,
     "metadata": {},
     "output_type": "execute_result"
    }
   ],
   "source": [
    "# sum(df1['ad_price'] - df1['offer_bargainTerms_prices_rur']>0)\n",
    "# sum(df1['ad_price'] - df1['offer_bargainTerms_prices_rur']<0)\n",
    "np.min((df1['ad_price'] - df1['offer_bargainTerms_prices_rur'])[df1['ad_price'] - df1['offer_bargainTerms_prices_rur']<0 ])\n",
    "# np.mean((df1['ad_price'] - df1['offer_bargainTerms_prices_rur'])[df1['ad_price'] - df1['offer_bargainTerms_prices_rur']<0 ])\n",
    "# np.max((df1['ad_price'] - df1['offer_bargainTerms_prices_rur'])[df1['ad_price'] - df1['offer_bargainTerms_prices_rur']<0 ])\n",
    "\n",
    "# df1.loc[df1.iloc[:,-1] == 1 ,['ad_price','bti_house_priceCian', 'offer_bargainTerms_prices_rur']]"
   ]
  },
  {
   "cell_type": "code",
   "execution_count": 47,
   "metadata": {
    "ExecuteTime": {
     "end_time": "2020-05-26T15:08:05.980627Z",
     "start_time": "2020-05-26T15:08:05.976302Z"
    }
   },
   "outputs": [],
   "source": [
    "df1['check_1'] = df1['ad_price'] - df1['offer_bargainTerms_prices_rur']"
   ]
  },
  {
   "cell_type": "code",
   "execution_count": 48,
   "metadata": {
    "ExecuteTime": {
     "end_time": "2020-05-26T15:08:06.034705Z",
     "start_time": "2020-05-26T15:08:05.981628Z"
    }
   },
   "outputs": [],
   "source": [
    "arr = ['ad_price', 'offer_bargainTerms_price',\n",
    "       'offer_bargainTerms_prices_eur','offer_bargainTerms_prices_usd', 'check_1']\n",
    "df1 = df1.drop(arr,1)"
   ]
  },
  {
   "cell_type": "code",
   "execution_count": 49,
   "metadata": {
    "ExecuteTime": {
     "end_time": "2020-05-26T15:08:06.068942Z",
     "start_time": "2020-05-26T15:08:06.035782Z"
    }
   },
   "outputs": [],
   "source": [
    "arr = ['offer_bargainTerms_saleType',\n",
    "       'offer_breadCrumbs','offer_building_cargoLiftsCount','offer_building_deadline_isComplete', 'offer_building_deadline_quarter',\n",
    "       'offer_building_deadline_quarterEnd','offer_building_hasGarbageChute','offer_building_name', 'offer_building_series']\n",
    "df1 = df1.drop(arr,1)"
   ]
  },
  {
   "cell_type": "code",
   "execution_count": 50,
   "metadata": {
    "ExecuteTime": {
     "end_time": "2020-05-26T15:08:06.100121Z",
     "start_time": "2020-05-26T15:08:06.070076Z"
    }
   },
   "outputs": [],
   "source": [
    "arr = ['offer_cargoLiftsCount', 'offer_deadline_isComplete',\n",
    "       'offer_deadline_quarter', 'offer_deadline_quarterEnd', \n",
    "      'offer_decoration']\n",
    "df1 = df1.drop(arr,1)"
   ]
  },
  {
   "cell_type": "code",
   "execution_count": 51,
   "metadata": {
    "ExecuteTime": {
     "end_time": "2020-05-26T15:08:06.129975Z",
     "start_time": "2020-05-26T15:08:06.101210Z"
    }
   },
   "outputs": [],
   "source": [
    "arr = ['offer_building_deadline_year','offer_deadline_year']\n",
    "df1 = df1.drop(arr,1)"
   ]
  },
  {
   "cell_type": "code",
   "execution_count": 52,
   "metadata": {
    "ExecuteTime": {
     "end_time": "2020-05-26T15:08:06.158742Z",
     "start_time": "2020-05-26T15:08:06.131211Z"
    }
   },
   "outputs": [],
   "source": [
    "arr = [ 'offer_description',\n",
    "       'offer_editDate', 'offer_flatType', 'offer_geo_highways_3_distance', 'offer_geo_highways_3_name', 'offer_geo_jk_displayName',\n",
    "      'offer_geo_railways_10_name',\n",
    "       'offer_geo_railways_10_time', 'offer_geo_railways_10_travelType',\n",
    "       'offer_geo_railways_11_name', 'offer_geo_railways_11_time',\n",
    "       'offer_geo_railways_11_travelType', 'offer_geo_railways_12_name',\n",
    "       'offer_geo_railways_12_time', 'offer_geo_railways_12_travelType']\n",
    "df1 = df1.drop(arr,1)"
   ]
  },
  {
   "cell_type": "code",
   "execution_count": 53,
   "metadata": {
    "ExecuteTime": {
     "end_time": "2020-05-26T15:08:06.183172Z",
     "start_time": "2020-05-26T15:08:06.159979Z"
    }
   },
   "outputs": [],
   "source": [
    "arr = ['offer_geo_railways_7_name', 'offer_geo_railways_7_time',\n",
    "       'offer_geo_railways_7_travelType', 'offer_geo_railways_8_name',\n",
    "       'offer_geo_railways_8_time', 'offer_geo_railways_8_travelType',\n",
    "       'offer_geo_railways_9_name', 'offer_geo_railways_9_time',\n",
    "       'offer_geo_railways_9_travelType']\n",
    "df1 = df1.drop(arr,1)"
   ]
  },
  {
   "cell_type": "code",
   "execution_count": 54,
   "metadata": {
    "ExecuteTime": {
     "end_time": "2020-05-26T15:08:06.203791Z",
     "start_time": "2020-05-26T15:08:06.184245Z"
    }
   },
   "outputs": [],
   "source": [
    "arr =  ['offer_geo_undergrounds_1_releaseYear', 'offer_geo_railways_1_name', 'offer_geo_railways_1_time',\n",
    "       'offer_geo_railways_1_travelType', 'offer_geo_railways_2_name',\n",
    "       'offer_geo_railways_2_time', 'offer_geo_railways_2_travelType',\n",
    "       'offer_geo_railways_3_name', 'offer_geo_railways_3_time',\n",
    "       'offer_geo_railways_3_travelType', 'offer_geo_railways_4_name',\n",
    "       'offer_geo_railways_4_time', 'offer_geo_railways_4_travelType',\n",
    "       'offer_geo_railways_5_name', 'offer_geo_railways_5_time',\n",
    "       'offer_geo_railways_5_travelType', 'offer_geo_railways_6_name',\n",
    "       'offer_geo_railways_6_time', 'offer_geo_railways_6_travelType']\n",
    "df1 = df1.drop(arr,1)"
   ]
  },
  {
   "cell_type": "code",
   "execution_count": 55,
   "metadata": {
    "ExecuteTime": {
     "end_time": "2020-05-26T15:08:06.224992Z",
     "start_time": "2020-05-26T15:08:06.204826Z"
    }
   },
   "outputs": [],
   "source": [
    "arr =  ['offer_hasFurniture', 'offer_hasRamp',\n",
    "       'offer_homeownerProofs']\n",
    "df1 = df1.drop(arr,1)"
   ]
  },
  {
   "cell_type": "code",
   "execution_count": 56,
   "metadata": {
    "ExecuteTime": {
     "end_time": "2020-05-26T15:08:06.227939Z",
     "start_time": "2020-05-26T15:08:06.226140Z"
    }
   },
   "outputs": [],
   "source": [
    "# df1 = df1.loc[df1['offer_isApartments']!=0, ].copy()"
   ]
  },
  {
   "cell_type": "code",
   "execution_count": 57,
   "metadata": {
    "ExecuteTime": {
     "end_time": "2020-05-26T15:08:06.234279Z",
     "start_time": "2020-05-26T15:08:06.229089Z"
    }
   },
   "outputs": [],
   "source": [
    "# df1 "
   ]
  },
  {
   "cell_type": "code",
   "execution_count": 58,
   "metadata": {
    "ExecuteTime": {
     "end_time": "2020-05-26T15:08:06.336467Z",
     "start_time": "2020-05-26T15:08:06.235367Z"
    }
   },
   "outputs": [
    {
     "data": {
      "text/html": [
       "<div>\n",
       "<style scoped>\n",
       "    .dataframe tbody tr th:only-of-type {\n",
       "        vertical-align: middle;\n",
       "    }\n",
       "\n",
       "    .dataframe tbody tr th {\n",
       "        vertical-align: top;\n",
       "    }\n",
       "\n",
       "    .dataframe thead th {\n",
       "        text-align: right;\n",
       "    }\n",
       "</style>\n",
       "<table border=\"1\" class=\"dataframe\">\n",
       "  <thead>\n",
       "    <tr style=\"text-align: right;\">\n",
       "      <th></th>\n",
       "      <th>ad_objectType</th>\n",
       "      <th>bti_district_avgHouseAge</th>\n",
       "      <th>bti_district_districtTitle</th>\n",
       "      <th>bti_district_priceSqm</th>\n",
       "      <th>bti_district_roomRentPrice</th>\n",
       "      <th>bti_house_entrances</th>\n",
       "      <th>bti_house_flatCount</th>\n",
       "      <th>bti_house_floorMax</th>\n",
       "      <th>bti_house_houseMaterialType</th>\n",
       "      <th>bti_house_houseOverlapType</th>\n",
       "      <th>...</th>\n",
       "      <th>offer_title</th>\n",
       "      <th>offer_totalArea</th>\n",
       "      <th>offer_valueAddedServices_isColorized</th>\n",
       "      <th>offer_valueAddedServices_isPaid</th>\n",
       "      <th>offer_valueAddedServices_isPremium</th>\n",
       "      <th>offer_valueAddedServices_isTop3</th>\n",
       "      <th>offer_wcType</th>\n",
       "      <th>offer_windowsViewType</th>\n",
       "      <th>url</th>\n",
       "      <th>pegged_to_cur</th>\n",
       "    </tr>\n",
       "    <tr>\n",
       "      <th>District1</th>\n",
       "      <th></th>\n",
       "      <th></th>\n",
       "      <th></th>\n",
       "      <th></th>\n",
       "      <th></th>\n",
       "      <th></th>\n",
       "      <th></th>\n",
       "      <th></th>\n",
       "      <th></th>\n",
       "      <th></th>\n",
       "      <th></th>\n",
       "      <th></th>\n",
       "      <th></th>\n",
       "      <th></th>\n",
       "      <th></th>\n",
       "      <th></th>\n",
       "      <th></th>\n",
       "      <th></th>\n",
       "      <th></th>\n",
       "      <th></th>\n",
       "      <th></th>\n",
       "    </tr>\n",
       "  </thead>\n",
       "  <tbody>\n",
       "    <tr>\n",
       "      <td>ВАО</td>\n",
       "      <td>2906</td>\n",
       "      <td>2435</td>\n",
       "      <td>2435</td>\n",
       "      <td>2435</td>\n",
       "      <td>2435</td>\n",
       "      <td>2402</td>\n",
       "      <td>2396</td>\n",
       "      <td>2423</td>\n",
       "      <td>2789</td>\n",
       "      <td>2789</td>\n",
       "      <td>...</td>\n",
       "      <td>86</td>\n",
       "      <td>2906</td>\n",
       "      <td>2906</td>\n",
       "      <td>2906</td>\n",
       "      <td>2906</td>\n",
       "      <td>2906</td>\n",
       "      <td>0</td>\n",
       "      <td>2279</td>\n",
       "      <td>2906</td>\n",
       "      <td>2906</td>\n",
       "    </tr>\n",
       "    <tr>\n",
       "      <td>ЗАО</td>\n",
       "      <td>7485</td>\n",
       "      <td>5380</td>\n",
       "      <td>5380</td>\n",
       "      <td>5380</td>\n",
       "      <td>5380</td>\n",
       "      <td>5131</td>\n",
       "      <td>4958</td>\n",
       "      <td>5351</td>\n",
       "      <td>6816</td>\n",
       "      <td>6816</td>\n",
       "      <td>...</td>\n",
       "      <td>389</td>\n",
       "      <td>7485</td>\n",
       "      <td>7485</td>\n",
       "      <td>7485</td>\n",
       "      <td>7485</td>\n",
       "      <td>7485</td>\n",
       "      <td>1</td>\n",
       "      <td>5310</td>\n",
       "      <td>7485</td>\n",
       "      <td>7485</td>\n",
       "    </tr>\n",
       "    <tr>\n",
       "      <td>ЗелАО</td>\n",
       "      <td>417</td>\n",
       "      <td>330</td>\n",
       "      <td>330</td>\n",
       "      <td>330</td>\n",
       "      <td>330</td>\n",
       "      <td>323</td>\n",
       "      <td>320</td>\n",
       "      <td>329</td>\n",
       "      <td>403</td>\n",
       "      <td>403</td>\n",
       "      <td>...</td>\n",
       "      <td>21</td>\n",
       "      <td>417</td>\n",
       "      <td>417</td>\n",
       "      <td>417</td>\n",
       "      <td>417</td>\n",
       "      <td>417</td>\n",
       "      <td>0</td>\n",
       "      <td>295</td>\n",
       "      <td>417</td>\n",
       "      <td>417</td>\n",
       "    </tr>\n",
       "    <tr>\n",
       "      <td>НАО</td>\n",
       "      <td>5362</td>\n",
       "      <td>2496</td>\n",
       "      <td>2490</td>\n",
       "      <td>2490</td>\n",
       "      <td>2490</td>\n",
       "      <td>2452</td>\n",
       "      <td>2360</td>\n",
       "      <td>2462</td>\n",
       "      <td>4317</td>\n",
       "      <td>4317</td>\n",
       "      <td>...</td>\n",
       "      <td>204</td>\n",
       "      <td>5362</td>\n",
       "      <td>5362</td>\n",
       "      <td>5362</td>\n",
       "      <td>5362</td>\n",
       "      <td>5362</td>\n",
       "      <td>2</td>\n",
       "      <td>3789</td>\n",
       "      <td>5362</td>\n",
       "      <td>5362</td>\n",
       "    </tr>\n",
       "    <tr>\n",
       "      <td>САО</td>\n",
       "      <td>5361</td>\n",
       "      <td>3613</td>\n",
       "      <td>3613</td>\n",
       "      <td>3613</td>\n",
       "      <td>3613</td>\n",
       "      <td>3335</td>\n",
       "      <td>3441</td>\n",
       "      <td>3608</td>\n",
       "      <td>4981</td>\n",
       "      <td>4981</td>\n",
       "      <td>...</td>\n",
       "      <td>189</td>\n",
       "      <td>5361</td>\n",
       "      <td>5361</td>\n",
       "      <td>5361</td>\n",
       "      <td>5361</td>\n",
       "      <td>5361</td>\n",
       "      <td>59</td>\n",
       "      <td>3813</td>\n",
       "      <td>5361</td>\n",
       "      <td>5361</td>\n",
       "    </tr>\n",
       "    <tr>\n",
       "      <td>СВАО</td>\n",
       "      <td>4239</td>\n",
       "      <td>2697</td>\n",
       "      <td>2697</td>\n",
       "      <td>2697</td>\n",
       "      <td>2697</td>\n",
       "      <td>2625</td>\n",
       "      <td>2664</td>\n",
       "      <td>2675</td>\n",
       "      <td>3823</td>\n",
       "      <td>3823</td>\n",
       "      <td>...</td>\n",
       "      <td>181</td>\n",
       "      <td>4239</td>\n",
       "      <td>4239</td>\n",
       "      <td>4239</td>\n",
       "      <td>4239</td>\n",
       "      <td>4239</td>\n",
       "      <td>10</td>\n",
       "      <td>2824</td>\n",
       "      <td>4239</td>\n",
       "      <td>4239</td>\n",
       "    </tr>\n",
       "    <tr>\n",
       "      <td>СЗАО</td>\n",
       "      <td>3150</td>\n",
       "      <td>2267</td>\n",
       "      <td>2267</td>\n",
       "      <td>2267</td>\n",
       "      <td>2267</td>\n",
       "      <td>2081</td>\n",
       "      <td>2189</td>\n",
       "      <td>2217</td>\n",
       "      <td>2954</td>\n",
       "      <td>2954</td>\n",
       "      <td>...</td>\n",
       "      <td>132</td>\n",
       "      <td>3150</td>\n",
       "      <td>3150</td>\n",
       "      <td>3150</td>\n",
       "      <td>3150</td>\n",
       "      <td>3150</td>\n",
       "      <td>7</td>\n",
       "      <td>2126</td>\n",
       "      <td>3150</td>\n",
       "      <td>3150</td>\n",
       "    </tr>\n",
       "    <tr>\n",
       "      <td>ТАО</td>\n",
       "      <td>437</td>\n",
       "      <td>249</td>\n",
       "      <td>249</td>\n",
       "      <td>249</td>\n",
       "      <td>249</td>\n",
       "      <td>246</td>\n",
       "      <td>245</td>\n",
       "      <td>247</td>\n",
       "      <td>407</td>\n",
       "      <td>407</td>\n",
       "      <td>...</td>\n",
       "      <td>26</td>\n",
       "      <td>437</td>\n",
       "      <td>437</td>\n",
       "      <td>437</td>\n",
       "      <td>437</td>\n",
       "      <td>437</td>\n",
       "      <td>0</td>\n",
       "      <td>247</td>\n",
       "      <td>437</td>\n",
       "      <td>437</td>\n",
       "    </tr>\n",
       "    <tr>\n",
       "      <td>ЦАО</td>\n",
       "      <td>8572</td>\n",
       "      <td>5876</td>\n",
       "      <td>5876</td>\n",
       "      <td>5876</td>\n",
       "      <td>5876</td>\n",
       "      <td>4735</td>\n",
       "      <td>5445</td>\n",
       "      <td>5760</td>\n",
       "      <td>8110</td>\n",
       "      <td>8110</td>\n",
       "      <td>...</td>\n",
       "      <td>367</td>\n",
       "      <td>8572</td>\n",
       "      <td>8572</td>\n",
       "      <td>8572</td>\n",
       "      <td>8572</td>\n",
       "      <td>8572</td>\n",
       "      <td>10</td>\n",
       "      <td>5468</td>\n",
       "      <td>8572</td>\n",
       "      <td>8572</td>\n",
       "    </tr>\n",
       "    <tr>\n",
       "      <td>ЮАО</td>\n",
       "      <td>4853</td>\n",
       "      <td>3373</td>\n",
       "      <td>3373</td>\n",
       "      <td>3373</td>\n",
       "      <td>3373</td>\n",
       "      <td>3248</td>\n",
       "      <td>3348</td>\n",
       "      <td>3370</td>\n",
       "      <td>4516</td>\n",
       "      <td>4516</td>\n",
       "      <td>...</td>\n",
       "      <td>202</td>\n",
       "      <td>4853</td>\n",
       "      <td>4853</td>\n",
       "      <td>4853</td>\n",
       "      <td>4853</td>\n",
       "      <td>4853</td>\n",
       "      <td>8</td>\n",
       "      <td>3394</td>\n",
       "      <td>4853</td>\n",
       "      <td>4853</td>\n",
       "    </tr>\n",
       "    <tr>\n",
       "      <td>ЮВАО</td>\n",
       "      <td>4760</td>\n",
       "      <td>3477</td>\n",
       "      <td>3477</td>\n",
       "      <td>3477</td>\n",
       "      <td>3477</td>\n",
       "      <td>3422</td>\n",
       "      <td>3392</td>\n",
       "      <td>3456</td>\n",
       "      <td>4498</td>\n",
       "      <td>4498</td>\n",
       "      <td>...</td>\n",
       "      <td>189</td>\n",
       "      <td>4760</td>\n",
       "      <td>4760</td>\n",
       "      <td>4760</td>\n",
       "      <td>4760</td>\n",
       "      <td>4760</td>\n",
       "      <td>1</td>\n",
       "      <td>3432</td>\n",
       "      <td>4760</td>\n",
       "      <td>4760</td>\n",
       "    </tr>\n",
       "    <tr>\n",
       "      <td>ЮЗАО</td>\n",
       "      <td>3899</td>\n",
       "      <td>3440</td>\n",
       "      <td>3440</td>\n",
       "      <td>3440</td>\n",
       "      <td>3440</td>\n",
       "      <td>3353</td>\n",
       "      <td>3272</td>\n",
       "      <td>3391</td>\n",
       "      <td>3778</td>\n",
       "      <td>3778</td>\n",
       "      <td>...</td>\n",
       "      <td>139</td>\n",
       "      <td>3899</td>\n",
       "      <td>3899</td>\n",
       "      <td>3899</td>\n",
       "      <td>3899</td>\n",
       "      <td>3899</td>\n",
       "      <td>0</td>\n",
       "      <td>2918</td>\n",
       "      <td>3899</td>\n",
       "      <td>3899</td>\n",
       "    </tr>\n",
       "  </tbody>\n",
       "</table>\n",
       "<p>12 rows × 105 columns</p>\n",
       "</div>"
      ],
      "text/plain": [
       "           ad_objectType  bti_district_avgHouseAge  \\\n",
       "District1                                            \n",
       "ВАО                 2906                      2435   \n",
       "ЗАО                 7485                      5380   \n",
       "ЗелАО                417                       330   \n",
       "НАО                 5362                      2496   \n",
       "САО                 5361                      3613   \n",
       "СВАО                4239                      2697   \n",
       "СЗАО                3150                      2267   \n",
       "ТАО                  437                       249   \n",
       "ЦАО                 8572                      5876   \n",
       "ЮАО                 4853                      3373   \n",
       "ЮВАО                4760                      3477   \n",
       "ЮЗАО                3899                      3440   \n",
       "\n",
       "           bti_district_districtTitle  bti_district_priceSqm  \\\n",
       "District1                                                      \n",
       "ВАО                              2435                   2435   \n",
       "ЗАО                              5380                   5380   \n",
       "ЗелАО                             330                    330   \n",
       "НАО                              2490                   2490   \n",
       "САО                              3613                   3613   \n",
       "СВАО                             2697                   2697   \n",
       "СЗАО                             2267                   2267   \n",
       "ТАО                               249                    249   \n",
       "ЦАО                              5876                   5876   \n",
       "ЮАО                              3373                   3373   \n",
       "ЮВАО                             3477                   3477   \n",
       "ЮЗАО                             3440                   3440   \n",
       "\n",
       "           bti_district_roomRentPrice  bti_house_entrances  \\\n",
       "District1                                                    \n",
       "ВАО                              2435                 2402   \n",
       "ЗАО                              5380                 5131   \n",
       "ЗелАО                             330                  323   \n",
       "НАО                              2490                 2452   \n",
       "САО                              3613                 3335   \n",
       "СВАО                             2697                 2625   \n",
       "СЗАО                             2267                 2081   \n",
       "ТАО                               249                  246   \n",
       "ЦАО                              5876                 4735   \n",
       "ЮАО                              3373                 3248   \n",
       "ЮВАО                             3477                 3422   \n",
       "ЮЗАО                             3440                 3353   \n",
       "\n",
       "           bti_house_flatCount  bti_house_floorMax  \\\n",
       "District1                                            \n",
       "ВАО                       2396                2423   \n",
       "ЗАО                       4958                5351   \n",
       "ЗелАО                      320                 329   \n",
       "НАО                       2360                2462   \n",
       "САО                       3441                3608   \n",
       "СВАО                      2664                2675   \n",
       "СЗАО                      2189                2217   \n",
       "ТАО                        245                 247   \n",
       "ЦАО                       5445                5760   \n",
       "ЮАО                       3348                3370   \n",
       "ЮВАО                      3392                3456   \n",
       "ЮЗАО                      3272                3391   \n",
       "\n",
       "           bti_house_houseMaterialType  bti_house_houseOverlapType  ...  \\\n",
       "District1                                                           ...   \n",
       "ВАО                               2789                        2789  ...   \n",
       "ЗАО                               6816                        6816  ...   \n",
       "ЗелАО                              403                         403  ...   \n",
       "НАО                               4317                        4317  ...   \n",
       "САО                               4981                        4981  ...   \n",
       "СВАО                              3823                        3823  ...   \n",
       "СЗАО                              2954                        2954  ...   \n",
       "ТАО                                407                         407  ...   \n",
       "ЦАО                               8110                        8110  ...   \n",
       "ЮАО                               4516                        4516  ...   \n",
       "ЮВАО                              4498                        4498  ...   \n",
       "ЮЗАО                              3778                        3778  ...   \n",
       "\n",
       "           offer_title  offer_totalArea  offer_valueAddedServices_isColorized  \\\n",
       "District1                                                                       \n",
       "ВАО                 86             2906                                  2906   \n",
       "ЗАО                389             7485                                  7485   \n",
       "ЗелАО               21              417                                   417   \n",
       "НАО                204             5362                                  5362   \n",
       "САО                189             5361                                  5361   \n",
       "СВАО               181             4239                                  4239   \n",
       "СЗАО               132             3150                                  3150   \n",
       "ТАО                 26              437                                   437   \n",
       "ЦАО                367             8572                                  8572   \n",
       "ЮАО                202             4853                                  4853   \n",
       "ЮВАО               189             4760                                  4760   \n",
       "ЮЗАО               139             3899                                  3899   \n",
       "\n",
       "           offer_valueAddedServices_isPaid  \\\n",
       "District1                                    \n",
       "ВАО                                   2906   \n",
       "ЗАО                                   7485   \n",
       "ЗелАО                                  417   \n",
       "НАО                                   5362   \n",
       "САО                                   5361   \n",
       "СВАО                                  4239   \n",
       "СЗАО                                  3150   \n",
       "ТАО                                    437   \n",
       "ЦАО                                   8572   \n",
       "ЮАО                                   4853   \n",
       "ЮВАО                                  4760   \n",
       "ЮЗАО                                  3899   \n",
       "\n",
       "           offer_valueAddedServices_isPremium  \\\n",
       "District1                                       \n",
       "ВАО                                      2906   \n",
       "ЗАО                                      7485   \n",
       "ЗелАО                                     417   \n",
       "НАО                                      5362   \n",
       "САО                                      5361   \n",
       "СВАО                                     4239   \n",
       "СЗАО                                     3150   \n",
       "ТАО                                       437   \n",
       "ЦАО                                      8572   \n",
       "ЮАО                                      4853   \n",
       "ЮВАО                                     4760   \n",
       "ЮЗАО                                     3899   \n",
       "\n",
       "           offer_valueAddedServices_isTop3  offer_wcType  \\\n",
       "District1                                                  \n",
       "ВАО                                   2906             0   \n",
       "ЗАО                                   7485             1   \n",
       "ЗелАО                                  417             0   \n",
       "НАО                                   5362             2   \n",
       "САО                                   5361            59   \n",
       "СВАО                                  4239            10   \n",
       "СЗАО                                  3150             7   \n",
       "ТАО                                    437             0   \n",
       "ЦАО                                   8572            10   \n",
       "ЮАО                                   4853             8   \n",
       "ЮВАО                                  4760             1   \n",
       "ЮЗАО                                  3899             0   \n",
       "\n",
       "           offer_windowsViewType   url  pegged_to_cur  \n",
       "District1                                              \n",
       "ВАО                         2279  2906           2906  \n",
       "ЗАО                         5310  7485           7485  \n",
       "ЗелАО                        295   417            417  \n",
       "НАО                         3789  5362           5362  \n",
       "САО                         3813  5361           5361  \n",
       "СВАО                        2824  4239           4239  \n",
       "СЗАО                        2126  3150           3150  \n",
       "ТАО                          247   437            437  \n",
       "ЦАО                         5468  8572           8572  \n",
       "ЮАО                         3394  4853           4853  \n",
       "ЮВАО                        3432  4760           4760  \n",
       "ЮЗАО                        2918  3899           3899  \n",
       "\n",
       "[12 rows x 105 columns]"
      ]
     },
     "execution_count": 58,
     "metadata": {},
     "output_type": "execute_result"
    }
   ],
   "source": [
    "df1.groupby('District1').count()"
   ]
  },
  {
   "cell_type": "code",
   "execution_count": 59,
   "metadata": {
    "ExecuteTime": {
     "end_time": "2020-05-26T15:08:06.340145Z",
     "start_time": "2020-05-26T15:08:06.337592Z"
    }
   },
   "outputs": [
    {
     "data": {
      "text/plain": [
       "(51447, 106)"
      ]
     },
     "execution_count": 59,
     "metadata": {},
     "output_type": "execute_result"
    }
   ],
   "source": [
    "df1.shape"
   ]
  },
  {
   "cell_type": "code",
   "execution_count": 73,
   "metadata": {
    "ExecuteTime": {
     "end_time": "2020-05-26T15:22:06.483980Z",
     "start_time": "2020-05-26T15:22:06.466462Z"
    }
   },
   "outputs": [],
   "source": [
    "arr =  ['offer_isByHomeowner', 'offer_isFromBuilder',\n",
    "       'offer_isFromSeller', 'offer_isImported', 'offer_isInHiddenBase']\n",
    "df1 = df1.drop(arr,1)\n",
    "arr = ['offer_newbuilding_isFromBuilder', 'offer_newbuilding_isFromDeveloper',\n",
    "       'offer_newbuilding_isFromLeadFactory', 'offer_newbuilding_isFromSeller',\n",
    "       'offer_newbuilding_isReliable', 'offer_newbuilding_name',\n",
    "       'offer_newbuilding_newbuildingFeatures_deadlineInfo']\n",
    "\n",
    "df1 = df1.drop(arr,1)"
   ]
  },
  {
   "cell_type": "code",
   "execution_count": 76,
   "metadata": {
    "ExecuteTime": {
     "end_time": "2020-05-26T17:25:24.076849Z",
     "start_time": "2020-05-26T17:25:24.072972Z"
    }
   },
   "outputs": [],
   "source": [
    "# df1"
   ]
  },
  {
   "cell_type": "code",
   "execution_count": 78,
   "metadata": {
    "ExecuteTime": {
     "end_time": "2020-05-26T17:27:36.083513Z",
     "start_time": "2020-05-26T17:27:36.051842Z"
    }
   },
   "outputs": [],
   "source": [
    "arr = ['offer_newbuilding_house_isFinished',\n",
    "       'offer_newbuilding_house_isReliable', 'offer_newbuilding_house_name']\n",
    "\n",
    "df1 = df1.drop(arr,1)\n"
   ]
  },
  {
   "cell_type": "code",
   "execution_count": 81,
   "metadata": {
    "ExecuteTime": {
     "end_time": "2020-05-26T17:35:47.591774Z",
     "start_time": "2020-05-26T17:35:47.575380Z"
    }
   },
   "outputs": [],
   "source": [
    "arr = ['offer_newbuilding_newbuildingFeatures_videosCount',\n",
    "       'offer_newbuilding_showJkReliableFlag', \n",
    "       'offer_passengerLiftsCount',\n",
    "       'offer_promoLabel','offer_publishTerms_autoprolong', 'offer_publishTerms_terms_days',\n",
    "       'offer_publishTerms_terms_services', 'offer_publishTerms_terms_tariff',\n",
    "       'offer_publishTerms_terms_type', 'offer_rentByPartsDescription',\n",
    "       'offer_roomsForSaleCount', 'offer_rosreestrCheck', 'offer_status', 'offer_title','offer_valueAddedServices_isColorized',\n",
    "       'offer_valueAddedServices_isPaid', 'offer_valueAddedServices_isPremium',\n",
    "       'offer_valueAddedServices_isTop3', 'offer_wcType' ]\n",
    "df1 = df1.drop(arr,1)"
   ]
  },
  {
   "cell_type": "code",
   "execution_count": 84,
   "metadata": {
    "ExecuteTime": {
     "end_time": "2020-05-26T17:36:26.201677Z",
     "start_time": "2020-05-26T17:36:24.607746Z"
    }
   },
   "outputs": [],
   "source": [
    "# df1.columns[:50]\n",
    "df1.to_csv('cian_df_raw.csv')\n",
    "# .columns[60:]"
   ]
  },
  {
   "cell_type": "code",
   "execution_count": 86,
   "metadata": {
    "ExecuteTime": {
     "end_time": "2020-05-26T17:39:29.715318Z",
     "start_time": "2020-05-26T17:39:29.690260Z"
    }
   },
   "outputs": [],
   "source": [
    "df2 = df1.loc[df1['District1'].isin(['САО', 'ЮАО', 'ЦАО']),:]"
   ]
  },
  {
   "cell_type": "code",
   "execution_count": 91,
   "metadata": {
    "ExecuteTime": {
     "end_time": "2020-05-26T17:42:14.167204Z",
     "start_time": "2020-05-26T17:42:14.159366Z"
    }
   },
   "outputs": [
    {
     "data": {
      "text/plain": [
       "Series([], Name: offer_isApartments, dtype: object)"
      ]
     },
     "execution_count": 91,
     "metadata": {},
     "output_type": "execute_result"
    }
   ],
   "source": [
    "df2['offer_isApartments'][df2['offer_isApartments'].isna()] = 'unknown'"
   ]
  },
  {
   "cell_type": "code",
   "execution_count": null,
   "metadata": {
    "ExecuteTime": {
     "end_time": "2020-05-26T17:42:42.582888Z",
     "start_time": "2020-05-26T17:42:42.557994Z"
    }
   },
   "outputs": [],
   "source": [
    "df2['offer_isPenthouse'][df2['offer_isPenthouse'].isna()] = 'unknown'"
   ]
  },
  {
   "cell_type": "code",
   "execution_count": 99,
   "metadata": {
    "ExecuteTime": {
     "end_time": "2020-05-26T17:44:57.883415Z",
     "start_time": "2020-05-26T17:44:57.841090Z"
    }
   },
   "outputs": [],
   "source": [
    "df2 = df2.loc[df2['offer_isApartments']!=1,:].copy()\n",
    "df2 = df2.loc[df2['offer_isPenthouse']!=1,:].copy()\n",
    "# df2.shape"
   ]
  },
  {
   "cell_type": "code",
   "execution_count": 105,
   "metadata": {
    "ExecuteTime": {
     "end_time": "2020-05-26T18:15:30.454701Z",
     "start_time": "2020-05-26T18:15:30.438950Z"
    }
   },
   "outputs": [],
   "source": [
    "df3 = df2[\n",
    "[ 'offer_roomsCount','offer_roomType',\n",
    "  'offer_bargainTerms_prices_rur', 'bti_house_priceCian', 'pegged_to_cur', \n",
    "  'offer_building_totalArea', 'offer_totalArea', 'offer_allRoomsArea',\n",
    "  'offer_livingArea',\n",
    "  'offer_kitchenArea',\n",
    "  'offer_geo_coordinates_lat', 'offer_geo_coordinates_lng',\n",
    "  'offer_geo_undergrounds_1_lineColor', 'offer_geo_undergrounds_1_name',\n",
    "       'offer_geo_undergrounds_1_travelTime',\n",
    "       'offer_geo_undergrounds_1_travelType',\n",
    "       'offer_geo_undergrounds_1_underConstruction',\n",
    "       'offer_geo_undergrounds_2_lineColor', 'offer_geo_undergrounds_2_name',\n",
    "       'offer_geo_undergrounds_2_releaseYear',\n",
    "       'offer_geo_undergrounds_2_travelTime',\n",
    "       'offer_geo_undergrounds_2_travelType',\n",
    "       'offer_geo_undergrounds_2_underConstruction',\n",
    "       'offer_geo_undergrounds_3_lineColor', 'offer_geo_undergrounds_3_name',\n",
    "       'offer_geo_undergrounds_3_releaseYear',\n",
    "       'offer_geo_undergrounds_3_travelTime',\n",
    "       'offer_geo_undergrounds_3_travelType',\n",
    "       'offer_geo_undergrounds_3_underConstruction', \n",
    "   'bti_house_houseMaterialType', 'offer_building_houseMaterialType',  \n",
    "   'offer_building_materialType', 'bti_house_houseOverlapType',\n",
    "   'offer_hasPhone',\n",
    "   'offer_balconiesCount', 'offer_loggiasCount',\n",
    "   'newObject_status', 'ad_objectType', 'offer_category', 'offer_demolishedInMoscowProgramm',\n",
    "   'offer_building_buildYear', 'bti_house_yearRelease',\n",
    "   'bti_house_floorMax', \n",
    "   'offer_floorNumber',\n",
    "   'offer_building_floorsCount',\n",
    "   'District1', \n",
    "   'bti_district_districtTitle',\n",
    "   'bti_district_avgHouseAge',  'bti_district_priceSqm', 'bti_district_roomRentPrice',         \n",
    "   'offer_building_ceilingHeight', \n",
    "   'offer_repairType',\n",
    "   'offer_windowsViewType',\n",
    "   'offer_combinedWcsCount', 'offer_separateWcsCount',\n",
    "   'bti_house_flatCount', 'bti_house_entrances', 'offer_building_parking_type', \n",
    "   'bti_house_lifts', 'offer_building_passengerLiftsCount',\n",
    "   'offer_isApartments', 'offer_isPenthouse',\n",
    "   'offer_geo_highways_1_distance', 'offer_geo_highways_1_name',\n",
    "   'offer_geo_highways_2_distance', 'offer_geo_highways_2_name',      \n",
    "   'offer_added', 'offer_publicationDate', \n",
    "   'offer_newbuilding_newbuildingFeatures_imagesCount',\n",
    "   'offer_similarOffersCount',\n",
    "   'offer_bargainTerms_mortgageAllowed',\n",
    "   'url']\n",
    "       ]"
   ]
  },
  {
   "cell_type": "code",
   "execution_count": 110,
   "metadata": {
    "ExecuteTime": {
     "end_time": "2020-05-26T18:16:20.249670Z",
     "start_time": "2020-05-26T18:16:19.768251Z"
    }
   },
   "outputs": [],
   "source": [
    "df3.to_csv('cian_df_medium.csv')"
   ]
  },
  {
   "cell_type": "code",
   "execution_count": null,
   "metadata": {},
   "outputs": [],
   "source": [
    "df3"
   ]
  },
  {
   "cell_type": "code",
   "execution_count": 108,
   "metadata": {
    "ExecuteTime": {
     "end_time": "2020-05-26T18:15:49.227605Z",
     "start_time": "2020-05-26T18:15:49.224869Z"
    }
   },
   "outputs": [
    {
     "data": {
      "text/plain": [
       "(15554, 72)"
      ]
     },
     "execution_count": 108,
     "metadata": {},
     "output_type": "execute_result"
    }
   ],
   "source": [
    "df2.shape\n",
    "df3.shape"
   ]
  },
  {
   "cell_type": "code",
   "execution_count": 127,
   "metadata": {
    "ExecuteTime": {
     "end_time": "2020-05-26T18:39:36.258542Z",
     "start_time": "2020-05-26T18:39:36.249229Z"
    }
   },
   "outputs": [
    {
     "data": {
      "text/plain": [
       "Index(['offer_roomsCount', 'offer_roomType', 'offer_bargainTerms_prices_rur',\n",
       "       'bti_house_priceCian', 'pegged_to_cur', 'offer_building_totalArea',\n",
       "       'offer_totalArea', 'offer_allRoomsArea', 'offer_livingArea',\n",
       "       'offer_kitchenArea', 'offer_geo_coordinates_lat',\n",
       "       'offer_geo_coordinates_lng', 'offer_geo_undergrounds_1_lineColor',\n",
       "       'offer_geo_undergrounds_1_name', 'offer_geo_undergrounds_1_travelTime',\n",
       "       'offer_geo_undergrounds_1_travelType',\n",
       "       'offer_geo_undergrounds_1_underConstruction',\n",
       "       'offer_geo_undergrounds_2_lineColor', 'offer_geo_undergrounds_2_name',\n",
       "       'offer_geo_undergrounds_2_releaseYear',\n",
       "       'offer_geo_undergrounds_2_travelTime',\n",
       "       'offer_geo_undergrounds_2_travelType',\n",
       "       'offer_geo_undergrounds_2_underConstruction',\n",
       "       'offer_geo_undergrounds_3_lineColor', 'offer_geo_undergrounds_3_name',\n",
       "       'offer_geo_undergrounds_3_releaseYear',\n",
       "       'offer_geo_undergrounds_3_travelTime',\n",
       "       'offer_geo_undergrounds_3_travelType',\n",
       "       'offer_geo_undergrounds_3_underConstruction',\n",
       "       'bti_house_houseMaterialType', 'offer_building_houseMaterialType',\n",
       "       'offer_building_materialType', 'bti_house_houseOverlapType',\n",
       "       'offer_hasPhone', 'offer_balconiesCount', 'offer_loggiasCount',\n",
       "       'newObject_status', 'ad_objectType', 'offer_category',\n",
       "       'offer_demolishedInMoscowProgramm', 'offer_building_buildYear',\n",
       "       'bti_house_yearRelease', 'bti_house_floorMax', 'offer_floorNumber',\n",
       "       'offer_building_floorsCount', 'District1', 'bti_district_districtTitle',\n",
       "       'bti_district_avgHouseAge', 'bti_district_priceSqm',\n",
       "       'bti_district_roomRentPrice', 'offer_building_ceilingHeight',\n",
       "       'offer_repairType', 'offer_windowsViewType', 'offer_combinedWcsCount',\n",
       "       'offer_separateWcsCount', 'bti_house_flatCount', 'bti_house_entrances',\n",
       "       'offer_building_parking_type', 'bti_house_lifts',\n",
       "       'offer_building_passengerLiftsCount', 'offer_isApartments',\n",
       "       'offer_isPenthouse', 'offer_geo_highways_1_distance',\n",
       "       'offer_geo_highways_1_name', 'offer_geo_highways_2_distance',\n",
       "       'offer_geo_highways_2_name', 'offer_added', 'offer_publicationDate',\n",
       "       'offer_newbuilding_newbuildingFeatures_imagesCount',\n",
       "       'offer_similarOffersCount', 'offer_bargainTerms_mortgageAllowed',\n",
       "       'url'],\n",
       "      dtype='object')"
      ]
     },
     "execution_count": 127,
     "metadata": {},
     "output_type": "execute_result"
    }
   ],
   "source": [
    "df3.columns"
   ]
  },
  {
   "cell_type": "code",
   "execution_count": 101,
   "metadata": {
    "ExecuteTime": {
     "end_time": "2020-05-26T17:45:22.597503Z",
     "start_time": "2020-05-26T17:45:22.129521Z"
    }
   },
   "outputs": [],
   "source": [
    "df2.to_csv('cian_df_medium.csv')"
   ]
  },
  {
   "cell_type": "markdown",
   "metadata": {},
   "source": [
    "### check what's left"
   ]
  },
  {
   "cell_type": "code",
   "execution_count": 131,
   "metadata": {
    "ExecuteTime": {
     "end_time": "2020-05-26T18:40:46.738471Z",
     "start_time": "2020-05-26T18:40:46.711390Z"
    }
   },
   "outputs": [
    {
     "data": {
      "text/html": [
       "<div>\n",
       "<style scoped>\n",
       "    .dataframe tbody tr th:only-of-type {\n",
       "        vertical-align: middle;\n",
       "    }\n",
       "\n",
       "    .dataframe tbody tr th {\n",
       "        vertical-align: top;\n",
       "    }\n",
       "\n",
       "    .dataframe thead th {\n",
       "        text-align: right;\n",
       "    }\n",
       "</style>\n",
       "<table border=\"1\" class=\"dataframe\">\n",
       "  <thead>\n",
       "    <tr style=\"text-align: right;\">\n",
       "      <th></th>\n",
       "      <th>bti_house_houseMaterialType</th>\n",
       "      <th>offer_building_houseMaterialType</th>\n",
       "      <th>offer_building_materialType</th>\n",
       "      <th>bti_house_houseOverlapType</th>\n",
       "    </tr>\n",
       "  </thead>\n",
       "  <tbody>\n",
       "    <tr>\n",
       "      <td>10</td>\n",
       "      <td>block</td>\n",
       "      <td>NaN</td>\n",
       "      <td>NaN</td>\n",
       "      <td>concrete</td>\n",
       "    </tr>\n",
       "    <tr>\n",
       "      <td>25</td>\n",
       "      <td>none</td>\n",
       "      <td>NaN</td>\n",
       "      <td>NaN</td>\n",
       "      <td>unknown</td>\n",
       "    </tr>\n",
       "    <tr>\n",
       "      <td>42</td>\n",
       "      <td>brick</td>\n",
       "      <td>NaN</td>\n",
       "      <td>NaN</td>\n",
       "      <td>wood</td>\n",
       "    </tr>\n",
       "    <tr>\n",
       "      <td>45</td>\n",
       "      <td>monolith</td>\n",
       "      <td>NaN</td>\n",
       "      <td>NaN</td>\n",
       "      <td>concrete</td>\n",
       "    </tr>\n",
       "    <tr>\n",
       "      <td>50</td>\n",
       "      <td>monolith</td>\n",
       "      <td>NaN</td>\n",
       "      <td>NaN</td>\n",
       "      <td>concrete</td>\n",
       "    </tr>\n",
       "    <tr>\n",
       "      <td>...</td>\n",
       "      <td>...</td>\n",
       "      <td>...</td>\n",
       "      <td>...</td>\n",
       "      <td>...</td>\n",
       "    </tr>\n",
       "    <tr>\n",
       "      <td>51559</td>\n",
       "      <td>monolith</td>\n",
       "      <td>NaN</td>\n",
       "      <td>NaN</td>\n",
       "      <td>concrete</td>\n",
       "    </tr>\n",
       "    <tr>\n",
       "      <td>51563</td>\n",
       "      <td>brick</td>\n",
       "      <td>NaN</td>\n",
       "      <td>NaN</td>\n",
       "      <td>concrete</td>\n",
       "    </tr>\n",
       "    <tr>\n",
       "      <td>51564</td>\n",
       "      <td>block</td>\n",
       "      <td>NaN</td>\n",
       "      <td>NaN</td>\n",
       "      <td>mixed</td>\n",
       "    </tr>\n",
       "    <tr>\n",
       "      <td>51572</td>\n",
       "      <td>none</td>\n",
       "      <td>NaN</td>\n",
       "      <td>NaN</td>\n",
       "      <td>concrete</td>\n",
       "    </tr>\n",
       "    <tr>\n",
       "      <td>51589</td>\n",
       "      <td>monolith</td>\n",
       "      <td>NaN</td>\n",
       "      <td>NaN</td>\n",
       "      <td>concrete</td>\n",
       "    </tr>\n",
       "  </tbody>\n",
       "</table>\n",
       "<p>2294 rows × 4 columns</p>\n",
       "</div>"
      ],
      "text/plain": [
       "      bti_house_houseMaterialType offer_building_houseMaterialType  \\\n",
       "10                          block                              NaN   \n",
       "25                           none                              NaN   \n",
       "42                          brick                              NaN   \n",
       "45                       monolith                              NaN   \n",
       "50                       monolith                              NaN   \n",
       "...                           ...                              ...   \n",
       "51559                    monolith                              NaN   \n",
       "51563                       brick                              NaN   \n",
       "51564                       block                              NaN   \n",
       "51572                        none                              NaN   \n",
       "51589                    monolith                              NaN   \n",
       "\n",
       "      offer_building_materialType bti_house_houseOverlapType  \n",
       "10                            NaN                   concrete  \n",
       "25                            NaN                    unknown  \n",
       "42                            NaN                       wood  \n",
       "45                            NaN                   concrete  \n",
       "50                            NaN                   concrete  \n",
       "...                           ...                        ...  \n",
       "51559                         NaN                   concrete  \n",
       "51563                         NaN                   concrete  \n",
       "51564                         NaN                      mixed  \n",
       "51572                         NaN                   concrete  \n",
       "51589                         NaN                   concrete  \n",
       "\n",
       "[2294 rows x 4 columns]"
      ]
     },
     "execution_count": 131,
     "metadata": {},
     "output_type": "execute_result"
    }
   ],
   "source": [
    "df2.loc[df2['offer_building_houseMaterialType'] != df2['offer_building_materialType'], ['bti_house_houseMaterialType', 'offer_building_houseMaterialType',\n",
    "       'offer_building_materialType', 'bti_house_houseOverlapType']]"
   ]
  },
  {
   "cell_type": "code",
   "execution_count": 130,
   "metadata": {
    "ExecuteTime": {
     "end_time": "2020-05-26T18:40:26.033711Z",
     "start_time": "2020-05-26T18:40:26.014958Z"
    }
   },
   "outputs": [
    {
     "data": {
      "text/plain": [
       "bti_house_houseMaterialType           37\n",
       "offer_building_houseMaterialType    2294\n",
       "offer_building_materialType         2294\n",
       "bti_house_houseOverlapType            37\n",
       "dtype: int64"
      ]
     },
     "execution_count": 130,
     "metadata": {},
     "output_type": "execute_result"
    }
   ],
   "source": [
    "df2.loc[df2['offer_building_houseMaterialType'] != df2['offer_building_materialType'], ['bti_house_houseMaterialType', 'offer_building_houseMaterialType',\n",
    "       'offer_building_materialType', 'bti_house_houseOverlapType']].isna().sum(0)"
   ]
  },
  {
   "cell_type": "code",
   "execution_count": 120,
   "metadata": {
    "ExecuteTime": {
     "end_time": "2020-05-26T18:32:05.889298Z",
     "start_time": "2020-05-26T18:32:05.871650Z"
    }
   },
   "outputs": [
    {
     "data": {
      "text/html": [
       "<div>\n",
       "<style scoped>\n",
       "    .dataframe tbody tr th:only-of-type {\n",
       "        vertical-align: middle;\n",
       "    }\n",
       "\n",
       "    .dataframe tbody tr th {\n",
       "        vertical-align: top;\n",
       "    }\n",
       "\n",
       "    .dataframe thead th {\n",
       "        text-align: right;\n",
       "    }\n",
       "</style>\n",
       "<table border=\"1\" class=\"dataframe\">\n",
       "  <thead>\n",
       "    <tr style=\"text-align: right;\">\n",
       "      <th></th>\n",
       "      <th>offer_building_totalArea</th>\n",
       "      <th>offer_totalArea</th>\n",
       "    </tr>\n",
       "  </thead>\n",
       "  <tbody>\n",
       "  </tbody>\n",
       "</table>\n",
       "</div>"
      ],
      "text/plain": [
       "Empty DataFrame\n",
       "Columns: [offer_building_totalArea, offer_totalArea]\n",
       "Index: []"
      ]
     },
     "execution_count": 120,
     "metadata": {},
     "output_type": "execute_result"
    }
   ],
   "source": [
    "df1.loc[df1['offer_building_totalArea'] != df1['offer_totalArea'], ['offer_building_totalArea', 'offer_totalArea']].loc[(df1['offer_building_totalArea'] - df1['offer_totalArea'])>0.07,:]"
   ]
  },
  {
   "cell_type": "code",
   "execution_count": 166,
   "metadata": {
    "ExecuteTime": {
     "end_time": "2020-05-26T19:20:49.446413Z",
     "start_time": "2020-05-26T19:20:49.318467Z"
    }
   },
   "outputs": [],
   "source": [
    "df4 = pd.read_csv('cian_df_medium_r.csv', index_col=0)\n",
    "df4['Group'] = 2"
   ]
  },
  {
   "cell_type": "code",
   "execution_count": 167,
   "metadata": {
    "ExecuteTime": {
     "end_time": "2020-05-26T19:20:50.061997Z",
     "start_time": "2020-05-26T19:20:50.052803Z"
    }
   },
   "outputs": [],
   "source": [
    "df4['floor1'] = 0 \n",
    "df4['floor2'] = 0 \n",
    "df4.loc[df4['NFloor'] == 1, 'floor1'] = 1\n",
    "df4.loc[df4['NFloor'] == df4['Floors'] , 'floor2'] = 1"
   ]
  },
  {
   "cell_type": "code",
   "execution_count": 171,
   "metadata": {
    "ExecuteTime": {
     "end_time": "2020-05-26T19:22:32.219617Z",
     "start_time": "2020-05-26T19:22:32.208820Z"
    }
   },
   "outputs": [],
   "source": [
    "df4['Floor'] = 1 \n",
    "df4.loc[df4['floor1'] == 1, 'Floor'] = 0\n",
    "df4.loc[df4['floor2'] == 1, 'Floor'] = 0\n"
   ]
  },
  {
   "cell_type": "code",
   "execution_count": 161,
   "metadata": {
    "ExecuteTime": {
     "end_time": "2020-05-26T19:18:46.775939Z",
     "start_time": "2020-05-26T19:18:46.773841Z"
    }
   },
   "outputs": [],
   "source": [
    "# df4.loc[df4['NFloor'] > df4['Floors'] , :'floor2'] "
   ]
  },
  {
   "cell_type": "code",
   "execution_count": 168,
   "metadata": {
    "ExecuteTime": {
     "end_time": "2020-05-26T19:20:54.231550Z",
     "start_time": "2020-05-26T19:20:54.209644Z"
    }
   },
   "outputs": [],
   "source": [
    "df4.loc[:,'N':'Zelen']=0"
   ]
  },
  {
   "cell_type": "code",
   "execution_count": 169,
   "metadata": {
    "ExecuteTime": {
     "end_time": "2020-05-26T19:20:58.428658Z",
     "start_time": "2020-05-26T19:20:58.404562Z"
    }
   },
   "outputs": [],
   "source": [
    "df4.loc[df4['District1'] == 'ЦАО', 'Centr'] = 1\n",
    "df4.loc[df4['District1'] == 'САО', 'N'] = 1\n",
    "df4.loc[df4['District1'] == 'ЮАО', 'S'] = 1"
   ]
  },
  {
   "cell_type": "code",
   "execution_count": 179,
   "metadata": {
    "ExecuteTime": {
     "end_time": "2020-05-26T19:29:59.221153Z",
     "start_time": "2020-05-26T19:29:59.208563Z"
    }
   },
   "outputs": [],
   "source": [
    "# df4['Bal'] = NaN\n",
    "df4.loc[df4['offer_balconiesCount'] > 0, 'Bal'] = 1\n",
    "df4.loc[df4['offer_loggiasCount'] > 0, 'Bal'] = 1\n",
    "df4.loc[(df4['offer_balconiesCount'] == 0) & (df4['offer_loggiasCount'] == 0), 'Bal'] = 0"
   ]
  },
  {
   "cell_type": "code",
   "execution_count": 245,
   "metadata": {
    "ExecuteTime": {
     "end_time": "2020-05-26T20:35:36.039925Z",
     "start_time": "2020-05-26T20:35:36.034874Z"
    }
   },
   "outputs": [],
   "source": [
    "red_sq_lat = 55.7557\n",
    "red_sq_lng = 37.6177\n",
    "df4['lat_null'] = red_sq_lat\n",
    "df4['lng_null'] = red_sq_lng"
   ]
  },
  {
   "cell_type": "code",
   "execution_count": 247,
   "metadata": {
    "ExecuteTime": {
     "end_time": "2020-05-26T20:35:37.294224Z",
     "start_time": "2020-05-26T20:35:37.292016Z"
    }
   },
   "outputs": [],
   "source": [
    "import geopy\n",
    "from geopy import Point\n",
    "from geopy.distance import distance\n",
    "from geopy.distance import geodesic \n",
    "df4['point_flat'] = df4.apply(lambda row: Point(latitude=row['offer_geo_coordinates_lat'], longitude=row['offer_geo_coordinates_lng']), axis=1)\n",
    "df4['point_null'] = df4.apply(lambda row: Point(latitude=row['lat_null'], longitude=row['lng_null']), axis=1)\n",
    "df4['distance_km'] = df4.apply(lambda row: distance(row['point_flat'], row['point_null']).km, 1 )\n",
    "df4['distance_km_g'] = df4.apply(lambda row: geodesic(row['point_flat'], row['point_null']).km, 1)"
   ]
  },
  {
   "cell_type": "code",
   "execution_count": 220,
   "metadata": {
    "ExecuteTime": {
     "end_time": "2020-05-26T20:21:13.879244Z",
     "start_time": "2020-05-26T20:21:13.869382Z"
    }
   },
   "outputs": [],
   "source": [
    "# import math\n",
    "# df4['lat_rad'] = df4['offer_geo_coordinates_lat'].apply(lambda x: math.radians(x))\n",
    "# df4['lng_rad'] = df4['offer_geo_coordinates_lng'].apply(lambda x: math.radians(x))\n",
    "# lat1 = math.radians(red_sq_lat)\n",
    "# lon1 = math.radians(red_sq_lng)\n",
    "# df4['lat1'] = lat1\n",
    "# df4['lon1'] = lon1\n",
    "# df4['dlat'] = df4['lat_rad'] - lat1\n",
    "# df4['dlon'] = df4['lng_rad'] - lon1\n",
    "# R = 6373.0 # radius of the Earth\n",
    "# df4['a'] = ( df4['dlat'].apply(lambda x: math.sin(x))  / 2)**2 + df4['lat1'].apply(lambda x: math.cos(x)) * df4['lat_rad'].apply(lambda x: math.cos(x)) * (df4['dlon'].apply(lambda x: math.sin(x)) / 2)**2\n",
    "# df4['b'] = df4['a'].apply(lambda x: math.sqrt(x))/df4['a'].apply(lambda x: math.sqrt(1-x))\n",
    "# df4['Dist'] = R* 2 * df4['b'].apply(lambda x: math.atan(x)) "
   ]
  },
  {
   "cell_type": "code",
   "execution_count": 253,
   "metadata": {
    "ExecuteTime": {
     "end_time": "2020-05-26T20:41:28.746539Z",
     "start_time": "2020-05-26T20:41:28.605050Z"
    }
   },
   "outputs": [],
   "source": [
    "df4 = pd.read_csv('cian_df_well.csv', index_col=0)"
   ]
  },
  {
   "cell_type": "code",
   "execution_count": 257,
   "metadata": {
    "ExecuteTime": {
     "end_time": "2020-05-26T20:49:00.131315Z",
     "start_time": "2020-05-26T20:49:00.118551Z"
    }
   },
   "outputs": [
    {
     "data": {
      "text/plain": [
       "array(['block', 'brick', 'monolith', 'none', 'panel', 'wood'],\n",
       "      dtype=object)"
      ]
     },
     "execution_count": 257,
     "metadata": {},
     "output_type": "execute_result"
    }
   ],
   "source": [
    "np.unique(df4['bti_house_houseMaterialType'].dropna())"
   ]
  },
  {
   "cell_type": "code",
   "execution_count": 258,
   "metadata": {
    "ExecuteTime": {
     "end_time": "2020-05-26T20:53:23.192380Z",
     "start_time": "2020-05-26T20:53:23.171948Z"
    }
   },
   "outputs": [],
   "source": [
    "# df4['Brick'] = 0 \n",
    "df4.loc[df4['bti_house_houseMaterialType'].isin([ 'brick', 'monolith']), 'Brick'] = 1\n",
    "df4.loc[df4['bti_house_houseMaterialType'].isin( ['block', 'panel']), 'Brick'] = 0\n",
    "df4.loc[df4['bti_house_houseMaterialType'].isin( ['wood']), 'Brick'] = 0\n"
   ]
  },
  {
   "cell_type": "code",
   "execution_count": 259,
   "metadata": {
    "ExecuteTime": {
     "end_time": "2020-05-26T20:54:39.301556Z",
     "start_time": "2020-05-26T20:54:39.279332Z"
    }
   },
   "outputs": [
    {
     "data": {
      "text/plain": [
       "array(['block', 'brick', 'foamConcreteBlock', 'monolith', 'monolithBrick',\n",
       "       'old', 'panel', 'stalin', 'wood'], dtype=object)"
      ]
     },
     "execution_count": 259,
     "metadata": {},
     "output_type": "execute_result"
    }
   ],
   "source": [
    "np.unique(df4['offer_building_materialType'].dropna())"
   ]
  },
  {
   "cell_type": "code",
   "execution_count": 260,
   "metadata": {
    "ExecuteTime": {
     "end_time": "2020-05-26T20:57:44.881193Z",
     "start_time": "2020-05-26T20:57:44.860576Z"
    }
   },
   "outputs": [],
   "source": [
    "df4.loc[df4['offer_building_materialType'].isin([ 'brick', 'monolith', 'monolithBrick', 'stalin' ]), 'Brick'] = 1\n",
    "df4.loc[df4['offer_building_materialType'].isin( ['block', 'panel', 'foamConcreteBlock']), 'Brick'] = 0\n",
    "df4.loc[df4['offer_building_materialType'].isin( ['wood']), 'Brick'] = 0\n"
   ]
  },
  {
   "cell_type": "code",
   "execution_count": 273,
   "metadata": {
    "ExecuteTime": {
     "end_time": "2020-05-26T22:41:44.496587Z",
     "start_time": "2020-05-26T22:41:44.407310Z"
    }
   },
   "outputs": [],
   "source": [
    "df4 = pd.read_csv('cian_df_well_done.csv', index_col=0)"
   ]
  },
  {
   "cell_type": "code",
   "execution_count": 274,
   "metadata": {
    "ExecuteTime": {
     "end_time": "2020-05-26T22:41:45.106762Z",
     "start_time": "2020-05-26T22:41:45.103118Z"
    }
   },
   "outputs": [
    {
     "data": {
      "text/plain": [
       "(15303, 60)"
      ]
     },
     "execution_count": 274,
     "metadata": {},
     "output_type": "execute_result"
    }
   ],
   "source": [
    "df4.shape # 30 обязательных"
   ]
  },
  {
   "cell_type": "code",
   "execution_count": 275,
   "metadata": {
    "ExecuteTime": {
     "end_time": "2020-05-26T22:41:49.422071Z",
     "start_time": "2020-05-26T22:41:49.418340Z"
    }
   },
   "outputs": [],
   "source": [
    "# sum((df4['offer_isApartments']=='unknown')|(df4['offer_isPenthouse']=='unknown'))\n",
    "# sum()\n"
   ]
  },
  {
   "cell_type": "code",
   "execution_count": 266,
   "metadata": {
    "ExecuteTime": {
     "end_time": "2020-05-26T21:20:10.044374Z",
     "start_time": "2020-05-26T21:20:10.039639Z"
    }
   },
   "outputs": [
    {
     "data": {
      "text/plain": [
       "9294"
      ]
     },
     "execution_count": 266,
     "metadata": {},
     "output_type": "execute_result"
    }
   ],
   "source": [
    "sum(df4['offer_roomType'].isna())"
   ]
  },
  {
   "cell_type": "code",
   "execution_count": 261,
   "metadata": {
    "ExecuteTime": {
     "end_time": "2020-05-26T20:57:51.691890Z",
     "start_time": "2020-05-26T20:57:50.962142Z"
    }
   },
   "outputs": [],
   "source": [
    "df4.to_csv('cian_df_well.csv')"
   ]
  },
  {
   "cell_type": "code",
   "execution_count": null,
   "metadata": {},
   "outputs": [],
   "source": [
    "pd.pivot_table(df1.loc[df1['District1'].isin(['ЮАО', 'САО', 'ЦАО']),['District1', 'ad_price', 'bti_house_houseMaterialType','bti_house_houseOverlapType']], index='bti_house_houseMaterialType', columns=['District1','bti_house_houseOverlapType'], aggfunc='count', dropna=True)"
   ]
  },
  {
   "cell_type": "code",
   "execution_count": 61,
   "metadata": {
    "ExecuteTime": {
     "end_time": "2020-05-26T15:08:06.355347Z",
     "start_time": "2020-05-26T15:08:06.350548Z"
    }
   },
   "outputs": [],
   "source": [
    "# df1.loc[df1['check_1']!=0,['url','ad_price','offer_bargainTerms_prices_rur',  'check_1']].sort_values('check_1')"
   ]
  },
  {
   "cell_type": "code",
   "execution_count": 62,
   "metadata": {
    "ExecuteTime": {
     "end_time": "2020-05-26T15:08:06.361992Z",
     "start_time": "2020-05-26T15:08:06.356414Z"
    }
   },
   "outputs": [],
   "source": [
    "# df1 = df1.drop(arr,1)"
   ]
  },
  {
   "cell_type": "code",
   "execution_count": 67,
   "metadata": {
    "ExecuteTime": {
     "end_time": "2020-05-26T15:14:11.379514Z",
     "start_time": "2020-05-26T15:14:11.359907Z"
    }
   },
   "outputs": [
    {
     "data": {
      "text/html": [
       "<div>\n",
       "<style scoped>\n",
       "    .dataframe tbody tr th:only-of-type {\n",
       "        vertical-align: middle;\n",
       "    }\n",
       "\n",
       "    .dataframe tbody tr th {\n",
       "        vertical-align: top;\n",
       "    }\n",
       "\n",
       "    .dataframe thead th {\n",
       "        text-align: right;\n",
       "    }\n",
       "</style>\n",
       "<table border=\"1\" class=\"dataframe\">\n",
       "  <thead>\n",
       "    <tr style=\"text-align: right;\">\n",
       "      <th></th>\n",
       "      <th>ad_price</th>\n",
       "      <th>bti_house_priceCian</th>\n",
       "      <th>offer_bargainTerms_prices_rur</th>\n",
       "    </tr>\n",
       "  </thead>\n",
       "  <tbody>\n",
       "    <tr>\n",
       "      <td>19</td>\n",
       "      <td>NaN</td>\n",
       "      <td>22030000.0</td>\n",
       "      <td>28017080</td>\n",
       "    </tr>\n",
       "    <tr>\n",
       "      <td>33</td>\n",
       "      <td>NaN</td>\n",
       "      <td>54800000.0</td>\n",
       "      <td>84055837</td>\n",
       "    </tr>\n",
       "    <tr>\n",
       "      <td>34</td>\n",
       "      <td>NaN</td>\n",
       "      <td>56090000.0</td>\n",
       "      <td>83891925</td>\n",
       "    </tr>\n",
       "    <tr>\n",
       "      <td>40</td>\n",
       "      <td>NaN</td>\n",
       "      <td>104960000.0</td>\n",
       "      <td>118051754</td>\n",
       "    </tr>\n",
       "    <tr>\n",
       "      <td>49</td>\n",
       "      <td>NaN</td>\n",
       "      <td>56180000.0</td>\n",
       "      <td>60959129</td>\n",
       "    </tr>\n",
       "    <tr>\n",
       "      <td>...</td>\n",
       "      <td>...</td>\n",
       "      <td>...</td>\n",
       "      <td>...</td>\n",
       "    </tr>\n",
       "    <tr>\n",
       "      <td>51552</td>\n",
       "      <td>NaN</td>\n",
       "      <td>40790000.0</td>\n",
       "      <td>67046399</td>\n",
       "    </tr>\n",
       "    <tr>\n",
       "      <td>51559</td>\n",
       "      <td>NaN</td>\n",
       "      <td>59580000.0</td>\n",
       "      <td>52301410</td>\n",
       "    </tr>\n",
       "    <tr>\n",
       "      <td>51574</td>\n",
       "      <td>NaN</td>\n",
       "      <td>37640000.0</td>\n",
       "      <td>62635990</td>\n",
       "    </tr>\n",
       "    <tr>\n",
       "      <td>51587</td>\n",
       "      <td>NaN</td>\n",
       "      <td>46980000.0</td>\n",
       "      <td>95789475</td>\n",
       "    </tr>\n",
       "    <tr>\n",
       "      <td>51589</td>\n",
       "      <td>NaN</td>\n",
       "      <td>88020000.0</td>\n",
       "      <td>148992000</td>\n",
       "    </tr>\n",
       "  </tbody>\n",
       "</table>\n",
       "<p>1196 rows × 3 columns</p>\n",
       "</div>"
      ],
      "text/plain": [
       "       ad_price  bti_house_priceCian  offer_bargainTerms_prices_rur\n",
       "19          NaN           22030000.0                       28017080\n",
       "33          NaN           54800000.0                       84055837\n",
       "34          NaN           56090000.0                       83891925\n",
       "40          NaN          104960000.0                      118051754\n",
       "49          NaN           56180000.0                       60959129\n",
       "...         ...                  ...                            ...\n",
       "51552       NaN           40790000.0                       67046399\n",
       "51559       NaN           59580000.0                       52301410\n",
       "51574       NaN           37640000.0                       62635990\n",
       "51587       NaN           46980000.0                       95789475\n",
       "51589       NaN           88020000.0                      148992000\n",
       "\n",
       "[1196 rows x 3 columns]"
      ]
     },
     "execution_count": 67,
     "metadata": {},
     "output_type": "execute_result"
    }
   ],
   "source": [
    "df1.loc[df1.iloc[:,-1] == 1 ,['ad_price','bti_house_priceCian', 'offer_bargainTerms_prices_rur']]"
   ]
  },
  {
   "cell_type": "code",
   "execution_count": 64,
   "metadata": {
    "ExecuteTime": {
     "end_time": "2020-05-26T15:08:06.382036Z",
     "start_time": "2020-05-26T15:08:06.380079Z"
    }
   },
   "outputs": [],
   "source": [
    "# df1 = df1.drop( ['date_saved', 'District2', 'ad_breadCrumbs', 'ad_change_time'],1)"
   ]
  },
  {
   "cell_type": "code",
   "execution_count": 65,
   "metadata": {
    "ExecuteTime": {
     "end_time": "2020-05-26T15:08:06.388440Z",
     "start_time": "2020-05-26T15:08:06.383167Z"
    }
   },
   "outputs": [],
   "source": [
    "cols = cols[1:]"
   ]
  },
  {
   "cell_type": "code",
   "execution_count": 66,
   "metadata": {
    "ExecuteTime": {
     "end_time": "2020-05-26T15:08:06.395286Z",
     "start_time": "2020-05-26T15:08:06.389524Z"
    }
   },
   "outputs": [],
   "source": [
    "cols = df1.columns.tolist()"
   ]
  },
  {
   "cell_type": "code",
   "execution_count": null,
   "metadata": {},
   "outputs": [],
   "source": []
  },
  {
   "cell_type": "code",
   "execution_count": null,
   "metadata": {},
   "outputs": [],
   "source": []
  }
 ],
 "metadata": {
  "hide_input": false,
  "kernelspec": {
   "display_name": "Python 3.6 (for geoplots)",
   "language": "python",
   "name": "geoplots3.6"
  },
  "language_info": {
   "codemirror_mode": {
    "name": "ipython",
    "version": 3
   },
   "file_extension": ".py",
   "mimetype": "text/x-python",
   "name": "python",
   "nbconvert_exporter": "python",
   "pygments_lexer": "ipython3",
   "version": "3.6.7"
  },
  "latex_envs": {
   "LaTeX_envs_menu_present": true,
   "autoclose": true,
   "autocomplete": true,
   "bibliofile": "biblio.bib",
   "cite_by": "apalike",
   "current_citInitial": 1,
   "eqLabelWithNumbers": true,
   "eqNumInitial": 1,
   "hotkeys": {
    "equation": "Ctrl-E",
    "itemize": "Ctrl-I"
   },
   "labels_anchors": false,
   "latex_user_defs": false,
   "report_style_numbering": false,
   "user_envs_cfg": false
  },
  "toc": {
   "base_numbering": 1,
   "nav_menu": {},
   "number_sections": true,
   "sideBar": true,
   "skip_h1_title": false,
   "title_cell": "Table of Contents",
   "title_sidebar": "Contents",
   "toc_cell": false,
   "toc_position": {},
   "toc_section_display": true,
   "toc_window_display": true
  },
  "varInspector": {
   "cols": {
    "lenName": 16,
    "lenType": 16,
    "lenVar": 40
   },
   "kernels_config": {
    "python": {
     "delete_cmd_postfix": "",
     "delete_cmd_prefix": "del ",
     "library": "var_list.py",
     "varRefreshCmd": "print(var_dic_list())"
    },
    "r": {
     "delete_cmd_postfix": ") ",
     "delete_cmd_prefix": "rm(",
     "library": "var_list.r",
     "varRefreshCmd": "cat(var_dic_list()) "
    }
   },
   "types_to_exclude": [
    "module",
    "function",
    "builtin_function_or_method",
    "instance",
    "_Feature"
   ],
   "window_display": false
  }
 },
 "nbformat": 4,
 "nbformat_minor": 2
}
